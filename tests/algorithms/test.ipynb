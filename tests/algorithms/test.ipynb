{
 "cells": [
  {
   "cell_type": "code",
   "execution_count": 1,
   "metadata": {},
   "outputs": [],
   "source": [
    "from pathpyG.algorithms.RandomGraphs import Watts_Strogatz, Molloy_Reed"
   ]
  },
  {
   "cell_type": "code",
   "execution_count": 2,
   "metadata": {},
   "outputs": [],
   "source": [
    "import pathpyG as pp"
   ]
  },
  {
   "cell_type": "code",
   "execution_count": 3,
   "metadata": {},
   "outputs": [],
   "source": [
    "import torch"
   ]
  },
  {
   "cell_type": "code",
   "execution_count": 4,
   "metadata": {},
   "outputs": [],
   "source": [
    "degree_sequence = torch.tensor([3, 2, 2, 1, 1, 1])"
   ]
  },
  {
   "cell_type": "code",
   "execution_count": 5,
   "metadata": {},
   "outputs": [
    {
     "data": {
      "text/plain": [
       "tensor([0, 1, 2, 3, 4, 5])"
      ]
     },
     "execution_count": 5,
     "metadata": {},
     "output_type": "execute_result"
    }
   ],
   "source": [
    "nodes = torch.arange(len(degree_sequence))\n",
    "nodes"
   ]
  },
  {
   "cell_type": "code",
   "execution_count": 6,
   "metadata": {},
   "outputs": [
    {
     "data": {
      "text/plain": [
       "tensor([[0, 0],\n",
       "        [4, 5],\n",
       "        [0, 1],\n",
       "        [2, 1],\n",
       "        [2, 3]])"
      ]
     },
     "execution_count": 6,
     "metadata": {},
     "output_type": "execute_result"
    }
   ],
   "source": [
    "stubs = nodes.repeat_interleave(degree_sequence)\n",
    "stubs = stubs[torch.randperm(len(stubs))]\n",
    "edges = torch.stack([stubs[i::2] for i in range(2)], dim=-1)\n",
    "edges"
   ]
  },
  {
   "cell_type": "code",
   "execution_count": 7,
   "metadata": {},
   "outputs": [
    {
     "data": {
      "text/plain": [
       "tensor([[4, 5],\n",
       "        [0, 1],\n",
       "        [2, 1],\n",
       "        [2, 3]])"
      ]
     },
     "execution_count": 7,
     "metadata": {},
     "output_type": "execute_result"
    }
   ],
   "source": [
    "# Remove self-loops\n",
    "edges = edges[edges[:, 0] != edges[:, 1]]\n",
    "edges"
   ]
  },
  {
   "cell_type": "code",
   "execution_count": 8,
   "metadata": {},
   "outputs": [
    {
     "data": {
      "text/plain": [
       "tensor([[4, 5],\n",
       "        [0, 1],\n",
       "        [1, 2],\n",
       "        [2, 3]])"
      ]
     },
     "execution_count": 8,
     "metadata": {},
     "output_type": "execute_result"
    }
   ],
   "source": [
    "# Sort each edge for comparison\n",
    "edges = torch.sort(edges, dim=1)[0]\n",
    "edges"
   ]
  },
  {
   "cell_type": "code",
   "execution_count": 9,
   "metadata": {},
   "outputs": [
    {
     "data": {
      "text/plain": [
       "tensor([[0, 1],\n",
       "        [1, 2],\n",
       "        [2, 3],\n",
       "        [4, 5]])"
      ]
     },
     "execution_count": 9,
     "metadata": {},
     "output_type": "execute_result"
    }
   ],
   "source": [
    "# Remove repeated edges\n",
    "edges, tt = torch.unique(edges, dim=0, return_counts=True)\n",
    "edges"
   ]
  },
  {
   "cell_type": "code",
   "execution_count": 10,
   "metadata": {},
   "outputs": [
    {
     "data": {
      "text/plain": [
       "tensor([1, 2])"
      ]
     },
     "execution_count": 10,
     "metadata": {},
     "output_type": "execute_result"
    }
   ],
   "source": [
    "edges[torch.randint(edges.shape[0], (1,))][0]"
   ]
  },
  {
   "cell_type": "code",
   "execution_count": 11,
   "metadata": {},
   "outputs": [
    {
     "data": {
      "text/plain": [
       "tensor([1, 1, 1, 1])"
      ]
     },
     "execution_count": 11,
     "metadata": {},
     "output_type": "execute_result"
    }
   ],
   "source": [
    "tt"
   ]
  },
  {
   "cell_type": "code",
   "execution_count": 12,
   "metadata": {},
   "outputs": [
    {
     "name": "stdout",
     "output_type": "stream",
     "text": [
      "Edges first: tensor([[2, 5],\n",
      "        [1, 0],\n",
      "        [4, 2],\n",
      "        [1, 3],\n",
      "        [0, 0]])\n",
      "Edges after first self-loop removal: tensor([[2, 5],\n",
      "        [1, 0],\n",
      "        [4, 2],\n",
      "        [1, 3]])\n",
      "Stubs after first self-loop removal: tensor([0, 0])\n",
      "Removed edge: tensor([[1, 0]])\n",
      "Stubs after edge removal: tensor([0, 0, 1, 0])\n",
      "Edges after edge removal and restubbing: tensor([[2, 5],\n",
      "        [1, 0],\n",
      "        [4, 2],\n",
      "        [1, 3],\n",
      "        [0, 0],\n",
      "        [0, 1]])\n",
      "Edges after second self-loop removal: tensor([[2, 5],\n",
      "        [1, 0],\n",
      "        [4, 2],\n",
      "        [1, 3],\n",
      "        [0, 1]])\n",
      "Stubs after second self-loop removal: tensor([0, 0])\n",
      "Removed edge: tensor([[1, 0]])\n",
      "Stubs after edge removal: tensor([0, 0, 1, 0])\n",
      "Edges after edge removal and restubbing: tensor([[2, 5],\n",
      "        [1, 0],\n",
      "        [4, 2],\n",
      "        [1, 3],\n",
      "        [0, 1],\n",
      "        [0, 0],\n",
      "        [0, 1]])\n",
      "Edges after second self-loop removal: tensor([[2, 5],\n",
      "        [1, 0],\n",
      "        [4, 2],\n",
      "        [1, 3],\n",
      "        [0, 1],\n",
      "        [0, 1]])\n",
      "Stubs after second self-loop removal: tensor([0, 0])\n",
      "Removed edge: tensor([[0, 1]])\n",
      "Stubs after edge removal: tensor([0, 0, 0, 1])\n",
      "Edges after edge removal and restubbing: tensor([[2, 5],\n",
      "        [1, 0],\n",
      "        [4, 2],\n",
      "        [1, 3],\n",
      "        [0, 1],\n",
      "        [0, 1],\n",
      "        [0, 0],\n",
      "        [1, 0]])\n",
      "Edges after second self-loop removal: tensor([[2, 5],\n",
      "        [1, 0],\n",
      "        [4, 2],\n",
      "        [1, 3],\n",
      "        [0, 1],\n",
      "        [0, 1],\n",
      "        [1, 0]])\n",
      "Stubs after second self-loop removal: tensor([0, 0])\n",
      "Removed edge: tensor([[0, 1]])\n",
      "Stubs after edge removal: tensor([0, 0, 0, 1])\n",
      "Edges after edge removal and restubbing: tensor([[2, 5],\n",
      "        [1, 0],\n",
      "        [4, 2],\n",
      "        [1, 3],\n",
      "        [0, 1],\n",
      "        [0, 1],\n",
      "        [1, 0],\n",
      "        [0, 0],\n",
      "        [0, 1]])\n",
      "Edges after second self-loop removal: tensor([[2, 5],\n",
      "        [1, 0],\n",
      "        [4, 2],\n",
      "        [1, 3],\n",
      "        [0, 1],\n",
      "        [0, 1],\n",
      "        [1, 0],\n",
      "        [0, 1]])\n",
      "Stubs after second self-loop removal: tensor([0, 0])\n",
      "Removed edge: tensor([[2, 5]])\n",
      "Stubs after edge removal: tensor([0, 0, 2, 5])\n",
      "Edges after edge removal and restubbing: tensor([[2, 5],\n",
      "        [1, 0],\n",
      "        [4, 2],\n",
      "        [1, 3],\n",
      "        [0, 1],\n",
      "        [0, 1],\n",
      "        [1, 0],\n",
      "        [0, 1],\n",
      "        [0, 2],\n",
      "        [0, 5]])\n",
      "Edges after second self-loop removal: tensor([[2, 5],\n",
      "        [1, 0],\n",
      "        [4, 2],\n",
      "        [1, 3],\n",
      "        [0, 1],\n",
      "        [0, 1],\n",
      "        [1, 0],\n",
      "        [0, 1],\n",
      "        [0, 2],\n",
      "        [0, 5]])\n",
      "Stubs after second self-loop removal: tensor([], dtype=torch.int64)\n",
      "tensor([[0, 0, 0, 1, 1, 2, 4],\n",
      "        [1, 2, 5, 0, 3, 5, 2]])\n"
     ]
    },
    {
     "data": {
      "text/plain": [
       "tensor([3, 2, 3, 1, 1, 2])"
      ]
     },
     "execution_count": 12,
     "metadata": {},
     "output_type": "execute_result"
    }
   ],
   "source": [
    "g = Molloy_Reed(torch.tensor([3, 2, 2, 1, 1, 1]))\n",
    "torch.tensor(list(g.in_degrees.values())) #+ torch.tensor(list(g.out_degrees.values()))"
   ]
  },
  {
   "cell_type": "code",
   "execution_count": 32,
   "metadata": {},
   "outputs": [
    {
     "data": {
      "text/plain": [
       "{0: 3, 1: 2, 2: 2, 3: 1, 4: 1, 5: 1}"
      ]
     },
     "execution_count": 32,
     "metadata": {},
     "output_type": "execute_result"
    }
   ],
   "source": [
    "g.in_degrees"
   ]
  },
  {
   "cell_type": "code",
   "execution_count": 33,
   "metadata": {},
   "outputs": [
    {
     "data": {
      "text/plain": [
       "{0: 3, 1: 2, 2: 2, 3: 1, 4: 1, 5: 1}"
      ]
     },
     "execution_count": 33,
     "metadata": {},
     "output_type": "execute_result"
    }
   ],
   "source": [
    "g.out_degrees"
   ]
  },
  {
   "cell_type": "code",
   "execution_count": 13,
   "metadata": {},
   "outputs": [],
   "source": [
    "def test_molloy_reed():\n",
    "    g = Molloy_Reed(torch.tensor([3, 2, 2, 1, 1, 1]), undirected=False)\n",
    "    assert g.N == 6\n",
    "    assert set(g.degrees().keys()) == {0, 1, 2, 3, 4, 5}\n",
    "    assert set(g.degrees().values()) == {1, 2, 3}\n",
    "    assert g.is_directed() == True\n",
    "\n",
    "    g = Molloy_Reed(torch.tensor([3, 2, 2, 1, 1, 1]), mapping=pp.IndexMap(['a', 'b', 'c', 'd', 'e', 'f']))\n",
    "    assert g.N == 6\n",
    "    assert set(g.degrees().keys()) == {'a', 'b', 'c', 'd', 'e', 'f'}\n",
    "    assert set(g.degrees().values()) == {1, 2, 3}\n",
    "    assert g.is_directed() == False"
   ]
  },
  {
   "cell_type": "code",
   "execution_count": 14,
   "metadata": {},
   "outputs": [
    {
     "ename": "TypeError",
     "evalue": "Molloy_Reed() got an unexpected keyword argument 'undirected'",
     "output_type": "error",
     "traceback": [
      "\u001b[0;31m---------------------------------------------------------------------------\u001b[0m",
      "\u001b[0;31mTypeError\u001b[0m                                 Traceback (most recent call last)",
      "Cell \u001b[0;32mIn[14], line 1\u001b[0m\n\u001b[0;32m----> 1\u001b[0m \u001b[43mtest_molloy_reed\u001b[49m\u001b[43m(\u001b[49m\u001b[43m)\u001b[49m\n",
      "Cell \u001b[0;32mIn[13], line 2\u001b[0m, in \u001b[0;36mtest_molloy_reed\u001b[0;34m()\u001b[0m\n\u001b[1;32m      1\u001b[0m \u001b[38;5;28;01mdef\u001b[39;00m \u001b[38;5;21mtest_molloy_reed\u001b[39m():\n\u001b[0;32m----> 2\u001b[0m     g \u001b[38;5;241m=\u001b[39m \u001b[43mMolloy_Reed\u001b[49m\u001b[43m(\u001b[49m\u001b[43mtorch\u001b[49m\u001b[38;5;241;43m.\u001b[39;49m\u001b[43mtensor\u001b[49m\u001b[43m(\u001b[49m\u001b[43m[\u001b[49m\u001b[38;5;241;43m3\u001b[39;49m\u001b[43m,\u001b[49m\u001b[43m \u001b[49m\u001b[38;5;241;43m2\u001b[39;49m\u001b[43m,\u001b[49m\u001b[43m \u001b[49m\u001b[38;5;241;43m2\u001b[39;49m\u001b[43m,\u001b[49m\u001b[43m \u001b[49m\u001b[38;5;241;43m1\u001b[39;49m\u001b[43m,\u001b[49m\u001b[43m \u001b[49m\u001b[38;5;241;43m1\u001b[39;49m\u001b[43m,\u001b[49m\u001b[43m \u001b[49m\u001b[38;5;241;43m1\u001b[39;49m\u001b[43m]\u001b[49m\u001b[43m)\u001b[49m\u001b[43m,\u001b[49m\u001b[43m \u001b[49m\u001b[43mundirected\u001b[49m\u001b[38;5;241;43m=\u001b[39;49m\u001b[38;5;28;43;01mFalse\u001b[39;49;00m\u001b[43m)\u001b[49m\n\u001b[1;32m      3\u001b[0m     \u001b[38;5;28;01massert\u001b[39;00m g\u001b[38;5;241m.\u001b[39mN \u001b[38;5;241m==\u001b[39m \u001b[38;5;241m6\u001b[39m\n\u001b[1;32m      4\u001b[0m     \u001b[38;5;28;01massert\u001b[39;00m \u001b[38;5;28mset\u001b[39m(g\u001b[38;5;241m.\u001b[39mdegrees()\u001b[38;5;241m.\u001b[39mkeys()) \u001b[38;5;241m==\u001b[39m {\u001b[38;5;241m0\u001b[39m, \u001b[38;5;241m1\u001b[39m, \u001b[38;5;241m2\u001b[39m, \u001b[38;5;241m3\u001b[39m, \u001b[38;5;241m4\u001b[39m, \u001b[38;5;241m5\u001b[39m}\n",
      "\u001b[0;31mTypeError\u001b[0m: Molloy_Reed() got an unexpected keyword argument 'undirected'"
     ]
    }
   ],
   "source": [
    "test_molloy_reed()"
   ]
  },
  {
   "cell_type": "code",
   "execution_count": null,
   "metadata": {},
   "outputs": [],
   "source": [
    "g = Molloy_Reed(torch.tensor([3, 2, 2, 1, 1, 1]), undirected=True)"
   ]
  },
  {
   "cell_type": "code",
   "execution_count": null,
   "metadata": {},
   "outputs": [
    {
     "data": {
      "text/plain": [
       "{1, 2}"
      ]
     },
     "execution_count": 19,
     "metadata": {},
     "output_type": "execute_result"
    }
   ],
   "source": [
    "set(g.degrees().values())"
   ]
  },
  {
   "cell_type": "code",
   "execution_count": null,
   "metadata": {},
   "outputs": [
    {
     "data": {
      "text/html": [
       "\n",
       "    <script charset=\"utf-8\">\n",
       "    // Load via requireJS if available (jupyter notebook environment)\n",
       "    try {\n",
       "    require.config({\n",
       "    paths: {\n",
       "    d3: \"https://d3js.org/d3.v5.min.js\".replace(\".js\", \"\")\n",
       "    }\n",
       "    });\n",
       "    console.log(\"OKAY: requireJS was detected\");\n",
       "    }\n",
       "    catch(err){\n",
       "    console.log(err);\n",
       "    console.log(\"ERROR: NO requireJS was detected\");\n",
       "    };\n",
       "    require(['d3'], function(d3){\n",
       "    console.log(\"OKAY: d3js was detected\");\n",
       "    });\n",
       "    </script>\n",
       "    "
      ],
      "text/plain": [
       "<IPython.core.display.HTML object>"
      ]
     },
     "metadata": {},
     "output_type": "display_data"
    }
   ],
   "source": [
    "import pathpy as pp"
   ]
  },
  {
   "cell_type": "code",
   "execution_count": null,
   "metadata": {},
   "outputs": [
    {
     "data": {
      "text/plain": [
       "5"
      ]
     },
     "execution_count": 4,
     "metadata": {},
     "output_type": "execute_result"
    }
   ],
   "source": [
    "from pathpy.generators.random_graphs import Molloy_Reed\n",
    "g = Molloy_Reed([3, 2, 2, 1, 1, 1])\n",
    "g.number_of_edges()"
   ]
  },
  {
   "cell_type": "code",
   "execution_count": null,
   "metadata": {},
   "outputs": [
    {
     "data": {
      "text/plain": [
       "{'0': 3, '1': 2, '2': 2, '3': 1, '4': 1, '5': 1}"
      ]
     },
     "execution_count": 8,
     "metadata": {},
     "output_type": "execute_result"
    }
   ],
   "source": [
    "g.degrees()"
   ]
  },
  {
   "cell_type": "code",
   "execution_count": null,
   "metadata": {},
   "outputs": [],
   "source": []
  }
 ],
 "metadata": {
  "kernelspec": {
   "display_name": "ppG_dev",
   "language": "python",
   "name": "python3"
  },
  "language_info": {
   "codemirror_mode": {
    "name": "ipython",
    "version": 3
   },
   "file_extension": ".py",
   "mimetype": "text/x-python",
   "name": "python",
   "nbconvert_exporter": "python",
   "pygments_lexer": "ipython3",
   "version": "3.11.7"
  }
 },
 "nbformat": 4,
 "nbformat_minor": 2
}
