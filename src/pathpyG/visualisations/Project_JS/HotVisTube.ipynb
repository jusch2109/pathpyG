{
 "cells": [
  {
   "cell_type": "markdown",
   "metadata": {},
   "source": [
    "# Testing HotVis on the tube paths"
   ]
  },
  {
   "cell_type": "code",
   "execution_count": 1,
   "metadata": {},
   "outputs": [],
   "source": [
    "import csv\n",
    "from HotVisFunctions import *\n",
    "import pandas as pd\n",
    "import numpy as np"
   ]
  },
  {
   "cell_type": "code",
   "execution_count": 2,
   "metadata": {},
   "outputs": [],
   "source": [
    "\n",
    "def split_path_data(data: pp.PathData, training_percentile: float):\n",
    "    training_data = pp.PathData(data.mapping)\n",
    "    test_data = pp.PathData(data.mapping)\n",
    "    split_indices = torch.rand(data.num_paths)\n",
    "    for i in range(data.num_paths):\n",
    "        if split_indices[i] <= training_percentile:\n",
    "            training_data.append_walk(data.get_walk(i))\n",
    "        else:\n",
    "            test_data.append_walk(data.get_walk(i))\n",
    "    return training_data, test_data\n"
   ]
  },
  {
   "cell_type": "code",
   "execution_count": 3,
   "metadata": {},
   "outputs": [],
   "source": [
    "# load tube\n",
    "tube = pp.PathData.from_ngram(\"graphs/Tube/tube.ngram\")\n",
    "#tube, tube_test = split_path_data(tube, 0.7)"
   ]
  },
  {
   "cell_type": "code",
   "execution_count": 4,
   "metadata": {},
   "outputs": [
    {
     "name": "stdout",
     "output_type": "stream",
     "text": [
      "Acton Town -> 0\n",
      "Aldgate -> 1\n",
      "Aldgate East -> 2\n",
      "Alperton -> 3\n",
      "Amersham -> 4\n",
      "Angel -> 5\n",
      "Archway -> 6\n",
      "Arnos Grove -> 7\n",
      "Arsenal -> 8\n",
      "Baker Street -> 9\n",
      "Balham -> 10\n",
      "Bank / Monument -> 11\n",
      "Barbican -> 12\n",
      "Barking -> 13\n",
      "Barkingside -> 14\n",
      "Barons Court -> 15\n",
      "Bayswater -> 16\n",
      "Becontree -> 17\n",
      "Belsize Park -> 18\n",
      "Bermondsey -> 19\n",
      "Bethnal Green -> 20\n",
      "Blackfriars -> 21\n",
      "Blackhorse Road -> 22\n",
      "Bond Street -> 23\n",
      "Borough -> 24\n",
      "Boston Manor -> 25\n",
      "Bounds Green -> 26\n",
      "Bow Road -> 27\n",
      "Brent Cross -> 28\n",
      "Brixton -> 29\n",
      "Bromley-by-Bow -> 30\n",
      "Buckhurst Hill -> 31\n",
      "Burnt Oak -> 32\n",
      "Caledonian Road -> 33\n",
      "Camden Town -> 34\n",
      "Canada Water -> 35\n",
      "Canary Wharf -> 36\n",
      "Canning Town -> 37\n",
      "Cannon Street -> 38\n",
      "Canons Park -> 39\n",
      "Chalfont & Latimer -> 40\n",
      "Chalk Farm -> 41\n",
      "Chancery Lane -> 42\n",
      "Charing Cross -> 43\n",
      "Chesham -> 44\n",
      "Chigwell -> 45\n",
      "Chiswick Park -> 46\n",
      "Chorleywood -> 47\n",
      "Clapham Common -> 48\n",
      "Clapham North -> 49\n",
      "Clapham South -> 50\n",
      "Cockfosters -> 51\n",
      "Colindale -> 52\n",
      "Colliers Wood -> 53\n",
      "Covent Garden -> 54\n",
      "Croxley -> 55\n",
      "Dagenham East -> 56\n",
      "Dagenham Heathway -> 57\n",
      "Debden -> 58\n",
      "Dollis Hill -> 59\n",
      "Ealing Broadway -> 60\n",
      "Ealing Common -> 61\n",
      "Earl's Court -> 62\n",
      "East Acton -> 63\n",
      "East Finchley -> 64\n",
      "East Ham -> 65\n",
      "East Putney -> 66\n",
      "Eastcote -> 67\n",
      "Edgware -> 68\n",
      "Edgware Road (Bak) -> 69\n",
      "Edgware Road (Cir) -> 70\n",
      "Elephant & Castle -> 71\n",
      "Elm Park -> 72\n",
      "Embankment -> 73\n",
      "Epping -> 74\n",
      "Euston -> 75\n",
      "Euston Square -> 76\n",
      "Fairlop -> 77\n",
      "Farringdon -> 78\n",
      "Finchley Central -> 79\n",
      "Finchley Road -> 80\n",
      "Finsbury Park -> 81\n",
      "Fulham Broadway -> 82\n",
      "Gants Hill -> 83\n",
      "Gloucester Road -> 84\n",
      "Golders Green -> 85\n",
      "Goldhawk Road -> 86\n",
      "Goodge Street -> 87\n",
      "Grange Hill -> 88\n",
      "Great Portland Street -> 89\n",
      "Green Park -> 90\n",
      "Greenford -> 91\n",
      "Gunnersbury -> 92\n",
      "Hainault -> 93\n",
      "Hammersmith (Dis) -> 94\n",
      "Hammersmith (H&C) -> 95\n",
      "Hampstead -> 96\n",
      "Hanger Lane -> 97\n",
      "Harlesden -> 98\n",
      "Harrow & Wealdstone -> 99\n",
      "Harrow-on-the-Hill -> 100\n",
      "Hatton Cross -> 101\n",
      "Heathrow Terminal 4 -> 102\n",
      "Heathrow Terminal 5 -> 103\n",
      "Heathrow Terminals 123 -> 104\n",
      "Hendon Central -> 105\n",
      "High Barnet -> 106\n",
      "High Street Kensington -> 107\n",
      "Highbury & Islington -> 108\n",
      "Highgate -> 109\n",
      "Hillingdon -> 110\n",
      "Holborn -> 111\n",
      "Holland Park -> 112\n",
      "Holloway Road -> 113\n",
      "Hornchurch -> 114\n",
      "Hounslow Central -> 115\n",
      "Hounslow East -> 116\n",
      "Hounslow West -> 117\n",
      "Hyde Park Corner -> 118\n",
      "Ickenham -> 119\n",
      "Kennington -> 120\n",
      "Kensal Green -> 121\n",
      "Kensington (Olympia) -> 122\n",
      "Kentish Town -> 123\n",
      "Kenton -> 124\n",
      "Kew Gardens -> 125\n",
      "Kilburn -> 126\n",
      "Kilburn Park -> 127\n",
      "King's Cross St. Pancras -> 128\n",
      "Kingsbury -> 129\n",
      "Knightsbridge -> 130\n",
      "Ladbroke Grove -> 131\n",
      "Lambeth North -> 132\n",
      "Lancaster Gate -> 133\n",
      "Latimer Road -> 134\n",
      "Leicester Square -> 135\n",
      "Leyton -> 136\n",
      "Leytonstone -> 137\n",
      "Liverpool Street -> 138\n",
      "London Bridge -> 139\n",
      "Loughton -> 140\n",
      "Maida Vale -> 141\n",
      "Manor House -> 142\n",
      "Mansion House -> 143\n",
      "Marble Arch -> 144\n",
      "Marylebone -> 145\n",
      "Mile End -> 146\n",
      "Mill Hill East -> 147\n",
      "Moor Park -> 148\n",
      "Moorgate -> 149\n",
      "Morden -> 150\n",
      "Mornington Crescent -> 151\n",
      "Neasden -> 152\n",
      "Newbury Park -> 153\n",
      "North Acton -> 154\n",
      "North Ealing -> 155\n",
      "North Greenwich -> 156\n",
      "North Harrow -> 157\n",
      "North Wembley -> 158\n",
      "Northfields -> 159\n",
      "Northolt -> 160\n",
      "Northwick Park -> 161\n",
      "Northwood -> 162\n",
      "Northwood Hills -> 163\n",
      "Notting Hill Gate -> 164\n",
      "Oakwood -> 165\n",
      "Old Street -> 166\n",
      "Osterley -> 167\n",
      "Oval -> 168\n",
      "Oxford Circus -> 169\n",
      "Paddington -> 170\n",
      "Park Royal -> 171\n",
      "Parsons Green -> 172\n",
      "Perivale -> 173\n",
      "Piccadilly Circus -> 174\n",
      "Pimlico -> 175\n",
      "Pinner -> 176\n",
      "Plaistow -> 177\n",
      "Preston Road -> 178\n",
      "Putney Bridge -> 179\n",
      "Queen's Park -> 180\n",
      "Queensbury -> 181\n",
      "Queensway -> 182\n",
      "Ravenscourt Park -> 183\n",
      "Rayners Lane -> 184\n",
      "Redbridge -> 185\n",
      "Regent's Park -> 186\n",
      "Richmond -> 187\n",
      "Rickmansworth -> 188\n",
      "Roding Valley -> 189\n",
      "Royal Oak -> 190\n",
      "Ruislip -> 191\n",
      "Ruislip Gardens -> 192\n",
      "Ruislip Manor -> 193\n",
      "Russell Square -> 194\n",
      "Seven Sisters -> 195\n",
      "Shepherd's Bush (Cen) -> 196\n",
      "Shepherd's Bush Market -> 197\n",
      "Sloane Square -> 198\n",
      "Snaresbrook -> 199\n",
      "South Ealing -> 200\n",
      "South Harrow -> 201\n",
      "South Kensington -> 202\n",
      "South Kenton -> 203\n",
      "South Ruislip -> 204\n",
      "South Wimbledon -> 205\n",
      "South Woodford -> 206\n",
      "Southfields -> 207\n",
      "Southgate -> 208\n",
      "Southwark -> 209\n",
      "St. James's Park -> 210\n",
      "St. John's Wood -> 211\n",
      "St. Paul's -> 212\n",
      "Stamford Brook -> 213\n",
      "Stanmore -> 214\n",
      "Stepney Green -> 215\n",
      "Stockwell -> 216\n",
      "Stonebridge Park -> 217\n",
      "Stratford -> 218\n",
      "Sudbury Hill -> 219\n",
      "Sudbury Town -> 220\n",
      "Swiss Cottage -> 221\n",
      "Temple -> 222\n",
      "Theydon Bois -> 223\n",
      "Tooting Bec -> 224\n",
      "Tooting Broadway -> 225\n",
      "Tottenham Court Road -> 226\n",
      "Tottenham Hale -> 227\n",
      "Totteridge & Whetstone -> 228\n",
      "Tower Hill -> 229\n",
      "Tufnell Park -> 230\n",
      "Turnham Green -> 231\n",
      "Turnpike Lane -> 232\n",
      "Upminster -> 233\n",
      "Upminster Bridge -> 234\n",
      "Upney -> 235\n",
      "Upton Park -> 236\n",
      "Uxbridge -> 237\n",
      "Vauxhall -> 238\n",
      "Victoria -> 239\n",
      "Walthamstow Central -> 240\n",
      "Wanstead -> 241\n",
      "Warren Street -> 242\n",
      "Warwick Avenue -> 243\n",
      "Waterloo -> 244\n",
      "Watford -> 245\n",
      "Wembley Central -> 246\n",
      "Wembley Park -> 247\n",
      "West Acton -> 248\n",
      "West Brompton -> 249\n",
      "West Finchley -> 250\n",
      "West Ham -> 251\n",
      "West Hampstead -> 252\n",
      "West Harrow -> 253\n",
      "West Kensington -> 254\n",
      "West Ruislip -> 255\n",
      "Westbourne Park -> 256\n",
      "Westminster -> 257\n",
      "White City -> 258\n",
      "Whitechapel -> 259\n",
      "Willesden Green -> 260\n",
      "Willesden Junction -> 261\n",
      "Wimbledon -> 262\n",
      "Wimbledon Park -> 263\n",
      "Wood Green -> 264\n",
      "Wood Lane -> 265\n",
      "Woodford -> 266\n",
      "Woodside Park -> 267\n",
      "\n"
     ]
    }
   ],
   "source": [
    "print(tube.mapping)"
   ]
  },
  {
   "cell_type": "code",
   "execution_count": 5,
   "metadata": {},
   "outputs": [
    {
     "name": "stderr",
     "output_type": "stream",
     "text": [
      "100%|██████████| 50000/50000 [01:05<00:00, 767.37it/s]\n",
      "100%|██████████| 50000/50000 [01:01<00:00, 813.62it/s]\n",
      "100%|██████████| 50000/50000 [05:58<00:00, 139.50it/s] \n"
     ]
    }
   ],
   "source": [
    "layout_2 = HotVis(tube, 2, 50000, 3, alpha=[1, 0.5], force=10)\n",
    "layout_3 =  HotVis(tube, 3, 50000, 3, alpha=[1, 0.5, 0.3], force=10)\n",
    "layout_5 =  HotVis(tube, 5, 50000, 3, alpha=[1, 0.5, 0.3, 0.25, 0.2], force=10)"
   ]
  },
  {
   "cell_type": "code",
   "execution_count": 6,
   "metadata": {},
   "outputs": [
    {
     "data": {
      "image/png": "[encoded data removed]",
      "text/plain": [
       "<Figure size 640x480 with 1 Axes>"
      ]
     },
     "metadata": {},
     "output_type": "display_data"
    },
    {
     "data": {
      "image/png": "[encoded data removed]",
      "text/plain": [
       "<Figure size 640x480 with 1 Axes>"
      ]
     },
     "metadata": {},
     "output_type": "display_data"
    },
    {
     "data": {
      "image/png": "[encoded data removed]",
      "text/plain": [
       "<Figure size 640x480 with 1 Axes>"
      ]
     },
     "metadata": {},
     "output_type": "display_data"
    },
    {
     "data": {
      "text/plain": [
       "<pathpyG.visualisations.network_plots.StaticNetworkPlot at 0x7fffdbbb0190>"
      ]
     },
     "execution_count": 6,
     "metadata": {},
     "output_type": "execute_result"
    }
   ],
   "source": [
    "graph = pp.MultiOrderModel.from_PathData(tube, max_order=1).layers[1]\n",
    "pp.plot(graph, layout=layout_2, backend='matplotlib')\n",
    "pp.plot(graph, layout=layout_3, backend='matplotlib')\n",
    "pp.plot(graph, layout=layout_5, backend='matplotlib')"
   ]
  },
  {
   "cell_type": "code",
   "execution_count": 7,
   "metadata": {},
   "outputs": [],
   "source": [
    "#print(edge_crossing(tube, layout_2))\n",
    "#print(edge_crossing(tube, layout_3))\n",
    "#print(edge_crossing(tube, layout_5))"
   ]
  },
  {
   "cell_type": "code",
   "execution_count": 8,
   "metadata": {},
   "outputs": [
    {
     "name": "stdout",
     "output_type": "stream",
     "text": [
      "tensor(5.8622, dtype=torch.float64)\n",
      "tensor(5.9344, dtype=torch.float64)\n",
      "tensor(6.7131, dtype=torch.float64)\n"
     ]
    }
   ],
   "source": [
    "print(causal_path_dispersion(tube, layout_2, 3))\n",
    "print(causal_path_dispersion(tube, layout_3, 3))\n",
    "print(causal_path_dispersion(tube, layout_5, 3))"
   ]
  },
  {
   "cell_type": "code",
   "execution_count": 9,
   "metadata": {},
   "outputs": [
    {
     "name": "stderr",
     "output_type": "stream",
     "text": [
      "/workspaces/pathpyG/src/pathpyG/visualisations/Project_JS/HotVisFunctions.py:234: UserWarning: To copy construct from a tensor, it is recommended to use sourceTensor.clone().detach() or sourceTensor.clone().detach().requires_grad_(True), rather than torch.tensor(sourceTensor).\n",
      "  path_indices = torch.tensor(paths.mapping.to_idxs(path))\n"
     ]
    },
    {
     "name": "stdout",
     "output_type": "stream",
     "text": [
      "tensor(0.3063, dtype=torch.float64)\n",
      "tensor(0.3664, dtype=torch.float64)\n",
      "tensor(0.5894, dtype=torch.float64)\n"
     ]
    }
   ],
   "source": [
    "print(closeness_eccentricity(tube, layout_2, 3, 0.1))\n",
    "print(closeness_eccentricity(tube, layout_3, 3, 0.1))\n",
    "print(closeness_eccentricity(tube, layout_5, 3, 0.1))"
   ]
  }
 ],
 "metadata": {
  "kernelspec": {
   "display_name": "base",
   "language": "python",
   "name": "python3"
  },
  "language_info": {
   "codemirror_mode": {
    "name": "ipython",
    "version": 3
   },
   "file_extension": ".py",
   "mimetype": "text/x-python",
   "name": "python",
   "nbconvert_exporter": "python",
   "pygments_lexer": "ipython3",
   "version": "3.11.9"
  }
 },
 "nbformat": 4,
 "nbformat_minor": 2
}
