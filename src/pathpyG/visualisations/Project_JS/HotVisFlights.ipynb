{
 "cells": [
  {
   "cell_type": "markdown",
   "metadata": {},
   "source": [
    "# Testing HotVis on the flights paths"
   ]
  },
  {
   "cell_type": "code",
   "execution_count": 13,
   "metadata": {},
   "outputs": [],
   "source": [
    "import csv\n",
    "from HotVisFunctions import *\n",
    "import pandas as pd\n",
    "import numpy as np"
   ]
  },
  {
   "cell_type": "code",
   "execution_count": 14,
   "metadata": {},
   "outputs": [],
   "source": [
    "\n",
    "def split_path_data(data: pp.PathData, training_percentile: float):\n",
    "    training_data = pp.PathData(data.mapping)\n",
    "    test_data = pp.PathData(data.mapping)\n",
    "    split_indices = torch.rand(data.num_paths)\n",
    "    for i in range(data.num_paths):\n",
    "        if split_indices[i] <= training_percentile:\n",
    "            training_data.append_walk(data.get_walk(i))\n",
    "        else:\n",
    "            test_data.append_walk(data.get_walk(i))\n",
    "    return training_data, test_data\n"
   ]
  },
  {
   "cell_type": "code",
   "execution_count": null,
   "metadata": {},
   "outputs": [],
   "source": [
    "def from_ngram(file: str, sep: str = \",\") -> pp.PathData:\n",
    "    with open(file, \"r\", encoding=\"utf-8\") as f:\n",
    "        paths = [line.strip().split(sep) for line in f if len(line.strip().split(sep)) > 1]\n",
    "\n",
    "    mapping = pp.IndexMap()\n",
    "    mapping.add_ids(np.concatenate([np.array(path) for path in paths]))\n",
    "\n",
    "    pathdata = pp.PathData(mapping)\n",
    "    pathdata.append_walks(node_seqs=paths, weights=[])\n",
    "\n",
    "    return pathdata"
   ]
  },
  {
   "cell_type": "code",
   "execution_count": null,
   "metadata": {},
   "outputs": [
    {
     "name": "stderr",
     "output_type": "stream",
     "text": [
      "Exception ignored in: <bound method IPythonKernel._clean_thread_parent_frames of <ipykernel.ipkernel.IPythonKernel object at 0x7ffffc85e490>>\n",
      "Traceback (most recent call last):\n",
      "  File \"/opt/conda/lib/python3.11/site-packages/ipykernel/ipkernel.py\", line 775, in _clean_thread_parent_frames\n",
      "    def _clean_thread_parent_frames(\n",
      "\n",
      "KeyboardInterrupt: \n"
     ]
    }
   ],
   "source": [
    "# load flights\n",
    "flights = from_ngram(\"graphs/Flights/flights.ngram\")\n",
    "flights_train, flights_test = split_path_data(flights, 0.7)"
   ]
  },
  {
   "cell_type": "code",
   "execution_count": 8,
   "metadata": {},
   "outputs": [
    {
     "name": "stdout",
     "output_type": "stream",
     "text": [
      "200209\n",
      "86601\n",
      "0.6980544611415223\n",
      "0.30194553885847775\n"
     ]
    }
   ],
   "source": [
    "print(flights_train.num_paths)\n",
    "print(flights_test.num_paths)\n",
    "print(flights_train.num_paths/flights.num_paths)\n",
    "print(flights_test.num_paths/flights.num_paths)"
   ]
  },
  {
   "cell_type": "code",
   "execution_count": 9,
   "metadata": {},
   "outputs": [
    {
     "name": "stderr",
     "output_type": "stream",
     "text": [
      "100%|██████████| 50000/50000 [00:30<00:00, 1661.82it/s]\n",
      "100%|██████████| 50000/50000 [00:32<00:00, 1539.69it/s]\n",
      "100%|██████████| 50000/50000 [00:33<00:00, 1494.35it/s]\n"
     ]
    }
   ],
   "source": [
    "layout_2 = HotVis(flights_train, 2, 50000, 3, alpha=[1, 0.5], force=10)\n",
    "layout_3 =  HotVis(flights_train, 3, 50000, 3, alpha=[1, 0.5, 0.3], force=10)\n",
    "layout_5 =  HotVis(flights_train, 5, 50000, 3, alpha=[1, 0.5, 0.3, 0.25, 0.2], force=10)"
   ]
  },
  {
   "cell_type": "code",
   "execution_count": 10,
   "metadata": {},
   "outputs": [
    {
     "name": "stdout",
     "output_type": "stream",
     "text": [
      "50360\n",
      "51062\n",
      "50086\n"
     ]
    }
   ],
   "source": [
    "print(edge_crossing(flights_test, layout_2))\n",
    "print(edge_crossing(flights_test, layout_3))\n",
    "print(edge_crossing(flights_test, layout_5))"
   ]
  },
  {
   "cell_type": "code",
   "execution_count": 11,
   "metadata": {},
   "outputs": [
    {
     "name": "stdout",
     "output_type": "stream",
     "text": [
      "tensor(1.2095, dtype=torch.float64)\n",
      "tensor(1.1756, dtype=torch.float64)\n",
      "tensor(1.1736, dtype=torch.float64)\n"
     ]
    }
   ],
   "source": [
    "print(causal_path_dispersion(flights_test, layout_2, 3))\n",
    "print(causal_path_dispersion(flights_test, layout_3, 3))\n",
    "print(causal_path_dispersion(flights_test, layout_5, 3))"
   ]
  },
  {
   "cell_type": "code",
   "execution_count": 12,
   "metadata": {},
   "outputs": [
    {
     "ename": "KeyboardInterrupt",
     "evalue": "",
     "output_type": "error",
     "traceback": [
      "\u001b[0;31m---------------------------------------------------------------------------\u001b[0m",
      "\u001b[0;31mKeyboardInterrupt\u001b[0m                         Traceback (most recent call last)",
      "Cell \u001b[0;32mIn[12], line 1\u001b[0m\n\u001b[0;32m----> 1\u001b[0m \u001b[38;5;28mprint\u001b[39m(closeness_eccentricity(flights_test, layout_2, \u001b[38;5;241m3\u001b[39m, \u001b[38;5;241m0.1\u001b[39m))\n\u001b[1;32m      2\u001b[0m \u001b[38;5;28mprint\u001b[39m(closeness_eccentricity(flights_test, layout_3, \u001b[38;5;241m3\u001b[39m, \u001b[38;5;241m0.1\u001b[39m))\n\u001b[1;32m      3\u001b[0m \u001b[38;5;28mprint\u001b[39m(closeness_eccentricity(flights_test, layout_5, \u001b[38;5;241m3\u001b[39m, \u001b[38;5;241m0.1\u001b[39m))\n",
      "File \u001b[0;32m/workspaces/pathpyG/src/pathpyG/visualisations/Project_JS/HotVisFunctions.py:228\u001b[0m, in \u001b[0;36mcloseness_eccentricity\u001b[0;34m(data, layout, delta, percentile)\u001b[0m\n\u001b[1;32m    226\u001b[0m     closeness_centrality \u001b[38;5;241m=\u001b[39m closeness_centrality_paths(paths)\n\u001b[1;32m    227\u001b[0m \u001b[38;5;28;01melif\u001b[39;00m \u001b[38;5;28misinstance\u001b[39m(data, pp\u001b[38;5;241m.\u001b[39mPathData):\n\u001b[0;32m--> 228\u001b[0m     closeness_centrality \u001b[38;5;241m=\u001b[39m closeness_centrality_paths(data)\n\u001b[1;32m    229\u001b[0m \u001b[38;5;28;01melse\u001b[39;00m:\n\u001b[1;32m    230\u001b[0m     \u001b[38;5;28;01mreturn\u001b[39;00m\n",
      "File \u001b[0;32m/workspaces/pathpyG/src/pathpyG/visualisations/Project_JS/HotVisFunctions.py:211\u001b[0m, in \u001b[0;36mcloseness_centrality_paths\u001b[0;34m(paths)\u001b[0m\n\u001b[1;32m    209\u001b[0m \u001b[38;5;28;01mif\u001b[39;00m w \u001b[38;5;241m!=\u001b[39m v:\n\u001b[1;32m    210\u001b[0m     \u001b[38;5;28;01mfor\u001b[39;00m i \u001b[38;5;129;01min\u001b[39;00m \u001b[38;5;28mrange\u001b[39m(paths\u001b[38;5;241m.\u001b[39mnum_paths):\n\u001b[0;32m--> 211\u001b[0m         path \u001b[38;5;241m=\u001b[39m paths\u001b[38;5;241m.\u001b[39mget_walk(i)\n\u001b[1;32m    212\u001b[0m         \u001b[38;5;28;01mif\u001b[39;00m v \u001b[38;5;129;01min\u001b[39;00m path \u001b[38;5;129;01mand\u001b[39;00m w \u001b[38;5;129;01min\u001b[39;00m path:\n\u001b[1;32m    213\u001b[0m             numerator \u001b[38;5;241m+\u001b[39m\u001b[38;5;241m=\u001b[39m \u001b[38;5;241m1\u001b[39m\n",
      "File \u001b[0;32m/workspaces/pathpyG/src/pathpyG/core/path_data.py:165\u001b[0m, in \u001b[0;36mPathData.get_walk\u001b[0;34m(self, i)\u001b[0m\n\u001b[1;32m    148\u001b[0m \u001b[38;5;28;01mdef\u001b[39;00m \u001b[38;5;21mget_walk\u001b[39m(\u001b[38;5;28mself\u001b[39m, i: \u001b[38;5;28mint\u001b[39m) \u001b[38;5;241m-\u001b[39m\u001b[38;5;241m>\u001b[39m \u001b[38;5;28mtuple\u001b[39m:\n\u001b[1;32m    149\u001b[0m \u001b[38;5;250m    \u001b[39m\u001b[38;5;124;03m\"\"\"Return the i-th walk (based on when it was appended) as a tuple of node IDs\u001b[39;00m\n\u001b[1;32m    150\u001b[0m \n\u001b[1;32m    151\u001b[0m \u001b[38;5;124;03m    Args:\u001b[39;00m\n\u001b[0;32m   (...)\u001b[0m\n\u001b[1;32m    163\u001b[0m \u001b[38;5;124;03m        ('a', 'c', 'd')\u001b[39;00m\n\u001b[1;32m    164\u001b[0m \u001b[38;5;124;03m    \"\"\"\u001b[39;00m\n\u001b[0;32m--> 165\u001b[0m     start \u001b[38;5;241m=\u001b[39m \u001b[38;5;28mself\u001b[39m\u001b[38;5;241m.\u001b[39mdata\u001b[38;5;241m.\u001b[39mdag_num_nodes[:i]\u001b[38;5;241m.\u001b[39msum()\u001b[38;5;241m.\u001b[39mitem()\n\u001b[1;32m    166\u001b[0m     end \u001b[38;5;241m=\u001b[39m start \u001b[38;5;241m+\u001b[39m \u001b[38;5;28mself\u001b[39m\u001b[38;5;241m.\u001b[39mdata\u001b[38;5;241m.\u001b[39mdag_num_nodes[i]\u001b[38;5;241m.\u001b[39mitem()\n\u001b[1;32m    167\u001b[0m     \u001b[38;5;28;01mreturn\u001b[39;00m \u001b[38;5;28mtuple\u001b[39m(\u001b[38;5;28mself\u001b[39m\u001b[38;5;241m.\u001b[39mmapping\u001b[38;5;241m.\u001b[39mto_ids(\u001b[38;5;28mself\u001b[39m\u001b[38;5;241m.\u001b[39mdata\u001b[38;5;241m.\u001b[39mnode_sequence[start:end]\u001b[38;5;241m.\u001b[39msqueeze()))\n",
      "\u001b[0;31mKeyboardInterrupt\u001b[0m: "
     ]
    }
   ],
   "source": [
    "print(closeness_eccentricity(flights_test, layout_2, 3, 0.1))\n",
    "print(closeness_eccentricity(flights_test, layout_3, 3, 0.1))\n",
    "print(closeness_eccentricity(flights_test, layout_5, 3, 0.1))"
   ]
  }
 ],
 "metadata": {
  "kernelspec": {
   "display_name": "base",
   "language": "python",
   "name": "python3"
  },
  "language_info": {
   "codemirror_mode": {
    "name": "ipython",
    "version": 3
   },
   "file_extension": ".py",
   "mimetype": "text/x-python",
   "name": "python",
   "nbconvert_exporter": "python",
   "pygments_lexer": "ipython3",
   "version": "3.11.9"
  }
 },
 "nbformat": 4,
 "nbformat_minor": 2
}
