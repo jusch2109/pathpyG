{
 "cells": [
  {
   "cell_type": "code",
   "execution_count": 1,
   "metadata": {},
   "outputs": [
    {
     "ename": "",
     "evalue": "",
     "output_type": "error",
     "traceback": [
      "\u001b[1;31mFailed to start the Kernel. \n",
      "\u001b[1;31mUnable to start Kernel 'base (Python 3.11.9)' due to a timeout waiting for the ports to get used. \n",
      "\u001b[1;31mView Jupyter <a href='command:jupyter.viewOutput'>log</a> for further details."
     ]
    }
   ],
   "source": [
    "#%%\n",
    "import pathpy as pp\n",
    "import random"
   ]
  },
  {
   "cell_type": "code",
   "execution_count": 2,
   "metadata": {},
   "outputs": [],
   "source": [
    "\n",
    "n = pp.Network(directed=False)\n",
    "clusters = {}\n",
    "colors = {}\n",
    "for i in range(30):\n",
    "    n.add_node(str(i))\n",
    "    n.nodes[str(i)]['cluster'] = str(int(i/10))\n",
    "    if str(int(i/10)) == '0':\n",
    "        colors[str(i)] = 'red'\n",
    "    elif str(int(i/10)) == '1':\n",
    "        colors[str(i)] = 'blue'\n",
    "    else: \n",
    "        colors[str(i)] = 'green'\n",
    "    clusters[str(i)] = str(int(i/10))"
   ]
  },
  {
   "cell_type": "code",
   "execution_count": null,
   "metadata": {},
   "outputs": [],
   "source": [
    "# for v in n.nodes:\n",
    "#     print('{0} {1}'.format(v, n.nodes[v]['cluster']))\n",
    "\n",
    "#%% k-regular topology\n",
    "k = 30\n",
    "\n",
    "for i in n.nodes:\n",
    "    for j in n.nodes:\n",
    "        if i!=j:\n",
    "            n.add_edge(i, j)\n",
    "#stubs = []\n",
    "#for v in n.nodes:\n",
    "#    for i in range(0, k):\n",
    "#        stubs.append(v)\n",
    "\n",
    "pp.visualisation.plot(n, node_color=colors)"
   ]
  },
  {
   "cell_type": "raw",
   "metadata": {},
   "source": [
    "while len(stubs)>1:\n",
    "    s = random.sample(stubs, 2)\n",
    "    v = s[0]\n",
    "    w = s[1]\n",
    "\n",
    "    n.add_edge(v, w)\n",
    "    stubs.remove(v)\n",
    "    stubs.remove(w)\n",
    "\n",
    "pp.visualisation.plot(n, node_color=colors)"
   ]
  },
  {
   "cell_type": "code",
   "execution_count": 4,
   "metadata": {},
   "outputs": [],
   "source": [
    "#%% generate random temporal network\n",
    "t = pp.TemporalNetwork()\n",
    "time = 0\n",
    "for i in range(10000):\n",
    "    u = random.sample(list(n.nodes.keys()), 1)[0]\n",
    "    v = random.sample(n.successors[u], 1)[0]\n",
    "    w = random.sample(n.successors[v], 1)[0]\n",
    "    t.add_edge(u, v, time)\n",
    "    t.add_edge(v, w, time+1)\n",
    "    time += 2\n",
    "\n",
    "#print(t)"
   ]
  },
  {
   "cell_type": "code",
   "execution_count": null,
   "metadata": {},
   "outputs": [],
   "source": [
    "# for each center node v of a path ... \n",
    "# 1.) find two edges (u, v, t1) (v, w, t1+1) with u, v in cluster 1 and w in cluster 2\n",
    "# 2.) find two edges (x, v, t2) (v, z, t2+1) with x in cluster 2 and v, z in cluster 1\n",
    "# 3.) swap timestamps to (u, v, t1), (v, z, t1+1) and (x, v, t2), (v, w, t2+1)\n",
    "# we have changed two paths of length two that connect nodes in different clusters \n",
    "# to paths that connect nodes in the same cluster, without changing link statistics!\n",
    "candidates = {}\n",
    "from collections import defaultdict\n",
    "candidates['0-1'] = defaultdict(list)\n",
    "candidates['1-0'] = defaultdict(list)\n",
    "\n",
    "candidates['0-2'] = defaultdict(list)\n",
    "candidates['2-0'] = defaultdict(list)\n",
    "\n",
    "candidates['2-1'] = defaultdict(list)\n",
    "candidates['1-2'] = defaultdict(list)\n",
    "\n",
    "others = []\n",
    "i = 1\n",
    "while i < len(t.ordered_times):\n",
    "    prev = t.ordered_times[i-1]\n",
    "    time = t.ordered_times[i]\n",
    "    (u, v, t1) = t.time[prev][0]\n",
    "    (v, w, t2) = t.time[time][0]\n",
    "    # each edge is in exactly one of the lists\n",
    "    \n",
    "    assert t.time[prev][0][1] == t.time[time][0][0], 'Error!'\n",
    "\n",
    "    if clusters[u] == clusters[v] and clusters[v] != clusters[w]:\n",
    "        candidates[clusters[u]+'-'+clusters[w]][v].append( (t1, t2) )\n",
    "    elif clusters[u] != clusters[v] and clusters[v] == clusters[w]:\n",
    "        candidates[clusters[u]+'-'+clusters[w]][v].append( (t1, t2) )\n",
    "        # print('{0} -> {1} -> {2}'.format(u,v,w))\n",
    "    else:\n",
    "        others.append( (t1, t2) )\n",
    "    i += 2\n",
    "\n",
    "# swap timestamps of edges for the following pairs of candidates\n",
    "swaps = [('0-1', '1-0'), # from 0->1 and 1->0 to 0->0 and 1->1\n",
    "         ('0-2', '2-0'),\n",
    "         ('1-2', '2-1')]\n",
    "\n",
    "t_clustered = pp.TemporalNetwork()\n",
    "swap_c = 0\n",
    "for s in swaps:\n",
    "    for v in candidates[s[0]]:\n",
    "        while candidates[s[0]][v] and candidates[s[1]][v]:\n",
    "            # found four candidate edges for time-stamp swap\n",
    "            (t1, t2) = candidates[s[0]][v].pop()\n",
    "            (u, v, t1) = t.time[t1][0]\n",
    "            (v, w, t2) = t.time[t2][0]\n",
    "\n",
    "            (t3, t4) = candidates[s[1]][v].pop()\n",
    "            (x, v, t3) = t.time[t3][0]\n",
    "            (v, z, t4) = t.time[t4][0]\n",
    "\n",
    "            t_clustered.add_edge(u, v, t1)\n",
    "            t_clustered.add_edge(v, z, t2)\n",
    "            t_clustered.add_edge(x, v, t3)\n",
    "            t_clustered.add_edge(v, w, t4)            \n",
    "            swap_c +=1\n",
    "    # add all remaining edges\n",
    "        while candidates[s[0]][v]:\n",
    "            (t1, t2) = candidates[s[0]][v].pop()\n",
    "            (source, target, time) = t.time[t1][0]\n",
    "            t_clustered.add_edge(source, target, time)\n",
    "            (source, target, time) = t.time[t2][0]\n",
    "            t_clustered.add_edge(source, target, time)\n",
    "        while candidates[s[1]][v]:\n",
    "            (t1, t2) = candidates[s[1]][v].pop()\n",
    "            (source, target, time) = t.time[t1][0]\n",
    "            t_clustered.add_edge(source, target, time)\n",
    "            (source, target, time) = t.time[t2][0]\n",
    "            t_clustered.add_edge(source, target, time)\n",
    "\n",
    "while others:\n",
    "    (t1, t2) = others.pop()\n",
    "    (source, target, time) = t.time[t1][0]\n",
    "    t_clustered.add_edge(source, target, time)\n",
    "    (source, target, time) = t.time[t2][0]\n",
    "    t_clustered.add_edge(source, target, time)\n",
    "print('Swapped {0} edges'.format(swap_c))\n",
    "print(t_clustered)\n"
   ]
  },
  {
   "cell_type": "code",
   "execution_count": 6,
   "metadata": {},
   "outputs": [],
   "source": [
    "#%%\n",
    "#t_clustered.write_file(filename='temporal_clusters_real_kregular.tedges')"
   ]
  },
  {
   "cell_type": "code",
   "execution_count": null,
   "metadata": {},
   "outputs": [],
   "source": [
    "#%%\n",
    "p = pp.path_extraction.paths_from_temporal_network_dag(t_clustered)\n",
    "print(p)\n",
    "#p.write_file('temporal_clusters_real_kregular.ngram')\n",
    "mog = pp.MultiOrderModel(p, max_order=3)\n",
    "print(mog.estimate_order())"
   ]
  },
  {
   "cell_type": "markdown",
   "metadata": {},
   "source": [
    "With my impl"
   ]
  },
  {
   "cell_type": "code",
   "execution_count": 8,
   "metadata": {},
   "outputs": [],
   "source": [
    "from fruchtermanReingold import FruchtermanReingold\n",
    "from projector import Projector"
   ]
  },
  {
   "cell_type": "code",
   "execution_count": 9,
   "metadata": {},
   "outputs": [],
   "source": [
    "from matplotlib.collections import LineCollection\n",
    "import matplotlib.pyplot as plt\n",
    "def plot_network(network, nodes_position, figsize=[20,20]):\n",
    "    \"\"\"Functiton that simply plots a network in matplotlib\"\"\"\n",
    "    mp = network.node_to_name_map()\n",
    "\n",
    "    points = nodes_position\n",
    "    edges = [(mp[e[0]],mp[e[1]]) for e in network.edges]\n",
    "\n",
    "    #adding edges\n",
    "    lc = LineCollection(points[edges], linewidths=2.5)\n",
    "    fig = plt.figure(figsize=figsize) \n",
    "    plt.gca().add_collection(lc)\n",
    "\n",
    "    plt.axis('off')\n",
    "    plt.xlim(points[:,0].min(), points[:,0].max())\n",
    "    plt.ylim(points[:,1].min(), points[:,1].max())\n",
    "\n",
    "    #colors = plt.cm.rainbow(np.linspace(0, 1, len(points)))\n",
    "\n",
    "    plt.scatter(points[:,0], points[:,1], s= 80, zorder = 2)#\n",
    "#     fig.savefig('time_aware_figure{}.png'.format(int(time.time() // 1)),quality = 95)"
   ]
  },
  {
   "cell_type": "code",
   "execution_count": null,
   "metadata": {},
   "outputs": [],
   "source": [
    "order = 2\n",
    "paths = p\n",
    "#observed_paths, sub_paths = number_longest_and_subpaths(paths)\n",
    "#alpha  = [1/(sub_paths[i]/sub_paths[1]) for i in range(1,order+1)]\n",
    "alpha = [.3,1,0,0]\n",
    "first_order_network = pp.Network.from_paths(paths)\n",
    "super_network_mon = pp.MultiOrderModel(paths = paths, max_order = order)\n",
    "\n",
    "projected_network_mon = Projector(super_network_mon,alpha=alpha).get_projection()#_unweighted()\n",
    "\n",
    "FR_mon = FruchtermanReingold(projected_network_mon,repulsion_multiplier=10)\n",
    "list_positions_mon = FR_mon.run(10000)\n",
    "dict_positions_mon = FR_mon.node_to_pos_map \n"
   ]
  },
  {
   "cell_type": "code",
   "execution_count": null,
   "metadata": {},
   "outputs": [],
   "source": [
    "plot_network(first_order_network, list_positions_mon)"
   ]
  }
 ],
 "metadata": {
  "kernelspec": {
   "display_name": "base",
   "language": "python",
   "name": "python3"
  },
  "language_info": {
   "codemirror_mode": {
    "name": "ipython",
    "version": 3
   },
   "file_extension": ".py",
   "mimetype": "text/x-python",
   "name": "python",
   "nbconvert_exporter": "python",
   "pygments_lexer": "ipython3",
   "version": "3.11.9"
  },
  "latex_envs": {
   "LaTeX_envs_menu_present": true,
   "autoclose": false,
   "autocomplete": true,
   "bibliofile": "biblio.bib",
   "cite_by": "apalike",
   "current_citInitial": 1,
   "eqLabelWithNumbers": true,
   "eqNumInitial": 1,
   "hotkeys": {
    "equation": "Ctrl-E",
    "itemize": "Ctrl-I"
   },
   "labels_anchors": false,
   "latex_user_defs": false,
   "report_style_numbering": false,
   "user_envs_cfg": false
  },
  "toc": {
   "base_numbering": 1,
   "nav_menu": {},
   "number_sections": true,
   "sideBar": true,
   "skip_h1_title": false,
   "title_cell": "Table of Contents",
   "title_sidebar": "Contents",
   "toc_cell": false,
   "toc_position": {},
   "toc_section_display": true,
   "toc_window_display": false
  }
 },
 "nbformat": 4,
 "nbformat_minor": 2
}
