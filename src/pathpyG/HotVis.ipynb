{
 "cells": [
  {
   "cell_type": "markdown",
   "metadata": {},
   "source": [
    "# HOTVis: Implementation"
   ]
  },
  {
   "cell_type": "markdown",
   "metadata": {},
   "source": [
    "## To Do\n",
    "- Algo testen\n",
    "- Code überarbeiten (schöner machen, kommentieren etc)\n",
    "- gucken, an welchen Stellen mans beschleunigen kann"
   ]
  },
  {
   "cell_type": "markdown",
   "metadata": {},
   "source": [
    "## Imports"
   ]
  },
  {
   "cell_type": "code",
   "execution_count": 70,
   "metadata": {},
   "outputs": [],
   "source": [
    "import torch\n",
    "import torch_geometric\n",
    "\n",
    "import pathpyG as pp"
   ]
  },
  {
   "cell_type": "markdown",
   "metadata": {},
   "source": [
    "## Übergabeparameter"
   ]
  },
  {
   "cell_type": "code",
   "execution_count": 71,
   "metadata": {},
   "outputs": [],
   "source": [
    "\n",
    "# nur hier zum testen\n",
    "tedges = [('a', 'b', 1),('a', 'b', 2), ('b', 'a', 3), ('b', 'c', 3), ('d', 'c', 4), ('a', 'b', 4), ('c', 'b', 4),\n",
    "              ('c', 'd', 5), ('b', 'a', 5), ('c', 'b', 6)]\n",
    "\n",
    "graph = pp.TemporalGraph.from_edge_list(tedges)\n",
    "K = 3\n",
    "N = 1\n",
    "delta = 1\n",
    "alpha = [1, 1, 1]\n",
    "\n",
    "# optional\n",
    "\n",
    "force = 1\n",
    "positions = torch.rand((graph.N, 2))\n",
    "seed = 0"
   ]
  },
  {
   "cell_type": "markdown",
   "metadata": {},
   "source": [
    "## Initialisierung"
   ]
  },
  {
   "cell_type": "code",
   "execution_count": 72,
   "metadata": {},
   "outputs": [],
   "source": [
    "A = torch.zeros((graph.N, graph.N))"
   ]
  },
  {
   "cell_type": "markdown",
   "metadata": {},
   "source": [
    "## Erste Schleife"
   ]
  },
  {
   "cell_type": "markdown",
   "metadata": {},
   "source": [
    "Vektorisierung:\n",
    "\n",
    "Wir benötigen folgende Informationen: Für die Kante $((v_0, ..., v_{k-1}), (v_1,...,v_k))$ eines Higher Order Graphen müssen wir für unseren Algorithmus die Knoten $v_0$ und $v_k$ herausfinden. Bis auf die Benennung der Knoten gibt es keine Datenstruktur wie z.B. eine Adjazenzmatrix in dem Higher Order Graphen, die diese Information direkt oder indirekt beinhaltet. Dadurch müssen wir die Bennenung jeder einzelnen Kante angucken und somit über alle einzelnen Kanten iterieren ."
   ]
  },
  {
   "cell_type": "code",
   "execution_count": 73,
   "metadata": {},
   "outputs": [
    {
     "name": "stderr",
     "output_type": "stream",
     "text": [
      "100%|██████████| 6/6 [00:00<00:00, 108.67it/s]"
     ]
    },
    {
     "name": "stdout",
     "output_type": "stream",
     "text": [
      "tensor([[0., 8., 0., 0.],\n",
      "        [4., 0., 3., 0.],\n",
      "        [0., 3., 0., 1.],\n",
      "        [0., 0., 2., 0.]])\n"
     ]
    },
    {
     "name": "stderr",
     "output_type": "stream",
     "text": [
      "\n"
     ]
    }
   ],
   "source": [
    "mo_model = pp.MultiOrderModel.from_temporal_graph(graph, delta=delta, max_order=K)\n",
    "# iterate over higher orders\n",
    "for i in range(K):\n",
    "    ho_graph = mo_model.layers[i+1]\n",
    "    # iterate over edges of higher order graph\n",
    "    for edge in ho_graph.edges:\n",
    "        # get start and end node of path of lenth k\n",
    "        node_start = edge[0]\n",
    "        node_end = edge[1]\n",
    "        # in case of higher orders than 1 we need to get the first node of the temporal graph\n",
    "        #    in the node of the higher order graph\n",
    "        if(i > 0):\n",
    "            node_start = edge[0][0]\n",
    "            node_end = edge[1][0]\n",
    "        # get indices of the nodes\n",
    "        index_node_start = graph.mapping.to_idx(node_start)\n",
    "        index_node_end = graph.mapping.to_idx(node_end)\n",
    "        # add to A\n",
    "        A[index_node_start, index_node_end] += alpha[i] * ho_graph['edge_weight', edge[0], edge[1]]\n",
    "    \n",
    "print(A)"
   ]
  },
  {
   "cell_type": "markdown",
   "metadata": {},
   "source": [
    "## Zweite Schleife"
   ]
  },
  {
   "cell_type": "code",
   "execution_count": 74,
   "metadata": {},
   "outputs": [],
   "source": [
    "# the initial \"temperature\"  is about .1 of domain area (=1x1)\n",
    "# this is the largest step allowed in the dynamics.\n",
    "t = 0.1  #max(max(layout.T[0]) - min(layout.T[0]), max(layout.T[1]) - min(layout.T[1])) * 0.1\n",
    "# simple cooling scheme.\n",
    "# linearly step down by dt on each iteration so last iteration is size dt.\n",
    "dt = t / float(N + 1)\n",
    "\n",
    "# displacement = theta\n",
    "# delta = delta\n",
    "# distance = |delta|\n",
    "# force = k\n",
    "\n",
    "# every nodes \"movement\" or displacement gets describet by an tuple (x, y) \n",
    "displacement = torch.zeros((graph.N, 2))\n",
    "for iteration in range(N):\n",
    "    # reset displacement\n",
    "    displacement *= 0\n",
    "    # loop over rows\n",
    "    for i in range(A.shape[0]):\n",
    "        # difference between this row's node position and all others\n",
    "        delta = positions[i] - positions\n",
    "        # distance between points\n",
    "        distance = torch.sqrt((delta**2).sum(dim=1))\n",
    "        # enforce minimum distance of 0.01\n",
    "        distance = torch.where(distance < 0.01, 0.01, distance)\n",
    "        displacement[i] += (delta/distance.view(-1,1) * (A[i] * distance**2 / force -  force**2 / distance).view(-1,1)).sum(dim=0)\n",
    "    # update positions\n",
    "    length = torch.sqrt((displacement**2).sum(dim=1))\n",
    "    length = torch.where(length < 0.01, 0.1, length)\n",
    "    delta_layout = (displacement * t / length.view(-1,1))\n",
    "    positions += delta_layout\n",
    "    # cool temperature\n",
    "    t -= dt"
   ]
  },
  {
   "cell_type": "markdown",
   "metadata": {},
   "source": [
    "## Plot"
   ]
  },
  {
   "cell_type": "code",
   "execution_count": 77,
   "metadata": {},
   "outputs": [
    {
     "name": "stdout",
     "output_type": "stream",
     "text": [
      "a\n",
      "b\n",
      "c\n",
      "d\n",
      "{'a': [0.8181838393211365, 0.2768118381500244], 'b': [0.9137176871299744, 0.7403125166893005], 'c': [0.10982353240251541, 0.6995649337768555], 'd': [0.7447509169578552, 0.849521815776825]}\n"
     ]
    },
    {
     "data": {
      "image/png": "[encoded data removed]",
      "text/plain": [
       "<Figure size 640x480 with 1 Axes>"
      ]
     },
     "metadata": {},
     "output_type": "display_data"
    },
    {
     "data": {
      "text/plain": [
       "<pathpyG.visualisations.network_plots.StaticNetworkPlot at 0x7fff5e1eb310>"
      ]
     },
     "execution_count": 77,
     "metadata": {},
     "output_type": "execute_result"
    }
   ],
   "source": [
    "layout = {}\n",
    "for node in graph.nodes:\n",
    "    print(node)\n",
    "    layout[node] = positions[graph.mapping.to_idx(node)].tolist()\n",
    "print(layout)    \n",
    "pp.plot(mo_model.layers[1], backend='matplotlib', layout=layout)"
   ]
  }
 ],
 "metadata": {
  "kernelspec": {
   "display_name": "base",
   "language": "python",
   "name": "python3"
  },
  "language_info": {
   "codemirror_mode": {
    "name": "ipython",
    "version": 3
   },
   "file_extension": ".py",
   "mimetype": "text/x-python",
   "name": "python",
   "nbconvert_exporter": "python",
   "pygments_lexer": "ipython3",
   "version": "3.11.9"
  }
 },
 "nbformat": 4,
 "nbformat_minor": 2
}
