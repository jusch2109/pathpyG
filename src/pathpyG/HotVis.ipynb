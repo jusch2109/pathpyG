{
 "cells": [
  {
   "cell_type": "markdown",
   "metadata": {},
   "source": [
    "# HOTVis: Implementation"
   ]
  },
  {
   "cell_type": "markdown",
   "metadata": {},
   "source": [
    "## To Do\n",
    "- gucken, an welchen Stellen mans beschleunigen kann \n",
    "    - evtl zweite schleife wie Fruchtermann Reingold für Dense Matrix\n",
    "- Algo mit Graphen aus Paper testen"
   ]
  },
  {
   "cell_type": "markdown",
   "metadata": {},
   "source": [
    "## Imports"
   ]
  },
  {
   "cell_type": "code",
   "execution_count": 17,
   "metadata": {},
   "outputs": [],
   "source": [
    "import torch\n",
    "import pathpyG as pp"
   ]
  },
  {
   "cell_type": "markdown",
   "metadata": {},
   "source": [
    "## Übergabeparameter"
   ]
  },
  {
   "cell_type": "code",
   "execution_count": 18,
   "metadata": {},
   "outputs": [],
   "source": [
    "\n",
    "# nur hier zum testen\n",
    "tedges = [('a', 'b', 1),('a', 'b', 2), ('b', 'a', 3), ('b', 'c', 3), ('d', 'c', 4), ('a', 'b', 4), ('c', 'b', 4),\n",
    "              ('c', 'd', 5), ('b', 'a', 5), ('c', 'b', 6), ('e', 'f', 1), ('f', 'e', 1), ('e', 'f', 2), ('f', 'e', 2), \n",
    "              ('e', 'f', 3), ('f', 'e', 3), ('e', 'f', 4), ('f', 'e', 4)]\n",
    "\n",
    "# mandatory\n",
    "graph = pp.TemporalGraph.from_edge_list(tedges)\n",
    "K = 2\n",
    "N = 100\n",
    "delta = 1\n",
    "alpha = [0.5, 0.5]\n",
    "\n",
    "# optional\n",
    "force = 1\n",
    "positions = torch.rand((graph.N, 2))\n",
    "# nur hier zum testen\n",
    "initial_positions = positions\n",
    "seed = 0"
   ]
  },
  {
   "cell_type": "markdown",
   "metadata": {},
   "source": [
    "## Initialisierung"
   ]
  },
  {
   "cell_type": "code",
   "execution_count": 19,
   "metadata": {},
   "outputs": [],
   "source": [
    "\n",
    "A = torch.zeros((graph.N, graph.N))\n",
    "# the initial \"temperature\"  is about .1 of domain area (=1x1)\n",
    "# this is the largest step allowed in the dynamics.\n",
    "t = 0.1  #max(max(positions.T[0]) - min(positions.T[0]), max(positions.T[1]) - min(positions.T[1])) * 0.1\n",
    "# simple cooling scheme.\n",
    "# linearly step down by dt on each iteration so last iteration is size dt.\n",
    "dt = t / float(N + 1)"
   ]
  },
  {
   "cell_type": "markdown",
   "metadata": {},
   "source": [
    "## Erste Schleife"
   ]
  },
  {
   "cell_type": "markdown",
   "metadata": {},
   "source": [
    "Vektorisierung:\n",
    "\n",
    "Wir benötigen folgende Informationen: Für die Kante $((v_0, ..., v_{k-1}), (v_1,...,v_k))$ eines Higher Order Graphen müssen wir für unseren Algorithmus die Knoten $v_0$ und $v_k$ herausfinden. Bis auf die Benennung der Knoten gibt es keine Datenstruktur wie z.B. eine Adjazenzmatrix in dem Higher Order Graphen, die diese Information direkt oder indirekt beinhaltet. Dadurch müssen wir die Bennenung jeder einzelnen Kante angucken und somit über alle einzelnen Kanten iterieren ."
   ]
  },
  {
   "cell_type": "code",
   "execution_count": 20,
   "metadata": {},
   "outputs": [
    {
     "name": "stderr",
     "output_type": "stream",
     "text": [
      "100%|██████████| 6/6 [00:00<00:00, 117.29it/s]\n"
     ]
    },
    {
     "name": "stdout",
     "output_type": "stream",
     "text": [
      "tensor([[1.0000, 1.5000, 0.5000, 0.0000, 0.0000, 0.0000],\n",
      "        [1.0000, 1.0000, 0.5000, 0.0000, 0.0000, 0.0000],\n",
      "        [0.5000, 1.0000, 0.0000, 0.5000, 0.0000, 0.0000],\n",
      "        [0.0000, 0.0000, 0.5000, 0.5000, 0.0000, 0.0000],\n",
      "        [0.0000, 0.0000, 0.0000, 0.0000, 1.5000, 2.0000],\n",
      "        [0.0000, 0.0000, 0.0000, 0.0000, 2.0000, 1.5000]])\n"
     ]
    }
   ],
   "source": [
    "mo_model = pp.MultiOrderModel.from_temporal_graph(graph, delta=delta, max_order=K)\n",
    "# iterate over higher orders\n",
    "for i in range(K):\n",
    "    ho_graph = mo_model.layers[i+1]\n",
    "    # iterate over edges of higher order graph\n",
    "    for edge in ho_graph.edges:\n",
    "        # for edge ((v_0, ..., v_{k-1}), (v_1,...,v_k)) get nodes v_0 and v_k\n",
    "        # for i == 0, edge has form (v_0, v_1)\n",
    "        if(i == 0):\n",
    "            node_start = edge[0]\n",
    "            node_end = edge[1]\n",
    "        # for i > 0, edge has form ((v_0, ..., v_{i-1}), (v_1,...,v_i))\n",
    "        else:\n",
    "            node_start = edge[0][0]\n",
    "            node_end = edge[1][-1]\n",
    "\n",
    "        # get indices of the nodes\n",
    "        index_node_start = graph.mapping.to_idx(node_start)\n",
    "        index_node_end = graph.mapping.to_idx(node_end)\n",
    "\n",
    "         # TEST\n",
    "        if(index_node_start==1 and index_node_end==1):\n",
    "            test = 1\n",
    "\n",
    "        # add to A\n",
    "        A[index_node_start, index_node_end] += alpha[i] * ho_graph['edge_weight', edge[0], edge[1]]\n",
    "    \n",
    "print(A)\n",
    "A_first_loop = A"
   ]
  },
  {
   "cell_type": "markdown",
   "metadata": {},
   "source": [
    "### Alternative 1. Schleife"
   ]
  },
  {
   "cell_type": "code",
   "execution_count": 21,
   "metadata": {},
   "outputs": [
    {
     "name": "stderr",
     "output_type": "stream",
     "text": [
      "100%|██████████| 6/6 [00:00<00:00, 239.80it/s]\n"
     ]
    }
   ],
   "source": [
    "# reinitialise\n",
    "A = torch.zeros((graph.N, graph.N))\n",
    "mo_model = pp.MultiOrderModel.from_temporal_graph(graph, delta=delta, max_order=K)\n",
    "\n",
    "for i in range(K):\n",
    "    ho_graph = mo_model.layers[i+1]\n",
    "    \n",
    "    nodes_start = list(map(lambda x: x[0], ho_graph.edges))\n",
    "    nodes_end = list(map(lambda x: x[1], ho_graph.edges))\n",
    "\n",
    "    if(i > 0):\n",
    "        nodes_start = list(map(lambda x: x[0], nodes_start))\n",
    "        nodes_end = list(map(lambda x: x[-1], nodes_end))\n",
    "\n",
    "    nodes_start = list(map(lambda x: graph.mapping.to_idx(x), nodes_start))\n",
    "    nodes_end = list(map(lambda x: graph.mapping.to_idx(x), nodes_end))\n",
    "\n",
    "    nodes_start = torch.tensor(nodes_start)\n",
    "    nodes_end = torch.tensor(nodes_end)\n",
    "\n",
    "    edge_weights = ho_graph['edge_weight']# müsste das selbe wie unten sein\n",
    "\n",
    "    # Problem: kommt ein paar zweimal vor, wird der wert trotzdem nur einmal aufaddiert\n",
    "    A[nodes_start, nodes_end] += alpha[i] * edge_weights\n",
    "\n",
    "A_second_loop = A"
   ]
  },
  {
   "cell_type": "code",
   "execution_count": 22,
   "metadata": {},
   "outputs": [
    {
     "name": "stdout",
     "output_type": "stream",
     "text": [
      "tensor([[ True,  True,  True,  True,  True,  True],\n",
      "        [ True, False,  True,  True,  True,  True],\n",
      "        [ True,  True,  True,  True,  True,  True],\n",
      "        [ True,  True,  True,  True,  True,  True],\n",
      "        [ True,  True,  True,  True,  True,  True],\n",
      "        [ True,  True,  True,  True,  True,  True]])\n",
      "tensor([[1.0000, 1.5000, 0.5000, 0.0000, 0.0000, 0.0000],\n",
      "        [1.0000, 1.0000, 0.5000, 0.0000, 0.0000, 0.0000],\n",
      "        [0.5000, 1.0000, 0.0000, 0.5000, 0.0000, 0.0000],\n",
      "        [0.0000, 0.0000, 0.5000, 0.5000, 0.0000, 0.0000],\n",
      "        [0.0000, 0.0000, 0.0000, 0.0000, 1.5000, 2.0000],\n",
      "        [0.0000, 0.0000, 0.0000, 0.0000, 2.0000, 1.5000]])\n",
      "tensor([[1.0000, 1.5000, 0.5000, 0.0000, 0.0000, 0.0000],\n",
      "        [1.0000, 0.5000, 0.5000, 0.0000, 0.0000, 0.0000],\n",
      "        [0.5000, 1.0000, 0.0000, 0.5000, 0.0000, 0.0000],\n",
      "        [0.0000, 0.0000, 0.5000, 0.5000, 0.0000, 0.0000],\n",
      "        [0.0000, 0.0000, 0.0000, 0.0000, 1.5000, 2.0000],\n",
      "        [0.0000, 0.0000, 0.0000, 0.0000, 2.0000, 1.5000]])\n"
     ]
    }
   ],
   "source": [
    "print(A_second_loop == A_first_loop)\n",
    "print(A_first_loop)\n",
    "print(A_second_loop)"
   ]
  },
  {
   "cell_type": "markdown",
   "metadata": {},
   "source": [
    "## Zweite Schleife"
   ]
  },
  {
   "cell_type": "code",
   "execution_count": 23,
   "metadata": {},
   "outputs": [],
   "source": [
    "# names of variables here vs in paper\n",
    "    # displacement = theta\n",
    "    # length = |theta|\n",
    "    # delta = delta\n",
    "    # distance = |delta|\n",
    "    # force = k\n",
    "\n",
    "# every nodes \"movement\" or displacement gets describet by an tuple (x, y) \n",
    "displacement = torch.zeros((graph.N, 2))\n",
    "for iteration in range(N):\n",
    "    # reset displacement\n",
    "    displacement *= 0\n",
    "    # loop over rows/nodes\n",
    "    for i in range(A.shape[0]):\n",
    "        # difference between this row's node position and all others\n",
    "        delta = positions - positions[i]\n",
    "        # distance between the nodes\n",
    "        distance = torch.sqrt((delta**2).sum(dim=1))\n",
    "        # enforce minimum distance of 0.01\n",
    "        distance = torch.where(distance < 0.01, 0.01, distance)\n",
    "        # calculate displacement of node i\n",
    "        displacement[i] += (delta/distance.view(-1,1) * (A[i] * distance**2 / force -  force**2 / distance).view(-1,1)).sum(dim=0)\n",
    "    # get length of displacement\n",
    "    length = torch.sqrt((displacement**2).sum(dim=1))\n",
    "    # enforce minimum length of 0.01\n",
    "    length = torch.where(length < 0.01, 0.1, length)\n",
    "    # add temperature\n",
    "    length_with_temp = torch.clamp(length, max=t)\n",
    "    # update positions\n",
    "    positions += displacement / length.view(-1,1) * length_with_temp.view(-1,1)\n",
    "    # cool temperature\n",
    "    t -= dt\n",
    "\n",
    "positions_first_loop = positions"
   ]
  },
  {
   "cell_type": "markdown",
   "metadata": {},
   "source": [
    "###  Alternative 2. Schleife"
   ]
  },
  {
   "cell_type": "code",
   "execution_count": 24,
   "metadata": {},
   "outputs": [],
   "source": [
    "# only now for testing: reinitialize\n",
    "positions = initial_positions\n",
    "t=0.1\n",
    "\n",
    "delta = torch.zeros((positions.shape[0], positions.shape[0], positions.shape[1]))\n",
    "# the inscrutable (but fast) version\n",
    "for iteration in pp.tqdm(range(N)):\n",
    "    # matrix of difference between points\n",
    "    delta = positions[torch.newaxis, :, :] - positions[:, torch.newaxis, :]#tauschen?\n",
    "    # distance between points\n",
    "    distance = torch.linalg.norm(delta, dim=-1)\n",
    "    # enforce minimum distance of 0.01\n",
    "    torch.clip(distance, 0.01, None, out=distance)\n",
    "    # calculate displacement of all nodes\n",
    "    displacement = torch.einsum('ijk,ij->ik',\n",
    "                            delta,\n",
    "                            ( A * distance / force - force**2 / distance**2))\n",
    "    # calculate length of displacements\n",
    "    length = torch.linalg.norm(displacement, dim=-1)\n",
    "    # enforce minimum length of 0.01\n",
    "    length = torch.where(length < 0.01, 0.1, length)\n",
    "    # add temperature\n",
    "    length_with_temp = torch.clamp(length, max=t)\n",
    "    # calculate the change of the postionions\n",
    "    delta_positions = torch.einsum('ij,i->ij', displacement, length_with_temp / length)\n",
    "    # update positions\n",
    "    positions += delta_positions\n",
    "    # cool temperature\n",
    "    t -= dt\n",
    "   \n",
    "positions_second_loop = positions"
   ]
  },
  {
   "cell_type": "markdown",
   "metadata": {},
   "source": [
    "\n",
    "\n",
    "## Berechnung der Verschiebung aller Knoten\n",
    "\n",
    "Die Verschiebung (`displacement`) wird mithilfe eines Einsum-Produkts berechnet:\n",
    "\n",
    "```python\n",
    "displacement = torch.einsum('ijk,ij->ik', delta, \n",
    "                            (A * distance / force - force**2 / distance**2))\n",
    "```\n",
    "\n",
    "### Definition von (`delta`)\n",
    "\n",
    "`delta` ist definiert als eine 3D-Matrix der Form:\n",
    "\n",
    "`delta` = \n",
    "\\begin{bmatrix}\n",
    "  \\begin{bmatrix}\n",
    "    \\text{pos}[1] - \\text{pos}[1] \\\\\n",
    "    \\text{pos}[2] - \\text{pos}[1] \\\\\n",
    "    \\text{pos}[3] - \\text{pos}[1] \\\\\n",
    "    \\vdots \\\\\n",
    "    \\text{pos}[n] - \\text{pos}[1] \\\\\n",
    "  \\end{bmatrix}\n",
    "  & \n",
    "  \\begin{bmatrix}\n",
    "    \\text{pos}[1] - \\text{pos}[2] \\\\\n",
    "    \\text{pos}[2] - \\text{pos}[2] \\\\\n",
    "    \\text{pos}[3] - \\text{pos}[2] \\\\\n",
    "    \\vdots \\\\\n",
    "    \\text{pos}[n] - \\text{pos}[2] \\\\\n",
    "  \\end{bmatrix}\n",
    "  &\n",
    "  \\cdots\n",
    "  &\n",
    "  \\begin{bmatrix}\n",
    "    \\text{pos}[1] - \\text{pos}[n] \\\\\n",
    "    \\text{pos}[2] - \\text{pos}[n] \\\\\n",
    "    \\text{pos}[3] - \\text{pos}[n] \\\\\n",
    "    \\vdots \\\\\n",
    "    \\text{pos}[n] - \\text{pos}[n] \\\\\n",
    "  \\end{bmatrix}\n",
    "\\end{bmatrix}\n",
    "\n",
    "Jeder hier dargestellte Block berechnet sich dabei durch ```positions - positions[i]```\n",
    "\n",
    "### Form des 3. Parameters\n",
    "\n",
    "Der Ausdruck\n",
    "\n",
    "$\\text{A} \\cdot \\frac{\\text{distance}}{\\text{force}} - \\frac{\\text{force}^2}{\\text{distance}^2}$\n",
    "\n",
    "ist eine $n \\times n$-Matrix.\n",
    "\n",
    "### Elementweise Multiplikation\n",
    "\n",
    "Beide Werte aller $j$ Zeilen der $j \\times k$-Blöcke ($i$ stück) aus ```delta```, berechnet durch ```positions - positions[i]```, werden mit dem jeweiligen Wert aus ```A[i, j]``` elementweise multipliziert. Danach wird über den Index ```j``` summiert, also über die Zeilen der Blöcke.\n",
    "\n",
    "## Berechnung der Änderung der Positionen\n",
    "\n",
    "Die Änderung der Positionen wird berechnet durch:\n",
    "\n",
    "```python\n",
    "delta_positions = torch.einsum('ij,ij->ij', displacement, length_with_temp / length)\n",
    "```\n",
    "\n",
    "```delta_positions``` ist eine $ n \\times 2 $-Matrix. Die $x$- und $y$-Koordinaten jeder Verschiebung werden mit dem entsprechenden Skalar aus der $n \\times 1$-Matrix $\\frac{\\text{length\\_with\\_temp}}{\\text{length}}$ multipliziert.\n",
    "\n"
   ]
  },
  {
   "cell_type": "markdown",
   "metadata": {},
   "source": [
    "## Plot"
   ]
  },
  {
   "cell_type": "code",
   "execution_count": 25,
   "metadata": {},
   "outputs": [
    {
     "name": "stdout",
     "output_type": "stream",
     "text": [
      "a\n",
      "b\n",
      "c\n",
      "d\n",
      "e\n",
      "f\n",
      "{'a': [-5.314183712005615, 6.67336368560791], 'b': [-5.930084228515625, 5.946898937225342], 'c': [-4.533502101898193, 5.749594688415527], 'd': [-2.692155361175537, 5.397101879119873], 'e': [-1.9502782821655273, -8.877910614013672], 'f': [-1.3009891510009766, -9.336868286132812]}\n"
     ]
    },
    {
     "data": {
      "image/png": "[encoded data removed]",
      "text/plain": [
       "<Figure size 640x480 with 1 Axes>"
      ]
     },
     "metadata": {},
     "output_type": "display_data"
    },
    {
     "data": {
      "text/plain": [
       "<pathpyG.visualisations.network_plots.StaticNetworkPlot at 0x7fff8434a4d0>"
      ]
     },
     "execution_count": 25,
     "metadata": {},
     "output_type": "execute_result"
    }
   ],
   "source": [
    "layout = {}\n",
    "for node in graph.nodes:\n",
    "    print(node)\n",
    "    layout[node] = positions_first_loop[graph.mapping.to_idx(node)].tolist()\n",
    "print(layout)    \n",
    "pp.plot(mo_model.layers[1], backend='matplotlib', layout=layout)"
   ]
  },
  {
   "cell_type": "code",
   "execution_count": 26,
   "metadata": {},
   "outputs": [
    {
     "name": "stdout",
     "output_type": "stream",
     "text": [
      "a\n",
      "b\n",
      "c\n",
      "d\n",
      "e\n",
      "f\n",
      "{'a': [-5.314183712005615, 6.67336368560791], 'b': [-5.930084228515625, 5.946898937225342], 'c': [-4.533502101898193, 5.749594688415527], 'd': [-2.692155361175537, 5.397101879119873], 'e': [-1.9502782821655273, -8.877910614013672], 'f': [-1.3009891510009766, -9.336868286132812]}\n"
     ]
    },
    {
     "data": {
      "image/png": "[encoded data removed]",
      "text/plain": [
       "<Figure size 640x480 with 1 Axes>"
      ]
     },
     "metadata": {},
     "output_type": "display_data"
    },
    {
     "data": {
      "text/plain": [
       "<pathpyG.visualisations.network_plots.StaticNetworkPlot at 0x7fff6c9f1990>"
      ]
     },
     "execution_count": 26,
     "metadata": {},
     "output_type": "execute_result"
    }
   ],
   "source": [
    "layout = {}\n",
    "for node in graph.nodes:\n",
    "    print(node)\n",
    "    layout[node] = positions_second_loop[graph.mapping.to_idx(node)].tolist()\n",
    "print(layout)    \n",
    "pp.plot(mo_model.layers[1], backend='matplotlib', layout=layout)"
   ]
  }
 ],
 "metadata": {
  "kernelspec": {
   "display_name": "base",
   "language": "python",
   "name": "python3"
  },
  "language_info": {
   "codemirror_mode": {
    "name": "ipython",
    "version": 3
   },
   "file_extension": ".py",
   "mimetype": "text/x-python",
   "name": "python",
   "nbconvert_exporter": "python",
   "pygments_lexer": "ipython3",
   "version": "3.11.9"
  }
 },
 "nbformat": 4,
 "nbformat_minor": 2
}
