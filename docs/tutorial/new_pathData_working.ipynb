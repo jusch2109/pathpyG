{
 "cells": [
  {
   "cell_type": "code",
   "execution_count": 1,
   "metadata": {},
   "outputs": [],
   "source": [
    "from typing import Optional\n",
    "\n",
    "from tqdm import trange\n",
    "import torch\n",
    "from torch import Tensor\n",
    "from torch_geometric.data import Data\n",
    "from torch_geometric.loader import DataLoader\n",
    "from torch_geometric.nn import MessagePassing\n",
    "from torch_geometric.experimental import disable_dynamic_shapes\n",
    "from torch_geometric.nn.aggr import Aggregation\n",
    "from torch_geometric.utils import coalesce, degree, cumsum\n",
    "from torch_geometric import EdgeIndex\n",
    "\n",
    "import pathpyG as pp\n",
    "pp.config['torch']['device'] = 'cuda'"
   ]
  },
  {
   "cell_type": "code",
   "execution_count": 2,
   "metadata": {},
   "outputs": [
    {
     "name": "stdout",
     "output_type": "stream",
     "text": [
      "DAGData with 2 dags with total weight 3.0\n"
     ]
    }
   ],
   "source": [
    "# Example with walks as node sequences\n",
    "g = pp.Graph.from_edge_list([('a', 'b'), ('b', 'c'), ('a', 'c')])\n",
    "dags = pp.DAGData(mapping = g.mapping)\n",
    "\n",
    "dags.append_walk(('a', 'b', 'c'), weight=1.0)\n",
    "dags.append_walk(('a', 'c'), weight = 2.0)\n",
    "print(dags)"
   ]
  },
  {
   "cell_type": "code",
   "execution_count": 3,
   "metadata": {},
   "outputs": [
    {
     "name": "stdout",
     "output_type": "stream",
     "text": [
      "DAGData with 3 dags with total weight 3.0\n"
     ]
    }
   ],
   "source": [
    "# Example with walks as edge indices (with no mapping)\n",
    "dags = pp.DAGData()\n",
    "dags.append_dag(torch.tensor([[3,0,1],[0,1,2]]))\n",
    "dags.append_dag(torch.tensor([[1,0,2],[0,2,0]]))\n",
    "dags.append_dag(torch.tensor([[0,1],[1,2]]))\n",
    "print(dags)"
   ]
  },
  {
   "cell_type": "code",
   "execution_count": 4,
   "metadata": {},
   "outputs": [
    {
     "name": "stdout",
     "output_type": "stream",
     "text": [
      "DAGData with 2 dags with total weight 2.0\n"
     ]
    }
   ],
   "source": [
    "# Example with mix of walks or dags\n",
    "dags = pp.DAGData(mapping = g.mapping)\n",
    "\n",
    "dags.append_dag(torch.tensor([[0,0,1],[1,2,2]]))\n",
    "dags.append_walk(('a', 'b', 'c'))\n",
    "print(dags)"
   ]
  },
  {
   "cell_type": "code",
   "execution_count": 5,
   "metadata": {},
   "outputs": [
    {
     "name": "stdout",
     "output_type": "stream",
     "text": [
      "DAGData with 61748 dags with total weight 2147865.0\n"
     ]
    }
   ],
   "source": [
    "# Real-world example\n",
    "dags = pp.DAGData.from_ngram('../data/tube_paths_train.ngram')\n",
    "print(dags)"
   ]
  },
  {
   "cell_type": "code",
   "execution_count": 6,
   "metadata": {},
   "outputs": [],
   "source": [
    "m = pp.MultiOrderModel.from_DAGs(dags, max_order=10)"
   ]
  },
  {
   "cell_type": "code",
   "execution_count": 7,
   "metadata": {},
   "outputs": [
    {
     "name": "stdout",
     "output_type": "stream",
     "text": [
      "Directed graph with 7053 nodes and 7473 edges\n",
      "\n",
      "Node attributes\n",
      "\tnode_sequences\t\t<class 'torch.Tensor'> -> torch.Size([7053, 10])\n",
      "\n",
      "Edge attributes\n",
      "\tedge_weights\t\t<class 'torch.Tensor'> -> torch.Size([7473])\n",
      "\n",
      "Graph attributes\n",
      "\tnum_nodes\t\t<class 'int'>\n",
      "\n"
     ]
    }
   ],
   "source": [
    "print(m.layers[10])"
   ]
  },
  {
   "cell_type": "code",
   "execution_count": null,
   "metadata": {},
   "outputs": [],
   "source": [
    "pp.plot(m.layers[10], node_label=list(map(str, m.layers[1].data.node_sequences.tolist())))"
   ]
  },
  {
   "cell_type": "code",
   "execution_count": 8,
   "metadata": {},
   "outputs": [
    {
     "data": {
      "text/plain": [
       "['Southwark',\n",
       " 'Waterloo',\n",
       " 'Westminster',\n",
       " 'Green Park',\n",
       " 'Bond Street',\n",
       " 'Baker Street',\n",
       " 'Finchley Road',\n",
       " 'HarrowOnTheHill',\n",
       " 'Moor Park',\n",
       " 'Northwood']"
      ]
     },
     "execution_count": 8,
     "metadata": {},
     "output_type": "execute_result"
    }
   ],
   "source": [
    "dags.map_node_seq(m.layers[10].data.node_sequences[5].tolist())"
   ]
  },
  {
   "cell_type": "code",
   "execution_count": 9,
   "metadata": {},
   "outputs": [
    {
     "name": "stdout",
     "output_type": "stream",
     "text": [
      "EdgeIndex([[  0,   0,   0,  ..., 644, 644, 645],\n",
      "           [  3,   4,   5,  ..., 504, 505, 582]], device='cuda:0',\n",
      "          sparse_size=(646, 646), nnz=1139, sort_order=row)\n"
     ]
    }
   ],
   "source": [
    "print(m.layers[2].data.edge_index)"
   ]
  },
  {
   "cell_type": "code",
   "execution_count": 10,
   "metadata": {},
   "outputs": [
    {
     "name": "stdout",
     "output_type": "stream",
     "text": [
      "tensor([ 279., 3875.,   45.,  ...,    5.,    5.,    5.], device='cuda:0')\n"
     ]
    }
   ],
   "source": [
    "print(m.layers[2].data.edge_weights)"
   ]
  },
  {
   "cell_type": "code",
   "execution_count": 11,
   "metadata": {},
   "outputs": [
    {
     "name": "stdout",
     "output_type": "stream",
     "text": [
      "tensor([[  0,   1],\n",
      "        [  0, 115],\n",
      "        [  1,   0],\n",
      "        ...,\n",
      "        [265, 130],\n",
      "        [266, 194],\n",
      "        [266, 235]], device='cuda:0')\n"
     ]
    }
   ],
   "source": [
    "print(m.layers[2].data.node_sequences)"
   ]
  },
  {
   "cell_type": "code",
   "execution_count": null,
   "metadata": {},
   "outputs": [],
   "source": []
  }
 ],
 "metadata": {
  "kernelspec": {
   "display_name": "Python 3 (ipykernel)",
   "language": "python",
   "name": "python3"
  },
  "language_info": {
   "codemirror_mode": {
    "name": "ipython",
    "version": 3
   },
   "file_extension": ".py",
   "mimetype": "text/x-python",
   "name": "python",
   "nbconvert_exporter": "python",
   "pygments_lexer": "ipython3",
   "version": "3.10.13"
  }
 },
 "nbformat": 4,
 "nbformat_minor": 4
}
