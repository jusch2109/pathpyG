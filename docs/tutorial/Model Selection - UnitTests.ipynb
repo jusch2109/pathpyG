{
 "cells": [
  {
   "cell_type": "code",
   "execution_count": 1,
   "metadata": {},
   "outputs": [],
   "source": [
    "import torch\n",
    "from torch_geometric.utils import scatter\n",
    "\n",
    "import pathpyG as pp\n",
    "pp.config['torch']['device'] = 'cpu'"
   ]
  },
  {
   "cell_type": "markdown",
   "metadata": {},
   "source": [
    "TODOs:\n",
    "- turn into class functions: (the ones needed to estimate order)\n",
    "- add as utils (computing of weigthed outdegrees and transition probabobilities)\n",
    "- unit tests\n"
   ]
  },
  {
   "cell_type": "code",
   "execution_count": 51,
   "metadata": {},
   "outputs": [
    {
     "data": {
      "text/plain": [
       "2"
      ]
     },
     "execution_count": 51,
     "metadata": {},
     "output_type": "execute_result"
    }
   ],
   "source": [
    "# dag_data = pp.DAGData(pp.IndexMap(list(\"abcde\")))\n",
    "dag_data = pp.DAGData(pp.IndexMap(list(\"01234\")))\n",
    "\n",
    "# walk_1  =('a','b','c','d','e','c','b','a','c','d','e','c','e','d','c','a')\n",
    "# walk_2  =('a','b','c','d','e','c')\n",
    "# dag_data.append_walk(walk_1)\n",
    "# dag_data.append_walk(walk_2)\n",
    "\n",
    "\n",
    "dag_data.append_walk(list(\"0230230230230\"), weight=2)\n",
    "dag_data.append_walk(list(\"1241241241241\"), weight=2)\n",
    "# dag_data.append_walk(list(\"0430241\"), weight=1)\n",
    "\n",
    "m = pp.MultiOrderModel.from_DAGs(dag_data, max_order=5)\n",
    "\n",
    "m.estimate_order(dag_data, max_order=5)"
   ]
  },
  {
   "cell_type": "code",
   "execution_count": 5,
   "metadata": {},
   "outputs": [],
   "source": [
    "from torch_geometric.loader import DataLoader\n",
    "dag_graph = next(iter(DataLoader(dag_data.dags, batch_size=len(dag_data.dags)))).to(pp.config[\"torch\"][\"device\"])"
   ]
  },
  {
   "cell_type": "code",
   "execution_count": 41,
   "metadata": {},
   "outputs": [],
   "source": [
    "walk_data = pp.DAGData(pp.IndexMap(list(\"abcd\")))\n",
    "walk_data.append_walk((\"a\",\"b\",\"c\",\"d\"))\n",
    "m = pp.MultiOrderModel.from_DAGs(walk_data, max_order=2)\n",
    "# m.get_mon_dof(assumption=\"paths\", max_order=0)"
   ]
  },
  {
   "cell_type": "code",
   "execution_count": 45,
   "metadata": {},
   "outputs": [
    {
     "name": "stdout",
     "output_type": "stream",
     "text": [
      "0\n",
      "4\n",
      "1\n",
      "5\n",
      "2\n"
     ]
    },
    {
     "ename": "IndexError",
     "evalue": "index 4 is out of bounds for dimension 0 with size 4",
     "output_type": "error",
     "traceback": [
      "\u001b[0;31m---------------------------------------------------------------------------\u001b[0m",
      "\u001b[0;31mIndexError\u001b[0m                                Traceback (most recent call last)",
      "Cell \u001b[0;32mIn[45], line 11\u001b[0m\n\u001b[1;32m      9\u001b[0m \u001b[38;5;28;01mfor\u001b[39;00m order \u001b[38;5;129;01min\u001b[39;00m \u001b[38;5;28mrange\u001b[39m(max_order\u001b[38;5;241m+\u001b[39m\u001b[38;5;241m1\u001b[39m): \n\u001b[1;32m     10\u001b[0m     \u001b[38;5;28mprint\u001b[39m(order)\n\u001b[0;32m---> 11\u001b[0m     \u001b[38;5;28mprint\u001b[39m(\u001b[43mm\u001b[49m\u001b[38;5;241;43m.\u001b[39;49m\u001b[43mget_mon_dof\u001b[49m\u001b[43m(\u001b[49m\u001b[43massumption\u001b[49m\u001b[38;5;241;43m=\u001b[39;49m\u001b[38;5;124;43m\"\u001b[39;49m\u001b[38;5;124;43mpaths\u001b[39;49m\u001b[38;5;124;43m\"\u001b[39;49m\u001b[43m,\u001b[49m\u001b[43m \u001b[49m\u001b[43mmax_order\u001b[49m\u001b[38;5;241;43m=\u001b[39;49m\u001b[43morder\u001b[49m\u001b[43m)\u001b[49m)\n",
      "File \u001b[0;32m/workspaces/pathpyG/src/pathpyG/core/MultiOrderModel.py:331\u001b[0m, in \u001b[0;36mMultiOrderModel.get_mon_dof\u001b[0;34m(self, max_order, assumption)\u001b[0m\n\u001b[1;32m    329\u001b[0m     edge_index \u001b[38;5;241m=\u001b[39m \u001b[38;5;28mself\u001b[39m\u001b[38;5;241m.\u001b[39mlayers[\u001b[38;5;241m1\u001b[39m]\u001b[38;5;241m.\u001b[39mdata\u001b[38;5;241m.\u001b[39medge_index\n\u001b[1;32m    330\u001b[0m \u001b[38;5;28;01melse\u001b[39;00m:\n\u001b[0;32m--> 331\u001b[0m     edge_index \u001b[38;5;241m=\u001b[39m \u001b[38;5;28;43mself\u001b[39;49m\u001b[38;5;241;43m.\u001b[39;49m\u001b[43mlift_order_edge_index\u001b[49m\u001b[43m(\u001b[49m\u001b[43medge_index\u001b[49m\u001b[43m,\u001b[49m\u001b[43m \u001b[49m\u001b[43mnum_len_k_paths\u001b[49m\u001b[43m)\u001b[49m\n\u001b[1;32m    332\u001b[0m num_len_k_paths \u001b[38;5;241m=\u001b[39m edge_index\u001b[38;5;241m.\u001b[39mshape[\u001b[38;5;241m1\u001b[39m]  \u001b[38;5;66;03m# Number of paths of length k\u001b[39;00m\n\u001b[1;32m    333\u001b[0m dof \u001b[38;5;241m+\u001b[39m\u001b[38;5;241m=\u001b[39m num_len_k_paths\n",
      "File \u001b[0;32m/workspaces/pathpyG/src/pathpyG/core/MultiOrderModel.py:64\u001b[0m, in \u001b[0;36mMultiOrderModel.lift_order_edge_index\u001b[0;34m(edge_index, num_nodes)\u001b[0m\n\u001b[1;32m     61\u001b[0m outdegree \u001b[38;5;241m=\u001b[39m degree(edge_index[\u001b[38;5;241m0\u001b[39m], dtype\u001b[38;5;241m=\u001b[39mtorch\u001b[38;5;241m.\u001b[39mlong, num_nodes\u001b[38;5;241m=\u001b[39mnum_nodes)\n\u001b[1;32m     62\u001b[0m \u001b[38;5;66;03m# Map outdegree to each destination node to create an edge for each combination\u001b[39;00m\n\u001b[1;32m     63\u001b[0m \u001b[38;5;66;03m# of incoming and outgoing edges for each destination node\u001b[39;00m\n\u001b[0;32m---> 64\u001b[0m outdegree_per_dst \u001b[38;5;241m=\u001b[39m \u001b[43moutdegree\u001b[49m\u001b[43m[\u001b[49m\u001b[43medge_index\u001b[49m\u001b[43m[\u001b[49m\u001b[38;5;241;43m1\u001b[39;49m\u001b[43m]\u001b[49m\u001b[43m]\u001b[49m\n\u001b[1;32m     65\u001b[0m num_new_edges \u001b[38;5;241m=\u001b[39m outdegree_per_dst\u001b[38;5;241m.\u001b[39msum()\n\u001b[1;32m     66\u001b[0m \u001b[38;5;66;03m# Create sources of the new higher-order edges\u001b[39;00m\n",
      "\u001b[0;31mIndexError\u001b[0m: index 4 is out of bounds for dimension 0 with size 4"
     ]
    }
   ],
   "source": [
    "# DOF computation fails like this...\n",
    "toy_paths = pp.DAGData(pp.IndexMap(list(\"abcde\")))\n",
    "toy_paths.append_walk((\"a\",\"c\",\"d\"))\n",
    "toy_paths.append_walk((\"b\",\"c\",\"e\"))\n",
    "toy_paths.append_walk((\"a\",\"c\",\"e\"))\n",
    "toy_paths.append_walk((\"b\",\"c\",\"d\"))\n",
    "max_order = 2\n",
    "m = pp.MultiOrderModel.from_DAGs(toy_paths, max_order=max_order, mode = \"propagation\")\n",
    "for order in range(max_order+1): \n",
    "    print(order)\n",
    "    print(m.get_mon_dof(assumption=\"paths\", max_order=order))"
   ]
  },
  {
   "cell_type": "code",
   "execution_count": 46,
   "metadata": {},
   "outputs": [],
   "source": [
    "dag_data = pp.DAGData(pp.IndexMap(list(\"abcde\")))\n",
    "\n",
    "dag_data.append_walk(tuple(\"acd\"))\n",
    "dag_data.append_walk(tuple(\"bce\"))\n",
    "\n",
    "m = pp.MultiOrderModel.from_DAGs(dag_data, max_order=4)\n",
    "\n",
    "\n",
    "def test_dof():\n",
    "    line_data = pp.DAGData(pp.IndexMap(list(\"abcd\")))\n",
    "    line_data.append_walk((\"a\",\"b\",\"c\",\"d\"))\n",
    "    max_order = 1 #4\n",
    "    m = pp.MultiOrderModel.from_DAGs(line_data, max_order=1)\n",
    "    for o in range(max_order+1):\n",
    "        assert m.get_mon_dof(assumption=\"paths\", max_order=o) == 3\n",
    "    \n",
    "\n",
    "    toy_paths_ho = pp.DAGData(pp.IndexMap(list(\"abcde\")))\n",
    "    toy_paths_ho.append_walk((\"a\",\"c\",\"d\"))\n",
    "    toy_paths_ho.append_walk((\"b\",\"c\",\"e\"))\n",
    "    max_order = 2\n",
    "    m = pp.MultiOrderModel.from_DAGs(toy_paths_ho, max_order=max_order, mode = \"propagation\")\n",
    "    assert m.get_mon_dof(assumption=\"paths\", max_order=0) == 4\n",
    "    assert m.get_mon_dof(assumption=\"paths\", max_order=1) == 5\n",
    "    assert m.get_mon_dof(assumption=\"paths\", max_order=2) == 7\n",
    "\n",
    "\n",
    "def test_likelihood_ratio_test():\n",
    "    pass\n",
    "\n",
    "def test_estimate_order():\n",
    "    pass"
   ]
  },
  {
   "cell_type": "code",
   "execution_count": 49,
   "metadata": {},
   "outputs": [
    {
     "ename": "IndexError",
     "evalue": "index 9 is out of bounds for dimension 0 with size 8",
     "output_type": "error",
     "traceback": [
      "\u001b[0;31m---------------------------------------------------------------------------\u001b[0m",
      "\u001b[0;31mIndexError\u001b[0m                                Traceback (most recent call last)",
      "Cell \u001b[0;32mIn[49], line 44\u001b[0m\n\u001b[1;32m     35\u001b[0m     \u001b[38;5;28;01massert\u001b[39;00m np\u001b[38;5;241m.\u001b[39misclose(\n\u001b[1;32m     36\u001b[0m         m\u001b[38;5;241m.\u001b[39mget_mon_log_likelihood(dag_graph, max_order\u001b[38;5;241m=\u001b[39m\u001b[38;5;241m1\u001b[39m),\n\u001b[1;32m     37\u001b[0m         np\u001b[38;5;241m.\u001b[39mlog(\u001b[38;5;241m2\u001b[39m\u001b[38;5;241m/\u001b[39m\u001b[38;5;241m12\u001b[39m) \u001b[38;5;241m*\u001b[39m \u001b[38;5;241m4\u001b[39m \u001b[38;5;241m+\u001b[39m \u001b[38;5;241m0\u001b[39m \u001b[38;5;241m+\u001b[39m \u001b[38;5;241m4\u001b[39m \u001b[38;5;241m*\u001b[39m np\u001b[38;5;241m.\u001b[39mlog(\u001b[38;5;241m1\u001b[39m\u001b[38;5;241m/\u001b[39m\u001b[38;5;241m2\u001b[39m)\n\u001b[1;32m     38\u001b[0m         )\n\u001b[1;32m     39\u001b[0m     \u001b[38;5;28;01massert\u001b[39;00m np\u001b[38;5;241m.\u001b[39misclose(\n\u001b[1;32m     40\u001b[0m         m\u001b[38;5;241m.\u001b[39mget_mon_log_likelihood(dag_graph, max_order\u001b[38;5;241m=\u001b[39m\u001b[38;5;241m2\u001b[39m),\n\u001b[1;32m     41\u001b[0m         np\u001b[38;5;241m.\u001b[39mlog(\u001b[38;5;241m1\u001b[39m\u001b[38;5;241m/\u001b[39m\u001b[38;5;241m6\u001b[39m) \u001b[38;5;241m*\u001b[39m \u001b[38;5;241m4\u001b[39m \u001b[38;5;241m+\u001b[39m \u001b[38;5;241m0\u001b[39m \u001b[38;5;241m+\u001b[39m \u001b[38;5;241m4\u001b[39m \u001b[38;5;241m*\u001b[39m np\u001b[38;5;241m.\u001b[39mlog(\u001b[38;5;241m1\u001b[39m\u001b[38;5;241m/\u001b[39m\u001b[38;5;241m2\u001b[39m)\n\u001b[1;32m     42\u001b[0m         )\n\u001b[0;32m---> 44\u001b[0m \u001b[43mtest_log_likelihood\u001b[49m\u001b[43m(\u001b[49m\u001b[43m)\u001b[49m\n",
      "Cell \u001b[0;32mIn[49], line 32\u001b[0m, in \u001b[0;36mtest_log_likelihood\u001b[0;34m()\u001b[0m\n\u001b[1;32m     29\u001b[0m m \u001b[38;5;241m=\u001b[39m pp\u001b[38;5;241m.\u001b[39mMultiOrderModel\u001b[38;5;241m.\u001b[39mfrom_DAGs(toy_paths, max_order\u001b[38;5;241m=\u001b[39mmax_order, mode \u001b[38;5;241m=\u001b[39m \u001b[38;5;124m\"\u001b[39m\u001b[38;5;124mpropagation\u001b[39m\u001b[38;5;124m\"\u001b[39m)\n\u001b[1;32m     30\u001b[0m dag_graph \u001b[38;5;241m=\u001b[39m \u001b[38;5;28mnext\u001b[39m(\u001b[38;5;28miter\u001b[39m(DataLoader(toy_paths\u001b[38;5;241m.\u001b[39mdags, batch_size\u001b[38;5;241m=\u001b[39m\u001b[38;5;28mlen\u001b[39m(toy_paths\u001b[38;5;241m.\u001b[39mdags))))\u001b[38;5;241m.\u001b[39mto(pp\u001b[38;5;241m.\u001b[39mconfig[\u001b[38;5;124m\"\u001b[39m\u001b[38;5;124mtorch\u001b[39m\u001b[38;5;124m\"\u001b[39m][\u001b[38;5;124m\"\u001b[39m\u001b[38;5;124mdevice\u001b[39m\u001b[38;5;124m\"\u001b[39m])\n\u001b[1;32m     31\u001b[0m \u001b[38;5;28;01massert\u001b[39;00m np\u001b[38;5;241m.\u001b[39misclose(\n\u001b[0;32m---> 32\u001b[0m     \u001b[43mm\u001b[49m\u001b[38;5;241;43m.\u001b[39;49m\u001b[43mget_mon_log_likelihood\u001b[49m\u001b[43m(\u001b[49m\u001b[43mdag_graph\u001b[49m\u001b[43m,\u001b[49m\u001b[43m \u001b[49m\u001b[43mmax_order\u001b[49m\u001b[38;5;241;43m=\u001b[39;49m\u001b[38;5;241;43m0\u001b[39;49m\u001b[43m)\u001b[49m, \u001b[38;5;66;03m# fails already at computing log_lh here\u001b[39;00m\n\u001b[1;32m     33\u001b[0m     np\u001b[38;5;241m.\u001b[39mlog(\u001b[38;5;241m2\u001b[39m\u001b[38;5;241m/\u001b[39m\u001b[38;5;241m12\u001b[39m) \u001b[38;5;241m*\u001b[39m \u001b[38;5;241m8\u001b[39m \u001b[38;5;241m+\u001b[39m np\u001b[38;5;241m.\u001b[39mlog(\u001b[38;5;241m4\u001b[39m\u001b[38;5;241m/\u001b[39m\u001b[38;5;241m12\u001b[39m) \u001b[38;5;241m*\u001b[39m \u001b[38;5;241m4\u001b[39m\n\u001b[1;32m     34\u001b[0m     )\n\u001b[1;32m     35\u001b[0m \u001b[38;5;28;01massert\u001b[39;00m np\u001b[38;5;241m.\u001b[39misclose(\n\u001b[1;32m     36\u001b[0m     m\u001b[38;5;241m.\u001b[39mget_mon_log_likelihood(dag_graph, max_order\u001b[38;5;241m=\u001b[39m\u001b[38;5;241m1\u001b[39m),\n\u001b[1;32m     37\u001b[0m     np\u001b[38;5;241m.\u001b[39mlog(\u001b[38;5;241m2\u001b[39m\u001b[38;5;241m/\u001b[39m\u001b[38;5;241m12\u001b[39m) \u001b[38;5;241m*\u001b[39m \u001b[38;5;241m4\u001b[39m \u001b[38;5;241m+\u001b[39m \u001b[38;5;241m0\u001b[39m \u001b[38;5;241m+\u001b[39m \u001b[38;5;241m4\u001b[39m \u001b[38;5;241m*\u001b[39m np\u001b[38;5;241m.\u001b[39mlog(\u001b[38;5;241m1\u001b[39m\u001b[38;5;241m/\u001b[39m\u001b[38;5;241m2\u001b[39m)\n\u001b[1;32m     38\u001b[0m     )\n\u001b[1;32m     39\u001b[0m \u001b[38;5;28;01massert\u001b[39;00m np\u001b[38;5;241m.\u001b[39misclose(\n\u001b[1;32m     40\u001b[0m     m\u001b[38;5;241m.\u001b[39mget_mon_log_likelihood(dag_graph, max_order\u001b[38;5;241m=\u001b[39m\u001b[38;5;241m2\u001b[39m),\n\u001b[1;32m     41\u001b[0m     np\u001b[38;5;241m.\u001b[39mlog(\u001b[38;5;241m1\u001b[39m\u001b[38;5;241m/\u001b[39m\u001b[38;5;241m6\u001b[39m) \u001b[38;5;241m*\u001b[39m \u001b[38;5;241m4\u001b[39m \u001b[38;5;241m+\u001b[39m \u001b[38;5;241m0\u001b[39m \u001b[38;5;241m+\u001b[39m \u001b[38;5;241m4\u001b[39m \u001b[38;5;241m*\u001b[39m np\u001b[38;5;241m.\u001b[39mlog(\u001b[38;5;241m1\u001b[39m\u001b[38;5;241m/\u001b[39m\u001b[38;5;241m2\u001b[39m)\n\u001b[1;32m     42\u001b[0m     )\n",
      "File \u001b[0;32m/workspaces/pathpyG/src/pathpyG/core/MultiOrderModel.py:432\u001b[0m, in \u001b[0;36mMultiOrderModel.get_mon_log_likelihood\u001b[0;34m(self, dag_graph, max_order)\u001b[0m\n\u001b[1;32m    429\u001b[0m llh \u001b[38;5;241m=\u001b[39m \u001b[38;5;241m0\u001b[39m\n\u001b[1;32m    431\u001b[0m \u001b[38;5;66;03m# Adding likelihood of zeroth order\u001b[39;00m\n\u001b[0;32m--> 432\u001b[0m llh \u001b[38;5;241m+\u001b[39m\u001b[38;5;241m=\u001b[39m \u001b[38;5;28;43mself\u001b[39;49m\u001b[38;5;241;43m.\u001b[39;49m\u001b[43mget_zeroth_order_log_likelihood\u001b[49m\u001b[43m(\u001b[49m\u001b[43mdag_graph\u001b[49m\u001b[43m)\u001b[49m\n\u001b[1;32m    434\u001b[0m \u001b[38;5;66;03m# Adding the likelihood for all the intermediate orders\u001b[39;00m\n\u001b[1;32m    435\u001b[0m \u001b[38;5;28;01mfor\u001b[39;00m order \u001b[38;5;129;01min\u001b[39;00m \u001b[38;5;28mrange\u001b[39m(\u001b[38;5;241m1\u001b[39m, max_order):\n",
      "File \u001b[0;32m/workspaces/pathpyG/src/pathpyG/core/MultiOrderModel.py:368\u001b[0m, in \u001b[0;36mMultiOrderModel.get_zeroth_order_log_likelihood\u001b[0;34m(self, dag_graph)\u001b[0m\n\u001b[1;32m    357\u001b[0m \u001b[38;5;250m\u001b[39m\u001b[38;5;124;03m\"\"\"\u001b[39;00m\n\u001b[1;32m    358\u001b[0m \u001b[38;5;124;03mCompute the zeroth order log likelihood.\u001b[39;00m\n\u001b[1;32m    359\u001b[0m \n\u001b[0;32m   (...)\u001b[0m\n\u001b[1;32m    364\u001b[0m \u001b[38;5;124;03m    float: Zeroth order log likelihood.\u001b[39;00m\n\u001b[1;32m    365\u001b[0m \u001b[38;5;124;03m\"\"\"\u001b[39;00m\n\u001b[1;32m    366\u001b[0m \u001b[38;5;66;03m# Get frequencies\u001b[39;00m\n\u001b[1;32m    367\u001b[0m \u001b[38;5;66;03m# TODO: put this tensor directly in dag_graph (intead of edge_weight) and remove the following line\u001b[39;00m\n\u001b[0;32m--> 368\u001b[0m frequencies \u001b[38;5;241m=\u001b[39m \u001b[43mdag_graph\u001b[49m\u001b[38;5;241;43m.\u001b[39;49m\u001b[43medge_weight\u001b[49m\u001b[43m[\u001b[49m\u001b[43mdag_graph\u001b[49m\u001b[38;5;241;43m.\u001b[39;49m\u001b[43mptr\u001b[49m\u001b[43m[\u001b[49m\u001b[43m:\u001b[49m\u001b[38;5;241;43m-\u001b[39;49m\u001b[38;5;241;43m1\u001b[39;49m\u001b[43m]\u001b[49m\u001b[43m]\u001b[49m\n\u001b[1;32m    370\u001b[0m \u001b[38;5;66;03m# Get ixs starting nodes\u001b[39;00m\n\u001b[1;32m    371\u001b[0m mask \u001b[38;5;241m=\u001b[39m torch\u001b[38;5;241m.\u001b[39mones(dag_graph\u001b[38;5;241m.\u001b[39mnum_nodes, dtype\u001b[38;5;241m=\u001b[39m\u001b[38;5;28mbool\u001b[39m)\n",
      "\u001b[0;31mIndexError\u001b[0m: index 9 is out of bounds for dimension 0 with size 8"
     ]
    }
   ],
   "source": [
    "import numpy as np\n",
    "def test_log_likelihood():\n",
    "    toy_paths_ho = pp.DAGData(pp.IndexMap(list(\"abcde\")))\n",
    "    toy_paths_ho.append_walk((\"a\",\"c\",\"d\"))\n",
    "    toy_paths_ho.append_walk((\"b\",\"c\",\"e\"))\n",
    "    max_order = 2\n",
    "    m = pp.MultiOrderModel.from_DAGs(toy_paths_ho, max_order=max_order, mode = \"propagation\")\n",
    "    dag_graph = next(iter(DataLoader(toy_paths_ho.dags, batch_size=len(toy_paths_ho.dags)))).to(pp.config[\"torch\"][\"device\"])\n",
    "    assert np.isclose(\n",
    "        m.get_mon_log_likelihood(dag_graph, max_order=0),\n",
    "        np.log(1/6) * 4 + np.log(2/6) * 2 \n",
    "        )\n",
    "    assert np.isclose(\n",
    "        m.get_mon_log_likelihood(dag_graph, max_order=1),\n",
    "        np.log(1/6) * 2 + 0 + 2 * np.log(1/2) \n",
    "        )\n",
    "    # assert np.isclose(\n",
    "    #     m.get_mon_log_likelihood(dag_graph, max_order=2)\n",
    "    #     ,np.log(1/6) * 2 + 0 + 0 \n",
    "    #     )\n",
    "    ################\n",
    "\n",
    "    toy_paths = pp.DAGData(pp.IndexMap(list(\"abcde\")))\n",
    "    toy_paths.append_walk((\"a\",\"c\",\"d\"))\n",
    "    toy_paths.append_walk((\"b\",\"c\",\"e\"))\n",
    "    toy_paths.append_walk((\"a\",\"c\",\"e\"))\n",
    "    toy_paths.append_walk((\"b\",\"c\",\"d\"))\n",
    "    max_order = 2\n",
    "    m = pp.MultiOrderModel.from_DAGs(toy_paths, max_order=max_order, mode = \"propagation\")\n",
    "    dag_graph = next(iter(DataLoader(toy_paths.dags, batch_size=len(toy_paths.dags)))).to(pp.config[\"torch\"][\"device\"])\n",
    "    assert np.isclose(\n",
    "        m.get_mon_log_likelihood(dag_graph, max_order=0), # fails already at computing log_lh here\n",
    "        np.log(2/12) * 8 + np.log(4/12) * 4\n",
    "        )\n",
    "    assert np.isclose(\n",
    "        m.get_mon_log_likelihood(dag_graph, max_order=1),\n",
    "        np.log(2/12) * 4 + 0 + 4 * np.log(1/2)\n",
    "        )\n",
    "    assert np.isclose(\n",
    "        m.get_mon_log_likelihood(dag_graph, max_order=2),\n",
    "        np.log(1/6) * 4 + 0 + 4 * np.log(1/2)\n",
    "        )\n",
    "    \n",
    "test_log_likelihood()\n"
   ]
  },
  {
   "cell_type": "code",
   "execution_count": 50,
   "metadata": {},
   "outputs": [
    {
     "ename": "IndexError",
     "evalue": "index 9 is out of bounds for dimension 0 with size 8",
     "output_type": "error",
     "traceback": [
      "\u001b[0;31m---------------------------------------------------------------------------\u001b[0m",
      "\u001b[0;31mIndexError\u001b[0m                                Traceback (most recent call last)",
      "Cell \u001b[0;32mIn[50], line 9\u001b[0m\n\u001b[1;32m      7\u001b[0m m \u001b[38;5;241m=\u001b[39m pp\u001b[38;5;241m.\u001b[39mMultiOrderModel\u001b[38;5;241m.\u001b[39mfrom_DAGs(toy_paths, max_order\u001b[38;5;241m=\u001b[39mmax_order, mode \u001b[38;5;241m=\u001b[39m \u001b[38;5;124m\"\u001b[39m\u001b[38;5;124mpropagation\u001b[39m\u001b[38;5;124m\"\u001b[39m)\n\u001b[1;32m      8\u001b[0m dag_graph \u001b[38;5;241m=\u001b[39m \u001b[38;5;28mnext\u001b[39m(\u001b[38;5;28miter\u001b[39m(DataLoader(toy_paths\u001b[38;5;241m.\u001b[39mdags, batch_size\u001b[38;5;241m=\u001b[39m\u001b[38;5;28mlen\u001b[39m(toy_paths\u001b[38;5;241m.\u001b[39mdags))))\u001b[38;5;241m.\u001b[39mto(pp\u001b[38;5;241m.\u001b[39mconfig[\u001b[38;5;124m\"\u001b[39m\u001b[38;5;124mtorch\u001b[39m\u001b[38;5;124m\"\u001b[39m][\u001b[38;5;124m\"\u001b[39m\u001b[38;5;124mdevice\u001b[39m\u001b[38;5;124m\"\u001b[39m])\n\u001b[0;32m----> 9\u001b[0m \u001b[43mm\u001b[49m\u001b[38;5;241;43m.\u001b[39;49m\u001b[43mget_mon_log_likelihood\u001b[49m\u001b[43m(\u001b[49m\u001b[43mdag_graph\u001b[49m\u001b[43m,\u001b[49m\u001b[43m \u001b[49m\u001b[43mmax_order\u001b[49m\u001b[38;5;241;43m=\u001b[39;49m\u001b[38;5;241;43m0\u001b[39;49m\u001b[43m)\u001b[49m\n",
      "File \u001b[0;32m/workspaces/pathpyG/src/pathpyG/core/MultiOrderModel.py:432\u001b[0m, in \u001b[0;36mMultiOrderModel.get_mon_log_likelihood\u001b[0;34m(self, dag_graph, max_order)\u001b[0m\n\u001b[1;32m    429\u001b[0m llh \u001b[38;5;241m=\u001b[39m \u001b[38;5;241m0\u001b[39m\n\u001b[1;32m    431\u001b[0m \u001b[38;5;66;03m# Adding likelihood of zeroth order\u001b[39;00m\n\u001b[0;32m--> 432\u001b[0m llh \u001b[38;5;241m+\u001b[39m\u001b[38;5;241m=\u001b[39m \u001b[38;5;28;43mself\u001b[39;49m\u001b[38;5;241;43m.\u001b[39;49m\u001b[43mget_zeroth_order_log_likelihood\u001b[49m\u001b[43m(\u001b[49m\u001b[43mdag_graph\u001b[49m\u001b[43m)\u001b[49m\n\u001b[1;32m    434\u001b[0m \u001b[38;5;66;03m# Adding the likelihood for all the intermediate orders\u001b[39;00m\n\u001b[1;32m    435\u001b[0m \u001b[38;5;28;01mfor\u001b[39;00m order \u001b[38;5;129;01min\u001b[39;00m \u001b[38;5;28mrange\u001b[39m(\u001b[38;5;241m1\u001b[39m, max_order):\n",
      "File \u001b[0;32m/workspaces/pathpyG/src/pathpyG/core/MultiOrderModel.py:368\u001b[0m, in \u001b[0;36mMultiOrderModel.get_zeroth_order_log_likelihood\u001b[0;34m(self, dag_graph)\u001b[0m\n\u001b[1;32m    357\u001b[0m \u001b[38;5;250m\u001b[39m\u001b[38;5;124;03m\"\"\"\u001b[39;00m\n\u001b[1;32m    358\u001b[0m \u001b[38;5;124;03mCompute the zeroth order log likelihood.\u001b[39;00m\n\u001b[1;32m    359\u001b[0m \n\u001b[0;32m   (...)\u001b[0m\n\u001b[1;32m    364\u001b[0m \u001b[38;5;124;03m    float: Zeroth order log likelihood.\u001b[39;00m\n\u001b[1;32m    365\u001b[0m \u001b[38;5;124;03m\"\"\"\u001b[39;00m\n\u001b[1;32m    366\u001b[0m \u001b[38;5;66;03m# Get frequencies\u001b[39;00m\n\u001b[1;32m    367\u001b[0m \u001b[38;5;66;03m# TODO: put this tensor directly in dag_graph (intead of edge_weight) and remove the following line\u001b[39;00m\n\u001b[0;32m--> 368\u001b[0m frequencies \u001b[38;5;241m=\u001b[39m \u001b[43mdag_graph\u001b[49m\u001b[38;5;241;43m.\u001b[39;49m\u001b[43medge_weight\u001b[49m\u001b[43m[\u001b[49m\u001b[43mdag_graph\u001b[49m\u001b[38;5;241;43m.\u001b[39;49m\u001b[43mptr\u001b[49m\u001b[43m[\u001b[49m\u001b[43m:\u001b[49m\u001b[38;5;241;43m-\u001b[39;49m\u001b[38;5;241;43m1\u001b[39;49m\u001b[43m]\u001b[49m\u001b[43m]\u001b[49m\n\u001b[1;32m    370\u001b[0m \u001b[38;5;66;03m# Get ixs starting nodes\u001b[39;00m\n\u001b[1;32m    371\u001b[0m mask \u001b[38;5;241m=\u001b[39m torch\u001b[38;5;241m.\u001b[39mones(dag_graph\u001b[38;5;241m.\u001b[39mnum_nodes, dtype\u001b[38;5;241m=\u001b[39m\u001b[38;5;28mbool\u001b[39m)\n",
      "\u001b[0;31mIndexError\u001b[0m: index 9 is out of bounds for dimension 0 with size 8"
     ]
    }
   ],
   "source": [
    "toy_paths = pp.DAGData(pp.IndexMap(list(\"abcde\")))\n",
    "toy_paths.append_walk((\"a\",\"c\",\"d\"))\n",
    "toy_paths.append_walk((\"b\",\"c\",\"e\"))\n",
    "toy_paths.append_walk((\"a\",\"c\",\"e\"))\n",
    "toy_paths.append_walk((\"b\",\"c\",\"d\"))\n",
    "max_order = 2\n",
    "m = pp.MultiOrderModel.from_DAGs(toy_paths, max_order=max_order, mode = \"propagation\")\n",
    "dag_graph = next(iter(DataLoader(toy_paths.dags, batch_size=len(toy_paths.dags)))).to(pp.config[\"torch\"][\"device\"])\n",
    "m.get_mon_log_likelihood(dag_graph, max_order=0) # even zeroth order not working"
   ]
  },
  {
   "cell_type": "code",
   "execution_count": 30,
   "metadata": {},
   "outputs": [
    {
     "data": {
      "text/plain": [
       "tensor([ 0,  3,  6,  9, 12])"
      ]
     },
     "execution_count": 30,
     "metadata": {},
     "output_type": "execute_result"
    }
   ],
   "source": [
    "dag_graph.ptr"
   ]
  }
 ],
 "metadata": {
  "kernelspec": {
   "display_name": "base",
   "language": "python",
   "name": "python3"
  },
  "language_info": {
   "codemirror_mode": {
    "name": "ipython",
    "version": 3
   },
   "file_extension": ".py",
   "mimetype": "text/x-python",
   "name": "python",
   "nbconvert_exporter": "python",
   "pygments_lexer": "ipython3",
   "version": "3.10.13"
  }
 },
 "nbformat": 4,
 "nbformat_minor": 2
}
