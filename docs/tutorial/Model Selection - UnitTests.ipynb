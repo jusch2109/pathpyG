{
 "cells": [
  {
   "cell_type": "code",
   "execution_count": 1,
   "metadata": {},
   "outputs": [],
   "source": [
    "import torch\n",
    "from torch_geometric.utils import scatter\n",
    "\n",
    "import pathpyG as pp\n",
    "pp.config['torch']['device'] = 'cpu'"
   ]
  },
  {
   "cell_type": "markdown",
   "metadata": {},
   "source": [
    "TODOs:\n",
    "- turn into class functions: (the ones needed to estimate order)\n",
    "- add as utils (computing of weigthed outdegrees and transition probabobilities)\n",
    "- unit tests\n"
   ]
  },
  {
   "cell_type": "code",
   "execution_count": 2,
   "metadata": {},
   "outputs": [
    {
     "name": "stderr",
     "output_type": "stream",
     "text": [
      "/opt/conda/lib/python3.10/site-packages/torch_geometric/edge_index.py:784: UserWarning: Sparse CSR tensor support is in beta state. If you miss a functionality in the sparse tensor support, please submit a feature request to https://github.com/pytorch/pytorch/issues. (Triggered internally at ../aten/src/ATen/SparseCsrTensorImpl.cpp:53.)\n",
      "  return torch.sparse_csr_tensor(\n"
     ]
    },
    {
     "data": {
      "text/plain": [
       "2"
      ]
     },
     "execution_count": 2,
     "metadata": {},
     "output_type": "execute_result"
    }
   ],
   "source": [
    "# dag_data = pp.DAGData(pp.IndexMap(list(\"abcde\")))\n",
    "dag_data = pp.DAGData(pp.IndexMap(list(\"01234\")))\n",
    "\n",
    "# walk_1  =('a','b','c','d','e','c','b','a','c','d','e','c','e','d','c','a')\n",
    "# walk_2  =('a','b','c','d','e','c')\n",
    "# dag_data.append_walk(walk_1)\n",
    "# dag_data.append_walk(walk_2)\n",
    "\n",
    "\n",
    "dag_data.append_walk(list(\"0230230230230\"), weight=2)\n",
    "dag_data.append_walk(list(\"1241241241241\"), weight=2)\n",
    "# dag_data.append_walk(list(\"0430241\"), weight=1)\n",
    "\n",
    "m = pp.MultiOrderModel.from_DAGs(dag_data, max_order=5)\n",
    "\n",
    "m.estimate_order(dag_data, max_order=5)"
   ]
  },
  {
   "cell_type": "code",
   "execution_count": 3,
   "metadata": {},
   "outputs": [],
   "source": [
    "from torch_geometric.loader import DataLoader\n",
    "dag_graph = next(iter(DataLoader(dag_data.dags, batch_size=len(dag_data.dags)))).to(pp.config[\"torch\"][\"device\"])"
   ]
  },
  {
   "cell_type": "markdown",
   "metadata": {},
   "source": [
    "Why does one of those two fails while the other doesn t?"
   ]
  },
  {
   "cell_type": "code",
   "execution_count": 4,
   "metadata": {},
   "outputs": [],
   "source": [
    "dag_data = pp.DAGData(pp.IndexMap(list(\"abcde\")))\n",
    "\n",
    "dag_data.append_walk(tuple(\"acd\"))\n",
    "dag_data.append_walk(tuple(\"bce\"))\n",
    "\n",
    "m = pp.MultiOrderModel.from_DAGs(dag_data, max_order=4)\n",
    "\n",
    "\n",
    "def test_dof():\n",
    "    line_data = pp.DAGData(pp.IndexMap(list(\"abcd\")))\n",
    "    line_data.append_walk((\"a\",\"b\",\"c\",\"d\"))\n",
    "    max_order = 4\n",
    "    m = pp.MultiOrderModel.from_DAGs(line_data, max_order=max_order)\n",
    "    for order in range(max_order+1):\n",
    "        assert m.get_mon_dof(assumption=\"paths\", max_order=order) == 3\n",
    "    \n",
    "    #########\n",
    "\n",
    "    toy_paths_ho = pp.DAGData(pp.IndexMap(list(\"abcde\")))\n",
    "    toy_paths_ho.append_walk((\"a\",\"c\",\"d\"))\n",
    "    toy_paths_ho.append_walk((\"b\",\"c\",\"e\"))\n",
    "    max_order = 2\n",
    "    m = pp.MultiOrderModel.from_DAGs(toy_paths_ho, max_order=max_order, mode = \"propagation\")\n",
    "    assert m.get_mon_dof(assumption=\"paths\", max_order=0) == 4\n",
    "    assert m.get_mon_dof(assumption=\"paths\", max_order=1) == 5\n",
    "    assert m.get_mon_dof(assumption=\"paths\", max_order=2) == 7\n",
    "\n"
   ]
  },
  {
   "cell_type": "code",
   "execution_count": 22,
   "metadata": {},
   "outputs": [],
   "source": [
    "from scipy.stats import chi2\n",
    "import numpy as np\n",
    "def test_likelihood_ratio_test():\n",
    "    significance_threshold = 0.1\n",
    "\n",
    "    llh_zeroth = np.log(1/6) * 4 + np.log(2/6) * 2 \n",
    "    llh_first = np.log(1/6) * 2 + 0 + 2 * np.log(1/2) \n",
    "    llh_second = np.log(1/6) * 2 + 0 + 0 \n",
    "    dof_zeroth = 4\n",
    "    dof_first = 5\n",
    "    dof_second = 7\n",
    "    x_01 = -2 * (llh_zeroth - llh_first)\n",
    "    x_12 = -2 * (llh_first - llh_second)\n",
    "    dof_diff_01 = dof_first - dof_zeroth\n",
    "    dof_diff_12 = dof_second - dof_first\n",
    "    p_01 = 1 - chi2.cdf(x_01, dof_diff_01)\n",
    "    p_12 = 1 - chi2.cdf(x_12, dof_diff_12)\n",
    "\n",
    "    toy_paths_ho = pp.DAGData(pp.IndexMap(list(\"abcde\")))\n",
    "    toy_paths_ho.append_walk((\"a\",\"c\",\"d\"))\n",
    "    toy_paths_ho.append_walk((\"b\",\"c\",\"e\"))\n",
    "    dag_graph = next(iter(DataLoader(toy_paths_ho.dags, batch_size=len(toy_paths_ho.dags)))).to(pp.config[\"torch\"][\"device\"])\n",
    "    max_order = 2\n",
    "    m = pp.MultiOrderModel.from_DAGs(toy_paths_ho, max_order=max_order)\n",
    "\n",
    "    bool_code_01, p_01_code = m.likelihood_ratio_test(\n",
    "        dag_graph,max_order_null = 0,\n",
    "        max_order = 1,\n",
    "        assumption = \"paths\",\n",
    "        significance_threshold = significance_threshold\n",
    "        )\n",
    "\n",
    "    bool_code_12, p_12_code = m.likelihood_ratio_test(\n",
    "        dag_graph,max_order_null = 1,\n",
    "        max_order = 2,\n",
    "        assumption = \"paths\", \n",
    "        significance_threshold = significance_threshold\n",
    "        )\n",
    "\n",
    "    assert bool_code_01 == (p_01 < significance_threshold)\n",
    "    assert np.isclose(p_01_code, p_01)\n",
    "    assert bool_code_12 == (p_12 < significance_threshold)\n",
    "    assert np.isclose(p_12_code, p_12)\n",
    "\n",
    "def test_estimate_order():\n",
    "    pass\n",
    "\n",
    "\n",
    "test_likelihood_ratio_test()"
   ]
  },
  {
   "cell_type": "code",
   "execution_count": 9,
   "metadata": {},
   "outputs": [],
   "source": [
    "import numpy as np\n",
    "def test_log_likelihood():\n",
    "    toy_paths_ho = pp.DAGData(pp.IndexMap(list(\"abcde\")))\n",
    "    toy_paths_ho.append_walk((\"a\",\"c\",\"d\"))\n",
    "    toy_paths_ho.append_walk((\"b\",\"c\",\"e\"))\n",
    "    max_order = 2\n",
    "    m = pp.MultiOrderModel.from_DAGs(toy_paths_ho, max_order=max_order, mode = \"propagation\")\n",
    "    dag_graph = next(iter(DataLoader(toy_paths_ho.dags, batch_size=len(toy_paths_ho.dags)))).to(pp.config[\"torch\"][\"device\"])\n",
    "    assert np.isclose(\n",
    "        m.get_mon_log_likelihood(dag_graph, max_order=0),\n",
    "        np.log(1/6) * 4 + np.log(2/6) * 2 \n",
    "        )\n",
    "    assert np.isclose(\n",
    "        m.get_mon_log_likelihood(dag_graph, max_order=1),\n",
    "        np.log(1/6) * 2 + 0 + 2 * np.log(1/2) \n",
    "        )\n",
    "    assert np.isclose(\n",
    "        m.get_mon_log_likelihood(dag_graph, max_order=2)\n",
    "        ,np.log(1/6) * 2 + 0 + 0 \n",
    "        )\n",
    "    ################\n",
    "\n",
    "    toy_paths = pp.DAGData(pp.IndexMap(list(\"abcde\")))\n",
    "    toy_paths.append_walk((\"a\",\"c\",\"d\"))\n",
    "    toy_paths.append_walk((\"b\",\"c\",\"e\"))\n",
    "    toy_paths.append_walk((\"a\",\"c\",\"e\"))\n",
    "    toy_paths.append_walk((\"b\",\"c\",\"d\"))\n",
    "    max_order = 2\n",
    "    m = pp.MultiOrderModel.from_DAGs(toy_paths, max_order=max_order, mode = \"propagation\")\n",
    "    dag_graph = next(iter(DataLoader(toy_paths.dags, batch_size=len(toy_paths.dags)))).to(pp.config[\"torch\"][\"device\"])\n",
    "    assert np.isclose(\n",
    "        m.get_mon_log_likelihood(dag_graph, max_order=0), # fails already at computing log_lh here\n",
    "        np.log(2/12) * 8 + np.log(4/12) * 4\n",
    "        )\n",
    "    assert np.isclose(\n",
    "        m.get_mon_log_likelihood(dag_graph, max_order=1),\n",
    "        np.log(2/12) * 4 + 0 + 4 * np.log(1/2)\n",
    "        )\n",
    "    assert np.isclose(\n",
    "        m.get_mon_log_likelihood(dag_graph, max_order=2),\n",
    "        np.log(1/6) * 4 + 0 + 4 * np.log(1/2)\n",
    "        )\n",
    "    \n",
    "    ################\n",
    "\n",
    "    toy_paths = pp.DAGData(pp.IndexMap(list(\"abcde\")))\n",
    "    toy_paths.append_walk((\"a\",))\n",
    "    toy_paths.append_walk((\"a\",\"b\"))\n",
    "    toy_paths.append_walk((\"a\",\"b\",\"c\"))\n",
    "    max_order = 2\n",
    "    m = pp.MultiOrderModel.from_DAGs(toy_paths, max_order=max_order, mode = \"propagation\")\n",
    "    dag_graph = next(iter(DataLoader(toy_paths.dags, batch_size=len(toy_paths.dags)))).to(pp.config[\"torch\"][\"device\"])\n",
    "    assert np.isclose(\n",
    "        m.get_mon_log_likelihood(dag_graph, max_order=0), # fails already at computing log_lh here\n",
    "        np.log(3/6) * 3 + np.log(2/6) * 2 + np.log(1/6) * 1\n",
    "        )\n",
    "    assert np.isclose(\n",
    "        m.get_mon_log_likelihood(dag_graph, max_order=1),\n",
    "        np.log(3/6) * 3 + 0 + 0 \n",
    "        )\n",
    "    assert np.isclose(\n",
    "        m.get_mon_log_likelihood(dag_graph, max_order=2),\n",
    "        np.log(3/6) * 3 + 0 + 0 \n",
    "        )\n",
    "    \n",
    "test_log_likelihood()\n"
   ]
  }
 ],
 "metadata": {
  "kernelspec": {
   "display_name": "base",
   "language": "python",
   "name": "python3"
  },
  "language_info": {
   "codemirror_mode": {
    "name": "ipython",
    "version": 3
   },
   "file_extension": ".py",
   "mimetype": "text/x-python",
   "name": "python",
   "nbconvert_exporter": "python",
   "pygments_lexer": "ipython3",
   "version": "3.10.13"
  }
 },
 "nbformat": 4,
 "nbformat_minor": 2
}
