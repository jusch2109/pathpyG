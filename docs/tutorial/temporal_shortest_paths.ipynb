{
 "cells": [
  {
   "cell_type": "code",
   "execution_count": 1,
   "metadata": {},
   "outputs": [],
   "source": [
    "import pathpyG as pp\n",
    "from torch_geometric.utils import cumsum, coalesce, degree, sort_edge_index\n",
    "import torch\n",
    "\n",
    "from scipy.sparse.csgraph import bellman_ford, dijkstra\n",
    "import numpy as np\n",
    "\n",
    "from collections import defaultdict\n",
    "\n",
    "\n",
    "from tqdm import tqdm"
   ]
  },
  {
   "cell_type": "code",
   "execution_count": 2,
   "metadata": {},
   "outputs": [
    {
     "name": "stdout",
     "output_type": "stream",
     "text": [
      "Temporal Graph with 327 nodes, 11636 unique edges and 377016 events in [1385982080.0, 1386345600.0]\n",
      "\n",
      "Graph attributes\n",
      "\tdst\t\t<class 'torch.Tensor'> -> torch.Size([377016])\n",
      "\tt\t\t<class 'torch.Tensor'> -> torch.Size([377016])\n",
      "\tsrc\t\t<class 'torch.Tensor'> -> torch.Size([377016])\n",
      "\n",
      "1157\n"
     ]
    },
    {
     "name": "stderr",
     "output_type": "stream",
     "text": [
      "/opt/conda/lib/python3.10/site-packages/torch_geometric/data/storage.py:450: UserWarning: Unable to accurately infer 'num_nodes' from the attribute set '{'dst', 't', 'src'}'. Please explicitly set 'num_nodes' as an attribute of 'data' to suppress this warning\n",
      "  warnings.warn(\n"
     ]
    }
   ],
   "source": [
    "t_sp = pp.TemporalGraph.from_csv('sociopatterns_highschool_2013.tedges').to_undirected()\n",
    "print(t_sp)\n",
    "print(torch.unique(t_sp.data.t).size(0))"
   ]
  },
  {
   "cell_type": "code",
   "execution_count": 3,
   "metadata": {},
   "outputs": [
    {
     "name": "stderr",
     "output_type": "stream",
     "text": [
      "100%|██████████| 1157/1157 [01:21<00:00, 14.25it/s]\n"
     ]
    },
    {
     "name": "stdout",
     "output_type": "stream",
     "text": [
      "Created temporal event DAG with 754359 nodes and 31906926 edges\n",
      "{'454': 41671.338095238054, '640': 42220.10476190471, '1': 31384.485714285773, '939': 43385.1666666666, '185': 46485.271428571396, '258': 42662.533333333326, '55': 41131.62698412695, '170': 43822.54999999994, '9': 55537.204761904715, '453': 42306.650000000016, '45': 54390.77142857138, '14': 42915.57142857141, '190': 51695.83809523803, '400': 37502.9365079365, '637': 40505.24126984126, '255': 43516.342857142794, '275': 53779.13333333323, '176': 52638.13333333328, '533': 36436.70952380954, '116': 46335.46666666662, '151': 46517.87142857134, '866': 51019.77619047604, '280': 40957.63095238092, '484': 38709.39523809525, '243': 42567.83809523808, '687': 43355.67142857139, '54': 44738.06666666662, '364': 43477.92142857135, '374': 41239.258730158705, '295': 37942.38968253968, '441': 44693.04761904753, '101': 46261.46984126977, '425': 40808.355411255354, '47': 34439.18333333336, '241': 40734.0880952381, '179': 51910.84285714278, '202': 47549.81666666654, '63': 48038.816666666564, '564': 38769.93809523808, '577': 34370.49047619052, '265': 42888.016666666605, '494': 40898.7698412698, '443': 42818.935714285675, '209': 33025.35238095244, '843': 39757.76984126982, '222': 31847.612698412748, '205': 43918.02142857136, '894': 39705.247619047565, '1359': 54767.9999999999, '1383': 37680.55476190476, '376': 53616.13333333324, '638': 41859.176190476144, '1238': 42806.904761904734, '1260': 38609.26666666665, '487': 46472.59365079362, '984': 45297.69999999997, '226': 42690.47619047611, '353': 46454.99999999993, '1342': 44222.67619047608, '1518': 59688.27142857133, '122': 48889.13333333324, '1067': 42078.83809523807, '1324': 41852.96666666664, '70': 44801.455555555476, '132': 47628.98809523799, '779': 42758.522222222164, '279': 42601.21428571425, '908': 36329.59523809524, '510': 29415.290476190487, '545': 44361.355555555485, '634': 49410.73333333322, '1332': 57435.76666666657, '1401': 48332.21666666656, '582': 44306.50476190468, '605': 55865.5333333332, '252': 45385.02142857135, '3': 50445.78333333325, '884': 48080.34285714278, '339': 41450.89999999998, '691': 48490.171428571346, '869': 47797.033333333246, '72': 48899.99999999993, '954': 46840.76666666663, '160': 47314.2428571428, '117': 46867.93333333327, '346': 41061.76984126978, '111': 45678.421428571404, '124': 43084.39285714283, '276': 42882.58333333332, '621': 39236.16984126983, '39': 41416.11255411249, '871': 44988.38809523805, '694': 49321.4714285713, '778': 49137.51428571418, '513': 39579.116666666654, '236': 35266.21428571434, '883': 40068.50476190471, '1594': 46784.104761904644, '1828': 41670.949999999946, '1214': 48579.43333333323, '196': 47528.471428571334, '201': 44797.83333333326, '245': 53325.838095237974, '390': 44972.08809523807, '938': 44610.77142857142, '923': 37550.54285714288, '106': 58207.29999999987, '272': 55849.23333333323, '753': 43170.54999999998, '486': 35035.81507936507, '531': 41168.10793650794, '254': 48965.199999999975, '382': 44808.699999999975, '119': 45078.038095238015, '240': 46369.36031746025, '447': 45610.11666666662, '649': 42277.54285714276, '1204': 46224.08333333323, '466': 32600.38809523813, '841': 37388.707142857165, '199': 43105.73809523804, '674': 54227.77142857136, '857': 38546.395238095225, '945': 40750.388095238064, '1218': 47321.61666666656, '1512': 51657.80476190465, '653': 49398.44365079353, '502': 44192.40476190468, '587': 29551.511904761897, '626': 41647.27619047614, '420': 45023.704761904715, '504': 40343.27619047614, '311': 46414.63809523806, '267': 44915.038095238066, '177': 48121.22222222215, '480': 40095.671428571455, '771': 23901.880158730197, '312': 46976.59999999993, '612': 43187.238095238026, '450': 36801.13095238098, '89': 47408.54999999997, '322': 49383.56666666663, '520': 33164.678571428616, '15': 45297.70000000002, '211': 47992.633333333324, '366': 37022.86269841269, '227': 45639.99999999996, '440': 48286.033333333275, '41': 47324.33333333326, '388': 47221.100000000006, '219': 42089.70476190474, '658': 48671.79999999991, '220': 42779.73809523808, '576': 39435.90952380952, '642': 46664.57142857137, '391': 37692.58571428572, '777': 35597.647619047646, '20': 39938.88095238094, '958': 50489.638095238006, '103': 29371.176984127007, '61': 47813.333333333234, '274': 36857.53412698415, '147': 51953.53333333325, '277': 32935.18492063496, '702': 30786.81904761907, '242': 44846.73333333334, '38': 52752.233333333206, '438': 37185.73333333332, '387': 46914.11666666656, '1295': 49073.866666666545, '1412': 52219.76666666659, '492': 47707.3833333333, '1345': 46802.733333333235, '1212': 51198.29999999987, '28': 45031.466666666616, '327': 45873.63333333326, '1216': 50562.59999999988, '372': 52590.526984126904, '720': 45705.19999999992, '1784': 41720.23809523804, '27': 46151.50952380945, '171': 34138.926984126985, '1336': 43007.54999999995, '1423': 52198.03333333327, '1366': 37297.11666666668, '407': 48333.3809523809, '1320': 46319.16666666659, '1805': 47327.438095237994, '1237': 41225.8047619047, '974': 29733.65793650794, '464': 45232.49999999995, '477': 42176.24999999997, '763': 36072.546825396836, '1894': 45776.221428571334, '1201': 43844.28333333326, '1228': 50051.86666666656, '786': 37304.61984126989, '886': 43075.46666666661, '797': 47585.13333333329, '959': 34756.25714285715, '1485': 41606.13809523808, '210': 46916.83333333329, '4': 42904.70476190475, '790': 30436.757142857183, '285': 53224.9333333333, '544': 43005.609523809464, '333': 50127.93333333329, '622': 35464.14285714289, '429': 45130.042857142784, '46': 39267.476190476154, '343': 37518.719047619066, '867': 36621.44285714288, '615': 44610.7714285714, '977': 42285.30476190473, '90': 46425.50476190473, '269': 44197.83809523808, '603': 46936.23809523808, '335': 43720.48095238093, '765': 43121.64999999997, '257': 41894.10476190469, '268': 39532.9333333333, '214': 43410.00476190473, '491': 43702.240476190455, '181': 39791.01666666664, '650': 40985.18571428571, '85': 46765.993650793615, '325': 43602.49999999998, '941': 39712.62142857144, '356': 40737.58095238093, '744': 37414.70952380953, '1543': 46257.07142857135, '145': 43442.992857142846, '173': 41173.02380952376, '909': 33217.84761904766, '79': 48995.083333333285, '854': 38707.45476190475, '527': 43498.49047619046, '475': 39621.94826839824, '471': 43425.269841269816, '681': 27453.98650793652, '465': 36373.57936507936, '446': 35151.33809523811, '58': 49894.29999999995, '32': 42986.204761904744, '991': 44181.53809523805, '725': 39806.15238095237, '859': 40474.45238095238, '798': 41875.088095238054, '256': 49459.63333333331, '306': 39031.514285714235, '131': 41163.70952380949, '677': 38990.11746031743, '960': 34713.56666666667, '769': 37148.47619047621, '248': 38814.18095238095, '125': 46992.89999999995, '917': 38007.71904761903, '120': 49546.566666666615, '115': 45982.68809523806, '1519': 34333.75079365083, '970': 40702.264285714264, '213': 46737.6744588744, '424': 48813.06666666662, '428': 42515.5746031746, '488': 47845.93333333331, '498': 44651.5214285714, '809': 40044.96031746028, '92': 42035.37142857144, '845': 43173.26666666668, '655': 34575.92222222225, '156': 47349.171428571295, '413': 44792.400000000016, '21': 38381.0666666667, '1232': 35705.92619047622, '290': 40728.654761904734, '71': 41315.0666666667, '65': 44592.919047619034, '791': 34942.5428571429, '874': 43733.67619047614, '448': 45072.60476190477, '496': 49872.56666666665, '921': 36919.888095238115, '497': 35312.785714285754, '627': 36676.94047619046, '194': 44672.866666666676, '927': 43220.614285714255, '232': 52527.138095238035, '172': 45822.40476190471, '165': 26068.48650793651, '87': 42138.604761904746, '253': 39907.833333333365, '706': 47116.05555555552, '134': 48729.23809523806, '624': 38011.988095238106, '548': 33913.83174603179, '893': 44520.73333333333, '920': 41900.31428571425, '836': 44773.91255411253, '80': 47968.5714285714, '743': 40576.13333333335, '826': 46025.76666666668, '184': 49569.076190476095, '601': 51230.89999999998, '1870': 34552.11904761907, '200': 45851.899999999994, '784': 39126.209523809506, '751': 34508.53477633482, '434': 23954.014285714296, '979': 35987.0365079365, '647': 36782.50238095241, '246': 36560.12380952383, '489': 43239.24285714284, '998': 42595.00476190477, '435': 38087.278571428564, '468': 21858.55058830061, '48': 42347.78809523811, '1339': 44040.27142857138, '159': 40869.921428571426, '149': 25296.729725829755, '1819': 39140.180952380964, '525': 45662.50952380946, '882': 28492.9174603175, '34': 43807.543650793574, '239': 31866.888095238148, '62': 20550.960028860038, '452': 43745.06031746028, '445': 28096.385447885485}\n"
     ]
    }
   ],
   "source": [
    "c = pp.algorithms.centrality.temporal_closeness_centrality(t_sp, delta=3600)\n",
    "print(c)"
   ]
  },
  {
   "cell_type": "code",
   "execution_count": 5,
   "metadata": {},
   "outputs": [
    {
     "name": "stderr",
     "output_type": "stream",
     "text": [
      "100%|██████████| 17/17 [00:00<00:00, 3506.77it/s]"
     ]
    },
    {
     "name": "stdout",
     "output_type": "stream",
     "text": [
      "Created temporal event DAG with 49 nodes and 47 edges\n",
      "{'a': 12.0, 'b': 16.0, 'c': 16.0, 'd': 14.666666666666666, 'e': 14.666666666666666, 'f': 24.0, 'g': 14.666666666666666, 'h': 28.0, 'i': 24.0}\n"
     ]
    },
    {
     "name": "stderr",
     "output_type": "stream",
     "text": [
      "\n"
     ]
    }
   ],
   "source": [
    "tedges = [('a', 'b', 1), ('b', 'c', 5), ('c', 'd', 9), ('c', 'e', 9),\n",
    "              ('c', 'f', 11), ('f', 'a', 13), ('a', 'g', 18), ('b', 'f', 21),\n",
    "              ('a', 'g', 26), ('c', 'f', 27), ('h', 'f', 27), ('g', 'h', 28),\n",
    "              ('a', 'c', 30), ('a', 'b', 31), ('c', 'h', 32), ('f', 'h', 33),\n",
    "              ('b', 'i', 42), ('i', 'b', 42), ('c', 'i', 47), ('h', 'i', 50)]\n",
    "t = pp.TemporalGraph.from_edge_list(tedges)\n",
    "c = pp.algorithms.centrality.temporal_closeness_centrality(t, 5)\n",
    "print(c)"
   ]
  },
  {
   "cell_type": "code",
   "execution_count": 2,
   "metadata": {},
   "outputs": [
    {
     "name": "stdout",
     "output_type": "stream",
     "text": [
      "Temporal Graph with 5 nodes, 6 unique edges and 6 events in [0.0, 3.0]\n",
      "\n",
      "Graph attributes\n",
      "\tsrc\t\t<class 'torch.Tensor'> -> torch.Size([6])\n",
      "\tdst\t\t<class 'torch.Tensor'> -> torch.Size([6])\n",
      "\tt\t\t<class 'torch.Tensor'> -> torch.Size([6])\n",
      "\n"
     ]
    },
    {
     "name": "stderr",
     "output_type": "stream",
     "text": [
      "/opt/conda/lib/python3.10/site-packages/torch_geometric/data/storage.py:450: UserWarning: Unable to accurately infer 'num_nodes' from the attribute set '{'src', 'dst', 't'}'. Please explicitly set 'num_nodes' as an attribute of 'data' to suppress this warning\n",
      "  warnings.warn(\n"
     ]
    }
   ],
   "source": [
    "t = pp.TemporalGraph.from_edge_list([(0,1,0), (0,2,0), (1,2,1), (1,3,1), (3,4,2), (1,4,3)])\n",
    "print(t)"
   ]
  },
  {
   "cell_type": "code",
   "execution_count": 5,
   "metadata": {},
   "outputs": [
    {
     "name": "stderr",
     "output_type": "stream",
     "text": [
      "100%|██████████| 4/4 [00:00<00:00, 262.99it/s]"
     ]
    },
    {
     "name": "stdout",
     "output_type": "stream",
     "text": [
      "Created temporal event DAG with 17 nodes and 15 edges\n",
      "{0.0: 0.0, 1.0: 4.0, 2.0: 8.0, 3.0: 6.0, 4.0: 9.333333333333332}\n"
     ]
    },
    {
     "name": "stderr",
     "output_type": "stream",
     "text": [
      "\n"
     ]
    }
   ],
   "source": [
    "c = pp.algorithms.centrality.temporal_closeness_centrality(t, delta=1)\n",
    "print(c)"
   ]
  },
  {
   "cell_type": "code",
   "execution_count": 3,
   "metadata": {},
   "outputs": [],
   "source": [
    "# old code with explosive memory usage due to computation of all second-order edges irrespective of time stamps\n",
    "def lift_order_not_efficient(g: pp.TemporalGraph, delta=1):\n",
    "    # first-order edge index\n",
    "    edge_index, timestamps = sort_edge_index(g.data.edge_index, g.data.t)\n",
    "    node_sequence = torch.arange(g.data.num_nodes, device=edge_index.device).unsqueeze(1)\n",
    "    print(edge_index)\n",
    "    # second-order edge index with time-respective filtering\n",
    "    null_model_edge_index = pp.MultiOrderModel.lift_order_edge_index(edge_index, num_nodes=node_sequence.size(0))    \n",
    "    # Update node sequences\n",
    "    node_sequence = torch.cat([node_sequence[edge_index[0]], node_sequence[edge_index[1]][:, -1:]], dim=1)\n",
    "    # Remove non-time-respecting higher-order edges\n",
    "    time_diff = timestamps[null_model_edge_index[1]] - timestamps[null_model_edge_index[0]]\n",
    "    non_negative_mask = time_diff > 0\n",
    "    delta_mask = time_diff <= delta\n",
    "    time_respecting_mask = non_negative_mask & delta_mask\n",
    "    edge_index = null_model_edge_index[:, time_respecting_mask]\n",
    "    return edge_index"
   ]
  },
  {
   "cell_type": "code",
   "execution_count": 4,
   "metadata": {},
   "outputs": [],
   "source": [
    "# new memory-efficient code\n",
    "def lift_order_efficient(g: pp.TemporalGraph, delta: int = 1):\n",
    "\n",
    "    # first-order edge index\n",
    "    edge_index, timestamps = g.data.edge_index, g.data.t\n",
    "    # print(edge_index)\n",
    "\n",
    "    indices = torch.arange(0, edge_index.size(1), device=g.data.edge_index.device)\n",
    "\n",
    "    unique_t = torch.unique(timestamps, sorted=True)\n",
    "    second_order = []\n",
    "\n",
    "    # lift order: find possible continuations for edges in each time stamp\n",
    "    for i in tqdm(range(unique_t.size(0))):\n",
    "        t = unique_t[i]\n",
    "        #print('timestamp index ', i)\n",
    "        #print('timestamp ', t)\n",
    "        \n",
    "        # find indices of all source edges that occur at unique timestamp t\n",
    "        src_time_mask = (timestamps == t)\n",
    "        src_edges = edge_index[:,src_time_mask]\n",
    "        src_edge_idx = indices[src_time_mask]\n",
    "        #print(src_edges)\n",
    "        #print(src_edge_idx)\n",
    "\n",
    "        # find indices of all edges that can possibly continue edges occurring at time t for the given delta\n",
    "        dst_time_mask = (timestamps > t) & (timestamps <= t+delta)\n",
    "        dst_edges = edge_index[:,dst_time_mask]        \n",
    "        dst_edge_idx = indices[dst_time_mask]\n",
    "        #print(dst_edges)\n",
    "        #print(dst_edge_idx)\n",
    "\n",
    "        if dst_edge_idx.size(0)>0 and src_edge_idx.size(0)>0:\n",
    "\n",
    "            # compute second-order edges between src and dst idx for all edges where dst in src_edges matches src in dst_edges        \n",
    "            x = torch.cartesian_prod(src_edge_idx, dst_edge_idx).t()\n",
    "            src_edges = torch.index_select(edge_index, dim=1, index=x[0])\n",
    "            dst_edges = torch.index_select(edge_index, dim=1, index=x[1])\n",
    "            #print(src_edges)\n",
    "            #print(dst_edges)\n",
    "            ho_edge_index = x[:,torch.where(src_edges[1,:] == dst_edges[0,:])[0]]\n",
    "            second_order.append(ho_edge_index)\n",
    "            #print(ho_edge_index) \n",
    "            \n",
    "            # #print('dst', dst)\n",
    "            # src_mask = (edge_index[:,mask][0]==dst)\n",
    "            # ctd = edge_index[:,mask][:,src_mask]\n",
    "            # #print('continuations', ctd)\n",
    "            # ctd_indices = torch.where(edge_index[:,mask][0]==dst)[0]        \n",
    "            # #print('ctd indx', ctd_indices)\n",
    "            # count += ctd_indices.size(0)\n",
    "    ho_index = torch.cat(second_order, dim=1)    \n",
    "    return ho_index"
   ]
  },
  {
   "cell_type": "code",
   "execution_count": 14,
   "metadata": {},
   "outputs": [],
   "source": [
    "def fo_nodes(ho_edge, g):\n",
    "    src_edge = ho_edge[0]\n",
    "    dst_edge = ho_edge[1]\n",
    "    return g.data.edge_index[:,src_edge][0], g.data.edge_index[:,dst_edge][0], g.data.edge_index[:,dst_edge][1]\n",
    "\n",
    "\n",
    "def temporal_shortest_paths_all(g: pp.TemporalGraph, delta: int):\n",
    "    # generate temporal event DAG\n",
    "    edge_index = lift_order_efficient(g, delta)\n",
    "\n",
    "    # Add indices of first-order nodes as src and dst of paths in TEG\n",
    "    src_edges_src = g.data.edge_index[0,:] + g.data.edge_index.size(1)\n",
    "    src_edges_dst = torch.arange(0, g.data.edge_index.size(1))    \n",
    "    dst_edges_src = torch.arange(0, g.data.edge_index.size(1))\n",
    "    dst_edges_dst = g.data.edge_index[1,:] + 2*g.data.edge_index.size(1)\n",
    "\n",
    "    src_edges = torch.stack([src_edges_src, src_edges_dst])\n",
    "    dst_edges = torch.stack([dst_edges_src, dst_edges_dst])\n",
    "    edge_index = torch.cat([edge_index, src_edges, dst_edges], dim=1)\n",
    "\n",
    "    event_graph = pp.Graph.from_edge_index(edge_index)\n",
    "    \n",
    "    # initialize distance matrix \n",
    "    dist = torch.full((g.N, event_graph.N), float(\"inf\"), device=g.data.edge_index.device)\n",
    "\n",
    "    # predecessor lists\n",
    "    pred = defaultdict(lambda: defaultdict(list))\n",
    "\n",
    "    # Fastest known single source SP in DAG (Cormen, Leiserson): single scan of edges in DAG\n",
    "    # trick: index of second-order nodes = topological sorting of event DAG assuming that edges are given in chronological order    \n",
    "    # scan second-order nodes in topological order and relax distances between first-order nodes\n",
    "\n",
    "    # TODO: correct algorithm\n",
    "    for src in tqdm(g.nodes):\n",
    "        dist[g.mapping.to_idx(src), g.mapping.to_idx(src) + g.data.edge_index.size(1)] = 0\n",
    "        for v in event_graph.nodes:\n",
    "            for w in event_graph.successors(v):\n",
    "                dist[g.mapping.to_idx(src), w] = min(dist[g.mapping.to_idx(src), w], dist[g.mapping.to_idx(src), v]+1)\n",
    "    \n",
    "    dist_fo = dist[:,2*g.M:] - 1\n",
    "    dist_fo.fill_diagonal_(0)\n",
    "    return dist_fo, pred\n",
    "\n",
    "\n",
    "def temporal_shortest_paths(g: pp.TemporalGraph, delta: int):\n",
    "    # generate temporal event DAG\n",
    "    edge_index = lift_order_efficient(g, delta)\n",
    "    \n",
    "\n",
    "    # Tadd indices of first-order nodes as src and dst of paths in TEG\n",
    "    src_edges_src = g.data.edge_index[0,:] + g.data.edge_index.size(1)\n",
    "    src_edges_dst = torch.arange(0, g.data.edge_index.size(1))    \n",
    "    dst_edges_src = torch.arange(0, g.data.edge_index.size(1))\n",
    "    dst_edges_dst = g.data.edge_index[1,:] + 2*g.data.edge_index.size(1)\n",
    "\n",
    "    src_edges = torch.stack([src_edges_src, src_edges_dst])\n",
    "    dst_edges = torch.stack([dst_edges_src, dst_edges_dst])\n",
    "    edge_index = torch.cat([edge_index, src_edges, dst_edges], dim=1)\n",
    "\n",
    "    event_graph = pp.Graph.from_edge_index(edge_index)\n",
    "          \n",
    "    m = event_graph.get_sparse_adj_matrix()\n",
    "    dist, pred = dijkstra(m, directed=True, indices = np.arange(g.M, g.M+g.N),  return_predecessors=True, unweighted=True)\n",
    "    dist_fo = dist[:,2*g.M:] - 1\n",
    "    np.fill_diagonal(dist_fo, 0)\n",
    "    pred_fo = pred[:,2*g.M:]\n",
    "    return dist_fo, pred_fo\n",
    "\n",
    "\n",
    "    \n",
    "def temporal_closeness_centrality(g: pp.TemporalGraph, delta: int) -> dict:\n",
    "\n",
    "    centralities = dict()\n",
    "    dist, _ = temporal_shortest_paths(g, delta)\n",
    "    for x in g.nodes:\n",
    "        centralities[x] = sum((g.N - 1) / dist[np.arange(g.N)!=x, g.mapping.to_idx(x)])\n",
    "\n",
    "    return centralities"
   ]
  },
  {
   "cell_type": "code",
   "execution_count": 15,
   "metadata": {},
   "outputs": [
    {
     "name": "stderr",
     "output_type": "stream",
     "text": [
      "100%|██████████| 4/4 [00:00<00:00, 3057.63it/s]\n",
      "5it [00:00, 1392.35it/s]\n"
     ]
    },
    {
     "data": {
      "text/plain": [
       "(tensor([[0., inf, inf, inf, inf],\n",
       "         [inf, 0., inf, inf, inf],\n",
       "         [inf, inf, 0., inf, inf],\n",
       "         [inf, inf, inf, 0., inf],\n",
       "         [inf, inf, inf, inf, 0.]]),\n",
       " defaultdict(<function __main__.temporal_shortest_paths_all.<locals>.<lambda>()>,\n",
       "             {}))"
      ]
     },
     "execution_count": 15,
     "metadata": {},
     "output_type": "execute_result"
    }
   ],
   "source": [
    "temporal_shortest_paths_all(t, delta=1)"
   ]
  },
  {
   "cell_type": "code",
   "execution_count": null,
   "metadata": {},
   "outputs": [],
   "source": [
    "idx[:,1]"
   ]
  },
  {
   "cell_type": "code",
   "execution_count": null,
   "metadata": {},
   "outputs": [],
   "source": [
    "edge_index = lift_order_efficient(t)\n",
    "print(edge_index)"
   ]
  },
  {
   "cell_type": "code",
   "execution_count": null,
   "metadata": {},
   "outputs": [],
   "source": [
    "print(t.data.edge_index)\n",
    "dist, pred = temporal_shortest_paths(t, delta=1)\n",
    "\n",
    "print(dist)\n",
    "print(pred)"
   ]
  },
  {
   "cell_type": "code",
   "execution_count": null,
   "metadata": {},
   "outputs": [],
   "source": [
    "dist[:,4]"
   ]
  },
  {
   "cell_type": "code",
   "execution_count": null,
   "metadata": {},
   "outputs": [],
   "source": [
    "t.mapping.node_ids"
   ]
  },
  {
   "cell_type": "code",
   "execution_count": null,
   "metadata": {},
   "outputs": [],
   "source": [
    "print(temporal_closeness_centrality(t, delta=1))\n",
    "print(t.N)"
   ]
  },
  {
   "cell_type": "markdown",
   "metadata": {},
   "source": []
  },
  {
   "cell_type": "code",
   "execution_count": null,
   "metadata": {},
   "outputs": [],
   "source": [
    "temporal_shortest_paths(t_sp, delta=3600)"
   ]
  },
  {
   "cell_type": "code",
   "execution_count": null,
   "metadata": {},
   "outputs": [],
   "source": []
  },
  {
   "cell_type": "code",
   "execution_count": null,
   "metadata": {},
   "outputs": [],
   "source": [
    "edge_index[0,:]"
   ]
  },
  {
   "cell_type": "code",
   "execution_count": null,
   "metadata": {},
   "outputs": [],
   "source": [
    "t.data.edge_index[:,edge_index[0,:]][0]"
   ]
  },
  {
   "cell_type": "code",
   "execution_count": null,
   "metadata": {},
   "outputs": [],
   "source": [
    "t.data.edge_index[:,edge_index[1,:]][1]"
   ]
  },
  {
   "cell_type": "code",
   "execution_count": null,
   "metadata": {},
   "outputs": [],
   "source": [
    "#print(t.data.edge_index)\n",
    "print(t_sp)\n",
    "g = temporal_shortest_paths(t_sp, delta=300)"
   ]
  },
  {
   "cell_type": "code",
   "execution_count": null,
   "metadata": {},
   "outputs": [],
   "source": [
    "indeg = degree(g.data.edge_index[1])\n",
    "roots = torch.where(indeg==0)[0]\n",
    "print(roots)"
   ]
  },
  {
   "cell_type": "code",
   "execution_count": null,
   "metadata": {},
   "outputs": [],
   "source": [
    "def traverse(g, path):\n",
    "    if g.get_successors(path[-1]).size(0) == 0:\n",
    "        pass\n",
    "    else:\n",
    "        for w in g.successors(path[-1]):\n",
    "            traverse(g, path + (w,))"
   ]
  },
  {
   "cell_type": "code",
   "execution_count": null,
   "metadata": {},
   "outputs": [],
   "source": [
    "i = 0\n",
    "for x in roots:\n",
    "    print(x)\n",
    "    traverse(g, (x,))"
   ]
  },
  {
   "cell_type": "code",
   "execution_count": null,
   "metadata": {},
   "outputs": [],
   "source": [
    "ho_index = lift_order_not_efficient(t, delta=1)\n",
    "print(ho_index)"
   ]
  },
  {
   "cell_type": "code",
   "execution_count": null,
   "metadata": {},
   "outputs": [],
   "source": [
    "ho_index = lift_order_efficient(t, delta=1)\n",
    "print(ho_index)"
   ]
  },
  {
   "cell_type": "code",
   "execution_count": null,
   "metadata": {},
   "outputs": [],
   "source": [
    "print(t.data.edge_index)"
   ]
  },
  {
   "cell_type": "code",
   "execution_count": null,
   "metadata": {},
   "outputs": [],
   "source": [
    "node_sequence = torch.arange(t.data.num_nodes, device=t.data.edge_index.device).unsqueeze(1)\n",
    "print(node_sequence)\n",
    "node_sequence = torch.cat([node_sequence[t.data.edge_index[0]], node_sequence[t.data.edge_index[1]][:, -1:]], dim=1)\n",
    "print(node_sequence)"
   ]
  },
  {
   "cell_type": "code",
   "execution_count": null,
   "metadata": {},
   "outputs": [],
   "source": [
    "lift_order_not_efficient(t_sp, delta=300)"
   ]
  },
  {
   "cell_type": "code",
   "execution_count": null,
   "metadata": {},
   "outputs": [],
   "source": [
    "lift_order_efficient(t_sp, delta=300)"
   ]
  },
  {
   "cell_type": "code",
   "execution_count": null,
   "metadata": {},
   "outputs": [],
   "source": [
    "lift_order_not_efficient(t_sp, delta=300)"
   ]
  },
  {
   "cell_type": "code",
   "execution_count": null,
   "metadata": {},
   "outputs": [],
   "source": [
    "x = torch.cartesian_prod(torch.tensor([0,1]), torch.tensor([1,3])).t()\n",
    "# edge 0 = 0->1\n",
    "# edge 1 = 1->2\n",
    "# edge 2 = 0->1\n",
    "\n",
    "# combination 0,1:     0->1, 1->2\n",
    "# combination 0,2:     0->1, 0->1\n",
    "print(x)"
   ]
  },
  {
   "cell_type": "code",
   "execution_count": null,
   "metadata": {},
   "outputs": [],
   "source": [
    "src_edges = torch.index_select(t.data.edge_index, dim=1, index=x[0])\n",
    "print(src_edges)"
   ]
  },
  {
   "cell_type": "code",
   "execution_count": null,
   "metadata": {},
   "outputs": [],
   "source": [
    "dst_edges = torch.index_select(t.data.edge_index, dim=1, index=x[1])\n",
    "print(dst_edges)"
   ]
  },
  {
   "cell_type": "code",
   "execution_count": null,
   "metadata": {},
   "outputs": [],
   "source": [
    " #select all indices where \n",
    "torch.where(src_edges[1,:] == dst_edges[0,:])[0]\n",
    "x[:,torch.where(src_edges[1,:] == dst_edges[0,:])[0]]"
   ]
  },
  {
   "cell_type": "code",
   "execution_count": null,
   "metadata": {},
   "outputs": [],
   "source": []
  },
  {
   "cell_type": "code",
   "execution_count": null,
   "metadata": {},
   "outputs": [],
   "source": []
  },
  {
   "cell_type": "code",
   "execution_count": null,
   "metadata": {},
   "outputs": [],
   "source": []
  },
  {
   "cell_type": "code",
   "execution_count": null,
   "metadata": {},
   "outputs": [],
   "source": []
  }
 ],
 "metadata": {
  "kernelspec": {
   "display_name": "base",
   "language": "python",
   "name": "python3"
  },
  "language_info": {
   "codemirror_mode": {
    "name": "ipython",
    "version": 3
   },
   "file_extension": ".py",
   "mimetype": "text/x-python",
   "name": "python",
   "nbconvert_exporter": "python",
   "pygments_lexer": "ipython3",
   "version": "3.11.5"
  }
 },
 "nbformat": 4,
 "nbformat_minor": 2
}
