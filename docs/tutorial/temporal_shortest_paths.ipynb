{
 "cells": [
  {
   "cell_type": "code",
   "execution_count": 1,
   "metadata": {},
   "outputs": [],
   "source": [
    "import torch\n",
    "import pathpyG as pp\n",
    "from collections import defaultdict, Counter\n",
    "\n",
    "from torch_geometric.utils import cumsum, coalesce, degree, sort_edge_index\n",
    "from torch_geometric.data import Data\n",
    "\n",
    "pp.config['torch']['device'] = 'cpu'"
   ]
  },
  {
   "cell_type": "code",
   "execution_count": 2,
   "metadata": {},
   "outputs": [
    {
     "name": "stdout",
     "output_type": "stream",
     "text": [
      "a -> 0\n",
      "b -> 1\n",
      "c -> 2\n",
      "d -> 3\n",
      "e -> 4\n",
      "f -> 5\n",
      "g -> 6\n",
      "h -> 7\n",
      "i -> 8\n",
      "\n",
      "9\n",
      "20\n"
     ]
    }
   ],
   "source": [
    "tedges = [('a', 'b', 1), ('b', 'c', 5), ('c', 'd', 9), ('c', 'e', 9),\n",
    "              ('c', 'f', 11), ('f', 'a', 13), ('a', 'g', 18), ('b', 'f', 21),\n",
    "              ('a', 'g', 26), ('c', 'f', 27), ('h', 'f', 27), ('g', 'h', 28),\n",
    "              ('a', 'c', 30), ('a', 'b', 31), ('c', 'h', 32), ('f', 'h', 33),\n",
    "              ('b', 'i', 42), ('i', 'b', 42), ('c', 'i', 47), ('h', 'i', 50)]\n",
    "t = pp.TemporalGraph.from_edge_list(tedges)\n",
    "print(t.mapping)\n",
    "print(t.N)\n",
    "print(t.M)"
   ]
  },
  {
   "cell_type": "code",
   "execution_count": 3,
   "metadata": {},
   "outputs": [
    {
     "name": "stdout",
     "output_type": "stream",
     "text": [
      "Constructed temporal event DAG with 17 nodes and 7 edges\n",
      "Processing root 1/10\n"
     ]
    },
    {
     "data": {
      "text/plain": [
       "defaultdict(<function pathpyG.algorithms.temporal.time_respecting_paths.<locals>.<lambda>()>,\n",
       "            {1: [['a', 'b'],\n",
       "              ['b', 'f'],\n",
       "              ['b', 'i'],\n",
       "              ['c', 'f'],\n",
       "              ['c', 'i'],\n",
       "              ['f', 'h']],\n",
       "             3: [['a', 'b', 'c', 'd'],\n",
       "              ['a', 'b', 'c', 'e'],\n",
       "              ['c', 'f', 'a', 'g']],\n",
       "             2: [['a', 'c', 'h'], ['a', 'g', 'h']]})"
      ]
     },
     "execution_count": 3,
     "metadata": {},
     "output_type": "execute_result"
    }
   ],
   "source": [
    "pp.algorithms.time_respecting_paths(t, delta=5)"
   ]
  },
  {
   "cell_type": "code",
   "execution_count": 4,
   "metadata": {},
   "outputs": [
    {
     "name": "stdout",
     "output_type": "stream",
     "text": [
      "Constructed temporal event DAG with 17 nodes and 7 edges\n",
      "Processing root 1/10\n"
     ]
    },
    {
     "data": {
      "text/plain": [
       "(defaultdict(<function pathpyG.algorithms.temporal.temporal_shortest_paths.<locals>.<lambda>()>,\n",
       "             {'a': defaultdict(set,\n",
       "                          {'b': {('a', 'b')},\n",
       "                           'd': {('a', 'b', 'c', 'd')},\n",
       "                           'e': {('a', 'b', 'c', 'e')},\n",
       "                           'h': {('a', 'c', 'h'), ('a', 'g', 'h')}}),\n",
       "              'b': defaultdict(set, {'f': {('b', 'f')}, 'i': {('b', 'i')}}),\n",
       "              'c': defaultdict(set,\n",
       "                          {'f': {('c', 'f')},\n",
       "                           'i': {('c', 'i')},\n",
       "                           'g': {('c', 'f', 'a', 'g')}}),\n",
       "              'f': defaultdict(set, {'h': {('f', 'h')}})}),\n",
       " defaultdict(<function pathpyG.algorithms.temporal.temporal_shortest_paths.<locals>.<lambda>()>,\n",
       "             {'a': defaultdict(<function pathpyG.algorithms.temporal.temporal_shortest_paths.<locals>.<lambda>.<locals>.<lambda>()>,\n",
       "                          {'b': 1, 'd': 3, 'e': 3, 'h': 2}),\n",
       "              'b': defaultdict(<function pathpyG.algorithms.temporal.temporal_shortest_paths.<locals>.<lambda>.<locals>.<lambda>()>,\n",
       "                          {'f': 1, 'i': 1}),\n",
       "              'c': defaultdict(<function pathpyG.algorithms.temporal.temporal_shortest_paths.<locals>.<lambda>.<locals>.<lambda>()>,\n",
       "                          {'f': 1, 'i': 1, 'g': 3}),\n",
       "              'f': defaultdict(<function pathpyG.algorithms.temporal.temporal_shortest_paths.<locals>.<lambda>.<locals>.<lambda>()>,\n",
       "                          {'h': 1})}))"
      ]
     },
     "execution_count": 4,
     "metadata": {},
     "output_type": "execute_result"
    }
   ],
   "source": [
    "pp.algorithms.temporal_shortest_paths(t, delta=5)"
   ]
  },
  {
   "cell_type": "code",
   "execution_count": null,
   "metadata": {},
   "outputs": [
    {
     "name": "stdout",
     "output_type": "stream",
     "text": [
      "Directed graph with 17 nodes and 7 edges\n",
      "\n",
      "Graph attributes\n",
      "\tnum_nodes\t\t<class 'int'>\n",
      "\n",
      "Processing root 1/13\n",
      "Processing root 11/13\n"
     ]
    },
    {
     "data": {
      "text/plain": [
       "defaultdict(<function pathpyG.algorithms.centrality.temporal_closeness_centrality.<locals>.<lambda>()>,\n",
       "            {'b': 2.0,\n",
       "             'd': 0.3333333333333333,\n",
       "             'e': 0.3333333333333333,\n",
       "             'f': 3.0,\n",
       "             'g': 0.3333333333333333,\n",
       "             'h': 1.5,\n",
       "             'i': 3.0,\n",
       "             'a': 0.0,\n",
       "             'c': 0.0})"
      ]
     },
     "execution_count": 6,
     "metadata": {},
     "output_type": "execute_result"
    }
   ],
   "source": [
    "pp.algorithms.centrality.temporal_closeness_centrality(t, delta=5, normalized=False)"
   ]
  },
  {
   "cell_type": "code",
   "execution_count": null,
   "metadata": {},
   "outputs": [
    {
     "name": "stdout",
     "output_type": "stream",
     "text": [
      "Directed graph with 17 nodes and 7 edges\n",
      "\n",
      "Graph attributes\n",
      "\tnum_nodes\t\t<class 'int'>\n",
      "\n",
      "Processing root 1/13\n",
      "Processing root 11/13\n"
     ]
    },
    {
     "data": {
      "text/plain": [
       "defaultdict(<function pathpyG.algorithms.centrality.temporal_betweenness_centrality.<locals>.<lambda>()>,\n",
       "            {'b': 2.0,\n",
       "             'c': 2.5,\n",
       "             'g': 0.5,\n",
       "             'f': 1.0,\n",
       "             'a': 1.0,\n",
       "             'd': 0,\n",
       "             'e': 0,\n",
       "             'h': 0,\n",
       "             'i': 0})"
      ]
     },
     "execution_count": 7,
     "metadata": {},
     "output_type": "execute_result"
    }
   ],
   "source": [
    "pp.algorithms.centrality.temporal_betweenness_centrality(t, delta=5, normalized=False)"
   ]
  },
  {
   "cell_type": "code",
   "execution_count": null,
   "metadata": {},
   "outputs": [
    {
     "name": "stdout",
     "output_type": "stream",
     "text": [
      "Directed graph with 17 nodes and 7 edges\n",
      "\n",
      "Graph attributes\n",
      "\tnum_nodes\t\t<class 'int'>\n",
      "\n",
      "Processing root 1/13\n",
      "Processing root 11/13\n"
     ]
    },
    {
     "data": {
      "text/plain": [
       "(defaultdict(<function pathpyG.algorithms.temporal.temporal_shortest_paths.<locals>.<lambda>()>,\n",
       "             {'a': defaultdict(set,\n",
       "                          {'b': {('a', 'b')},\n",
       "                           'd': {('a', 'b', 'c', 'd')},\n",
       "                           'e': {('a', 'b', 'c', 'e')},\n",
       "                           'h': {('a', 'c', 'h'), ('a', 'g', 'h')}}),\n",
       "              'b': defaultdict(set, {'f': {('b', 'f')}, 'i': {('b', 'i')}}),\n",
       "              'c': defaultdict(set,\n",
       "                          {'f': {('c', 'f')},\n",
       "                           'i': {('c', 'i')},\n",
       "                           'g': {('c', 'f', 'a', 'g')}}),\n",
       "              'f': defaultdict(set, {'h': {('f', 'h')}}),\n",
       "              'h': defaultdict(set, {'f': {('h', 'f')}, 'i': {('h', 'i')}}),\n",
       "              'i': defaultdict(set, {'b': {('i', 'b')}})}),\n",
       " defaultdict(<function pathpyG.algorithms.temporal.temporal_shortest_paths.<locals>.<lambda>()>,\n",
       "             {'a': defaultdict(<function pathpyG.algorithms.temporal.temporal_shortest_paths.<locals>.<lambda>.<locals>.<lambda>()>,\n",
       "                          {'b': 1, 'd': 3, 'e': 3, 'h': 2}),\n",
       "              'b': defaultdict(<function pathpyG.algorithms.temporal.temporal_shortest_paths.<locals>.<lambda>.<locals>.<lambda>()>,\n",
       "                          {'f': 1, 'i': 1}),\n",
       "              'c': defaultdict(<function pathpyG.algorithms.temporal.temporal_shortest_paths.<locals>.<lambda>.<locals>.<lambda>()>,\n",
       "                          {'f': 1, 'i': 1, 'g': 3}),\n",
       "              'f': defaultdict(<function pathpyG.algorithms.temporal.temporal_shortest_paths.<locals>.<lambda>.<locals>.<lambda>()>,\n",
       "                          {'h': 1}),\n",
       "              'h': defaultdict(<function pathpyG.algorithms.temporal.temporal_shortest_paths.<locals>.<lambda>.<locals>.<lambda>()>,\n",
       "                          {'f': 1, 'i': 1}),\n",
       "              'i': defaultdict(<function pathpyG.algorithms.temporal.temporal_shortest_paths.<locals>.<lambda>.<locals>.<lambda>()>,\n",
       "                          {'b': 1})}))"
      ]
     },
     "execution_count": 5,
     "metadata": {},
     "output_type": "execute_result"
    }
   ],
   "source": [
    "pp.algorithms.temporal_shortest_paths(t, delta=5)"
   ]
  },
  {
   "cell_type": "code",
   "execution_count": 4,
   "metadata": {},
   "outputs": [
    {
     "name": "stdout",
     "output_type": "stream",
     "text": [
      "a -> 0\n",
      "b -> 1\n",
      "c -> 2\n",
      "d -> 3\n",
      "\n",
      "4\n",
      "10\n"
     ]
    }
   ],
   "source": [
    "tedges = [('a', 'b', 1),('a', 'b', 2), ('b', 'a', 3), ('b', 'c', 3), ('d', 'c', 4), ('a', 'b', 4), ('c', 'b', 4),\n",
    "              ('c', 'd', 5), ('b', 'a', 5), ('c', 'b', 6)]\n",
    "t = pp.TemporalGraph.from_edge_list(tedges)\n",
    "print(t.mapping)\n",
    "print(t.N)\n",
    "print(t.M)"
   ]
  },
  {
   "cell_type": "code",
   "execution_count": 8,
   "metadata": {},
   "outputs": [
    {
     "data": {
      "text/html": [
       "<style>\n",
       "svg circle.node {\n",
       "  fill: #3b5998;\n",
       "  stroke: #1b3978;\n",
       "  stroke-width: 2.5px;\n",
       "  r: 15px;\n",
       "  opacity: 1;\n",
       "}\n",
       "\n",
       ".link {\n",
       "  stroke: #969595;\n",
       "  stroke-opacity: .75;\n",
       "  stroke-width: 2.5px;\n",
       "}\n",
       "\n",
       ".arrow {\n",
       "  fill: #969595;\n",
       "}\n",
       "\n",
       "\n",
       ".label-text {\n",
       "    fill: #969595;\n",
       "    font-size: 16px;\n",
       "    font-family: sans-serif;\n",
       "}\n",
       "\n",
       "</style>\n",
       "\n",
       "<div id = \"x7c2a14a63db64795af61fc93788a6f5c\"> </div>\n",
       "<script charset=\"utf-8\" src=\"https://d3js.org/d3.v5.min.js\"></script>\n",
       "<script charset=\"utf-8\">\n",
       "// Load via requireJS if available (jupyter notebook environment)\n",
       "try {\n",
       "    // Problem: require.config will raise an exception when called for the second time \n",
       "    require.config({\n",
       "        paths: {\n",
       "            d3: \"https://d3js.org/d3.v5.min.js\".replace(\".js\", \"\")\n",
       "        }\n",
       "    });\n",
       "    console.log(\"OKAY: requireJS was detected.\");\n",
       "}\n",
       "catch(err){\n",
       "    // a reference error indicates that requireJS does not exist. \n",
       "    // other errors may occur due to multiple calls to config\n",
       "    if (err instanceof ReferenceError){\n",
       "        console.log(\"WARNING: NO requireJS was detected!\");\n",
       "\n",
       "        // Helper function that waits for d3js to be loaded\n",
       "        require = function require(symbols, callback) {\n",
       "            var ms = 10;\n",
       "            window.setTimeout(function(t) {\n",
       "                if (window[symbols[0]])\n",
       "                    callback(window[symbols[0]]);\n",
       "                else \n",
       "                    window.setTimeout(arguments.callee, ms);\n",
       "            }, ms);\n",
       "        }\n",
       "    }\n",
       "};\n",
       "require(['d3'], function(d3){ //START\n",
       "const data = {\"edges\": [{\"uid\": \"('a', 'b', '1.0')-('b', 'a', '3.0')\", \"source\": \"('a', 'b', '1.0')\", \"target\": \"('b', 'a', '3.0')\", \"weight\": 1}, {\"uid\": \"('a', 'b', '1.0')-('b', 'a', '5.0')\", \"source\": \"('a', 'b', '1.0')\", \"target\": \"('b', 'a', '5.0')\", \"weight\": 1}, {\"uid\": \"('a', 'b', '1.0')-('b', 'c', '3.0')\", \"source\": \"('a', 'b', '1.0')\", \"target\": \"('b', 'c', '3.0')\", \"weight\": 1}, {\"uid\": \"('a', 'b', '2.0')-('b', 'a', '3.0')\", \"source\": \"('a', 'b', '2.0')\", \"target\": \"('b', 'a', '3.0')\", \"weight\": 1}, {\"uid\": \"('a', 'b', '2.0')-('b', 'a', '5.0')\", \"source\": \"('a', 'b', '2.0')\", \"target\": \"('b', 'a', '5.0')\", \"weight\": 1}, {\"uid\": \"('a', 'b', '2.0')-('b', 'c', '3.0')\", \"source\": \"('a', 'b', '2.0')\", \"target\": \"('b', 'c', '3.0')\", \"weight\": 1}, {\"uid\": \"('a', 'b', '4.0')-('b', 'a', '5.0')\", \"source\": \"('a', 'b', '4.0')\", \"target\": \"('b', 'a', '5.0')\", \"weight\": 1}, {\"uid\": \"('b', 'a', '3.0')-('a', 'b', '4.0')\", \"source\": \"('b', 'a', '3.0')\", \"target\": \"('a', 'b', '4.0')\", \"weight\": 1}, {\"uid\": \"('b', 'c', '3.0')-('c', 'b', '4.0')\", \"source\": \"('b', 'c', '3.0')\", \"target\": \"('c', 'b', '4.0')\", \"weight\": 1}, {\"uid\": \"('b', 'c', '3.0')-('c', 'b', '6.0')\", \"source\": \"('b', 'c', '3.0')\", \"target\": \"('c', 'b', '6.0')\", \"weight\": 1}, {\"uid\": \"('b', 'c', '3.0')-('c', 'd', '5.0')\", \"source\": \"('b', 'c', '3.0')\", \"target\": \"('c', 'd', '5.0')\", \"weight\": 1}, {\"uid\": \"('c', 'b', '4.0')-('b', 'a', '5.0')\", \"source\": \"('c', 'b', '4.0')\", \"target\": \"('b', 'a', '5.0')\", \"weight\": 1}, {\"uid\": \"('d', 'c', '4.0')-('c', 'b', '6.0')\", \"source\": \"('d', 'c', '4.0')\", \"target\": \"('c', 'b', '6.0')\", \"weight\": 1}, {\"uid\": \"('d', 'c', '4.0')-('c', 'd', '5.0')\", \"source\": \"('d', 'c', '4.0')\", \"target\": \"('c', 'd', '5.0')\", \"weight\": 1}], \"nodes\": [{\"uid\": \"('a', 'b', '1.0')\", \"label\": \"('a', 'b', '1.0')\"}, {\"uid\": \"('a', 'b', '2.0')\", \"label\": \"('a', 'b', '2.0')\"}, {\"uid\": \"('a', 'b', '4.0')\", \"label\": \"('a', 'b', '4.0')\"}, {\"uid\": \"('b', 'a', '3.0')\", \"label\": \"('b', 'a', '3.0')\"}, {\"uid\": \"('b', 'a', '5.0')\", \"label\": \"('b', 'a', '5.0')\"}, {\"uid\": \"('b', 'c', '3.0')\", \"label\": \"('b', 'c', '3.0')\"}, {\"uid\": \"('c', 'b', '4.0')\", \"label\": \"('c', 'b', '4.0')\"}, {\"uid\": \"('c', 'b', '6.0')\", \"label\": \"('c', 'b', '6.0')\"}, {\"uid\": \"('c', 'd', '5.0')\", \"label\": \"('c', 'd', '5.0')\"}, {\"uid\": \"('d', 'c', '4.0')\", \"label\": \"('d', 'c', '4.0')\"}]}\n",
       "const config = {\"node_label\": [\"('a', 'b', '1.0')\", \"('a', 'b', '2.0')\", \"('a', 'b', '4.0')\", \"('b', 'a', '3.0')\", \"('b', 'a', '5.0')\", \"('b', 'c', '3.0')\", \"('c', 'b', '4.0')\", \"('c', 'b', '6.0')\", \"('c', 'd', '5.0')\", \"('d', 'c', '4.0')\"], \"directed\": true, \"curved\": true, \"selector\": \"#x7c2a14a63db64795af61fc93788a6f5c\"}\n",
       "console.log(\"Static Network Template\");\n",
       "/* Resources\n",
       "   https://bl.ocks.org/mapio/53fed7d84cd1812d6a6639ed7aa83868\n",
       "   https://codepen.io/smlo/pen/JdMOej\n",
       "*/\n",
       "\n",
       "// variables from the config file\n",
       "const selector = config.selector;\n",
       "const width = config.width || 800;\n",
       "const height = config.height || 600;\n",
       "const charge_distance = config.charge_distance || 400;\n",
       "const charge_force = config.charge_force || -3000;\n",
       "const curved = config.curved || false;\n",
       "const directed = config.directed || false;\n",
       "// const weight = false;\n",
       "\n",
       "/* Create a svg element to display the network */\n",
       "var svg = d3.select(selector)\n",
       "    .append('svg')\n",
       "    .attr('width', width)\n",
       "    .attr('height', height)\n",
       "\n",
       "// add container to store the elements\n",
       "var container = svg.append(\"g\");\n",
       "\n",
       "/*Add zoom function to the container */\n",
       "svg.call(\n",
       "    d3.zoom()\n",
       "        .scaleExtent([.1, 4])\n",
       "        .on(\"zoom\", function() { container.attr(\"transform\", d3.event.transform); })\n",
       ");\n",
       "\n",
       "\n",
       "/*Load nodes and links from the data */\n",
       "var nodes = data.nodes\n",
       "var links = data.edges\n",
       "\n",
       "/*Create arrow head with same color as the edge */\n",
       "function marker (color) {\n",
       "       var reference;\n",
       "       svg.append(\"svg:defs\").selectAll(\"marker\")\n",
       "          .data([reference])\n",
       "          .enter().append(\"svg:marker\")\n",
       "          .attr(\"id\", \"arrow\"+color)\n",
       "          .attr(\"viewBox\", \"0 -5 10 10\")\n",
       "          .attr(\"refX\", 10)\n",
       "          .attr(\"refY\", -0)\n",
       "          .attr(\"markerWidth\", 6)\n",
       "          .attr(\"markerHeight\", 6)\n",
       "          .attr(\"orient\", \"auto\")\n",
       "          .append(\"svg:path\")\n",
       "          .attr('class','.arrow')\n",
       "          .attr(\"d\", \"M0,-5L10,0L0,5\")\n",
       "          .style('opacity',1)\n",
       "          .style(\"fill\", color);\n",
       "       return \"url(#\" + \"arrow\"+color + \")\";\n",
       "     };\n",
       "\n",
       "/*Link creation template */\n",
       "var link = container.append(\"g\").attr(\"class\", \"links\")\n",
       "    .selectAll(\".link\")\n",
       "    .data(links)\n",
       "    .enter()\n",
       "    .append(\"path\")\n",
       "    .attr(\"class\", \"link\")\n",
       "    .style(\"stroke\", function(d) { return d.color; })\n",
       "    .style(\"stroke-opacity\", function(d) { return d.opacity; })\n",
       "    .style(\"stroke-width\", function(d){  return d.size })\n",
       "    .style(\"fill\",\"none\")\n",
       "    .attr(\"marker-end\", function (d) {if(directed){return marker(d.color)}else{return null}; });\n",
       "\n",
       "    //.attr(\"marker-end\", function (d) { return marker(d.color); });\n",
       "    //.attr(\"marker-end\", \"url(#arrow)\");\n",
       "\n",
       "/*Node creation template */\n",
       "var node = container.append(\"g\").attr(\"class\", \"nodes\")\n",
       "    .selectAll(\"circle.node\")\n",
       "    .data(nodes)\n",
       "    .enter().append(\"circle\")\n",
       "    .attr(\"class\", \"node\")\n",
       "    .attr(\"x\", function(d) { return d.x; })\n",
       "    .attr(\"y\", function(d) { return d.y; })\n",
       "    .style(\"r\", function(d){  return d.size+\"px\"; })\n",
       "    .style(\"fill\", function(d) { return d.color; })\n",
       "    .style(\"opacity\", function(d) { return d.opacity; });\n",
       "\n",
       "/*Label creation template */\n",
       "var text = container.append(\"g\").attr(\"class\",\"labels\")\n",
       "    .selectAll(\"g\")\n",
       "    .data(nodes)\n",
       "    .enter().append(\"g\")\n",
       "\n",
       "text.append(\"text\")\n",
       "    .attr(\"class\", \"label-text\")\n",
       "    .attr(\"x\", function(d) {\n",
       "        var r = (d.size === undefined) ? 15 : d.size;\n",
       "        return 5 + r; })\n",
       "    .attr(\"dy\", \".31em\")\n",
       "    .text(function(d) { return d.label; });\n",
       "\n",
       "/*Scale weight for d3js */\n",
       "var weightScale = d3.scaleLinear()\n",
       "    .domain(d3.extent(links, function (d) { return d.weight }))\n",
       "    .range([.1, 1]);\n",
       "\n",
       "/*Simulation of the forces*/\n",
       "var simulation = d3.forceSimulation(nodes)\n",
       "    .force(\"links\", d3.forceLink(links)\n",
       "           .id(function(d) {return d.uid; })\n",
       "           .distance(50)\n",
       "           .strength(function(d){return weightScale(d.weight);})\n",
       "          )\n",
       "    .force(\"charge\", d3.forceManyBody()\n",
       "           .strength(charge_force)\n",
       "           .distanceMax(charge_distance)\n",
       "          )\n",
       "    .force(\"center\", d3.forceCenter(width / 2, height / 2))\n",
       "    .on(\"tick\", ticked);\n",
       "\n",
       "/*Update of the node and edge objects*/\n",
       "function ticked() {\n",
       "    node.call(updateNode);\n",
       "    link.call(updateLink);\n",
       "    text.call(updateText);\n",
       "};\n",
       "\n",
       "/*Update link positions */\n",
       "function updateLink(link) {\n",
       "    // link\n",
       "    //     .attr(\"x1\", function(d) { return d.source.x; })\n",
       "    //     .attr(\"y1\", function(d) { return d.source.y; })\n",
       "    //     .attr(\"x2\", function(d) { return d.target.x; })\n",
       "    //     .attr(\"y2\", function(d) { return d.target.y; });\n",
       "\n",
       "\n",
       "    link.attr(\"d\", function(d) {\n",
       "        var dx = d.target.x - d.source.x,\n",
       "            dy = d.target.y - d.source.y,\n",
       "            dr = Math.sqrt(dx * dx + dy * dy);\n",
       "        if(!curved)dr=0;\n",
       "        return \"M\" +\n",
       "            d.source.x + \",\" +\n",
       "            d.source.y + \"A\" +\n",
       "            dr + \",\" + dr + \" 0 0,1 \" +\n",
       "            d.target.x + \",\" +\n",
       "            d.target.y;\n",
       "    });\n",
       "\n",
       "    // recalculate and back off the distance\n",
       "    link.attr(\"d\", function (d, i) {\n",
       "        var pl = this.getTotalLength();\n",
       "        var r = (d.target.size === undefined) ? 15 : d.target.size;\n",
       "        var m = this.getPointAtLength(pl - r);\n",
       "        var dx = d.target.x - d.source.x,\n",
       "            dy = d.target.y - d.source.y,\n",
       "            dr = Math.sqrt(dx * dx + dy * dy);\n",
       "        if(!curved)dr=0;\n",
       "        var result = \"M\" + d.source.x + \",\" + d.source.y + \"A\" + dr + \",\" + dr + \" 0 0,1 \" + m.x + \",\" + m.y;\n",
       "        return result;\n",
       "    });\n",
       "};\n",
       "\n",
       "\n",
       "/*Update node positions */\n",
       "function updateNode(node) {\n",
       "    node.attr(\"transform\", function(d) {\n",
       "        return \"translate(\" + d.x + \",\" + d.y + \")\";\n",
       "    });\n",
       "    // node\n",
       "    //     .attr(\"cx\", function(d) { return d.x; })\n",
       "    //     .attr(\"cy\", function(d) { return d.y; });\n",
       "};\n",
       "\n",
       "/*Update text positions */\n",
       "function updateText(text) {\n",
       "    text.attr(\"transform\", function(d) {\n",
       "        return \"translate(\" + d.x + \",\" + d.y + \")\";\n",
       "    });\n",
       "};\n",
       "\n",
       "/*Add drag functionality to the node objects*/\n",
       "node.call(\n",
       "    d3.drag()\n",
       "        .on(\"start\", dragstarted)\n",
       "        .on(\"drag\", dragged)\n",
       "        .on(\"end\", dragended)\n",
       ");\n",
       "\n",
       "function dragstarted(d) {\n",
       "    d3.event.sourceEvent.stopPropagation();\n",
       "    if (!d3.event.active) simulation.alphaTarget(0.3).restart();\n",
       "    d.fx = d.x;\n",
       "    d.fy = d.y;\n",
       "};\n",
       "\n",
       "function dragged(d) {\n",
       "    d.fx = d3.event.x;\n",
       "    d.fy = d3.event.y;\n",
       "};\n",
       "\n",
       "function dragended(d) {\n",
       "    if (!d3.event.active) simulation.alphaTarget(0);\n",
       "    d.fx = null;\n",
       "    d.fy = null;\n",
       "};\n",
       "\n",
       "}); //END\n",
       "\n",
       "</script>"
      ]
     },
     "metadata": {},
     "output_type": "display_data"
    },
    {
     "data": {
      "text/plain": [
       "<pathpyG.visualisations.network_plots.StaticNetworkPlot at 0x7f2e8067a2f0>"
      ]
     },
     "execution_count": 8,
     "metadata": {},
     "output_type": "execute_result"
    }
   ],
   "source": [
    "dag = pp.algorithms.temporal_graph_to_event_dag(t, delta=5, create_mapping=True)\n",
    "pp.plot(dag, node_label = [str(dag.mapping.to_id(i)) for i in range(dag.N)])"
   ]
  },
  {
   "cell_type": "code",
   "execution_count": 9,
   "metadata": {},
   "outputs": [
    {
     "name": "stdout",
     "output_type": "stream",
     "text": [
      "Processing root 1/3\n",
      "defaultdict(<class 'list'>, {0: [['a', 'b']]})\n",
      "defaultdict(<class 'list'>, {1: [['a', 'b']]})\n",
      "defaultdict(<class 'list'>, {9: [['d', 'c']]})\n"
     ]
    },
    {
     "data": {
      "text/plain": [
       "defaultdict(<function pathpyG.algorithms.temporal.time_respecting_paths.<locals>.<lambda>()>,\n",
       "            {2: [['a', 'b', 'a'],\n",
       "              ['a', 'b', 'a'],\n",
       "              ['d', 'c', 'b'],\n",
       "              ['d', 'c', 'd']],\n",
       "             4: [['a', 'b', 'c', 'b', 'a'],\n",
       "              ['a', 'b', 'a', 'b', 'a'],\n",
       "              ['a', 'b', 'c', 'b', 'a'],\n",
       "              ['a', 'b', 'a', 'b', 'a']],\n",
       "             3: [['a', 'b', 'c', 'b'],\n",
       "              ['a', 'b', 'c', 'd'],\n",
       "              ['a', 'b', 'c', 'b'],\n",
       "              ['a', 'b', 'c', 'd']]})"
      ]
     },
     "execution_count": 9,
     "metadata": {},
     "output_type": "execute_result"
    }
   ],
   "source": [
    "paths = pp.algorithms.time_respecting_paths(t, delta=5)\n",
    "paths"
   ]
  },
  {
   "cell_type": "code",
   "execution_count": null,
   "metadata": {},
   "outputs": [
    {
     "data": {
      "text/plain": [
       "8"
      ]
     },
     "execution_count": 6,
     "metadata": {},
     "output_type": "execute_result"
    }
   ],
   "source": [
    "sum([len(paths[x]) for x in paths])"
   ]
  },
  {
   "cell_type": "code",
   "execution_count": null,
   "metadata": {},
   "outputs": [
    {
     "name": "stdout",
     "output_type": "stream",
     "text": [
      "Directed graph with 17 nodes and 3 edges\n",
      "\n",
      "Node attributes\n",
      "\tnode_sequence\t\t<class 'torch.Tensor'> -> torch.Size([17, 2])\n",
      "\n",
      "Edge attributes\n",
      "\tedge_weight\t\t<class 'torch.Tensor'> -> torch.Size([3])\n",
      "\n",
      "Graph attributes\n",
      "\tnum_nodes\t\t<class 'int'>\n",
      "\n",
      "(('a', 'c'), ('c', 'h')) tensor(1.)\n",
      "(('a', 'g'), ('g', 'h')) tensor(1.)\n",
      "(('c', 'f'), ('f', 'a')) tensor(1.)\n"
     ]
    }
   ],
   "source": [
    "m = pp.MultiOrderModel.from_temporal_graph(t, max_order=4, delta=2)\n",
    "print(m.layers[2])\n",
    "for i, e in enumerate(m.layers[2].edges):\n",
    "    print(e, m.layers[2].data.edge_weight[i])"
   ]
  },
  {
   "cell_type": "code",
   "execution_count": null,
   "metadata": {},
   "outputs": [],
   "source": [
    "# Solution 1 -> slow\n",
    "def temporal_shortest_paths(g: pp.TemporalGraph, delta, max_k) -> defaultdict:\n",
    "    \"\"\"\n",
    "    Calculates all shortest paths between all pairs of nodes \n",
    "    based on a set of empirically observed paths.\n",
    "    \"\"\"\n",
    "    sp = defaultdict(lambda: defaultdict(set))\n",
    "    sp_lengths = torch.full((g.N, g.N), float('inf'))\n",
    "    sp_lengths.fill_diagonal_(float(0))\n",
    "    out_degree=degree(g.data.edge_index[0],num_nodes=g.N)\n",
    "    in_degree =degree(g.data.edge_index[1],num_nodes=g.N)\n",
    "\n",
    "    sp_lengths[out_degree==0]=0\n",
    "    sp_lengths[:,in_degree==0]=0\n",
    "    print(sp_lengths)\n",
    "\n",
    "    # first-order edge index\n",
    "    edge_index, timestamps = sort_edge_index(g.data.edge_index, g.data.t)\n",
    "    node_sequence = torch.arange(g.data.num_nodes, device=edge_index.device).unsqueeze(1)\n",
    "    k = 1\n",
    "    while torch.max(sp_lengths) > k and edge_index.size(1)>0 and k < max_k:\n",
    "\n",
    "        print(f'k = {k}, edge_index size = {edge_index.size(1)}')\n",
    "        #print(f'node_sequences = {node_sequences}')\n",
    "        # check for shorter paths with length k\n",
    "        src, tgt = edge_index\n",
    "        for i in range(edge_index.size(1)):\n",
    "            u = node_sequence[src[i]][0]\n",
    "            v = node_sequence[tgt[i]][-1]\n",
    "            if k < sp_lengths[u][v]:\n",
    "                path = torch.cat([node_sequence[src[i]], v.unsqueeze(dim=0)])\n",
    "                sp_lengths[u][v] = k\n",
    "                sp[u][v] = set([g.mapping.to_id(x.item()) for x in path])\n",
    "            elif k == sp_lengths[u][v]:\n",
    "                path = torch.cat([node_sequence[src[i]], v.unsqueeze(dim=0)])\n",
    "                sp[u][v].add(tuple([g.mapping.to_id(x.item()) for x in path]))\n",
    "                 \n",
    "\n",
    "        if k==1:\n",
    "            null_model_edge_index = pp.MultiOrderModel.lift_order_edge_index(edge_index, num_nodes=node_sequence.size(0))\n",
    "            # Update node sequences\n",
    "            node_sequence = torch.cat([node_sequence[edge_index[0]], node_sequence[edge_index[1]][:, -1:]], dim=1)\n",
    "            # Remove non-time-respecting higher-order edges\n",
    "            time_diff = timestamps[null_model_edge_index[1]] - timestamps[null_model_edge_index[0]]\n",
    "            non_negative_mask = time_diff > 0\n",
    "            delta_mask = time_diff <= delta\n",
    "            time_respecting_mask = non_negative_mask & delta_mask\n",
    "            edge_index = null_model_edge_index[:, time_respecting_mask]\n",
    "        else:\n",
    "            edge_index, node_sequence, _, _ = pp.MultiOrderModel.iterate_lift_order(edge_index, node_sequence, mapping=g.mapping)\n",
    "        k += 1\n",
    "    return sp_lengths, sp\n"
   ]
  },
  {
   "cell_type": "code",
   "execution_count": null,
   "metadata": {},
   "outputs": [],
   "source": [
    "# Solution 2\n",
    "def routes_from_node(g, v, node_sequence, mapping):\n",
    "    \"\"\"\n",
    "    Constructs all paths from node v to any leaf node\n",
    "\n",
    "    Parameters\n",
    "    ----------\n",
    "    v:\n",
    "        node from which to start\n",
    "    node_mapping: dict\n",
    "        an optional mapping from node to a different set.\n",
    "\n",
    "    Returns\n",
    "    -------\n",
    "    Counter\n",
    "    \"\"\"\n",
    "    # Collect temporary paths, indexed by the target node\n",
    "    temp_paths = defaultdict(list)\n",
    "    temp_paths[v] = [[mapping.to_id(node_sequence[v][0].item())]]\n",
    "\n",
    "    # set of unprocessed nodes\n",
    "    queue = {v}\n",
    "\n",
    "    while queue:\n",
    "        # take one unprocessed node\n",
    "        x = queue.pop()\n",
    "\n",
    "        # successors of x expand all temporary\n",
    "        # paths, currently ending in x\n",
    "        s = g.get_successors(x)\n",
    "        for w in s:\n",
    "            w = w.item()\n",
    "            for p in temp_paths[x]:\n",
    "                temp_paths[w].append(p + [mapping.to_id(node_sequence[w][1].item())])\n",
    "            queue.add(w)\n",
    "        if s.size(0) > 0:\n",
    "            del temp_paths[x]\n",
    "    # flatten dictionary\n",
    "    return temp_paths    \n",
    "\n",
    "def temporal_shortest_paths(g: pp.TemporalGraph, delta) -> defaultdict:\n",
    "    \"\"\"\n",
    "    Calculates all shortest paths between all pairs of nodes \n",
    "    based on a set of empirically observed paths.\n",
    "    \"\"\"\n",
    "    sp = defaultdict(lambda: defaultdict(set))\n",
    "    sp_lengths = torch.full((g.N, g.N), float('inf'))\n",
    "    sp_lengths.fill_diagonal_(float(0))\n",
    "    out_degree=degree(g.data.edge_index[0],num_nodes=g.N)\n",
    "    in_degree =degree(g.data.edge_index[1],num_nodes=g.N)\n",
    "\n",
    "    sp_lengths[out_degree==0]=0\n",
    "    sp_lengths[:,in_degree==0]=0\n",
    "    print(sp_lengths)\n",
    "\n",
    "    # first-order edge index\n",
    "    edge_index, timestamps = sort_edge_index(g.data.edge_index, g.data.t)\n",
    "    node_sequence = torch.arange(g.data.num_nodes, device=edge_index.device).unsqueeze(1)\n",
    "    k = 1\n",
    "\n",
    "    # second-order edge index\n",
    "    null_model_edge_index = pp.MultiOrderModel.lift_order_edge_index(edge_index, num_nodes=node_sequence.size(0))\n",
    "    # Update node sequences\n",
    "    node_sequence = torch.cat([node_sequence[edge_index[0]], node_sequence[edge_index[1]][:, -1:]], dim=1)\n",
    "    # Remove non-time-respecting higher-order edges\n",
    "    time_diff = timestamps[null_model_edge_index[1]] - timestamps[null_model_edge_index[0]]\n",
    "    non_negative_mask = time_diff > 0\n",
    "    delta_mask = time_diff <= delta\n",
    "    time_respecting_mask = non_negative_mask & delta_mask\n",
    "    edge_index = null_model_edge_index[:, time_respecting_mask]\n",
    "    \n",
    "    # identify root nodes with in-degree zero\n",
    "    in_degree = degree(edge_index[1],num_nodes=g.M)\n",
    "    roots = torch.where(in_degree==0)[0]\n",
    "\n",
    "    # create traversable graph\n",
    "    event_dag = pp.Graph.from_edge_index(edge_index)\n",
    "    print(event_dag)\n",
    "\n",
    "    # count all longest time-respecting paths in the temporal graph\n",
    "    paths = []\n",
    "    i = 0\n",
    "    for r in roots:\n",
    "        print(f'processing root {i+1}/{roots.size(0)}')\n",
    "        root_paths = routes_from_node(event_dag, r.item(), node_sequence, g.mapping)\n",
    "        print(f'\\t found {len(root_paths)} paths')\n",
    "        for x in root_paths:\n",
    "            for p in root_paths[x]:\n",
    "                paths.append(p)\n",
    "        i += 1\n",
    "    print(len(paths))\n",
    "    return sp_lengths, sp"
   ]
  },
  {
   "cell_type": "code",
   "execution_count": null,
   "metadata": {},
   "outputs": [],
   "source": [
    "sp_lengths, sp = temporal_shortest_paths(t, delta=100)\n",
    "print(sp_lengths)\n",
    "print(sp)"
   ]
  },
  {
   "cell_type": "code",
   "execution_count": null,
   "metadata": {},
   "outputs": [
    {
     "name": "stdout",
     "output_type": "stream",
     "text": [
      "Temporal Graph with 89 nodes, 947 unique edges and 1911 events in [0.0, 1438.0]\n",
      "\n",
      "Graph attributes\n",
      "\tt\t\t<class 'torch.Tensor'> -> torch.Size([1911])\n",
      "\tsrc\t\t<class 'torch.Tensor'> -> torch.Size([1911])\n",
      "\tdst\t\t<class 'torch.Tensor'> -> torch.Size([1911])\n",
      "\n"
     ]
    },
    {
     "name": "stderr",
     "output_type": "stream",
     "text": [
      "/opt/conda/lib/python3.10/site-packages/torch_geometric/data/storage.py:450: UserWarning: Unable to accurately infer 'num_nodes' from the attribute set '{'t', 'src', 'dst'}'. Please explicitly set 'num_nodes' as an attribute of 'data' to suppress this warning\n",
      "  warnings.warn(\n"
     ]
    }
   ],
   "source": [
    "t = pp.TemporalGraph.from_csv('ants_1_1.tedges')\n",
    "print(t)"
   ]
  },
  {
   "cell_type": "code",
   "execution_count": null,
   "metadata": {},
   "outputs": [],
   "source": [
    "paths = temporal_shortest_paths(t, delta=30)\n",
    "print(len(paths))"
   ]
  },
  {
   "cell_type": "code",
   "execution_count": null,
   "metadata": {},
   "outputs": [
    {
     "name": "stdout",
     "output_type": "stream",
     "text": [
      "Directed graph with 1910 nodes and 2518 edges\n",
      "\n",
      "Graph attributes\n",
      "\tnum_nodes\t\t<class 'int'>\n",
      "\n",
      "Processing root 1/597\n",
      "Processing root 11/597\n",
      "Processing root 21/597\n",
      "Processing root 31/597\n",
      "Processing root 41/597\n",
      "Processing root 51/597\n",
      "Processing root 61/597\n",
      "Processing root 71/597\n",
      "Processing root 81/597\n",
      "Processing root 91/597\n",
      "Processing root 101/597\n",
      "Processing root 111/597\n",
      "Processing root 121/597\n",
      "Processing root 131/597\n",
      "Processing root 141/597\n",
      "Processing root 151/597\n",
      "Processing root 161/597\n",
      "Processing root 171/597\n",
      "Processing root 181/597\n",
      "Processing root 191/597\n",
      "Processing root 201/597\n",
      "Processing root 211/597\n",
      "Processing root 221/597\n",
      "Processing root 231/597\n",
      "Processing root 241/597\n",
      "Processing root 251/597\n",
      "Processing root 261/597\n",
      "Processing root 271/597\n",
      "Processing root 281/597\n",
      "Processing root 291/597\n",
      "Processing root 301/597\n",
      "Processing root 311/597\n",
      "Processing root 321/597\n",
      "Processing root 331/597\n",
      "Processing root 341/597\n",
      "Processing root 351/597\n",
      "Processing root 361/597\n",
      "Processing root 371/597\n",
      "Processing root 381/597\n",
      "Processing root 391/597\n",
      "Processing root 401/597\n",
      "Processing root 411/597\n",
      "Processing root 421/597\n",
      "Processing root 431/597\n",
      "Processing root 441/597\n",
      "Processing root 451/597\n",
      "Processing root 461/597\n",
      "Processing root 471/597\n",
      "Processing root 481/597\n",
      "Processing root 491/597\n",
      "Processing root 501/597\n",
      "Processing root 511/597\n",
      "Processing root 521/597\n",
      "Processing root 531/597\n",
      "Processing root 541/597\n",
      "Processing root 551/597\n",
      "Processing root 561/597\n",
      "Processing root 571/597\n",
      "Processing root 581/597\n",
      "Processing root 591/597\n",
      "57\n"
     ]
    }
   ],
   "source": [
    "paths = pp.algorithms.time_respecting_paths(t, delta=30)\n",
    "print(len(paths))"
   ]
  },
  {
   "cell_type": "code",
   "execution_count": null,
   "metadata": {},
   "outputs": [],
   "source": [
    "plt.hist(sp_lengths[sp_lengths < 100].flatten().numpy())"
   ]
  },
  {
   "cell_type": "code",
   "execution_count": null,
   "metadata": {},
   "outputs": [],
   "source": [
    "from matplotlib import pyplot as plt"
   ]
  },
  {
   "cell_type": "code",
   "execution_count": null,
   "metadata": {},
   "outputs": [],
   "source": [
    "a = torch.tensor([0,1,2])\n",
    "b = torch.tensor([1,2,3])\n",
    "torch.cat([a, b[-1].unsqueeze(dim=0)])"
   ]
  },
  {
   "cell_type": "code",
   "execution_count": null,
   "metadata": {},
   "outputs": [],
   "source": [
    "for x in torch.tensor([0,1]):\n",
    "    print(x.item())"
   ]
  },
  {
   "cell_type": "code",
   "execution_count": null,
   "metadata": {},
   "outputs": [],
   "source": []
  }
 ],
 "metadata": {
  "kernelspec": {
   "display_name": "base",
   "language": "python",
   "name": "python3"
  },
  "language_info": {
   "codemirror_mode": {
    "name": "ipython",
    "version": 3
   },
   "file_extension": ".py",
   "mimetype": "text/x-python",
   "name": "python",
   "nbconvert_exporter": "python",
   "pygments_lexer": "ipython3",
   "version": "3.10.13"
  }
 },
 "nbformat": 4,
 "nbformat_minor": 2
}
