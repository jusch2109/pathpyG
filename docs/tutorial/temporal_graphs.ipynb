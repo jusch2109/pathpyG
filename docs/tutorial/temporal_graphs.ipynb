{
 "cells": [
  {
   "cell_type": "markdown",
   "metadata": {},
   "source": [
    "# Temporal Graphs and Path Data\n",
    "\n",
    "## Motivation and Learning Objectives\n",
    "\n",
    "In this tutorial we will introduce the representation of temporal graph data in the `Temporal Graph` class and how such data can be used to calculate time respecting paths.\n"
   ]
  },
  {
   "cell_type": "code",
   "execution_count": 1,
   "metadata": {},
   "outputs": [],
   "source": [
    "import torch\n",
    "from torch_geometric.data import TemporalData\n",
    "import numpy as np\n",
    "import pathpyG as pp\n",
    "\n",
    "pp.config['torch']['device'] = 'cpu'"
   ]
  },
  {
   "cell_type": "code",
   "execution_count": 22,
   "metadata": {},
   "outputs": [
    {
     "name": "stdout",
     "output_type": "stream",
     "text": [
      "8\n",
      "20\n"
     ]
    }
   ],
   "source": [
    "tedges = [('a', 'b', 1), ('b', 'c', 5), ('c', 'd', 9), ('c', 'd', 9),\n",
    "              ('c', 'f', 11), ('f', 'a', 13), ('a', 'g', 18), ('b', 'f', 21),\n",
    "              ('a', 'g', 26), ('c', 'f', 27), ('h', 'f', 27), ('g', 'h', 28),\n",
    "              ('a', 'c', 30), ('a', 'b', 31), ('c', 'h', 32), ('f', 'h', 33),\n",
    "              ('b', 'i', 42), ('i', 'b', 42), ('c', 'i', 47), ('h', 'i', 50)]\n",
    "t = pp.TemporalGraph.from_edge_list(tedges)\n",
    "print(t.N)\n",
    "print(t.M)"
   ]
  },
  {
   "cell_type": "code",
   "execution_count": 3,
   "metadata": {},
   "outputs": [
    {
     "name": "stdout",
     "output_type": "stream",
     "text": [
      "TemporalData(src=[20], dst=[20], t=[20])\n"
     ]
    }
   ],
   "source": [
    "print(t.data)"
   ]
  },
  {
   "cell_type": "code",
   "execution_count": 4,
   "metadata": {},
   "outputs": [
    {
     "name": "stdout",
     "output_type": "stream",
     "text": [
      "TemporalData(src=[4], dst=[4], t=[4])\n"
     ]
    }
   ],
   "source": [
    "td = TemporalData(\n",
    "    src = torch.Tensor([0,1,2,0]),\n",
    "    dst = torch.Tensor([1,2,3,1]), \n",
    "    t = torch.Tensor([0,1,2,3]))\n",
    "print(td)"
   ]
  },
  {
   "cell_type": "code",
   "execution_count": 5,
   "metadata": {},
   "outputs": [
    {
     "data": {
      "text/plain": [
       "tensor([[0., 1.],\n",
       "        [1., 2.],\n",
       "        [2., 3.],\n",
       "        [2., 4.],\n",
       "        [2., 5.],\n",
       "        [5., 0.],\n",
       "        [0., 6.],\n",
       "        [1., 5.],\n",
       "        [0., 6.],\n",
       "        [7., 5.],\n",
       "        [2., 5.],\n",
       "        [6., 7.],\n",
       "        [0., 2.],\n",
       "        [0., 1.],\n",
       "        [2., 7.],\n",
       "        [5., 7.],\n",
       "        [1., 8.],\n",
       "        [8., 1.],\n",
       "        [2., 8.],\n",
       "        [7., 8.]])"
      ]
     },
     "execution_count": 5,
     "metadata": {},
     "output_type": "execute_result"
    }
   ],
   "source": [
    "t.data.edge_index.t()"
   ]
  },
  {
   "cell_type": "code",
   "execution_count": 6,
   "metadata": {},
   "outputs": [],
   "source": [
    "t2 = pp.TemporalGraph(td)"
   ]
  },
  {
   "cell_type": "code",
   "execution_count": 23,
   "metadata": {},
   "outputs": [
    {
     "name": "stdout",
     "output_type": "stream",
     "text": [
      "Temporal Graph with 4 nodes, 3 unique edges and 4 events in [1.0, 9.0]\n",
      "\n",
      "Graph attributes\n",
      "\tsrc\t\t<class 'torch.Tensor'> -> torch.Size([4])\n",
      "\tdst\t\t<class 'torch.Tensor'> -> torch.Size([4])\n",
      "\tt\t\t<class 'torch.Tensor'> -> torch.Size([4])\n",
      "\n",
      "4\n",
      "4\n"
     ]
    }
   ],
   "source": [
    "t1 = t.get_window(0,4)\n",
    "print(t1)\n",
    "print(t1.N)\n",
    "print(t1.M)"
   ]
  },
  {
   "cell_type": "markdown",
   "metadata": {},
   "source": [
    "## Temporal Graphs"
   ]
  },
  {
   "cell_type": "markdown",
   "metadata": {},
   "source": [
    "Let's start with a simple temporal graph with four nodes `a`,`b`,`c`,`d` and seven timestamped edges `(b,c;2)`,`(a,b;1)`,`(c,d;3)`,`(d,a;4)`,`(b,d;2)`, `(d,a;6)`,`(a,b;7)`. \n",
    "\n",
    "The following code generates this temporal graph from the given edge list."
   ]
  },
  {
   "cell_type": "code",
   "execution_count": 24,
   "metadata": {},
   "outputs": [
    {
     "name": "stdout",
     "output_type": "stream",
     "text": [
      "Temporal Graph with 4 nodes, 5 unique edges and 7 events in [1.0, 7.0]\n",
      "\n",
      "Graph attributes\n",
      "\tsrc\t\t<class 'torch.Tensor'> -> torch.Size([7])\n",
      "\tdst\t\t<class 'torch.Tensor'> -> torch.Size([7])\n",
      "\tt\t\t<class 'torch.Tensor'> -> torch.Size([7])\n",
      "\n"
     ]
    }
   ],
   "source": [
    "g = pp.TemporalGraph.from_edge_list([['b', 'c', 2],['a', 'b', 1], ['c', 'd', 3], ['d', 'a', 4], ['b', 'd', 2], ['d', 'a', 6], ['a', 'b', 7]])\n",
    "print(g)"
   ]
  },
  {
   "cell_type": "markdown",
   "metadata": {},
   "source": [
    "We can visualize a temporal graph by using the pathpyG plot function."
   ]
  },
  {
   "cell_type": "code",
   "execution_count": 25,
   "metadata": {},
   "outputs": [
    {
     "data": {
      "text/html": [
       "<style>\n",
       "svg circle.node {\n",
       "  fill: #3b5998;\n",
       "  stroke: #1b3978;\n",
       "  stroke-width: 2.5px;\n",
       "  r: 15px;\n",
       "  opacity: 1;\n",
       "}\n",
       "\n",
       ".link {\n",
       "  stroke: #969595;\n",
       "  stroke-opacity: .75;\n",
       "  stroke-width: 2.5px;\n",
       "}\n",
       "\n",
       ".labelText {\n",
       "  fill: #817e7e;\n",
       "}\n",
       "</style>\n",
       "\n",
       "<div id = \"x18d5d327c44447aa8a33fb6c9e0cd24d\"> </div>\n",
       "<script charset=\"utf-8\" src=\"https://d3js.org/d3.v5.min.js\"></script>\n",
       "<script charset=\"utf-8\">\n",
       "// Load via requireJS if available (jupyter notebook environment)\n",
       "try {\n",
       "    // Problem: require.config will raise an exception when called for the second time \n",
       "    require.config({\n",
       "        paths: {\n",
       "            d3: \"https://d3js.org/d3.v5.min.js\".replace(\".js\", \"\")\n",
       "        }\n",
       "    });\n",
       "    console.log(\"OKAY: requireJS was detected.\");\n",
       "}\n",
       "catch(err){\n",
       "    // a reference error indicates that requireJS does not exist. \n",
       "    // other errors may occur due to multiple calls to config\n",
       "    if (err instanceof ReferenceError){\n",
       "        console.log(\"WARNING: NO requireJS was detected!\");\n",
       "\n",
       "        // Helper function that waits for d3js to be loaded\n",
       "        require = function require(symbols, callback) {\n",
       "            var ms = 10;\n",
       "            window.setTimeout(function(t) {\n",
       "                if (window[symbols[0]])\n",
       "                    callback(window[symbols[0]]);\n",
       "                else \n",
       "                    window.setTimeout(arguments.callee, ms);\n",
       "            }, ms);\n",
       "        }\n",
       "    }\n",
       "};\n",
       "require(['d3'], function(d3){ //START\n",
       "const data = {\"edges\": [{\"uid\": \"a-b-1.0\", \"source\": \"a\", \"target\": \"b\", \"start\": 1, \"end\": 2, \"weight\": 1, \"color\": \"lightgray\"}, {\"uid\": \"b-c-2.0\", \"source\": \"b\", \"target\": \"c\", \"start\": 2, \"end\": 3, \"weight\": 1, \"color\": \"lightgray\"}, {\"uid\": \"b-d-2.0\", \"source\": \"b\", \"target\": \"d\", \"start\": 2, \"end\": 3, \"weight\": 1, \"color\": \"lightgray\"}, {\"uid\": \"c-d-3.0\", \"source\": \"c\", \"target\": \"d\", \"start\": 3, \"end\": 4, \"weight\": 1, \"color\": \"lightgray\"}, {\"uid\": \"d-a-4.0\", \"source\": \"d\", \"target\": \"a\", \"start\": 4, \"end\": 5, \"weight\": 1, \"color\": \"lightgray\"}, {\"uid\": \"d-a-6.0\", \"source\": \"d\", \"target\": \"a\", \"start\": 6, \"end\": 7, \"weight\": 1, \"color\": \"lightgray\"}, {\"uid\": \"a-b-7.0\", \"source\": \"a\", \"target\": \"b\", \"start\": 7, \"end\": 8, \"weight\": 1, \"color\": \"lightgray\"}], \"nodes\": [{\"uid\": \"b\", \"start\": 0, \"end\": 8}, {\"uid\": \"c\", \"start\": 0, \"end\": 8}, {\"uid\": \"a\", \"start\": 0, \"end\": 8}, {\"uid\": \"d\", \"start\": 0, \"end\": 8}]}\n",
       "const config = {\"edge_color\": \"lightgray\", \"end\": 8, \"start\": 0, \"selector\": \"#x18d5d327c44447aa8a33fb6c9e0cd24d\"}\n",
       "console.log(\"Temporal Network Template\");\n",
       "/* Resources\n",
       "   https://bl.ocks.org/mapio/53fed7d84cd1812d6a6639ed7aa83868\n",
       "   https://codepen.io/smlo/pen/JdMOej\n",
       "   https://observablehq.com/@d3/temporal-force-directed-graph\n",
       "*/\n",
       "\n",
       "// console.log(data);\n",
       "\n",
       "// variables from the config file\n",
       "const selector = config.selector;\n",
       "const width = config.width || 800;\n",
       "const height = config.height || 600;\n",
       "const delta = config.delta || 300;\n",
       "\n",
       "// variables for the temporal components\n",
       "const startTime = config.start;\n",
       "const endTime = config.end;\n",
       "const targetValue = config.intervals || 300;\n",
       "const duration = config.delta || 300;  \n",
       "\n",
       "\n",
       "/* Create a svg element to display the network */\n",
       "let svg = d3.select(selector)\n",
       "    .append('svg')\n",
       "    .attr('width', width)\n",
       "    .attr('height', height);\n",
       "\n",
       "/*Container to store d3js objects */\n",
       "let container = svg.append(\"g\");\n",
       "\n",
       "/*Link creation template */\n",
       "let edges = container.append(\"g\").attr(\"class\", \"edges\")\n",
       "    .selectAll(\".link\");\n",
       "\n",
       "/*Node creation template */\n",
       "let nodes = container.append(\"g\").attr(\"class\", \"nodes\")\n",
       "    .selectAll(\"circle.node\");\n",
       "\n",
       "/*Time counter */\n",
       "let text = svg.append(\"text\")\n",
       "    .text(\"T=\"+startTime)\n",
       "    .attr(\"x\", 20)\n",
       "    .attr(\"y\", 20);\n",
       "\n",
       "let bttn = svg.append(\"text\")\n",
       "    .attr(\"x\",70)\n",
       "    .attr(\"y\", 20)\n",
       "    .text(\"Play\");\n",
       "\n",
       "/*Assign data to variable*/\n",
       "let network = data\n",
       "\n",
       "/*Render function to show dynamic networks*/\n",
       "function render(){\n",
       "\n",
       "    // get network data\n",
       "    let nodeData = network.nodes;\n",
       "    let edgeData = network.edges;\n",
       "\n",
       "    // render network objects\n",
       "    renderNodes(nodeData);\n",
       "    renderEdges(edgeData);\n",
       "\n",
       "    // run simulation\n",
       "    simulation.nodes(nodeData);\n",
       "    simulation.force(\"links\").links(edgeData);\n",
       "    simulation.alpha(1).restart();\n",
       "}\n",
       "\n",
       "/*Render node objects*/\n",
       "function renderNodes(data){\n",
       "    // console.log(\"render Nodes\")\n",
       "    \n",
       "    nodes = container.select('.nodes').selectAll('circle.node').data(data,d=>d.uid);\n",
       "\n",
       "    let new_nodes = nodes.enter().append(\"circle\")\n",
       "        .attr(\"class\", \"node\")\n",
       "        .style(\"r\", d => d.size)\n",
       "        .style(\"fill\", d => d.color)\n",
       "        .style(\"opacity\", d => d.opacity)\n",
       "        .call(drag);\n",
       "\n",
       "    nodes.exit()\n",
       "        .transition() // transition to shrink node\n",
       "        .duration(delta)\n",
       "        .style(\"r\", \"0px\")\n",
       "        .remove();\n",
       "\n",
       "    nodes = nodes.merge(new_nodes);\n",
       "\n",
       "    nodes.transition() // transition to change size and color\n",
       "        .duration(delta)\n",
       "        .style(\"r\", d => d.size)\n",
       "        .style(\"fill\", d => d.color)\n",
       "        .style(\"opacity\", d => d.opacity);\n",
       "};\n",
       "\n",
       "/*Render edge objects*/\n",
       "function renderEdges(data){\n",
       "    // console.log(\"render Edges\")\n",
       "    edges = container.select(\".edges\").selectAll(\".link\").data(data, d=> d.uid);\n",
       "\n",
       "    let new_edges =  edges.enter().append(\"line\")\n",
       "        .attr(\"class\", \"link\")\n",
       "        .style(\"stroke\", d => d.color)\n",
       "        .style(\"stroke-opacity\", d => d.opacity)\n",
       "        .style(\"stroke-width\", d => d.size);\n",
       "\n",
       "    edges.exit().remove();\n",
       "\n",
       "    edges = edges.merge(new_edges);\n",
       "\n",
       "    edges.transition() // transition to change size and color\n",
       "        .duration(delta)\n",
       "        .style(\"stroke\", d => d.color)\n",
       "        .style(\"stroke-opacity\", d => d.opacity)\n",
       "        .style(\"stroke-width\", d => d.size);\n",
       "};\n",
       "\n",
       "/*Add zoom function to the container */\n",
       "svg.call(\n",
       "    d3.zoom()\n",
       "        .scaleExtent([.1, 4])\n",
       "        .on(\"zoom\", function() { container.attr(\"transform\", d3.event.transform); })\n",
       ").on(\"dblclick.zoom\", null);\n",
       "\n",
       "\n",
       "/*Simulation of the forces*/\n",
       "const simulation = d3.forceSimulation()\n",
       "      .force(\"charge\", d3.forceManyBody().strength(-3000))\n",
       "      .force(\"center\", d3.forceCenter(width / 2, height / 2))\n",
       "      .force(\"x\", d3.forceX(width / 2).strength(1))\n",
       "      .force(\"y\", d3.forceY(height / 2).strength(1))\n",
       "      .force(\"links\", d3.forceLink()\n",
       "             .id( d => d.uid)\n",
       "             .distance(50).strength(1))\n",
       "      .on(\"tick\", ticked);\n",
       "\n",
       "\n",
       "/*Update of the node and edge objects*/\n",
       "function ticked() {\n",
       "    nodes.call(updateNodePositions);\n",
       "    edges.call(updateEdgePositions);\n",
       "};\n",
       "\n",
       "/*Update link positions */\n",
       "function updateEdgePositions(edges) {\n",
       "    edges\n",
       "        .attr(\"x1\", d => d.source.x)\n",
       "        .attr(\"y1\", d => d.source.y)\n",
       "        .attr(\"x2\", d => d.target.x)\n",
       "        .attr(\"y2\", d => d.target.y);\n",
       "};\n",
       "\n",
       "/*Update node positions */\n",
       "function updateNodePositions(nodes) {\n",
       "    nodes\n",
       "        .attr(\"cx\", d => d.x)\n",
       "        .attr(\"cy\", d => d.y);\n",
       "};\n",
       "\n",
       "/*Add drag functionality to the node objects*/\n",
       "const drag = d3.drag()\n",
       "      .on(\"start\", dragstarted)\n",
       "      .on(\"drag\", dragged)\n",
       "      .on(\"end\", dragended);\n",
       "\n",
       "function dragstarted(d) {\n",
       "    d3.event.sourceEvent.stopPropagation();\n",
       "    if (!d3.event.active) simulation.alphaTarget(0.3).restart();\n",
       "    d.fx = d.x;\n",
       "    d.fy = d.y;\n",
       "};\n",
       "\n",
       "function dragged(d) {\n",
       "    d.fx = d3.event.x;\n",
       "    d.fy = d3.event.y;\n",
       "};\n",
       "\n",
       "function dragended(d) {\n",
       "    if (!d3.event.active) simulation.alphaTarget(0);\n",
       "    d.fx = null;\n",
       "    d.fy = null;\n",
       "};\n",
       "\n",
       "\n",
       "/*Temporal components*/\n",
       "let currentValue = 0;\n",
       "let time = startTime;\n",
       "var timer = null;\n",
       "\n",
       "var x = d3.scaleLinear()\n",
       "    .domain([startTime,endTime])\n",
       "    .range([0,targetValue])\n",
       "    .clamp(true);\n",
       "\n",
       "let step = function () {\n",
       "    // increase time value\n",
       "    currentValue = currentValue + (targetValue/endTime);\n",
       "    // convert time value to time step\n",
       "    time = x.invert(currentValue);\n",
       "    // update the network\n",
       "    update();\n",
       "    // stop the timer\n",
       "    if (currentValue >= targetValue) {\n",
       "        timer.stop();\n",
       "        currentValue = 0;\n",
       "        bttn.text(\"Play\")\n",
       "        text.text(d => \"T=\"+startTime);\n",
       "        console.log(\"End of the timer\");\n",
       "    };\n",
       "};\n",
       "\n",
       "contains = ({start, end}, time) => start <= time && time < end\n",
       "\n",
       "function update(){\n",
       "    console.log(\"update Network\");\n",
       "    console.log(time);\n",
       "\n",
       "    // Make copy to don't lose the data\n",
       "    let copy = {...data};\n",
       "    // TODO Instead of copy make a map to keep object properties\n",
       "    network=copy;\n",
       "    network.nodes = copy.nodes.filter(d => contains(d,time));\n",
       "    network.edges = copy.edges.filter(d => contains(d,time));\n",
       "    text.text(d => \"T=\"+Math.round(time));\n",
       "    render();\n",
       "};\n",
       "\n",
       "bttn.on('click', function() {\n",
       "    if (bttn.text() == \"Pause\") {\n",
       "        timer.stop();\n",
       "        bttn.text(\"Play\");\n",
       "    }else{\n",
       "        runTimer();\n",
       "    };\n",
       "  \n",
       "});\n",
       "\n",
       "function runTimer(){\n",
       "    timer = d3.interval(step,duration);\n",
       "    bttn.text(\"Pause\");\n",
       "}\n",
       "\n",
       "runTimer();\n",
       "\n",
       "// initialize timer\n",
       "//let timer = d3.interval(step,duration);\n",
       "}); //END\n",
       "\n",
       "</script>"
      ]
     },
     "metadata": {},
     "output_type": "display_data"
    },
    {
     "data": {
      "text/plain": [
       "<pathpyG.visualisations.network_plots.TemporalNetworkPlot at 0x7f491ab17910>"
      ]
     },
     "execution_count": 25,
     "metadata": {},
     "output_type": "execute_result"
    }
   ],
   "source": [
    "pp.plot(g, edge_color='lightgray')"
   ]
  },
  {
   "cell_type": "markdown",
   "metadata": {},
   "source": [
    "Consistent with `pyG` the sources, destinations and timestamps are stored as a `pyG TemporalData` object, which we can access in the following way.\n",
    "\n"
   ]
  },
  {
   "cell_type": "code",
   "execution_count": 26,
   "metadata": {},
   "outputs": [
    {
     "data": {
      "text/plain": [
       "TemporalData(src=[7], dst=[7], t=[7])"
      ]
     },
     "execution_count": 26,
     "metadata": {},
     "output_type": "execute_result"
    }
   ],
   "source": [
    "g.data"
   ]
  },
  {
   "cell_type": "code",
   "execution_count": 27,
   "metadata": {},
   "outputs": [
    {
     "name": "stdout",
     "output_type": "stream",
     "text": [
      "tensor([1., 2., 2., 3., 4., 6., 7.])\n"
     ]
    }
   ],
   "source": [
    "print(g.data.t)"
   ]
  },
  {
   "cell_type": "markdown",
   "metadata": {},
   "source": [
    "With the generator functions `edges` and `temporal_edges` we can iterate through the (temporal) edges of this graph."
   ]
  },
  {
   "cell_type": "code",
   "execution_count": 28,
   "metadata": {},
   "outputs": [
    {
     "name": "stdout",
     "output_type": "stream",
     "text": [
      "a b\n",
      "b c\n",
      "b d\n",
      "c d\n",
      "d a\n",
      "d a\n",
      "a b\n"
     ]
    }
   ],
   "source": [
    "for v, w in g.edges:\n",
    "    print(v, w)"
   ]
  },
  {
   "cell_type": "code",
   "execution_count": 29,
   "metadata": {},
   "outputs": [
    {
     "name": "stdout",
     "output_type": "stream",
     "text": [
      "a b 1.0\n",
      "b c 2.0\n",
      "b d 2.0\n",
      "c d 3.0\n",
      "d a 4.0\n",
      "d a 6.0\n",
      "a b 7.0\n"
     ]
    }
   ],
   "source": [
    "for v, w, t in g.temporal_edges:\n",
    "    print(v, w, t)"
   ]
  },
  {
   "cell_type": "markdown",
   "metadata": {},
   "source": [
    "## Extracting Causal Topologies via Node-Time Event DAGs"
   ]
  },
  {
   "cell_type": "markdown",
   "metadata": {},
   "source": [
    "We are often interested in the time respecting paths of a temporal graph.\n",
    "\n",
    "A time respecting path is defined as a sequence of nodes $v_0,...,v_l$ where the corresponding edges occur in the right time ordering and with a maximum time difference of $\\delta\\in \\N$. "
   ]
  },
  {
   "cell_type": "markdown",
   "metadata": {},
   "source": [
    "In order to extract those paths out of a temporal graph, we have to construct a time-unfolded directed acyclic graph (DAG) that represents the network and captures all causal structures.\n",
    "\n",
    "The nodes of a DAG are node-time-events of the temporal graph, i.e a node `a-t` represents the node `a` at time `t`. \n",
    "\n",
    "Two nodes `a-t` and `b-t'` are connected (with exceptions, see code ) if `a-t` directly influences `b-t'` \n"
   ]
  },
  {
   "cell_type": "code",
   "execution_count": 30,
   "metadata": {},
   "outputs": [
    {
     "name": "stdout",
     "output_type": "stream",
     "text": [
      "Graph with 9 nodes and 7 edges\n",
      "\n",
      "Node attributes\n",
      "\tnode_name\t\t<class 'list'>\n",
      "\tnode_idx\t\t<class 'list'>\n",
      "\n",
      "Edge attributes\n",
      "\tedge_ts\t\t<class 'torch.Tensor'> -> torch.Size([7])\n",
      "\n",
      "Graph attributes\n",
      "\tnum_nodes\t\t<class 'int'>\n",
      "\n",
      "a-1.0 -> 0\n",
      "b-2.0 -> 1\n",
      "c-3.0 -> 2\n",
      "d-3.0 -> 3\n",
      "d-4.0 -> 4\n",
      "a-5.0 -> 5\n",
      "d-6.0 -> 6\n",
      "a-7.0 -> 7\n",
      "b-8.0 -> 8\n",
      "\n",
      "tensor([[0, 1, 1, 2, 4, 6, 7],\n",
      "        [1, 2, 3, 4, 5, 7, 8]])\n"
     ]
    },
    {
     "data": {
      "text/html": [
       "<style>\n",
       "svg circle.node {\n",
       "  fill: #3b5998;\n",
       "  stroke: #1b3978;\n",
       "  stroke-width: 2.5px;\n",
       "  r: 15px;\n",
       "  opacity: 1;\n",
       "}\n",
       "\n",
       ".link {\n",
       "  stroke: #969595;\n",
       "  stroke-opacity: .75;\n",
       "  stroke-width: 2.5px;\n",
       "}\n",
       "\n",
       ".labelText {\n",
       "  fill: #817e7e;\n",
       "}\n",
       "</style>\n",
       "\n",
       "<div id = \"xac06a679ebcf4035a011025383fc8009\"> </div>\n",
       "<script charset=\"utf-8\" src=\"https://d3js.org/d3.v5.min.js\"></script>\n",
       "<script charset=\"utf-8\">\n",
       "// Load via requireJS if available (jupyter notebook environment)\n",
       "try {\n",
       "    // Problem: require.config will raise an exception when called for the second time \n",
       "    require.config({\n",
       "        paths: {\n",
       "            d3: \"https://d3js.org/d3.v5.min.js\".replace(\".js\", \"\")\n",
       "        }\n",
       "    });\n",
       "    console.log(\"OKAY: requireJS was detected.\");\n",
       "}\n",
       "catch(err){\n",
       "    // a reference error indicates that requireJS does not exist. \n",
       "    // other errors may occur due to multiple calls to config\n",
       "    if (err instanceof ReferenceError){\n",
       "        console.log(\"WARNING: NO requireJS was detected!\");\n",
       "\n",
       "        // Helper function that waits for d3js to be loaded\n",
       "        require = function require(symbols, callback) {\n",
       "            var ms = 10;\n",
       "            window.setTimeout(function(t) {\n",
       "                if (window[symbols[0]])\n",
       "                    callback(window[symbols[0]]);\n",
       "                else \n",
       "                    window.setTimeout(arguments.callee, ms);\n",
       "            }, ms);\n",
       "        }\n",
       "    }\n",
       "};\n",
       "require(['d3'], function(d3){ //START\n",
       "const data = {\"edges\": [{\"uid\": \"a-1.0-b-2.0\", \"source\": \"a-1.0\", \"target\": \"b-2.0\", \"weight\": 1, \"color\": \"lightgray\"}, {\"uid\": \"b-2.0-c-3.0\", \"source\": \"b-2.0\", \"target\": \"c-3.0\", \"weight\": 1, \"color\": \"lightgray\"}, {\"uid\": \"b-2.0-d-3.0\", \"source\": \"b-2.0\", \"target\": \"d-3.0\", \"weight\": 1, \"color\": \"lightgray\"}, {\"uid\": \"c-3.0-d-4.0\", \"source\": \"c-3.0\", \"target\": \"d-4.0\", \"weight\": 1, \"color\": \"lightgray\"}, {\"uid\": \"d-4.0-a-5.0\", \"source\": \"d-4.0\", \"target\": \"a-5.0\", \"weight\": 1, \"color\": \"lightgray\"}, {\"uid\": \"d-6.0-a-7.0\", \"source\": \"d-6.0\", \"target\": \"a-7.0\", \"weight\": 1, \"color\": \"lightgray\"}, {\"uid\": \"a-7.0-b-8.0\", \"source\": \"a-7.0\", \"target\": \"b-8.0\", \"weight\": 1, \"color\": \"lightgray\"}], \"nodes\": [{\"uid\": \"a-1.0\"}, {\"uid\": \"b-2.0\"}, {\"uid\": \"c-3.0\"}, {\"uid\": \"d-3.0\"}, {\"uid\": \"d-4.0\"}, {\"uid\": \"a-5.0\"}, {\"uid\": \"d-6.0\"}, {\"uid\": \"a-7.0\"}, {\"uid\": \"b-8.0\"}]}\n",
       "const config = {\"edge_color\": \"lightgray\", \"selector\": \"#xac06a679ebcf4035a011025383fc8009\"}\n",
       "console.log(\"Static Network Template\");\n",
       "/* Resources\n",
       "   https://bl.ocks.org/mapio/53fed7d84cd1812d6a6639ed7aa83868\n",
       "   https://codepen.io/smlo/pen/JdMOej\n",
       "*/\n",
       "\n",
       "// variables from the config file\n",
       "const selector = config.selector;\n",
       "const width = config.width || 800;\n",
       "const height = config.height || 600;\n",
       "const charge_distance = config.charge_distance || 400;\n",
       "const charge_force = config.charge_force || -3000;\n",
       "// const weight = false;\n",
       "\n",
       "/* Create a svg element to display the network */\n",
       "var svg = d3.select(selector)\n",
       "    .append('svg')\n",
       "    .attr('width', width)\n",
       "    .attr('height', height)\n",
       "\n",
       "// add container to store the elements\n",
       "var container = svg.append(\"g\");\n",
       "\n",
       "/*Add zoom function to the container */\n",
       "svg.call(\n",
       "    d3.zoom()\n",
       "        .scaleExtent([.1, 4])\n",
       "        .on(\"zoom\", function() { container.attr(\"transform\", d3.event.transform); })\n",
       ");\n",
       "\n",
       "\n",
       "/*Load nodes and links from the data */\n",
       "var nodes = data.nodes\n",
       "var links = data.edges\n",
       "\n",
       "/*Link creation template */\n",
       "var link = container.append(\"g\").attr(\"class\", \"links\")\n",
       "    .selectAll(\".link\")\n",
       "    .data(links)\n",
       "    .enter()\n",
       "    .append(\"line\")\n",
       "    .attr(\"class\", \"link\")\n",
       "    .style(\"stroke\", function(d) { return d.color; })\n",
       "    .style(\"stroke-opacity\", function(d) { return d.opacity; })\n",
       "    .style(\"stroke-width\", function(d){  return d.size });\n",
       "\n",
       "/*Node creation template */\n",
       "var node = container.append(\"g\").attr(\"class\", \"nodes\")\n",
       "    .selectAll(\"circle.node\")\n",
       "    .data(nodes)\n",
       "    .enter().append(\"circle\")\n",
       "    .attr(\"class\", \"node\")\n",
       "    .attr(\"x\", function(d) { return d.x; })\n",
       "    .attr(\"y\", function(d) { return d.y; })\n",
       "    .style(\"r\", function(d){  return d.size+\"px\"; })\n",
       "    .style(\"fill\", function(d) { return d.color; })\n",
       "    .style(\"opacity\", function(d) { return d.opacity; });\n",
       "\n",
       "/*Scale weight for d3js */\n",
       "var weightScale = d3.scaleLinear()\n",
       "    .domain(d3.extent(links, function (d) { return d.weight }))\n",
       "    .range([.1, 1]);\n",
       "\n",
       "/*Simulation of the forces*/\n",
       "var simulation = d3.forceSimulation(nodes)\n",
       "    .force(\"links\", d3.forceLink(links)\n",
       "           .id(function(d) {return d.uid; })\n",
       "           .distance(50)\n",
       "           .strength(function(d){return weightScale(d.weight);})\n",
       "          )\n",
       "    .force(\"charge\", d3.forceManyBody()\n",
       "           .strength(charge_force)\n",
       "           .distanceMax(charge_distance)\n",
       "          )\n",
       "    .force(\"center\", d3.forceCenter(width / 2, height / 2))\n",
       "    .on(\"tick\", ticked);\n",
       "\n",
       "/*Update of the node and edge objects*/\n",
       "function ticked() {\n",
       "    node.call(updateNode);\n",
       "    link.call(updateLink);\n",
       "};\n",
       "\n",
       "/*Update link positions */\n",
       "function updateLink(link) {\n",
       "    link\n",
       "        .attr(\"x1\", function(d) { return d.source.x; })\n",
       "        .attr(\"y1\", function(d) { return d.source.y; })\n",
       "        .attr(\"x2\", function(d) { return d.target.x; })\n",
       "        .attr(\"y2\", function(d) { return d.target.y; });\n",
       "};\n",
       "\n",
       "/*Update node positions */\n",
       "function updateNode(node) {\n",
       "    node.attr(\"transform\", function(d) {\n",
       "        return \"translate(\" + d.x + \",\" + d.y + \")\";\n",
       "    });\n",
       "};\n",
       "\n",
       "/*Add drag functionality to the node objects*/\n",
       "node.call(\n",
       "    d3.drag()\n",
       "        .on(\"start\", dragstarted)\n",
       "        .on(\"drag\", dragged)\n",
       "        .on(\"end\", dragended)\n",
       ");\n",
       "\n",
       "function dragstarted(d) {\n",
       "    d3.event.sourceEvent.stopPropagation();\n",
       "    if (!d3.event.active) simulation.alphaTarget(0.3).restart();\n",
       "    d.fx = d.x;\n",
       "    d.fy = d.y;\n",
       "};\n",
       "\n",
       "function dragged(d) {\n",
       "    d.fx = d3.event.x;\n",
       "    d.fy = d3.event.y;\n",
       "};\n",
       "\n",
       "function dragended(d) {\n",
       "    if (!d3.event.active) simulation.alphaTarget(0);\n",
       "    d.fx = null;\n",
       "    d.fy = null;\n",
       "};\n",
       "\n",
       "}); //END\n",
       "\n",
       "</script>"
      ]
     },
     "metadata": {},
     "output_type": "display_data"
    },
    {
     "data": {
      "text/plain": [
       "<pathpyG.visualisations.network_plots.StaticNetworkPlot at 0x7f491a93d960>"
      ]
     },
     "execution_count": 30,
     "metadata": {},
     "output_type": "execute_result"
    }
   ],
   "source": [
    "dag = pp.algorithms.temporal_graph_to_event_dag(g, delta=1)\n",
    "print(dag)\n",
    "\n",
    "print(dag.mapping)\n",
    "print(dag.data.edge_index)\n",
    "\n",
    "pp.plot(dag, edge_color='lightgray')"
   ]
  },
  {
   "cell_type": "markdown",
   "metadata": {},
   "source": [
    "With the following code, we can extract DAGs with only one single root node, which is not influenced by any other node-time event in the temporal graph."
   ]
  },
  {
   "cell_type": "code",
   "execution_count": 31,
   "metadata": {},
   "outputs": [
    {
     "name": "stdout",
     "output_type": "stream",
     "text": [
      "{'a-1.0': tensor([[0, 1, 1, 2, 4],\n",
      "        [1, 2, 3, 4, 5]], dtype=torch.int32), 'd-6.0': tensor([[6, 7],\n",
      "        [7, 8]], dtype=torch.int32)}\n"
     ]
    }
   ],
   "source": [
    "x = pp.algorithms.extract_causal_trees(dag)\n",
    "print(x)"
   ]
  },
  {
   "cell_type": "markdown",
   "metadata": {},
   "source": [
    "## Higher-Order De Bruijn Graph Models for Causal Paths"
   ]
  },
  {
   "cell_type": "markdown",
   "metadata": {},
   "source": [
    "With the DAG, we can now extract the time-respecting paths in our temporal graph."
   ]
  },
  {
   "cell_type": "code",
   "execution_count": 32,
   "metadata": {},
   "outputs": [
    {
     "name": "stdout",
     "output_type": "stream",
     "text": [
      "tensor([[0, 1, 1, 2, 4],\n",
      "        [1, 2, 3, 4, 5]])\n",
      "tensor([[6, 7],\n",
      "        [7, 8]])\n",
      "b -> 0\n",
      "c -> 1\n",
      "a -> 2\n",
      "d -> 3\n",
      "\n"
     ]
    }
   ],
   "source": [
    "paths = pp.PathData.from_temporal_dag(dag)\n",
    "print(paths.paths[0])\n",
    "print(paths.paths[1])\n",
    "print(g.mapping)"
   ]
  },
  {
   "cell_type": "markdown",
   "metadata": {},
   "source": [
    "The path data allows us to construct a Higher-Order De Bruijn Graph model belong to our temporal network."
   ]
  },
  {
   "cell_type": "code",
   "execution_count": 17,
   "metadata": {},
   "outputs": [
    {
     "data": {
      "text/html": [
       "<style>\n",
       "svg circle.node {\n",
       "  fill: #3b5998;\n",
       "  stroke: #1b3978;\n",
       "  stroke-width: 2.5px;\n",
       "  r: 15px;\n",
       "  opacity: 1;\n",
       "}\n",
       "\n",
       ".link {\n",
       "  stroke: #969595;\n",
       "  stroke-opacity: .75;\n",
       "  stroke-width: 2.5px;\n",
       "}\n",
       "\n",
       ".labelText {\n",
       "  fill: #817e7e;\n",
       "}\n",
       "</style>\n",
       "\n",
       "<div id = \"xd5ea9db55bf34277852b0ec3e7b8e6af\"> </div>\n",
       "<script charset=\"utf-8\" src=\"https://d3js.org/d3.v5.min.js\"></script>\n",
       "<script charset=\"utf-8\">\n",
       "// Load via requireJS if available (jupyter notebook environment)\n",
       "try {\n",
       "    // Problem: require.config will raise an exception when called for the second time \n",
       "    require.config({\n",
       "        paths: {\n",
       "            d3: \"https://d3js.org/d3.v5.min.js\".replace(\".js\", \"\")\n",
       "        }\n",
       "    });\n",
       "    console.log(\"OKAY: requireJS was detected.\");\n",
       "}\n",
       "catch(err){\n",
       "    // a reference error indicates that requireJS does not exist. \n",
       "    // other errors may occur due to multiple calls to config\n",
       "    if (err instanceof ReferenceError){\n",
       "        console.log(\"WARNING: NO requireJS was detected!\");\n",
       "\n",
       "        // Helper function that waits for d3js to be loaded\n",
       "        require = function require(symbols, callback) {\n",
       "            var ms = 10;\n",
       "            window.setTimeout(function(t) {\n",
       "                if (window[symbols[0]])\n",
       "                    callback(window[symbols[0]]);\n",
       "                else \n",
       "                    window.setTimeout(arguments.callee, ms);\n",
       "            }, ms);\n",
       "        }\n",
       "    }\n",
       "};\n",
       "require(['d3'], function(d3){ //START\n",
       "const data = {\"edges\": [{\"uid\": \"('b', 'c')-('c', 'd')\", \"source\": \"('b', 'c')\", \"target\": \"('c', 'd')\", \"weight\": 1.0}, {\"uid\": \"('c', 'd')-('d', 'a')\", \"source\": \"('c', 'd')\", \"target\": \"('d', 'a')\", \"weight\": 1.0}, {\"uid\": \"('a', 'b')-('b', 'c')\", \"source\": \"('a', 'b')\", \"target\": \"('b', 'c')\", \"weight\": 1.0}, {\"uid\": \"('a', 'b')-('b', 'd')\", \"source\": \"('a', 'b')\", \"target\": \"('b', 'd')\", \"weight\": 1.0}, {\"uid\": \"('d', 'a')-('a', 'b')\", \"source\": \"('d', 'a')\", \"target\": \"('a', 'b')\", \"weight\": 1.0}], \"nodes\": [{\"uid\": \"('b', 'c')\"}, {\"uid\": \"('b', 'd')\"}, {\"uid\": \"('c', 'd')\"}, {\"uid\": \"('a', 'b')\"}, {\"uid\": \"('d', 'a')\"}]}\n",
       "const config = {\"selector\": \"#xd5ea9db55bf34277852b0ec3e7b8e6af\"}\n",
       "console.log(\"Static Network Template\");\n",
       "/* Resources\n",
       "   https://bl.ocks.org/mapio/53fed7d84cd1812d6a6639ed7aa83868\n",
       "   https://codepen.io/smlo/pen/JdMOej\n",
       "*/\n",
       "\n",
       "// variables from the config file\n",
       "const selector = config.selector;\n",
       "const width = config.width || 800;\n",
       "const height = config.height || 600;\n",
       "const charge_distance = config.charge_distance || 400;\n",
       "const charge_force = config.charge_force || -3000;\n",
       "// const weight = false;\n",
       "\n",
       "/* Create a svg element to display the network */\n",
       "var svg = d3.select(selector)\n",
       "    .append('svg')\n",
       "    .attr('width', width)\n",
       "    .attr('height', height)\n",
       "\n",
       "// add container to store the elements\n",
       "var container = svg.append(\"g\");\n",
       "\n",
       "/*Add zoom function to the container */\n",
       "svg.call(\n",
       "    d3.zoom()\n",
       "        .scaleExtent([.1, 4])\n",
       "        .on(\"zoom\", function() { container.attr(\"transform\", d3.event.transform); })\n",
       ");\n",
       "\n",
       "\n",
       "/*Load nodes and links from the data */\n",
       "var nodes = data.nodes\n",
       "var links = data.edges\n",
       "\n",
       "/*Link creation template */\n",
       "var link = container.append(\"g\").attr(\"class\", \"links\")\n",
       "    .selectAll(\".link\")\n",
       "    .data(links)\n",
       "    .enter()\n",
       "    .append(\"line\")\n",
       "    .attr(\"class\", \"link\")\n",
       "    .style(\"stroke\", function(d) { return d.color; })\n",
       "    .style(\"stroke-opacity\", function(d) { return d.opacity; })\n",
       "    .style(\"stroke-width\", function(d){  return d.size });\n",
       "\n",
       "/*Node creation template */\n",
       "var node = container.append(\"g\").attr(\"class\", \"nodes\")\n",
       "    .selectAll(\"circle.node\")\n",
       "    .data(nodes)\n",
       "    .enter().append(\"circle\")\n",
       "    .attr(\"class\", \"node\")\n",
       "    .attr(\"x\", function(d) { return d.x; })\n",
       "    .attr(\"y\", function(d) { return d.y; })\n",
       "    .style(\"r\", function(d){  return d.size+\"px\"; })\n",
       "    .style(\"fill\", function(d) { return d.color; })\n",
       "    .style(\"opacity\", function(d) { return d.opacity; });\n",
       "\n",
       "/*Scale weight for d3js */\n",
       "var weightScale = d3.scaleLinear()\n",
       "    .domain(d3.extent(links, function (d) { return d.weight }))\n",
       "    .range([.1, 1]);\n",
       "\n",
       "/*Simulation of the forces*/\n",
       "var simulation = d3.forceSimulation(nodes)\n",
       "    .force(\"links\", d3.forceLink(links)\n",
       "           .id(function(d) {return d.uid; })\n",
       "           .distance(50)\n",
       "           .strength(function(d){return weightScale(d.weight);})\n",
       "          )\n",
       "    .force(\"charge\", d3.forceManyBody()\n",
       "           .strength(charge_force)\n",
       "           .distanceMax(charge_distance)\n",
       "          )\n",
       "    .force(\"center\", d3.forceCenter(width / 2, height / 2))\n",
       "    .on(\"tick\", ticked);\n",
       "\n",
       "/*Update of the node and edge objects*/\n",
       "function ticked() {\n",
       "    node.call(updateNode);\n",
       "    link.call(updateLink);\n",
       "};\n",
       "\n",
       "/*Update link positions */\n",
       "function updateLink(link) {\n",
       "    link\n",
       "        .attr(\"x1\", function(d) { return d.source.x; })\n",
       "        .attr(\"y1\", function(d) { return d.source.y; })\n",
       "        .attr(\"x2\", function(d) { return d.target.x; })\n",
       "        .attr(\"y2\", function(d) { return d.target.y; });\n",
       "};\n",
       "\n",
       "/*Update node positions */\n",
       "function updateNode(node) {\n",
       "    node.attr(\"transform\", function(d) {\n",
       "        return \"translate(\" + d.x + \",\" + d.y + \")\";\n",
       "    });\n",
       "};\n",
       "\n",
       "/*Add drag functionality to the node objects*/\n",
       "node.call(\n",
       "    d3.drag()\n",
       "        .on(\"start\", dragstarted)\n",
       "        .on(\"drag\", dragged)\n",
       "        .on(\"end\", dragended)\n",
       ");\n",
       "\n",
       "function dragstarted(d) {\n",
       "    d3.event.sourceEvent.stopPropagation();\n",
       "    if (!d3.event.active) simulation.alphaTarget(0.3).restart();\n",
       "    d.fx = d.x;\n",
       "    d.fy = d.y;\n",
       "};\n",
       "\n",
       "function dragged(d) {\n",
       "    d.fx = d3.event.x;\n",
       "    d.fy = d3.event.y;\n",
       "};\n",
       "\n",
       "function dragended(d) {\n",
       "    if (!d3.event.active) simulation.alphaTarget(0);\n",
       "    d.fx = null;\n",
       "    d.fy = null;\n",
       "};\n",
       "\n",
       "}); //END\n",
       "\n",
       "</script>"
      ]
     },
     "metadata": {},
     "output_type": "display_data"
    },
    {
     "data": {
      "text/plain": [
       "<pathpyG.visualisations.network_plots.StaticNetworkPlot at 0x7f49ea7466e0>"
      ]
     },
     "execution_count": 17,
     "metadata": {},
     "output_type": "execute_result"
    }
   ],
   "source": [
    "g2 = pp.HigherOrderGraph(paths, order=2, node_ids=g.mapping.node_ids)\n",
    "pp.plot(g2)"
   ]
  },
  {
   "cell_type": "markdown",
   "metadata": {},
   "source": [
    "In a nutshell, the following shows the steps that are needed to construct a Higher Order Graph. Here we construct our temporal graph from a `pyG TemporalData` by providing the sources, distances and timestamps."
   ]
  },
  {
   "cell_type": "code",
   "execution_count": 18,
   "metadata": {},
   "outputs": [
    {
     "ename": "TypeError",
     "evalue": "Graph.from_pyg_data() got an unexpected keyword argument 'node_ids'",
     "output_type": "error",
     "traceback": [
      "\u001b[0;31m---------------------------------------------------------------------------\u001b[0m",
      "\u001b[0;31mTypeError\u001b[0m                                 Traceback (most recent call last)",
      "Cell \u001b[0;32mIn[18], line 3\u001b[0m\n\u001b[1;32m      1\u001b[0m \u001b[38;5;66;03m# Create temporal network\u001b[39;00m\n\u001b[1;32m      2\u001b[0m d \u001b[38;5;241m=\u001b[39m TemporalData(src\u001b[38;5;241m=\u001b[39m[\u001b[38;5;241m0\u001b[39m,\u001b[38;5;241m2\u001b[39m,\u001b[38;5;241m1\u001b[39m,\u001b[38;5;241m2\u001b[39m,\u001b[38;5;241m0\u001b[39m,\u001b[38;5;241m2\u001b[39m,\u001b[38;5;241m1\u001b[39m,\u001b[38;5;241m2\u001b[39m], dst\u001b[38;5;241m=\u001b[39m[\u001b[38;5;241m2\u001b[39m,\u001b[38;5;241m3\u001b[39m,\u001b[38;5;241m2\u001b[39m,\u001b[38;5;241m4\u001b[39m,\u001b[38;5;241m2\u001b[39m,\u001b[38;5;241m3\u001b[39m,\u001b[38;5;241m2\u001b[39m,\u001b[38;5;241m4\u001b[39m], t\u001b[38;5;241m=\u001b[39m[\u001b[38;5;241m1\u001b[39m,\u001b[38;5;241m2\u001b[39m,\u001b[38;5;241m3\u001b[39m,\u001b[38;5;241m4\u001b[39m,\u001b[38;5;241m5\u001b[39m,\u001b[38;5;241m6\u001b[39m,\u001b[38;5;241m7\u001b[39m,\u001b[38;5;241m8\u001b[39m])\n\u001b[0;32m----> 3\u001b[0m g \u001b[38;5;241m=\u001b[39m \u001b[43mpp\u001b[49m\u001b[38;5;241;43m.\u001b[39;49m\u001b[43mTemporalGraph\u001b[49m\u001b[38;5;241;43m.\u001b[39;49m\u001b[43mfrom_pyg_data\u001b[49m\u001b[43m(\u001b[49m\u001b[43md\u001b[49m\u001b[43m,\u001b[49m\u001b[43m \u001b[49m\u001b[43mnode_ids\u001b[49m\u001b[38;5;241;43m=\u001b[39;49m\u001b[43m[\u001b[49m\u001b[38;5;124;43m'\u001b[39;49m\u001b[38;5;124;43ma\u001b[39;49m\u001b[38;5;124;43m'\u001b[39;49m\u001b[43m,\u001b[49m\u001b[43m \u001b[49m\u001b[38;5;124;43m'\u001b[39;49m\u001b[38;5;124;43mb\u001b[39;49m\u001b[38;5;124;43m'\u001b[39;49m\u001b[43m,\u001b[49m\u001b[43m \u001b[49m\u001b[38;5;124;43m'\u001b[39;49m\u001b[38;5;124;43mc\u001b[39;49m\u001b[38;5;124;43m'\u001b[39;49m\u001b[43m,\u001b[49m\u001b[43m \u001b[49m\u001b[38;5;124;43m'\u001b[39;49m\u001b[38;5;124;43md\u001b[39;49m\u001b[38;5;124;43m'\u001b[39;49m\u001b[43m,\u001b[49m\u001b[43m \u001b[49m\u001b[38;5;124;43m'\u001b[39;49m\u001b[38;5;124;43me\u001b[39;49m\u001b[38;5;124;43m'\u001b[39;49m\u001b[43m]\u001b[49m\u001b[43m)\u001b[49m\n\u001b[1;32m      5\u001b[0m \u001b[38;5;66;03m# Create event DAG and extract path data\u001b[39;00m\n\u001b[1;32m      6\u001b[0m dag \u001b[38;5;241m=\u001b[39m pp\u001b[38;5;241m.\u001b[39malgorithms\u001b[38;5;241m.\u001b[39mtemporal_graph_to_event_dag(g, delta\u001b[38;5;241m=\u001b[39m\u001b[38;5;241m1\u001b[39m)\n",
      "\u001b[0;31mTypeError\u001b[0m: Graph.from_pyg_data() got an unexpected keyword argument 'node_ids'"
     ]
    }
   ],
   "source": [
    "# Create temporal network\n",
    "d = TemporalData(src=[0,2,1,2,0,2,1,2], dst=[2,3,2,4,2,3,2,4], t=[1,2,3,4,5,6,7,8])\n",
    "g = pp.TemporalGraph.from_pyg_data(d, node_ids=['a', 'b', 'c', 'd', 'e'])\n",
    "\n",
    "# Create event DAG and extract path data\n",
    "dag = pp.algorithms.temporal_graph_to_event_dag(g, delta=1)\n",
    "paths = pp.PathData.from_temporal_dag(dag)\n",
    "\n",
    "# Create Higher Order Graph\n",
    "g2 = pp.HigherOrderGraph(paths, order=2, node_ids=g.mapping.node_ids)\n",
    "pp.plot(g2)"
   ]
  },
  {
   "cell_type": "markdown",
   "metadata": {},
   "source": [
    "We can also skip the step of creating an event DAG by just using the following code."
   ]
  },
  {
   "cell_type": "code",
   "execution_count": null,
   "metadata": {},
   "outputs": [],
   "source": [
    "g2 = pp.HigherOrderGraph.from_temporal_graph(g, delta=1, order=2)\n",
    "pp.plot(g2)"
   ]
  }
 ],
 "metadata": {
  "kernelspec": {
   "display_name": "base",
   "language": "python",
   "name": "python3"
  },
  "language_info": {
   "codemirror_mode": {
    "name": "ipython",
    "version": 3
   },
   "file_extension": ".py",
   "mimetype": "text/x-python",
   "name": "python",
   "nbconvert_exporter": "python",
   "pygments_lexer": "ipython3",
   "version": "3.10.13"
  },
  "orig_nbformat": 4
 },
 "nbformat": 4,
 "nbformat_minor": 2
}
