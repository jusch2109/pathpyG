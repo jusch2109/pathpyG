{
 "cells": [
  {
   "cell_type": "code",
   "execution_count": 1,
   "metadata": {},
   "outputs": [],
   "source": [
    "import pathpyG as pp\n",
    "pp.config['torch']['device'] = 'cpu'"
   ]
  },
  {
   "cell_type": "code",
   "execution_count": 2,
   "metadata": {},
   "outputs": [],
   "source": [
    "import torch\n",
    "from torch_geometric.data import Data"
   ]
  },
  {
   "cell_type": "markdown",
   "metadata": {},
   "source": [
    "PahtpyG takes as input various types of data: \n",
    "- Paths: DAG class\n",
    "- DAGs: DAG class \n",
    "- Edgelists: DAG e network\n",
    "- Time stamped interactions (events)\n",
    "\n",
    "\n",
    "These data can then be represented with different types of models: \n",
    "- Network: Graph class\n",
    "- Higher-Order Network (as layers of a mon)\n",
    "- Multi-Order network\n",
    "- Temporal Network\n",
    "\n",
    "The focus of the package is teh ability to represent, model, use, memory in interactions within statistical, machine learning, and deep learning methods. "
   ]
  },
  {
   "cell_type": "markdown",
   "metadata": {},
   "source": [
    "**Passing walks to DAG class**\n",
    "\n",
    "Walks can be passed in different ways. \n",
    "The most intuitive ways is to pass them as tuples (iterables?)  to a DAGData object.\n",
    "This approach requires a mapping from string ids to node indices (these mappings are handled by IndexMap). \n",
    "Such a mapping can be conveniently obtained intitializing a network object.\n",
    "The network object represent the topological backbone traversed by the walk dynamics."
   ]
  },
  {
   "cell_type": "code",
   "execution_count": 3,
   "metadata": {},
   "outputs": [
    {
     "name": "stdout",
     "output_type": "stream",
     "text": [
      "DAGData with 2 dags with total weight 3.0\n"
     ]
    }
   ],
   "source": [
    "g = pp.Graph.from_edge_list([('a', 'b'), ('b', 'c'), ('a', 'c')])\n",
    "dags = pp.DAGData(mapping = g.mapping)\n",
    "\n",
    "dags.append_walk(('a', 'b', 'c', 'b'), weight=1.0)\n",
    "dags.append_walk(('a', 'c'), weight = 2.0)\n",
    "print(dags)"
   ]
  },
  {
   "cell_type": "markdown",
   "metadata": {},
   "source": [
    "otehrwise, we can independently initilize an EdgeIndex object"
   ]
  },
  {
   "cell_type": "code",
   "execution_count": 4,
   "metadata": {},
   "outputs": [
    {
     "name": "stdout",
     "output_type": "stream",
     "text": [
      "DAGData with 2 dags with total weight 3.0\n"
     ]
    }
   ],
   "source": [
    "dags = pp.DAGData(pp.IndexMap(list(\"abc\")))\n",
    "dags.append_walk(('a', 'b', 'c', 'b'), weight=1.0)\n",
    "dags.append_walk(('a', 'c'), weight = 2.0)\n",
    "print(dags)"
   ]
  },
  {
   "cell_type": "markdown",
   "metadata": {},
   "source": [
    "Finally, we can pass walks as edge indices without specifying a mapping. \n",
    "Notice that for the node indices to represent a valid walk, all subsequent edges must be adjecent.\n",
    "In the edge_index format, this means that i-th element of the target indices must be equal to i+1 element of the source indices. \n",
    "Intuitively, this represents the fact that the node receives the path as a target and then propagates the path as a source. "
   ]
  },
  {
   "cell_type": "code",
   "execution_count": 5,
   "metadata": {},
   "outputs": [
    {
     "name": "stdout",
     "output_type": "stream",
     "text": [
      "DAGData with 2 dags with total weight 3\n"
     ]
    }
   ],
   "source": [
    "dags = pp.DAGData()\n",
    "dags.append_dag(torch.tensor([[1,2,3,4],[2,3,4,5]]), weight=1)\n",
    "dags.append_dag(torch.tensor([[3,4,5,6],[4,5,6,7]]), weight=2)\n",
    "print(dags)"
   ]
  },
  {
   "cell_type": "markdown",
   "metadata": {},
   "source": [
    "**Passing DAGs to DAG class**\n",
    "\n",
    "Naturally, we can also pass DAGs to the DAG class. \n",
    "Both with and without IndexMap, the operation is now perfomed using the append_dag method. \n",
    "In a dag, we are no longer constrained to pass edge indices where the i-th element for the target is equal to the i+1 elemen fof the source.  \n",
    "This is a consequence of the fact that DAGs have bifurcations while walks, by definition, cannot. \n",
    "The edge_index of a DAG represents source target intearctions in the dag. \n",
    "[[0,0][1,2]] represents the root node (at t_0) interacting with three other nodes at times t_1, t_2. \n",
    "\n",
    "\n",
    "Notice that the current implementation of the DAG class cannot represent DAGs with the same node appearing at different times. \n",
    "For example, in [[0,0,1],[1,2,2]] we are saying that the node with index 1 hits the same 2 that was hit by 0 (i.e., 2 as indegree 2). \n",
    "This representation, however, does not allow us to say that 2 hits 1 at a later time (leading to two copies of the node, both with indegree one)"
   ]
  },
  {
   "cell_type": "code",
   "execution_count": 6,
   "metadata": {},
   "outputs": [],
   "source": [
    "dags = pp.DAGData()\n",
    "dags.append_dag(torch.tensor([[0,0,1],[1,2,2]]))"
   ]
  },
  {
   "cell_type": "code",
   "execution_count": 7,
   "metadata": {},
   "outputs": [
    {
     "name": "stdout",
     "output_type": "stream",
     "text": [
      "[Data(edge_index=[2, 3], node_sequence=[3, 1], num_nodes=3, edge_weight=[3])]\n"
     ]
    }
   ],
   "source": [
    "dags = pp.DAGData(pp.IndexMap(list(\"abc\")))\n",
    "dags.append_dag(torch.tensor([[0,0,1],[1,2,2]]))\n",
    "print(dags.dags)"
   ]
  },
  {
   "cell_type": "markdown",
   "metadata": {},
   "source": [
    "**Passing Walks and DAGs**\n",
    "Finally, we can pass both walks and dags at the same time\n",
    "\n",
    "CURRELTY BUGGY (bug appears when training a multi order network)"
   ]
  },
  {
   "cell_type": "code",
   "execution_count": 8,
   "metadata": {},
   "outputs": [
    {
     "name": "stdout",
     "output_type": "stream",
     "text": [
      "DAGData with 1 dags with total weight 2\n"
     ]
    }
   ],
   "source": [
    "# Example with mix of walks or dags\n",
    "dags = pp.DAGData(mapping = g.mapping)\n",
    "\n",
    "dags.append_dag(torch.tensor([[0,0,1],[1,2,2]]), weight=2)\n",
    "# dags.append_walk(('a', 'b', 'c'))\n",
    "print(dags)\n",
    "\n",
    "m = pp.MultiOrderModel.from_DAGs(dags, max_order=2)"
   ]
  },
  {
   "cell_type": "markdown",
   "metadata": {},
   "source": [
    "### Temporal network"
   ]
  },
  {
   "cell_type": "code",
   "execution_count": 9,
   "metadata": {},
   "outputs": [
    {
     "data": {
      "text/plain": [
       "tensor([0, 0, 1, 1, 1, 2, 2, 2, 2])"
      ]
     },
     "execution_count": 9,
     "metadata": {},
     "output_type": "execute_result"
    }
   ],
   "source": [
    "torch.repeat_interleave(torch.tensor([2,3,4]))"
   ]
  },
  {
   "cell_type": "code",
   "execution_count": 10,
   "metadata": {},
   "outputs": [
    {
     "data": {
      "text/plain": [
       "tensor([1, 2, 2, 3, 3, 3, 4, 4, 4, 4, 5, 5, 5, 5, 5])"
      ]
     },
     "execution_count": 10,
     "metadata": {},
     "output_type": "execute_result"
    }
   ],
   "source": [
    "import torch_geometric\n",
    "# import torch_geometric.utils\n",
    "we = torch_geometric.utils.cumsum(torch.tensor([1,1,1,1,1,1]), dim = 0)[:-1]\n",
    "torch.repeat_interleave(we)"
   ]
  },
  {
   "cell_type": "markdown",
   "metadata": {},
   "source": [
    "### Multi-Order model\n",
    " "
   ]
  },
  {
   "cell_type": "code",
   "execution_count": 29,
   "metadata": {},
   "outputs": [],
   "source": [
    "dag_data = pp.DAGData(pp.IndexMap(list(\"01234\")))\n",
    "\n",
    "# dag_data.append_dag(torch.tensor([[0,2],[2,3]]), weight=20)\n",
    "# dag_data.append_dag(torch.tensor([[1,2],[2,4]]), weight=20)\n",
    "# print(dag_data)\n",
    "\n",
    "dag_data.append_walk(list(\"023\"), weight=20)\n",
    "dag_data.append_walk(list(\"124\"), weight=20)\n",
    "\n",
    "\n",
    "m = pp.MultiOrderModel.from_DAGs(dag_data, max_order=2)"
   ]
  },
  {
   "cell_type": "code",
   "execution_count": 30,
   "metadata": {},
   "outputs": [],
   "source": [
    "from torch_geometric.loader import DataLoader\n",
    "dag_graph = next(\n",
    "    iter(\n",
    "        DataLoader(\n",
    "            dag_data.dags, \n",
    "            batch_size=len(dag_data.dags)))).to(pp.config[\"torch\"][\"device\"]\n",
    "                                                )\n",
    "assert dag_graph.edge_weight is not None"
   ]
  },
  {
   "cell_type": "code",
   "execution_count": 31,
   "metadata": {},
   "outputs": [
    {
     "name": "stdout",
     "output_type": "stream",
     "text": [
      "tensor([1., 1., 1., 1.])\n",
      "tensor([1., 1.])\n"
     ]
    }
   ],
   "source": [
    "hon_1 = m.layers[1]\n",
    "hon_2 = m.layers[2]\n",
    "print(hon_1.data.edge_weight)\n",
    "print(hon_2.data.edge_weight)"
   ]
  },
  {
   "cell_type": "code",
   "execution_count": 32,
   "metadata": {},
   "outputs": [
    {
     "data": {
      "text/plain": [
       "DataBatch(edge_index=[2, 4], node_sequence=[6, 1], num_nodes=6, edge_weight=[4], batch=[6], ptr=[3])"
      ]
     },
     "execution_count": 32,
     "metadata": {},
     "output_type": "execute_result"
    }
   ],
   "source": [
    "dag_graph"
   ]
  },
  {
   "cell_type": "code",
   "execution_count": 33,
   "metadata": {},
   "outputs": [
    {
     "data": {
      "text/plain": [
       "tensor([20, 20, 20, 20])"
      ]
     },
     "execution_count": 33,
     "metadata": {},
     "output_type": "execute_result"
    }
   ],
   "source": [
    "# weigth exist here but not passed to the hon...\n",
    "dag_graph.edge_weight"
   ]
  },
  {
   "cell_type": "markdown",
   "metadata": {},
   "source": [
    "**starting from temporal network**"
   ]
  },
  {
   "cell_type": "code",
   "execution_count": 16,
   "metadata": {},
   "outputs": [],
   "source": [
    "# stuff for degrees of freedom etc.\n",
    "num_len_2_paths = hon_2.data.num_nodes\n",
    "num_nonzero_outdegrees = len(hon_2.data.edge_index[0].unique())"
   ]
  },
  {
   "cell_type": "code",
   "execution_count": 17,
   "metadata": {},
   "outputs": [],
   "source": [
    "from torch_geometric.utils import cumsum, coalesce, degree, sort_edge_index"
   ]
  },
  {
   "cell_type": "code",
   "execution_count": 18,
   "metadata": {},
   "outputs": [],
   "source": [
    "tedges = [('0', '2', 1),('2', '3', 2), ('0', '2', 3), ('2', '3', 3), ('1', '2', 14), ('2', '4', 14), ('1', '2', 14),\n",
    "              ('2', '4', 15)]#, ('1', '2', 5), ('2', '4', 6)]\n",
    "t = pp.TemporalGraph.from_edge_list(tedges*10)"
   ]
  },
  {
   "cell_type": "code",
   "execution_count": 19,
   "metadata": {},
   "outputs": [],
   "source": [
    "m = pp.MultiOrderModel.from_temporal_graph(t, max_order=2)"
   ]
  },
  {
   "cell_type": "code",
   "execution_count": 20,
   "metadata": {},
   "outputs": [
    {
     "name": "stdout",
     "output_type": "stream",
     "text": [
      "tensor([20., 20., 20., 20.])\n",
      "tensor([100., 200.])\n"
     ]
    }
   ],
   "source": [
    "hon_1 = m.layers[1]\n",
    "hon_2 = m.layers[2]\n",
    "print(hon_1.data.edge_weight)\n",
    "print(hon_2.data.edge_weight)"
   ]
  },
  {
   "cell_type": "code",
   "execution_count": 21,
   "metadata": {},
   "outputs": [
    {
     "data": {
      "text/plain": [
       "tensor([20., 20., 20., 20.])"
      ]
     },
     "execution_count": 21,
     "metadata": {},
     "output_type": "execute_result"
    }
   ],
   "source": [
    "hon_1.data.edge_weight"
   ]
  },
  {
   "cell_type": "code",
   "execution_count": 22,
   "metadata": {},
   "outputs": [
    {
     "data": {
      "text/plain": [
       "tensor([20., 20., 20., 20.])"
      ]
     },
     "execution_count": 22,
     "metadata": {},
     "output_type": "execute_result"
    }
   ],
   "source": [
    "source_ids = hon_1.data.edge_index[0]\n",
    "hon_1.data.edge_weight[source_ids]"
   ]
  },
  {
   "cell_type": "code",
   "execution_count": 23,
   "metadata": {},
   "outputs": [
    {
     "data": {
      "text/plain": [
       "tensor([0, 1, 1, 3])"
      ]
     },
     "execution_count": 23,
     "metadata": {},
     "output_type": "execute_result"
    }
   ],
   "source": [
    "hon_1.data.edge_index[0]"
   ]
  },
  {
   "cell_type": "code",
   "execution_count": 24,
   "metadata": {},
   "outputs": [
    {
     "data": {
      "text/plain": [
       "tensor([20., 40.,  0., 20.,  0.])"
      ]
     },
     "execution_count": 24,
     "metadata": {},
     "output_type": "execute_result"
    }
   ],
   "source": [
    "weighted_outdegree = torch.zeros(hon_1.data.num_nodes)\n",
    "weighted_outdegree = weighted_outdegree.index_add_(\n",
    "    dim = 0, \n",
    "    index = hon_1.data.edge_index[0], \n",
    "    source = hon_1.data.edge_weight[source_ids]\n",
    "    )\n",
    "weighted_outdegree"
   ]
  },
  {
   "cell_type": "code",
   "execution_count": 25,
   "metadata": {},
   "outputs": [
    {
     "data": {
      "text/plain": [
       "tensor([1.0000, 0.5000, 0.5000, 1.0000])"
      ]
     },
     "execution_count": 25,
     "metadata": {},
     "output_type": "execute_result"
    }
   ],
   "source": [
    "transition_probabilities = hon_1.data.edge_weight[source_ids]/ weighted_outdegree[source_ids]\n",
    "transition_probabilities"
   ]
  },
  {
   "cell_type": "code",
   "execution_count": 26,
   "metadata": {},
   "outputs": [
    {
     "data": {
      "text/plain": [
       "tensor([0.5000, 0.5000])"
      ]
     },
     "execution_count": 26,
     "metadata": {},
     "output_type": "execute_result"
    }
   ],
   "source": [
    "# this gives likelihood of all paths of lenght 2\n",
    "pp.MultiOrderModel.aggregate_edge_weight(\n",
    "    hon_2.data.edge_index,\n",
    "    transition_probabilities,\n",
    "    aggr=\"mul\"\n",
    "    )\n",
    "\n",
    "# the we need the number of times each path has occurred"
   ]
  },
  {
   "cell_type": "code",
   "execution_count": null,
   "metadata": {},
   "outputs": [],
   "source": []
  },
  {
   "cell_type": "code",
   "execution_count": null,
   "metadata": {},
   "outputs": [],
   "source": []
  },
  {
   "cell_type": "code",
   "execution_count": 27,
   "metadata": {},
   "outputs": [
    {
     "data": {
      "text/plain": [
       "(tensor([[0, 0, 0, 0, 0, 0, 0, 0, 0, 0, 0, 0, 0, 0, 0, 0, 0, 0, 0, 0, 1, 1, 1, 1,\n",
       "          1, 1, 1, 1, 1, 1, 1, 1, 1, 1, 1, 1, 1, 1, 1, 1, 1, 1, 1, 1, 1, 1, 1, 1,\n",
       "          1, 1, 1, 1, 1, 1, 1, 1, 1, 1, 1, 1, 3, 3, 3, 3, 3, 3, 3, 3, 3, 3, 3, 3,\n",
       "          3, 3, 3, 3, 3, 3, 3, 3],\n",
       "         [1, 1, 1, 1, 1, 1, 1, 1, 1, 1, 1, 1, 1, 1, 1, 1, 1, 1, 1, 1, 2, 2, 2, 2,\n",
       "          2, 2, 2, 2, 2, 2, 2, 2, 2, 2, 2, 2, 2, 2, 2, 2, 4, 4, 4, 4, 4, 4, 4, 4,\n",
       "          4, 4, 4, 4, 4, 4, 4, 4, 4, 4, 4, 4, 1, 1, 1, 1, 1, 1, 1, 1, 1, 1, 1, 1,\n",
       "          1, 1, 1, 1, 1, 1, 1, 1]]),\n",
       " tensor([ 1.,  1.,  3.,  3.,  3.,  3.,  3.,  3.,  3.,  3.,  3.,  3.,  1.,  1.,\n",
       "          1.,  1.,  1.,  1.,  1.,  1.,  2.,  3.,  3.,  3.,  3.,  3.,  3.,  2.,\n",
       "          3.,  2.,  2.,  2.,  2.,  2.,  2.,  2.,  3.,  3.,  2.,  3., 14., 14.,\n",
       "         14., 14., 14., 15., 15., 15., 15., 15., 15., 15., 15., 15., 15., 14.,\n",
       "         14., 14., 14., 14., 14., 14., 14., 14., 14., 14., 14., 14., 14., 14.,\n",
       "         14., 14., 14., 14., 14., 14., 14., 14., 14., 14.]))"
      ]
     },
     "execution_count": 27,
     "metadata": {},
     "output_type": "execute_result"
    }
   ],
   "source": [
    "sort_edge_index(t.data.edge_index, t.data.t)"
   ]
  },
  {
   "cell_type": "code",
   "execution_count": 28,
   "metadata": {},
   "outputs": [
    {
     "ename": "NameError",
     "evalue": "name 'edge_index' is not defined",
     "output_type": "error",
     "traceback": [
      "\u001b[0;31m---------------------------------------------------------------------------\u001b[0m",
      "\u001b[0;31mNameError\u001b[0m                                 Traceback (most recent call last)",
      "Cell \u001b[0;32mIn[28], line 1\u001b[0m\n\u001b[0;32m----> 1\u001b[0m node_sequence \u001b[38;5;241m=\u001b[39m torch\u001b[38;5;241m.\u001b[39marange(t\u001b[38;5;241m.\u001b[39mdata\u001b[38;5;241m.\u001b[39mnum_nodes, device\u001b[38;5;241m=\u001b[39m\u001b[43medge_index\u001b[49m\u001b[38;5;241m.\u001b[39mdevice)\u001b[38;5;241m.\u001b[39munsqueeze(\u001b[38;5;241m1\u001b[39m)\n\u001b[1;32m      2\u001b[0m node_sequence\n",
      "\u001b[0;31mNameError\u001b[0m: name 'edge_index' is not defined"
     ]
    }
   ],
   "source": [
    "node_sequence = torch.arange(t.data.num_nodes, device=edge_index.device).unsqueeze(1)\n",
    "node_sequence"
   ]
  },
  {
   "cell_type": "code",
   "execution_count": null,
   "metadata": {},
   "outputs": [],
   "source": [
    "# edge_weight = torch.ones(edge_index.size(1), device=edge_index.device)\n",
    "edge_weight = g.data.edge_weight"
   ]
  },
  {
   "cell_type": "code",
   "execution_count": null,
   "metadata": {},
   "outputs": [],
   "source": [
    "l1 = pp.MultiOrderModel.aggregate_edge_index(\n",
    "                edge_index=edge_index, node_sequence=node_sequence, edge_weight=edge_weight\n",
    ")"
   ]
  },
  {
   "cell_type": "code",
   "execution_count": null,
   "metadata": {},
   "outputs": [
    {
     "data": {
      "text/plain": [
       "tensor([1., 1., 1., 1.])"
      ]
     },
     "execution_count": 106,
     "metadata": {},
     "output_type": "execute_result"
    }
   ],
   "source": [
    "\n",
    "l1.data.edge_weight"
   ]
  },
  {
   "cell_type": "markdown",
   "metadata": {},
   "source": [
    "I cannot do the model selection on the temporal graph without the path extraction. "
   ]
  }
 ],
 "metadata": {
  "kernelspec": {
   "display_name": "base",
   "language": "python",
   "name": "python3"
  },
  "language_info": {
   "codemirror_mode": {
    "name": "ipython",
    "version": 3
   },
   "file_extension": ".py",
   "mimetype": "text/x-python",
   "name": "python",
   "nbconvert_exporter": "python",
   "pygments_lexer": "ipython3",
   "version": "3.10.13"
  }
 },
 "nbformat": 4,
 "nbformat_minor": 2
}
