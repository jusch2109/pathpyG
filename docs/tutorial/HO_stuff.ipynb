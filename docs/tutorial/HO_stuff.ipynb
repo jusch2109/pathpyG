{
 "cells": [
  {
   "cell_type": "code",
   "execution_count": 1,
   "metadata": {},
   "outputs": [],
   "source": [
    "import pathpyG as pp\n",
    "pp.config['torch']['device'] = 'cpu'"
   ]
  },
  {
   "cell_type": "code",
   "execution_count": 2,
   "metadata": {},
   "outputs": [],
   "source": [
    "import torch\n",
    "from torch_geometric.data import Data\n",
    "from torch_geometric.utils import scatter"
   ]
  },
  {
   "cell_type": "markdown",
   "metadata": {},
   "source": [
    "PahtpyG takes as input various types of data: \n",
    "- Paths: DAG class\n",
    "- DAGs: DAG class \n",
    "- Edgelists: DAG e network\n",
    "- Time stamped interactions (events)\n",
    "\n",
    "\n",
    "These data can then be represented with different types of models: \n",
    "- Network: Graph class\n",
    "- Higher-Order Network (as layers of a mon)\n",
    "- Multi-Order network\n",
    "- Temporal Network\n",
    "\n",
    "The focus of the package is teh ability to represent, model, use, memory in interactions within statistical, machine learning, and deep learning methods. "
   ]
  },
  {
   "cell_type": "markdown",
   "metadata": {},
   "source": [
    "**Passing walks to DAG class**\n",
    "\n",
    "Walks can be passed in different ways. \n",
    "The most intuitive ways is to pass them as tuples (iterables?)  to a DAGData object.\n",
    "This approach requires a mapping from string ids to node indices (these mappings are handled by IndexMap). \n",
    "Such a mapping can be conveniently obtained intitializing a network object.\n",
    "The network object represent the topological backbone traversed by the walk dynamics."
   ]
  },
  {
   "cell_type": "code",
   "execution_count": 3,
   "metadata": {},
   "outputs": [
    {
     "name": "stdout",
     "output_type": "stream",
     "text": [
      "DAGData with 2 dags with total weight 3.0\n"
     ]
    }
   ],
   "source": [
    "g = pp.Graph.from_edge_list([('a', 'b'), ('b', 'c'), ('a', 'c')])\n",
    "dags = pp.DAGData(mapping = g.mapping)\n",
    "\n",
    "dags.append_walk(('a', 'b', 'c', 'b'), weight=1.0)\n",
    "dags.append_walk(('a', 'c'), weight = 2.0)\n",
    "print(dags)"
   ]
  },
  {
   "cell_type": "markdown",
   "metadata": {},
   "source": [
    "otehrwise, we can independently initilize an EdgeIndex object"
   ]
  },
  {
   "cell_type": "code",
   "execution_count": 4,
   "metadata": {},
   "outputs": [
    {
     "name": "stdout",
     "output_type": "stream",
     "text": [
      "DAGData with 2 dags with total weight 3.0\n"
     ]
    }
   ],
   "source": [
    "dags = pp.DAGData(pp.IndexMap(list(\"abc\")))\n",
    "dags.append_walk(('a', 'b', 'c', 'b'), weight=1.0)\n",
    "dags.append_walk(('a', 'c'), weight = 2.0)\n",
    "print(dags)"
   ]
  },
  {
   "cell_type": "markdown",
   "metadata": {},
   "source": [
    "Finally, we can pass walks as edge indices without specifying a mapping. \n",
    "Notice that for the node indices to represent a valid walk, all subsequent edges must be adjecent.\n",
    "In the edge_index format, this means that i-th element of the target indices must be equal to i+1 element of the source indices. \n",
    "Intuitively, this represents the fact that the node receives the path as a target and then propagates the path as a source. "
   ]
  },
  {
   "cell_type": "code",
   "execution_count": 5,
   "metadata": {},
   "outputs": [
    {
     "name": "stdout",
     "output_type": "stream",
     "text": [
      "DAGData with 2 dags with total weight 3\n"
     ]
    }
   ],
   "source": [
    "dags = pp.DAGData()\n",
    "dags.append_dag(torch.tensor([[1,2,3,4],[2,3,4,5]]), weight=1)\n",
    "dags.append_dag(torch.tensor([[3,4,5,6],[4,5,6,7]]), weight=2)\n",
    "print(dags)"
   ]
  },
  {
   "cell_type": "markdown",
   "metadata": {},
   "source": [
    "**Passing DAGs to DAG class**\n",
    "\n",
    "Naturally, we can also pass DAGs to the DAG class. \n",
    "Both with and without IndexMap, the operation is now perfomed using the append_dag method. \n",
    "In a dag, we are no longer constrained to pass edge indices where the i-th element for the target is equal to the i+1 elemen fof the source.  \n",
    "This is a consequence of the fact that DAGs have bifurcations while walks, by definition, cannot. \n",
    "The edge_index of a DAG represents source target intearctions in the dag. \n",
    "[[0,0][1,2]] represents the root node (at t_0) interacting with three other nodes at times t_1, t_2. \n",
    "\n",
    "\n",
    "Notice that the current implementation of the DAG class cannot represent DAGs with the same node appearing at different times. \n",
    "For example, in [[0,0,1],[1,2,2]] we are saying that the node with index 1 hits the same 2 that was hit by 0 (i.e., 2 as indegree 2). \n",
    "This representation, however, does not allow us to say that 2 hits 1 at a later time (leading to two copies of the node, both with indegree one)"
   ]
  },
  {
   "cell_type": "code",
   "execution_count": 6,
   "metadata": {},
   "outputs": [],
   "source": [
    "dags = pp.DAGData()\n",
    "dags.append_dag(torch.tensor([[0,0,1],[1,2,2]]))"
   ]
  },
  {
   "cell_type": "code",
   "execution_count": 7,
   "metadata": {},
   "outputs": [
    {
     "name": "stdout",
     "output_type": "stream",
     "text": [
      "[Data(edge_index=[2, 3], node_sequence=[3, 1], num_nodes=3, edge_weight=[3])]\n"
     ]
    }
   ],
   "source": [
    "dags = pp.DAGData(pp.IndexMap(list(\"abc\")))\n",
    "dags.append_dag(torch.tensor([[0,0,1],[1,2,2]]))\n",
    "print(dags.dags)"
   ]
  },
  {
   "cell_type": "markdown",
   "metadata": {},
   "source": [
    "**Passing Walks and DAGs**\n",
    "Finally, we can pass both walks and dags at the same time\n",
    "\n",
    "CURRELTY BUGGY (bug appears when training a multi order network)"
   ]
  },
  {
   "cell_type": "code",
   "execution_count": 8,
   "metadata": {},
   "outputs": [
    {
     "name": "stdout",
     "output_type": "stream",
     "text": [
      "DAGData with 2 dags with total weight 3.0\n"
     ]
    }
   ],
   "source": [
    "# Example with mix of walks or dags\n",
    "dags = pp.DAGData(mapping = g.mapping)\n",
    "\n",
    "dags.append_dag(torch.tensor([[0,0,1],[1,2,2]]), weight=2)\n",
    "dags.append_walk(('a', 'b', 'c'))\n",
    "print(dags)\n",
    "\n",
    "m = pp.MultiOrderModel.from_DAGs(dags, max_order=2)"
   ]
  },
  {
   "cell_type": "markdown",
   "metadata": {},
   "source": [
    "### Temporal network"
   ]
  },
  {
   "cell_type": "code",
   "execution_count": 9,
   "metadata": {},
   "outputs": [
    {
     "data": {
      "text/plain": [
       "tensor([0, 0, 1, 1, 1, 2, 2, 2, 2])"
      ]
     },
     "execution_count": 9,
     "metadata": {},
     "output_type": "execute_result"
    }
   ],
   "source": [
    "torch.repeat_interleave(torch.tensor([2,3,4]))"
   ]
  },
  {
   "cell_type": "code",
   "execution_count": 10,
   "metadata": {},
   "outputs": [
    {
     "data": {
      "text/plain": [
       "tensor([1, 2, 2, 3, 3, 3, 4, 4, 4, 4, 5, 5, 5, 5, 5])"
      ]
     },
     "execution_count": 10,
     "metadata": {},
     "output_type": "execute_result"
    }
   ],
   "source": [
    "import torch_geometric\n",
    "# import torch_geometric.utils\n",
    "we = torch_geometric.utils.cumsum(torch.tensor([1,1,1,1,1,1]), dim = 0)[:-1]\n",
    "torch.repeat_interleave(we)"
   ]
  },
  {
   "cell_type": "markdown",
   "metadata": {},
   "source": [
    "### Multi-Order model\n",
    " "
   ]
  },
  {
   "cell_type": "code",
   "execution_count": 11,
   "metadata": {},
   "outputs": [],
   "source": [
    "def compute_weighted_outdegrees(graph):\n",
    "    # source_ids = graph.data.edge_index[0]\n",
    "    # weighted_outdegree = torch.zeros(hgraphon_1.data.num_nodes, dtype=graph.data.edge_weight.dtype)\n",
    "    # weighted_outdegree = weighted_outdegree.index_add_(\n",
    "    #     dim = 0, \n",
    "    #     index = graph.data.edge_index[0], \n",
    "    #     source = graph.data.edge_weight,#[source_ids]\n",
    "    #     )\n",
    "    weighted_outdegree = scatter(graph.data.edge_weight, graph.data.edge_index[0], dim=0, dim_size=graph.data.num_nodes, reduce='sum')\n",
    "    return weighted_outdegree\n",
    "\n",
    "def compute_transition_probabilities(graph):\n",
    "    weighted_outdegree = compute_weighted_outdegrees(graph)\n",
    "    source_ids = graph.data.edge_index[0]\n",
    "    return graph.data.edge_weight/ weighted_outdegree[source_ids]\n"
   ]
  },
  {
   "cell_type": "code",
   "execution_count": 203,
   "metadata": {},
   "outputs": [
    {
     "name": "stdout",
     "output_type": "stream",
     "text": [
      "tensor([ 62, 140,  61, 141,  61, 141])\n",
      "tensor([ 61,   1, 140,  61, 141,  31,  70])\n",
      "tensor([1.0000, 1.0000, 0.3020, 0.6980, 1.0000, 1.0000])\n",
      "tensor([0.9839, 0.0161, 1.0000, 1.0000, 1.0000, 1.0000, 1.0000])\n"
     ]
    }
   ],
   "source": [
    "dag_data = pp.DAGData(pp.IndexMap(list(\"01234\")))\n",
    "\n",
    "# dag_data.append_dag(torch.tensor([[0,2],[2,3]]), weight=20)\n",
    "# dag_data.append_dag(torch.tensor([[1,2],[2,4]]), weight=20)\n",
    "# print(dag_data)\n",
    "\n",
    "dag_data.append_walk(list(\"0230230\"), weight=30)\n",
    "dag_data.append_walk(list(\"1241241\"), weight=70)\n",
    "dag_data.append_walk(list(\"0230241\"), weight=1)\n",
    "\n",
    "m = pp.MultiOrderModel.from_DAGs(dag_data, max_order=7)\n",
    "\n",
    "hon_1 = m.layers[1]\n",
    "hon_2 = m.layers[2]\n",
    "hon_3 = m.layers[3]\n",
    "hon_4 = m.layers[4]\n",
    "hon_5 = m.layers[5]\n",
    "hon_6 = m.layers[5]\n",
    "hon_7 = m.layers[7]\n",
    "print(hon_1.data.edge_weight)\n",
    "print(hon_2.data.edge_weight)\n",
    "\n",
    "t_1 = compute_transition_probabilities(hon_1)\n",
    "t_2 = compute_transition_probabilities(hon_2)\n",
    "\n",
    "print(t_1)\n",
    "print(t_2)"
   ]
  },
  {
   "cell_type": "code",
   "execution_count": 184,
   "metadata": {},
   "outputs": [
    {
     "data": {
      "text/plain": [
       "tensor([ 62, 140,  61, 141,  61, 141])"
      ]
     },
     "execution_count": 184,
     "metadata": {},
     "output_type": "execute_result"
    }
   ],
   "source": [
    "hon_1.data.edge_weight"
   ]
  },
  {
   "cell_type": "code",
   "execution_count": 182,
   "metadata": {},
   "outputs": [
    {
     "data": {
      "text/plain": [
       "tensor([30,  1, 30, 30,  1, 30])"
      ]
     },
     "execution_count": 182,
     "metadata": {},
     "output_type": "execute_result"
    }
   ],
   "source": [
    "hon_6.data.edge_weight"
   ]
  },
  {
   "cell_type": "code",
   "execution_count": 13,
   "metadata": {},
   "outputs": [
    {
     "data": {
      "text/plain": [
       "Data(edge_index=[2, 6], node_sequence=[7, 1], num_nodes=7, edge_weight=[6])"
      ]
     },
     "execution_count": 13,
     "metadata": {},
     "output_type": "execute_result"
    }
   ],
   "source": [
    "dag_data.dags[0]"
   ]
  },
  {
   "cell_type": "code",
   "execution_count": 14,
   "metadata": {},
   "outputs": [
    {
     "data": {
      "text/plain": [
       "tensor([[0, 1, 2, 3, 4, 5],\n",
       "        [1, 2, 3, 4, 5, 6]])"
      ]
     },
     "execution_count": 14,
     "metadata": {},
     "output_type": "execute_result"
    }
   ],
   "source": [
    "dag_data.dags[0].edge_index"
   ]
  },
  {
   "cell_type": "code",
   "execution_count": 15,
   "metadata": {},
   "outputs": [
    {
     "data": {
      "text/plain": [
       "tensor([30, 30, 30, 30, 30, 30])"
      ]
     },
     "execution_count": 15,
     "metadata": {},
     "output_type": "execute_result"
    }
   ],
   "source": [
    "dag_data.dags[0].edge_weight"
   ]
  },
  {
   "cell_type": "code",
   "execution_count": 16,
   "metadata": {},
   "outputs": [
    {
     "data": {
      "text/plain": [
       "tensor([[0, 2],\n",
       "        [1, 2],\n",
       "        [2, 3],\n",
       "        [2, 4],\n",
       "        [3, 0],\n",
       "        [4, 1]])"
      ]
     },
     "execution_count": 16,
     "metadata": {},
     "output_type": "execute_result"
    }
   ],
   "source": [
    "hon_2.data.node_sequence"
   ]
  },
  {
   "cell_type": "code",
   "execution_count": 17,
   "metadata": {},
   "outputs": [
    {
     "data": {
      "text/plain": [
       "tensor([61,  1, 60, 61, 61, 31, 30])"
      ]
     },
     "execution_count": 17,
     "metadata": {},
     "output_type": "execute_result"
    }
   ],
   "source": [
    "hon_2.data.edge_weight"
   ]
  },
  {
   "cell_type": "code",
   "execution_count": 18,
   "metadata": {},
   "outputs": [],
   "source": [
    "def generate_general_bipartite_edge_index(g_source, g_target) -> torch.Tensor:\n",
    "    \"\"\"Generate edge_index for bipartite graph connecting nodes of higher-order graphs with arbitrary (but different) orders.\"\"\"\n",
    "    order_source = g_source.data.node_sequence[0].shape[0]\n",
    "    order_target = g_target.data.node_sequence[0].shape[0]\n",
    "    assert order_source!= order_target, \"Source and target must have different orders to generate bipartite indices\"\n",
    "    node_sequence_source = g_source.data.node_sequence\n",
    "    node_sequence_target = g_target.data.node_sequence\n",
    "    d_order = max(order_source, order_target) - min(order_source, order_target)\n",
    "    if order_source>order_target:\n",
    "        mask = torch.all(node_sequence_target[:,None] == node_sequence_source[:, d_order:], dim=-1).T\n",
    "        bip_tensor = torch.nonzero(mask, as_tuple=False).T\n",
    "    else:\n",
    "        mask = torch.all(node_sequence_source[:, None] == node_sequence_target[:, :-d_order], dim=-1)\n",
    "        bip_tensor = torch.nonzero(mask, as_tuple=False).T\n",
    "    return bip_tensor\n",
    "    "
   ]
  },
  {
   "cell_type": "markdown",
   "metadata": {},
   "source": [
    "source > target"
   ]
  },
  {
   "cell_type": "code",
   "execution_count": 19,
   "metadata": {},
   "outputs": [
    {
     "data": {
      "text/plain": [
       "tensor([[0, 1, 2, 3, 4, 5, 5, 6],\n",
       "        [0, 1, 2, 3, 4, 5, 6, 7]])"
      ]
     },
     "execution_count": 19,
     "metadata": {},
     "output_type": "execute_result"
    }
   ],
   "source": [
    "g_source = hon_3\n",
    "g_target = hon_4\n",
    "generate_general_bipartite_edge_index(g_source, g_target)"
   ]
  },
  {
   "cell_type": "code",
   "execution_count": 20,
   "metadata": {},
   "outputs": [],
   "source": [
    "import numpy as np\n",
    "class Lh_conv(torch_geometric.nn.MessagePassing):\n",
    "    def __init__(self):\n",
    "        super().__init__(aggr=\"sum\", flow=\"source_to_target\", node_dim = -1)\n",
    "    def forward(self, x_source, source_to_target_edge_index, transition_probability):\n",
    "        \n",
    "        N = len(source_to_target_edge_index[0].unique())\n",
    "        M = len(source_to_target_edge_index[1].unique())\n",
    "\n",
    "        return self.propagate(\n",
    "                    source_to_target_edge_index,\n",
    "                    size = (N,M),\n",
    "                    x = (x_source, None),\n",
    "                    transition_probability = transition_probability\n",
    "                    )\n",
    "\n",
    "    def message(self, x_j, transition_probability):\n",
    "        return x_j + np.log(transition_probability)"
   ]
  },
  {
   "cell_type": "code",
   "execution_count": 21,
   "metadata": {},
   "outputs": [
    {
     "name": "stdout",
     "output_type": "stream",
     "text": [
      "tensor(-1.5606, dtype=torch.float64)\n"
     ]
    }
   ],
   "source": [
    "lh_conv = Lh_conv()\n",
    "x_source = torch.tensor([np.log(1)]) # lh of path until now # here 1 cause considering the example of a path set{(0,0),(0,1)}, hence only have a deterministic 0th transition *->0\n",
    "# x_target = None # these are gonna be genetaed\n",
    "source_to_target_edge_index = torch.tensor([[0,0],[0,1]])\n",
    "transition_probability = torch.tensor([.3,.7])\n",
    "vec_log_lh = lh_conv(x_source, source_to_target_edge_index, transition_probability)\n",
    "print(vec_log_lh.sum())"
   ]
  },
  {
   "cell_type": "code",
   "execution_count": 22,
   "metadata": {},
   "outputs": [
    {
     "data": {
      "text/plain": [
       "tensor([0.], dtype=torch.float64)"
      ]
     },
     "execution_count": 22,
     "metadata": {},
     "output_type": "execute_result"
    }
   ],
   "source": [
    "torch.tensor([np.log(1)])"
   ]
  },
  {
   "cell_type": "markdown",
   "metadata": {},
   "source": [
    "Gettin zeroth order"
   ]
  },
  {
   "cell_type": "code",
   "execution_count": 23,
   "metadata": {},
   "outputs": [
    {
     "data": {
      "text/plain": [
       "[Data(edge_index=[2, 6], node_sequence=[7, 1], num_nodes=7, edge_weight=[6]),\n",
       " Data(edge_index=[2, 6], node_sequence=[7, 1], num_nodes=7, edge_weight=[6]),\n",
       " Data(edge_index=[2, 6], node_sequence=[7, 1], num_nodes=7, edge_weight=[6])]"
      ]
     },
     "execution_count": 23,
     "metadata": {},
     "output_type": "execute_result"
    }
   ],
   "source": [
    "dag_data.dags"
   ]
  },
  {
   "cell_type": "code",
   "execution_count": 24,
   "metadata": {},
   "outputs": [],
   "source": [
    "from torch_geometric.loader import DataLoader\n",
    "dag_graph = next(iter(DataLoader(dag_data.dags, batch_size=len(dag_data.dags)))).to(pp.config[\"torch\"][\"device\"])\n",
    "edge_index = dag_graph.edge_index\n",
    "node_sequence = dag_graph.node_sequence"
   ]
  },
  {
   "cell_type": "code",
   "execution_count": 166,
   "metadata": {},
   "outputs": [
    {
     "data": {
      "text/plain": [
       "{('0', '2', '3', '0'): 0,\n",
       " ('0', '2', '4', '1'): 1,\n",
       " ('1', '2', '4', '1'): 2,\n",
       " ('2', '3', '0', '2'): 3,\n",
       " ('2', '4', '1', '2'): 4,\n",
       " ('3', '0', '2', '3'): 5,\n",
       " ('3', '0', '2', '4'): 6,\n",
       " ('4', '1', '2', '4'): 7}"
      ]
     },
     "execution_count": 166,
     "metadata": {},
     "output_type": "execute_result"
    }
   ],
   "source": [
    "hon_4.mapping.id_to_idx"
   ]
  },
  {
   "cell_type": "code",
   "execution_count": 29,
   "metadata": {},
   "outputs": [
    {
     "data": {
      "text/plain": [
       "tensor([0.2381, 0.1905, 0.2857, 0.1429, 0.1429])"
      ]
     },
     "execution_count": 29,
     "metadata": {},
     "output_type": "execute_result"
    }
   ],
   "source": [
    "unique_nodes, counts = torch.unique(dag_graph.node_sequence, return_counts=True)\n",
    "\n",
    "node_emission_probabilities = counts/counts.sum()\n",
    "node_emission_probabilities"
   ]
  },
  {
   "cell_type": "code",
   "execution_count": 31,
   "metadata": {},
   "outputs": [
    {
     "name": "stdout",
     "output_type": "stream",
     "text": [
      "0-th\n",
      "tensor([0.2381, 0.1905, 0.2857, 0.1429, 0.1429])\n",
      "tensor([-1.4351, -1.6582, -1.2528, -1.9459, -1.9459])\n",
      "1-th\n",
      "tensor([1.0000, 1.0000, 0.5000, 0.5000, 1.0000, 1.0000])\n",
      "tensor([-1.4351, -1.6582, -1.9459, -1.9459, -1.9459, -1.9459])\n",
      "2-th\n",
      "tensor([0.9839, 0.0161, 1.0000, 1.0000, 1.0000, 1.0000, 1.0000])\n",
      "tensor([-1.4513, -5.5622, -1.6582, -1.9459, -1.9459, -1.9459, -1.9459])\n",
      "3-th (statio)\n",
      "tensor([1.0000, 1.0000, 1.0000, 1.0000, 1.0000, 0.9677, 0.0323, 1.0000])\n",
      "tensor([-1.9787, -5.3799, -1.9459, -1.4513, -7.2204, -1.9459, -1.9459])\n",
      "tensor([-1.9787, -5.3799, -1.9459, -1.9787, -7.3258, -1.4513, -7.2204])\n",
      "tensor([-1.4841, -4.8853, -7.2204, -1.9787, -7.3258, -1.9787, -7.3258])\n",
      "tensor([ -2.0115,  -5.4127,  -7.3258,  -1.4841, -12.1058,  -1.9787,  -7.3258])\n",
      "tensor([ -2.0115,  -5.4127,  -7.3258,  -2.0115, -12.7385,  -1.4841, -12.1058])\n"
     ]
    }
   ],
   "source": [
    "# teh source to target index should come from the observaations... \n",
    "\n",
    "n_nodes = len(unique_nodes)\n",
    "lh_conv = Lh_conv()\n",
    "x_source = torch.zeros(1)# ((n_nodes,1)) \n",
    "# x_target = None # these are gonna be genetaed\n",
    "print(\"0-th\")\n",
    "print(node_emission_probabilities)\n",
    "source_to_target_edge_index_zeroth = torch.stack([torch.zeros(n_nodes,dtype = int),unique_nodes])\n",
    "vec_log_lh = lh_conv(x_source, source_to_target_edge_index_zeroth, node_emission_probabilities)\n",
    "print(vec_log_lh)\n",
    "\n",
    "print(\"1-th\")\n",
    "T = compute_transition_probabilities(hon_1)\n",
    "print(T)\n",
    "source_to_target_edge_index = generate_general_bipartite_edge_index(hon_1,hon_2)\n",
    "vec_log_lh = lh_conv(vec_log_lh, source_to_target_edge_index, T)\n",
    "print(vec_log_lh)\n",
    "\n",
    "print(\"2-th\")\n",
    "T = compute_transition_probabilities(hon_2)\n",
    "print(T)\n",
    "source_to_target_edge_index = generate_general_bipartite_edge_index(hon_2,hon_3)\n",
    "vec_log_lh = lh_conv(vec_log_lh, source_to_target_edge_index,T)\n",
    "print(vec_log_lh)\n",
    "\n",
    "\n",
    "print(\"3-th (statio)\")\n",
    "T = compute_transition_probabilities(hon_3)\n",
    "print(T)\n",
    "for i in range(5):\n",
    "    source_to_target_edge_index = hon_3.data.edge_index\n",
    "    vec_log_lh = lh_conv(vec_log_lh, source_to_target_edge_index,T)\n",
    "    print(vec_log_lh)"
   ]
  },
  {
   "cell_type": "code",
   "execution_count": 210,
   "metadata": {},
   "outputs": [
    {
     "data": {
      "text/plain": [
       "7"
      ]
     },
     "execution_count": 210,
     "metadata": {},
     "output_type": "execute_result"
    }
   ],
   "source": [
    "list_node_seq_paths[0].numel()"
   ]
  },
  {
   "cell_type": "code",
   "execution_count": 214,
   "metadata": {},
   "outputs": [
    {
     "data": {
      "text/plain": [
       "tensor([[ 0,  2,  3,  0,  2,  3,  0, -1, -1, -1],\n",
       "        [ 1,  2,  4,  1,  2,  4,  1, -1, -1, -1],\n",
       "        [ 0,  2,  3,  0,  2,  4,  1, -1, -1, -1]])"
      ]
     },
     "execution_count": 214,
     "metadata": {},
     "output_type": "execute_result"
    }
   ],
   "source": [
    "list_node_seq_paths  =[dag_data.dags[i].node_sequence.T[0] for i in range(len(dag_data.dags))]\n",
    "padded_paths = [torch.nn.functional.pad(x, pad=(0, 10 - x.numel()), mode='constant', value=-1) for x in list_node_seq_paths]\n",
    "padded_paths = torch.stack(padded_paths)\n",
    "padded_paths"
   ]
  },
  {
   "cell_type": "code",
   "execution_count": 215,
   "metadata": {},
   "outputs": [
    {
     "name": "stdout",
     "output_type": "stream",
     "text": [
      "tensor([], size=(3, 0), dtype=torch.int64)\n",
      "tensor([[0],\n",
      "        [1],\n",
      "        [0]])\n",
      "-------------------------------------------\n",
      "tensor([[0],\n",
      "        [1],\n",
      "        [0]])\n",
      "tensor([[0, 2],\n",
      "        [1, 2],\n",
      "        [0, 2]])\n",
      "-------------------------------------------\n",
      "tensor([[0, 2],\n",
      "        [1, 2],\n",
      "        [0, 2]])\n",
      "tensor([[2, 3],\n",
      "        [2, 4],\n",
      "        [2, 3]])\n",
      "-------------------------------------------\n",
      "tensor([[2, 3],\n",
      "        [2, 4],\n",
      "        [2, 3]])\n",
      "tensor([[3, 0],\n",
      "        [4, 1],\n",
      "        [3, 0]])\n",
      "-------------------------------------------\n",
      "tensor([[3, 0],\n",
      "        [4, 1],\n",
      "        [3, 0]])\n",
      "tensor([[0, 2],\n",
      "        [1, 2],\n",
      "        [0, 2]])\n",
      "-------------------------------------------\n",
      "tensor([[0, 2],\n",
      "        [1, 2],\n",
      "        [0, 2]])\n",
      "tensor([[2, 3],\n",
      "        [2, 4],\n",
      "        [2, 4]])\n",
      "-------------------------------------------\n",
      "tensor([[2, 3],\n",
      "        [2, 4],\n",
      "        [2, 4]])\n",
      "tensor([[3, 0],\n",
      "        [4, 1],\n",
      "        [4, 1]])\n",
      "-------------------------------------------\n",
      "tensor([[3, 0],\n",
      "        [4, 1],\n",
      "        [4, 1]])\n",
      "tensor([[ 0, -1],\n",
      "        [ 1, -1],\n",
      "        [ 1, -1]])\n",
      "-------------------------------------------\n",
      "tensor([[ 0, -1],\n",
      "        [ 1, -1],\n",
      "        [ 1, -1]])\n",
      "tensor([[-1, -1],\n",
      "        [-1, -1],\n",
      "        [-1, -1]])\n",
      "-------------------------------------------\n",
      "tensor([[-1, -1],\n",
      "        [-1, -1],\n",
      "        [-1, -1]])\n",
      "tensor([[-1, -1],\n",
      "        [-1, -1],\n",
      "        [-1, -1]])\n",
      "-------------------------------------------\n"
     ]
    }
   ],
   "source": [
    "max_order = 2\n",
    "for i in range(0,padded_paths.shape[1]):\n",
    "    source = padded_paths[:,max(0,i-max_order):i]\n",
    "    target = padded_paths[:,max(0,i-max_order+1):i+1]\n",
    "    print(source)\n",
    "    print(target)\n",
    "    print(\"-------------------------------------------\")"
   ]
  },
  {
   "cell_type": "code",
   "execution_count": null,
   "metadata": {},
   "outputs": [],
   "source": []
  },
  {
   "cell_type": "code",
   "execution_count": 35,
   "metadata": {},
   "outputs": [],
   "source": [
    "# from torch_geometric.loader import DataLoader\n",
    "# dag_graph = next(\n",
    "#     iter(\n",
    "#         DataLoader(\n",
    "#             dag_data.dags, \n",
    "#             batch_size=len(dag_data.dags)))).to(pp.config[\"torch\"][\"device\"]\n",
    "#                                                 )\n",
    "# assert dag_graph.edge_weight is not None\n",
    "# print(dag_graph.edge_weight)"
   ]
  },
  {
   "cell_type": "markdown",
   "metadata": {},
   "source": [
    "**starting from temporal network**"
   ]
  },
  {
   "cell_type": "code",
   "execution_count": 36,
   "metadata": {},
   "outputs": [],
   "source": [
    "# stuff for degrees of freedom etc.\n",
    "num_len_2_paths = hon_2.data.num_nodes\n",
    "num_nonzero_outdegrees = len(hon_2.data.edge_index[0].unique())"
   ]
  },
  {
   "cell_type": "code",
   "execution_count": 37,
   "metadata": {},
   "outputs": [],
   "source": [
    "from torch_geometric.utils import cumsum, coalesce, degree, sort_edge_index"
   ]
  },
  {
   "cell_type": "code",
   "execution_count": 38,
   "metadata": {},
   "outputs": [],
   "source": [
    "tedges = [('0', '2', 1),('2', '3', 2), ('0', '2', 3), ('2', '3', 3), ('1', '2', 14), ('2', '4', 14), ('1', '2', 14),\n",
    "              ('2', '4', 15)]#, ('1', '2', 5), ('2', '4', 6)]\n",
    "t = pp.TemporalGraph.from_edge_list(tedges*10)"
   ]
  },
  {
   "cell_type": "code",
   "execution_count": 39,
   "metadata": {},
   "outputs": [],
   "source": [
    "m = pp.MultiOrderModel.from_temporal_graph(t, max_order=2)"
   ]
  },
  {
   "cell_type": "code",
   "execution_count": 40,
   "metadata": {},
   "outputs": [
    {
     "name": "stdout",
     "output_type": "stream",
     "text": [
      "tensor([20., 20., 20., 20.])\n",
      "tensor([100., 200.])\n"
     ]
    }
   ],
   "source": [
    "hon_1 = m.layers[1]\n",
    "hon_2 = m.layers[2]\n",
    "print(hon_1.data.edge_weight)\n",
    "print(hon_2.data.edge_weight)"
   ]
  },
  {
   "cell_type": "code",
   "execution_count": 41,
   "metadata": {},
   "outputs": [
    {
     "data": {
      "text/plain": [
       "tensor([20., 20., 20., 20.])"
      ]
     },
     "execution_count": 41,
     "metadata": {},
     "output_type": "execute_result"
    }
   ],
   "source": [
    "hon_1.data.edge_weight"
   ]
  },
  {
   "cell_type": "code",
   "execution_count": 42,
   "metadata": {},
   "outputs": [
    {
     "data": {
      "text/plain": [
       "tensor([20., 20., 20., 20.])"
      ]
     },
     "execution_count": 42,
     "metadata": {},
     "output_type": "execute_result"
    }
   ],
   "source": [
    "source_ids = hon_1.data.edge_index[0]\n",
    "hon_1.data.edge_weight[source_ids]"
   ]
  },
  {
   "cell_type": "code",
   "execution_count": 43,
   "metadata": {},
   "outputs": [
    {
     "data": {
      "text/plain": [
       "tensor([0, 1, 1, 3])"
      ]
     },
     "execution_count": 43,
     "metadata": {},
     "output_type": "execute_result"
    }
   ],
   "source": [
    "hon_1.data.edge_index[0]"
   ]
  },
  {
   "cell_type": "code",
   "execution_count": 44,
   "metadata": {},
   "outputs": [
    {
     "data": {
      "text/plain": [
       "tensor([20., 40.,  0., 20.,  0.])"
      ]
     },
     "execution_count": 44,
     "metadata": {},
     "output_type": "execute_result"
    }
   ],
   "source": [
    "weighted_outdegree = torch.zeros(hon_1.data.num_nodes)\n",
    "weighted_outdegree = weighted_outdegree.index_add_(\n",
    "    dim = 0, \n",
    "    index = hon_1.data.edge_index[0], \n",
    "    source = hon_1.data.edge_weight[source_ids]\n",
    "    )\n",
    "weighted_outdegree"
   ]
  },
  {
   "cell_type": "code",
   "execution_count": 45,
   "metadata": {},
   "outputs": [
    {
     "data": {
      "text/plain": [
       "tensor([1.0000, 0.5000, 0.5000, 1.0000])"
      ]
     },
     "execution_count": 45,
     "metadata": {},
     "output_type": "execute_result"
    }
   ],
   "source": [
    "transition_probabilities = hon_1.data.edge_weight[source_ids]/ weighted_outdegree[source_ids]\n",
    "transition_probabilities"
   ]
  },
  {
   "cell_type": "code",
   "execution_count": 46,
   "metadata": {},
   "outputs": [
    {
     "data": {
      "text/plain": [
       "tensor([0.5000, 0.5000])"
      ]
     },
     "execution_count": 46,
     "metadata": {},
     "output_type": "execute_result"
    }
   ],
   "source": [
    "# this gives likelihood of all paths of lenght 2\n",
    "pp.MultiOrderModel.aggregate_edge_weight(\n",
    "    hon_2.data.edge_index,\n",
    "    transition_probabilities,\n",
    "    aggr=\"mul\"\n",
    "    )\n",
    "\n",
    "# the we need the number of times each path has occurred"
   ]
  },
  {
   "cell_type": "code",
   "execution_count": null,
   "metadata": {},
   "outputs": [],
   "source": []
  },
  {
   "cell_type": "code",
   "execution_count": null,
   "metadata": {},
   "outputs": [],
   "source": []
  },
  {
   "cell_type": "code",
   "execution_count": 47,
   "metadata": {},
   "outputs": [
    {
     "data": {
      "text/plain": [
       "(tensor([[0, 0, 0, 0, 0, 0, 0, 0, 0, 0, 0, 0, 0, 0, 0, 0, 0, 0, 0, 0, 1, 1, 1, 1,\n",
       "          1, 1, 1, 1, 1, 1, 1, 1, 1, 1, 1, 1, 1, 1, 1, 1, 1, 1, 1, 1, 1, 1, 1, 1,\n",
       "          1, 1, 1, 1, 1, 1, 1, 1, 1, 1, 1, 1, 3, 3, 3, 3, 3, 3, 3, 3, 3, 3, 3, 3,\n",
       "          3, 3, 3, 3, 3, 3, 3, 3],\n",
       "         [1, 1, 1, 1, 1, 1, 1, 1, 1, 1, 1, 1, 1, 1, 1, 1, 1, 1, 1, 1, 2, 2, 2, 2,\n",
       "          2, 2, 2, 2, 2, 2, 2, 2, 2, 2, 2, 2, 2, 2, 2, 2, 4, 4, 4, 4, 4, 4, 4, 4,\n",
       "          4, 4, 4, 4, 4, 4, 4, 4, 4, 4, 4, 4, 1, 1, 1, 1, 1, 1, 1, 1, 1, 1, 1, 1,\n",
       "          1, 1, 1, 1, 1, 1, 1, 1]]),\n",
       " tensor([ 1.,  1.,  3.,  3.,  3.,  3.,  3.,  3.,  3.,  3.,  3.,  3.,  1.,  1.,\n",
       "          1.,  1.,  1.,  1.,  1.,  1.,  2.,  3.,  3.,  3.,  3.,  3.,  3.,  2.,\n",
       "          3.,  2.,  2.,  2.,  2.,  2.,  2.,  2.,  3.,  3.,  2.,  3., 14., 14.,\n",
       "         14., 14., 14., 15., 15., 15., 15., 15., 15., 15., 15., 15., 15., 14.,\n",
       "         14., 14., 14., 14., 14., 14., 14., 14., 14., 14., 14., 14., 14., 14.,\n",
       "         14., 14., 14., 14., 14., 14., 14., 14., 14., 14.]))"
      ]
     },
     "execution_count": 47,
     "metadata": {},
     "output_type": "execute_result"
    }
   ],
   "source": [
    "sort_edge_index(t.data.edge_index, t.data.t)"
   ]
  },
  {
   "cell_type": "code",
   "execution_count": 48,
   "metadata": {},
   "outputs": [
    {
     "data": {
      "text/plain": [
       "tensor([[0],\n",
       "        [1],\n",
       "        [2],\n",
       "        [3],\n",
       "        [4]])"
      ]
     },
     "execution_count": 48,
     "metadata": {},
     "output_type": "execute_result"
    }
   ],
   "source": [
    "node_sequence = torch.arange(t.data.num_nodes, device=edge_index.device).unsqueeze(1)\n",
    "node_sequence"
   ]
  },
  {
   "cell_type": "code",
   "execution_count": 49,
   "metadata": {},
   "outputs": [],
   "source": [
    "# edge_weight = torch.ones(edge_index.size(1), device=edge_index.device)\n",
    "edge_weight = g.data.edge_weight"
   ]
  },
  {
   "cell_type": "code",
   "execution_count": 50,
   "metadata": {},
   "outputs": [
    {
     "ename": "IndexError",
     "evalue": "index 5 is out of bounds for dimension 0 with size 5",
     "output_type": "error",
     "traceback": [
      "\u001b[0;31m---------------------------------------------------------------------------\u001b[0m",
      "\u001b[0;31mIndexError\u001b[0m                                Traceback (most recent call last)",
      "Cell \u001b[0;32mIn[50], line 1\u001b[0m\n\u001b[0;32m----> 1\u001b[0m l1 \u001b[38;5;241m=\u001b[39m \u001b[43mpp\u001b[49m\u001b[38;5;241;43m.\u001b[39;49m\u001b[43mMultiOrderModel\u001b[49m\u001b[38;5;241;43m.\u001b[39;49m\u001b[43maggregate_edge_index\u001b[49m\u001b[43m(\u001b[49m\n\u001b[1;32m      2\u001b[0m \u001b[43m                \u001b[49m\u001b[43medge_index\u001b[49m\u001b[38;5;241;43m=\u001b[39;49m\u001b[43medge_index\u001b[49m\u001b[43m,\u001b[49m\u001b[43m \u001b[49m\u001b[43mnode_sequence\u001b[49m\u001b[38;5;241;43m=\u001b[39;49m\u001b[43mnode_sequence\u001b[49m\u001b[43m,\u001b[49m\u001b[43m \u001b[49m\u001b[43medge_weight\u001b[49m\u001b[38;5;241;43m=\u001b[39;49m\u001b[43medge_weight\u001b[49m\n\u001b[1;32m      3\u001b[0m \u001b[43m)\u001b[49m\n",
      "File \u001b[0;32m/workspaces/pathpyG/src/pathpyG/core/MultiOrderModel.py:117\u001b[0m, in \u001b[0;36mMultiOrderModel.aggregate_edge_index\u001b[0;34m(edge_index, node_sequence, edge_weight)\u001b[0m\n\u001b[1;32m    115\u001b[0m \u001b[38;5;28;01mif\u001b[39;00m node_sequence\u001b[38;5;241m.\u001b[39msize(\u001b[38;5;241m1\u001b[39m) \u001b[38;5;241m==\u001b[39m \u001b[38;5;241m1\u001b[39m:\n\u001b[1;32m    116\u001b[0m     unique_nodes \u001b[38;5;241m=\u001b[39m torch\u001b[38;5;241m.\u001b[39marange(node_sequence\u001b[38;5;241m.\u001b[39mmax()\u001b[38;5;241m.\u001b[39mitem() \u001b[38;5;241m+\u001b[39m \u001b[38;5;241m1\u001b[39m, device\u001b[38;5;241m=\u001b[39mnode_sequence\u001b[38;5;241m.\u001b[39mdevice)\u001b[38;5;241m.\u001b[39munsqueeze(\u001b[38;5;241m1\u001b[39m)\n\u001b[0;32m--> 117\u001b[0m     mapped_edge_index \u001b[38;5;241m=\u001b[39m \u001b[43mnode_sequence\u001b[49m\u001b[38;5;241;43m.\u001b[39;49m\u001b[43msqueeze\u001b[49m\u001b[43m(\u001b[49m\u001b[43m)\u001b[49m\u001b[43m[\u001b[49m\u001b[43medge_index\u001b[49m\u001b[43m]\u001b[49m\n\u001b[1;32m    118\u001b[0m \u001b[38;5;28;01melse\u001b[39;00m:\n\u001b[1;32m    119\u001b[0m     unique_nodes, inverse_idx \u001b[38;5;241m=\u001b[39m torch\u001b[38;5;241m.\u001b[39munique(node_sequence, dim\u001b[38;5;241m=\u001b[39m\u001b[38;5;241m0\u001b[39m, return_inverse\u001b[38;5;241m=\u001b[39m\u001b[38;5;28;01mTrue\u001b[39;00m)\n",
      "\u001b[0;31mIndexError\u001b[0m: index 5 is out of bounds for dimension 0 with size 5"
     ]
    }
   ],
   "source": [
    "l1 = pp.MultiOrderModel.aggregate_edge_index(\n",
    "                edge_index=edge_index, node_sequence=node_sequence, edge_weight=edge_weight\n",
    ")"
   ]
  },
  {
   "cell_type": "code",
   "execution_count": null,
   "metadata": {},
   "outputs": [
    {
     "data": {
      "text/plain": [
       "tensor([1., 1., 1., 1.])"
      ]
     },
     "execution_count": 106,
     "metadata": {},
     "output_type": "execute_result"
    }
   ],
   "source": [
    "\n",
    "l1.data.edge_weight"
   ]
  },
  {
   "cell_type": "markdown",
   "metadata": {},
   "source": [
    "I cannot do the model selection on the temporal graph without the path extraction. "
   ]
  }
 ],
 "metadata": {
  "kernelspec": {
   "display_name": "base",
   "language": "python",
   "name": "python3"
  },
  "language_info": {
   "codemirror_mode": {
    "name": "ipython",
    "version": 3
   },
   "file_extension": ".py",
   "mimetype": "text/x-python",
   "name": "python",
   "nbconvert_exporter": "python",
   "pygments_lexer": "ipython3",
   "version": "3.10.13"
  }
 },
 "nbformat": 4,
 "nbformat_minor": 2
}
