{
 "cells": [
  {
   "cell_type": "code",
   "execution_count": 1,
   "metadata": {},
   "outputs": [
    {
     "name": "stdout",
     "output_type": "stream",
     "text": [
      "Running on cuda\n"
     ]
    }
   ],
   "source": [
    "import numpy as np\n",
    "from matplotlib import pyplot as plt\n",
    "\n",
    "from sklearn import metrics\n",
    "from sklearn.decomposition import TruncatedSVD\n",
    "\n",
    "import torch\n",
    "from torch.nn import Linear, ReLU, Sigmoid, Parameter\n",
    "\n",
    "import torch_geometric\n",
    "from torch_geometric.nn import Sequential, GCNConv, SimpleConv, MessagePassing\n",
    "\n",
    "from pathpyG.core.Graph import Graph\n",
    "from pathpyG.io.netzschleuder import read_netzschleuder_network\n",
    "\n",
    "import pathpyG\n",
    "\n",
    "print('Running on', pathpyG.config['torch']['device'])"
   ]
  },
  {
   "cell_type": "markdown",
   "metadata": {},
   "source": [
    "We can read networks from the netzschleuder database:"
   ]
  },
  {
   "cell_type": "code",
   "execution_count": 2,
   "metadata": {},
   "outputs": [
    {
     "name": "stdout",
     "output_type": "stream",
     "text": [
      "Graph with 6488 nodes and 150985 edges\n",
      "\n",
      "Node attributes\n",
      "\tnode__pos\t\t<class 'torch.Tensor'> -> torch.Size([6488, 1, 2])\n",
      "\tnode_ohe\t\t<class 'torch.Tensor'> -> torch.Size([6488, 6488])\n",
      "\n",
      "Graph attributes\n",
      "\tname\t\t<class 'str'>\n",
      "\tcitation\t\t<class 'list'>\n",
      "\ttags\t\t<class 'list'>\n",
      "\tdescription\t\t<class 'str'>\n",
      "\turl\t\t<class 'str'>\n",
      "\tnode_id\t\t<class 'list'>\n",
      "\n"
     ]
    },
    {
     "name": "stderr",
     "output_type": "stream",
     "text": [
      "/workspaces/pathpyG/src/pathpyG/io/netzschleuder.py:294: UserWarning: Creating a tensor from a list of numpy.ndarrays is extremely slow. Please consider converting the list to a single numpy.ndarray with numpy.array() before converting to a tensor. (Triggered internally at /opt/conda/conda-bld/pytorch_1682343967769/work/torch/csrc/utils/tensor_new.cpp:245.)\n",
      "  g.data['node_{0}'.format(a)] = torch.tensor(node_attr[a], dtype=torch.float).to(config['torch']['device'])\n"
     ]
    }
   ],
   "source": [
    "g = read_netzschleuder_network('software_dependencies', 'jdk')\n",
    "g.add_node_ohe('node_ohe')\n",
    "print(g)"
   ]
  },
  {
   "cell_type": "code",
   "execution_count": 3,
   "metadata": {},
   "outputs": [
    {
     "name": "stdout",
     "output_type": "stream",
     "text": [
      "Graph with 34 nodes and 77 edges\n",
      "\n",
      "Node attributes\n",
      "\tnode__pos\t\t<class 'torch.Tensor'> -> torch.Size([34, 1, 2])\n",
      "\tnode_groups\t\t<class 'torch.Tensor'> -> torch.Size([34, 1])\n",
      "\tnode_name\t\t<class 'torch.Tensor'> -> torch.Size([34, 1])\n",
      "\tnode_ohe\t\t<class 'torch.Tensor'> -> torch.Size([34, 34])\n",
      "\n",
      "Graph attributes\n",
      "\tname\t\t<class 'str'>\n",
      "\tcitation\t\t<class 'str'>\n",
      "\ttags\t\t<class 'list'>\n",
      "\tdescription\t\t<class 'str'>\n",
      "\turl\t\t<class 'str'>\n",
      "\tnode_id\t\t<class 'list'>\n",
      "\n"
     ]
    }
   ],
   "source": [
    "g = read_netzschleuder_network('karate', '77')\n",
    "g.add_node_ohe('node_ohe')\n",
    "print(g)"
   ]
  },
  {
   "cell_type": "code",
   "execution_count": 4,
   "metadata": {},
   "outputs": [
    {
     "name": "stdout",
     "output_type": "stream",
     "text": [
      "tensor([[1.],\n",
      "        [1.],\n",
      "        [1.],\n",
      "        [1.],\n",
      "        [1.],\n",
      "        [1.],\n",
      "        [1.],\n",
      "        [1.],\n",
      "        [1.],\n",
      "        [2.],\n",
      "        [1.],\n",
      "        [1.],\n",
      "        [1.],\n",
      "        [1.],\n",
      "        [2.],\n",
      "        [2.],\n",
      "        [1.],\n",
      "        [1.],\n",
      "        [2.],\n",
      "        [1.],\n",
      "        [2.],\n",
      "        [1.],\n",
      "        [2.],\n",
      "        [2.],\n",
      "        [2.],\n",
      "        [2.],\n",
      "        [2.],\n",
      "        [2.],\n",
      "        [2.],\n",
      "        [2.],\n",
      "        [2.],\n",
      "        [2.],\n",
      "        [2.],\n",
      "        [2.]], device='cuda:0')\n"
     ]
    }
   ],
   "source": [
    "print(g['node_groups'])"
   ]
  },
  {
   "cell_type": "markdown",
   "metadata": {},
   "source": [
    "Let us shift this to values 0 and 1: "
   ]
  },
  {
   "cell_type": "code",
   "execution_count": 5,
   "metadata": {},
   "outputs": [],
   "source": [
    "g['node_groups'] -= 1"
   ]
  },
  {
   "cell_type": "code",
   "execution_count": 6,
   "metadata": {},
   "outputs": [
    {
     "name": "stdout",
     "output_type": "stream",
     "text": [
      "tensor([[0.],\n",
      "        [0.],\n",
      "        [0.],\n",
      "        [0.],\n",
      "        [0.],\n",
      "        [0.],\n",
      "        [0.],\n",
      "        [0.],\n",
      "        [0.],\n",
      "        [1.],\n",
      "        [0.],\n",
      "        [0.],\n",
      "        [0.],\n",
      "        [0.],\n",
      "        [1.],\n",
      "        [1.],\n",
      "        [0.],\n",
      "        [0.],\n",
      "        [1.],\n",
      "        [0.],\n",
      "        [1.],\n",
      "        [0.],\n",
      "        [1.],\n",
      "        [1.],\n",
      "        [1.],\n",
      "        [1.],\n",
      "        [1.],\n",
      "        [1.],\n",
      "        [1.],\n",
      "        [1.],\n",
      "        [1.],\n",
      "        [1.],\n",
      "        [1.],\n",
      "        [1.]], device='cuda:0')\n"
     ]
    }
   ],
   "source": [
    "print(g['node_groups'])"
   ]
  },
  {
   "cell_type": "code",
   "execution_count": 7,
   "metadata": {},
   "outputs": [
    {
     "name": "stdout",
     "output_type": "stream",
     "text": [
      "Data(edge_index=[2, 77], node_id=[0], node_name=[34, 1], node_groups=[34, 1], node__pos=[34, 1, 2], name='karate (77)', description='Network of friendships among members of a university karate club. Includes metadata for faction membership after a social partition. Note: there are two versions of this network, one with 77 edges and one with 78, due to an ambiguous typo in the original study. (The most commonly used is the one with 78 edges.)[^icon]\n",
      "[^icon]: Description obtained from the [ICON](https://icon.colorado.edu) project.', citation='['W. W. Zachary, \"An information flow model for conflict and fission in small groups.\" Journal of Anthropological Research 33, 452-473 (1977)., https://doi.org/10.1086/jar.33.4.3629752']', url='https://aaronclauset.github.io/datacode.htm', tags=[3], node_ohe=[34, 34])\n"
     ]
    }
   ],
   "source": [
    "print(g.data)"
   ]
  },
  {
   "cell_type": "code",
   "execution_count": 8,
   "metadata": {},
   "outputs": [],
   "source": [
    "data = g.data\n",
    "data['x'] = data['node_ohe']\n",
    "data['y'] = data['node_groups']"
   ]
  },
  {
   "cell_type": "markdown",
   "metadata": {},
   "source": [
    "We can now apply a GCN to the Karate club network:"
   ]
  },
  {
   "cell_type": "code",
   "execution_count": 23,
   "metadata": {},
   "outputs": [
    {
     "name": "stdout",
     "output_type": "stream",
     "text": [
      "[Parameter containing:\n",
      "tensor([0., 0., 0., 0., 0., 0., 0., 0.], device='cuda:0', requires_grad=True), Parameter containing:\n",
      "tensor([[-7.0699e-02, -2.8702e-01, -7.4872e-02,  8.0552e-02,  2.4250e-01,\n",
      "          1.9527e-01, -5.6128e-03,  3.3100e-01,  2.4763e-01, -2.2372e-01,\n",
      "          3.0914e-01, -1.0036e-01,  3.2016e-01,  9.2224e-02, -2.3610e-01,\n",
      "         -1.8812e-01, -9.7696e-02,  2.0409e-01, -2.2460e-01, -2.8335e-01,\n",
      "          1.7949e-01,  5.8799e-02,  3.3549e-01,  3.1023e-01,  6.9081e-04,\n",
      "         -1.4329e-01, -3.2280e-01, -1.3831e-01, -1.9428e-01,  2.8748e-01,\n",
      "          2.2908e-01, -2.6796e-01,  2.0889e-01,  6.4641e-02],\n",
      "        [ 5.9634e-02, -9.4678e-02,  3.7251e-01,  5.2483e-02, -2.3218e-01,\n",
      "         -1.9183e-01, -9.8104e-02,  2.6053e-01, -9.0452e-02,  5.9395e-02,\n",
      "          3.4471e-01,  7.3669e-02, -2.5659e-01, -5.5659e-02, -1.9399e-01,\n",
      "         -1.9189e-01, -1.6485e-01, -2.1437e-01, -3.2219e-01, -3.5329e-01,\n",
      "         -3.3301e-01, -6.7031e-02,  2.8920e-01, -3.1966e-01,  8.5237e-02,\n",
      "          3.0109e-01,  1.0538e-01,  2.2295e-02, -2.4962e-01,  1.5668e-01,\n",
      "         -1.2216e-01, -2.6249e-01, -3.6857e-01, -5.2184e-02],\n",
      "        [-3.5810e-01, -1.0198e-01, -1.6512e-01, -1.6636e-01,  3.3154e-01,\n",
      "          1.4456e-01, -1.5371e-01,  3.5966e-01, -1.0773e-01, -5.7675e-02,\n",
      "          2.0251e-01,  1.6419e-01, -8.7699e-02, -3.2629e-01, -2.5855e-01,\n",
      "         -3.0104e-01,  2.1567e-01,  1.5953e-01, -3.6275e-01,  3.0507e-01,\n",
      "         -1.8009e-01,  3.2935e-01,  2.1173e-01,  2.5995e-01, -8.3575e-03,\n",
      "         -2.7838e-01,  2.6688e-01, -3.1494e-01,  3.3031e-01, -3.0488e-02,\n",
      "          2.1909e-01, -2.0952e-01, -7.7983e-02, -2.5113e-01],\n",
      "        [-2.6376e-01, -2.3224e-01, -2.5497e-01,  3.4406e-01, -1.1242e-01,\n",
      "         -7.1902e-02,  1.9125e-01,  2.0080e-01,  2.2807e-01, -3.0448e-01,\n",
      "         -9.6306e-02,  2.2377e-01, -2.8515e-01,  1.9092e-01, -2.5386e-01,\n",
      "          1.5839e-01, -4.3267e-02, -2.2137e-01, -1.3454e-02, -2.5374e-01,\n",
      "         -2.1748e-01,  1.7342e-01,  8.1536e-02,  2.9958e-01, -2.8467e-01,\n",
      "          1.7883e-01,  3.8506e-02, -2.3806e-01, -3.5472e-02,  2.0669e-01,\n",
      "         -3.0637e-02, -3.4403e-01,  2.2011e-01, -3.5749e-02],\n",
      "        [-3.2778e-01, -2.1177e-01, -1.9976e-01, -2.8869e-01,  2.7634e-02,\n",
      "          1.1583e-01,  7.7599e-02,  2.8385e-01, -3.3681e-01, -1.7033e-01,\n",
      "         -3.7058e-01, -2.9537e-01, -2.4570e-01, -8.1816e-02, -3.9217e-02,\n",
      "          9.4531e-02, -1.0339e-01,  2.0965e-02, -1.3636e-01, -2.5157e-01,\n",
      "          3.0959e-01,  7.4943e-02,  3.0678e-01, -2.7299e-01,  1.9837e-01,\n",
      "         -3.6485e-01, -3.3122e-01,  1.6209e-01, -3.4875e-01,  6.2083e-02,\n",
      "         -2.9764e-01,  6.5733e-02,  2.5443e-01, -1.5646e-01],\n",
      "        [ 1.4212e-01,  3.5777e-01,  1.3477e-03,  2.8183e-01,  1.4896e-01,\n",
      "         -1.2319e-01, -2.7330e-01,  2.6954e-01, -3.6986e-01,  1.8148e-01,\n",
      "          6.2010e-02, -1.0701e-01,  1.7880e-01, -2.0309e-01, -8.3085e-02,\n",
      "         -1.1739e-01,  1.6550e-03, -1.6791e-01,  3.3169e-01,  1.7572e-04,\n",
      "         -3.0153e-01,  1.8328e-01,  1.3195e-01,  3.1729e-01, -1.9088e-01,\n",
      "         -1.1187e-01, -8.6556e-02,  3.2387e-01,  1.5053e-01,  2.3145e-01,\n",
      "         -1.7495e-01, -3.8464e-02, -3.7309e-01,  3.7162e-01],\n",
      "        [ 3.6786e-01,  8.8545e-02,  2.6386e-01, -2.7612e-01, -3.3265e-01,\n",
      "          2.9824e-02,  1.0190e-01,  3.2374e-01, -2.6644e-01,  3.7467e-01,\n",
      "          3.5514e-01,  1.4260e-01,  3.3813e-02,  2.9403e-01, -1.0566e-01,\n",
      "          1.1357e-02,  3.5368e-01, -2.5177e-01, -3.0246e-01,  2.1419e-01,\n",
      "         -2.5182e-01, -2.2218e-01,  1.5830e-01, -1.3212e-01, -3.6605e-01,\n",
      "         -3.1002e-01,  9.2745e-02,  2.5190e-02, -2.0970e-01, -5.4758e-02,\n",
      "         -3.3568e-01,  6.6017e-02, -1.0027e-01, -7.9098e-02],\n",
      "        [-1.6181e-01,  1.1893e-01,  3.2424e-02,  3.0951e-01,  2.1706e-01,\n",
      "          1.7596e-01,  3.7231e-01, -2.0399e-01, -1.9433e-01, -2.3222e-01,\n",
      "         -2.0851e-01, -1.7629e-01,  1.6630e-01,  1.5162e-01,  1.6086e-01,\n",
      "         -3.3742e-01, -1.5190e-01, -3.6858e-01,  7.3460e-02,  4.7445e-04,\n",
      "         -2.2704e-01, -1.0878e-01,  2.2883e-01,  1.6223e-01,  1.9860e-01,\n",
      "          2.7747e-01,  6.3327e-02, -3.2767e-01,  1.8430e-01,  1.7186e-01,\n",
      "          2.7310e-01, -3.2599e-01,  2.0765e-01,  2.2479e-01]], device='cuda:0',\n",
      "       requires_grad=True), Parameter containing:\n",
      "tensor([0.], device='cuda:0', requires_grad=True), Parameter containing:\n",
      "tensor([[ 0.5299, -0.2703, -0.1881,  0.2716,  0.2458,  0.7021,  0.5897,  0.0816]],\n",
      "       device='cuda:0', requires_grad=True)]\n"
     ]
    }
   ],
   "source": [
    "model = Sequential('node_ohe, edge_index', [\n",
    "    (GCNConv(in_channels=data.num_node_features, out_channels=8), 'node_ohe, edge_index -> node_ohe'),\n",
    "    ReLU(inplace=True),\n",
    "    (GCNConv(in_channels=8, out_channels=1), 'node_ohe, edge_index -> node_ohe'),\n",
    "    Sigmoid(),\n",
    "])\n",
    "model.to(pathpyG.config['torch']['device'])\n",
    "print([p for p in model.parameters()])"
   ]
  },
  {
   "cell_type": "code",
   "execution_count": 24,
   "metadata": {},
   "outputs": [
    {
     "data": {
      "text/plain": [
       "Data(edge_index=[2, 77], node_id=[0], node_name=[34, 1], node_groups=[34, 1], node__pos=[34, 1, 2], name='karate (77)', description='Network of friendships among members of a university karate club. Includes metadata for faction membership after a social partition. Note: there are two versions of this network, one with 77 edges and one with 78, due to an ambiguous typo in the original study. (The most commonly used is the one with 78 edges.)[^icon]\n",
       "[^icon]: Description obtained from the [ICON](https://icon.colorado.edu) project.', citation='['W. W. Zachary, \"An information flow model for conflict and fission in small groups.\" Journal of Anthropological Research 33, 452-473 (1977)., https://doi.org/10.1086/jar.33.4.3629752']', url='https://aaronclauset.github.io/datacode.htm', tags=[3], node_ohe=[34, 34], x=[34, 34], y=[34, 1], train_mask=[34], val_mask=[34], test_mask=[34])"
      ]
     },
     "execution_count": 24,
     "metadata": {},
     "output_type": "execute_result"
    }
   ],
   "source": [
    "transform = torch_geometric.transforms.RandomNodeSplit(split='train_rest', num_val=0.5, num_test=0)\n",
    "transform(data)"
   ]
  },
  {
   "cell_type": "code",
   "execution_count": 25,
   "metadata": {},
   "outputs": [],
   "source": [
    "epochs = 2000\n",
    "\n",
    "optimizer = torch.optim.Adam(model.parameters(), lr=0.01, weight_decay=5e-4)\n",
    "    \n",
    "losses = []\n",
    "\n",
    "model.train()\n",
    "for epoch in range(epochs):\n",
    "    optimizer.zero_grad()\n",
    "    out = model(data.x, data.edge_index)\n",
    "    loss = torch.nn.functional.binary_cross_entropy(out[data.train_mask], data.y[data.train_mask])\n",
    "    loss.backward()\n",
    "    optimizer.step()\n",
    "\n",
    "    losses.append(loss.cpu().detach().numpy())"
   ]
  },
  {
   "cell_type": "code",
   "execution_count": 26,
   "metadata": {},
   "outputs": [
    {
     "data": {
      "image/png": "[encoded data removed]",
      "text/plain": [
       "<Figure size 640x480 with 1 Axes>"
      ]
     },
     "metadata": {},
     "output_type": "display_data"
    }
   ],
   "source": [
    "plt.plot(range(epochs), losses)\n",
    "plt.grid()"
   ]
  },
  {
   "cell_type": "markdown",
   "metadata": {},
   "source": [
    "We evaluate the model in the test set"
   ]
  },
  {
   "cell_type": "code",
   "execution_count": 28,
   "metadata": {},
   "outputs": [
    {
     "data": {
      "text/plain": [
       "1.0"
      ]
     },
     "execution_count": 28,
     "metadata": {},
     "output_type": "execute_result"
    }
   ],
   "source": [
    "model.eval()\n",
    "predicted_groups = model(data.x, data.edge_index).round().long()\n",
    "metrics.adjusted_mutual_info_score(data.y[data.test_mask].squeeze().cpu().numpy(), predicted_groups[data.test_mask].squeeze().cpu().numpy())"
   ]
  },
  {
   "cell_type": "markdown",
   "metadata": {},
   "source": [
    "We visualize node representations learned by the model."
   ]
  },
  {
   "cell_type": "code",
   "execution_count": 30,
   "metadata": {},
   "outputs": [
    {
     "data": {
      "image/png": "[encoded data removed]",
      "text/plain": [
       "<Figure size 640x480 with 1 Axes>"
      ]
     },
     "metadata": {},
     "output_type": "display_data"
    }
   ],
   "source": [
    "# get activations in first-layer\n",
    "embedding = model[0].forward(data.x, data.edge_index)\n",
    "\n",
    "# dimensionality reduction\n",
    "svd = TruncatedSVD()\n",
    "low_dim = svd.fit_transform(embedding.cpu().detach().numpy())\n",
    "\n",
    "# plot with colors corresponding to groups in validation set\n",
    "colors = {}\n",
    "for v in range(g.N):\n",
    "    if data.val_mask[v]:\n",
    "        colors[v] = 'grey'\n",
    "    else:\n",
    "        if data.y[v].item() == 0.0:\n",
    "            colors[v] = 'blue'\n",
    "        else:\n",
    "            colors[v] = 'orange'\n",
    "\n",
    "plt.scatter(low_dim[:,0], low_dim[:,1], c=colors.values());"
   ]
  },
  {
   "cell_type": "code",
   "execution_count": null,
   "metadata": {},
   "outputs": [
    {
     "name": "stdout",
     "output_type": "stream",
     "text": [
      "tensor([0., 1., 2., 3., 1., 1., 3., 4., 2., 1., 3., 1., 2., 4., 2., 2., 2., 2.,\n",
      "        2., 2., 2., 2., 1., 3., 3., 2., 2., 1., 2., 3., 2., 1., 4., 9.])\n"
     ]
    }
   ],
   "source": [
    "g.data['node_degree'] = degree(g.data.edge_index[1])\n",
    "print(g.data['node_degree'])"
   ]
  },
  {
   "cell_type": "code",
   "execution_count": null,
   "metadata": {},
   "outputs": [
    {
     "name": "stdout",
     "output_type": "stream",
     "text": [
      "tensor([[1.],\n",
      "        [1.],\n",
      "        [1.],\n",
      "        [1.],\n",
      "        [1.],\n",
      "        [1.],\n",
      "        [1.],\n",
      "        [1.],\n",
      "        [1.],\n",
      "        [1.],\n",
      "        [1.],\n",
      "        [1.],\n",
      "        [1.],\n",
      "        [1.],\n",
      "        [1.],\n",
      "        [1.],\n",
      "        [1.],\n",
      "        [1.],\n",
      "        [1.],\n",
      "        [1.],\n",
      "        [1.],\n",
      "        [1.],\n",
      "        [1.],\n",
      "        [1.],\n",
      "        [1.],\n",
      "        [1.],\n",
      "        [1.],\n",
      "        [1.],\n",
      "        [1.],\n",
      "        [1.],\n",
      "        [1.],\n",
      "        [1.],\n",
      "        [1.],\n",
      "        [1.]])\n"
     ]
    }
   ],
   "source": [
    "data = g.data\n",
    "data['edge_index'] = to_undirected(data.edge_index)\n",
    "data['x'] = torch.tensor([1.0]*34).reshape(34,1)\n",
    "data['y'] = degree(data.edge_index[1]).reshape(34,1)\n",
    "print(data['x'])"
   ]
  },
  {
   "cell_type": "code",
   "execution_count": null,
   "metadata": {},
   "outputs": [],
   "source": [
    "class AggConv(MessagePassing):\n",
    "    def __init__(self, in_channels, out_channels):\n",
    "        super().__init__(aggr='add')  # \"Add\" aggregation (Step 5).\n",
    "        self.lin = Linear(in_channels, out_channels, bias=True)\n",
    "        #self.bias = Parameter(torch.empty(out_channels))\n",
    "\n",
    "        self.reset_parameters()\n",
    "\n",
    "    def reset_parameters(self):\n",
    "        self.lin.reset_parameters()\n",
    "        #self.bias.data.zero_()\n",
    "\n",
    "    def forward(self, x, edge_index):\n",
    "        # x has shape [N, in_channels]\n",
    "        # edge_index has shape [2, E]\n",
    "\n",
    "        # Step 1: Linearly transform node feature matrix.\n",
    "        x = self.lin(x)\n",
    "\n",
    "        # Step 2: Start propagating messages.\n",
    "        out = self.propagate(edge_index, x=x)\n",
    "\n",
    "        # Step 6: Apply a final bias vector.\n",
    "       # out += self.bias\n",
    "\n",
    "        return out\n",
    "\n",
    "    def message(self, x_j):\n",
    "        return x_j"
   ]
  },
  {
   "cell_type": "code",
   "execution_count": null,
   "metadata": {},
   "outputs": [
    {
     "name": "stdout",
     "output_type": "stream",
     "text": [
      "[Parameter containing:\n",
      "tensor([[-0.6053]], requires_grad=True), Parameter containing:\n",
      "tensor([0.5440], requires_grad=True)]\n"
     ]
    }
   ],
   "source": [
    "model = Sequential('node_degree, edge_index', [\n",
    "    (AggConv(in_channels=data.num_node_features, out_channels=1), 'node_degree, edge_index -> node_degree')\n",
    "])\n",
    "print([p for p in model.parameters()])"
   ]
  },
  {
   "cell_type": "code",
   "execution_count": null,
   "metadata": {},
   "outputs": [
    {
     "data": {
      "text/plain": [
       "Data(edge_index=[2, 154], node_id=[0], node_name=[34, 1], node_groups=[34, 1], node__pos=[34, 1, 2], name='karate (77)', description='Network of friendships among members of a university karate club. Includes metadata for faction membership after a social partition. Note: there are two versions of this network, one with 77 edges and one with 78, due to an ambiguous typo in the original study. (The most commonly used is the one with 78 edges.)[^icon]\n",
       "[^icon]: Description obtained from the [ICON](https://icon.colorado.edu) project.', citation='['W. W. Zachary, \"An information flow model for conflict and fission in small groups.\" Journal of Anthropological Research 33, 452-473 (1977)., https://doi.org/10.1086/jar.33.4.3629752']', url='https://aaronclauset.github.io/datacode.htm', tags=[3], node_ohe=[34, 34], x=[34, 1], y=[34, 1], train_mask=[34], val_mask=[34], test_mask=[34], node_degree=[34])"
      ]
     },
     "execution_count": 33,
     "metadata": {},
     "output_type": "execute_result"
    }
   ],
   "source": [
    "transform = torch_geometric.transforms.RandomNodeSplit(split='train_rest', num_val=0.5, num_test=0)\n",
    "transform(data)"
   ]
  },
  {
   "cell_type": "code",
   "execution_count": null,
   "metadata": {},
   "outputs": [
    {
     "name": "stdout",
     "output_type": "stream",
     "text": [
      "[Parameter containing:\n",
      "tensor([[-0.0713]], requires_grad=True), Parameter containing:\n",
      "tensor([1.0751], requires_grad=True)]\n"
     ]
    }
   ],
   "source": [
    "epochs = 2500\n",
    "\n",
    "optimizer = torch.optim.Adam(model.parameters(), lr=0.01, weight_decay=5e-4)\n",
    "losses = []\n",
    "\n",
    "model.train()\n",
    "for epoch in range(epochs):\n",
    "    optimizer.zero_grad()\n",
    "    out = model(data.x, data.edge_index)\n",
    "    loss = torch.nn.functional.l1_loss(out[data.train_mask], data.y[data.train_mask])\n",
    "    loss.backward()\n",
    "    optimizer.step()\n",
    "\n",
    "    losses.append(loss.detach().numpy())\n",
    "\n",
    "print([p for p in model.parameters()])"
   ]
  },
  {
   "cell_type": "code",
   "execution_count": null,
   "metadata": {},
   "outputs": [
    {
     "data": {
      "image/png": "[encoded data removed]",
      "text/plain": [
       "<Figure size 640x480 with 1 Axes>"
      ]
     },
     "metadata": {},
     "output_type": "display_data"
    }
   ],
   "source": [
    "plt.plot(range(epochs), losses)\n",
    "plt.grid()"
   ]
  },
  {
   "cell_type": "code",
   "execution_count": null,
   "metadata": {},
   "outputs": [
    {
     "data": {
      "text/plain": [
       "0.015629733"
      ]
     },
     "execution_count": 36,
     "metadata": {},
     "output_type": "execute_result"
    }
   ],
   "source": [
    "model.eval()\n",
    "predicted_degrees = model(data.x, data.edge_index).detach()\n",
    "metrics.mean_absolute_error(data.y[data.val_mask].squeeze().numpy(), predicted_degrees[data.val_mask].squeeze().numpy())"
   ]
  },
  {
   "cell_type": "code",
   "execution_count": null,
   "metadata": {},
   "outputs": [
    {
     "data": {
      "text/plain": [
       "tensor([[16.0599],\n",
       "        [ 9.0337],\n",
       "        [10.0374],\n",
       "        [ 6.0225],\n",
       "        [ 3.0112],\n",
       "        [ 4.0150],\n",
       "        [ 4.0150],\n",
       "        [ 4.0150],\n",
       "        [ 5.0187],\n",
       "        [ 2.0075],\n",
       "        [ 3.0112],\n",
       "        [ 1.0037],\n",
       "        [ 2.0075],\n",
       "        [ 5.0187],\n",
       "        [ 2.0075],\n",
       "        [ 2.0075],\n",
       "        [ 2.0075],\n",
       "        [ 2.0075],\n",
       "        [ 2.0075],\n",
       "        [ 3.0112],\n",
       "        [ 2.0075],\n",
       "        [ 2.0075],\n",
       "        [ 1.0037],\n",
       "        [ 5.0187],\n",
       "        [ 3.0112],\n",
       "        [ 3.0112],\n",
       "        [ 2.0075],\n",
       "        [ 4.0150],\n",
       "        [ 3.0112],\n",
       "        [ 4.0150],\n",
       "        [ 4.0150],\n",
       "        [ 6.0225],\n",
       "        [12.0449],\n",
       "        [16.0599]], grad_fn=<ScatterAddBackward0>)"
      ]
     },
     "execution_count": 37,
     "metadata": {},
     "output_type": "execute_result"
    }
   ],
   "source": [
    "model(data.x, data.edge_index)"
   ]
  },
  {
   "cell_type": "code",
   "execution_count": null,
   "metadata": {},
   "outputs": [
    {
     "data": {
      "text/plain": [
       "tensor([[16.],\n",
       "        [ 9.],\n",
       "        [10.],\n",
       "        [ 6.],\n",
       "        [ 3.],\n",
       "        [ 4.],\n",
       "        [ 4.],\n",
       "        [ 4.],\n",
       "        [ 5.],\n",
       "        [ 2.],\n",
       "        [ 3.],\n",
       "        [ 1.],\n",
       "        [ 2.],\n",
       "        [ 5.],\n",
       "        [ 2.],\n",
       "        [ 2.],\n",
       "        [ 2.],\n",
       "        [ 2.],\n",
       "        [ 2.],\n",
       "        [ 3.],\n",
       "        [ 2.],\n",
       "        [ 2.],\n",
       "        [ 1.],\n",
       "        [ 5.],\n",
       "        [ 3.],\n",
       "        [ 3.],\n",
       "        [ 2.],\n",
       "        [ 4.],\n",
       "        [ 3.],\n",
       "        [ 4.],\n",
       "        [ 4.],\n",
       "        [ 6.],\n",
       "        [12.],\n",
       "        [16.]])"
      ]
     },
     "execution_count": 38,
     "metadata": {},
     "output_type": "execute_result"
    }
   ],
   "source": [
    "data.y"
   ]
  }
 ],
 "metadata": {
  "kernelspec": {
   "display_name": "base",
   "language": "python",
   "name": "python3"
  },
  "language_info": {
   "codemirror_mode": {
    "name": "ipython",
    "version": 3
   },
   "file_extension": ".py",
   "mimetype": "text/x-python",
   "name": "python",
   "nbconvert_exporter": "python",
   "pygments_lexer": "ipython3",
   "version": "3.10.11"
  },
  "orig_nbformat": 4
 },
 "nbformat": 4,
 "nbformat_minor": 2
}
