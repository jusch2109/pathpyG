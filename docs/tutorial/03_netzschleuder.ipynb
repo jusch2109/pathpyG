{
 "cells": [
  {
   "cell_type": "code",
   "execution_count": 14,
   "metadata": {},
   "outputs": [
    {
     "name": "stdout",
     "output_type": "stream",
     "text": [
      "Running on cuda\n"
     ]
    }
   ],
   "source": [
    "import numpy as np\n",
    "from matplotlib import pyplot as plt\n",
    "\n",
    "from sklearn import metrics\n",
    "from sklearn.decomposition import TruncatedSVD\n",
    "\n",
    "import torch\n",
    "from torch.nn import Linear, ReLU, Sigmoid, Parameter\n",
    "\n",
    "import torch_geometric\n",
    "from torch_geometric.nn import Sequential, GCNConv, SimpleConv, MessagePassing\n",
    "\n",
    "from pathpyG.core.Graph import Graph\n",
    "from pathpyG.io.netzschleuder import read_netzschleuder_network\n",
    "\n",
    "device = 'cuda' if torch.cuda.is_available() else 'cpu'\n",
    "print('Running on', device)"
   ]
  },
  {
   "cell_type": "markdown",
   "metadata": {},
   "source": [
    "We can read networks from the netzschleuder database:"
   ]
  },
  {
   "cell_type": "code",
   "execution_count": 15,
   "metadata": {},
   "outputs": [
    {
     "name": "stdout",
     "output_type": "stream",
     "text": [
      "Graph with 6488 nodes and 150985 edges\n",
      "\n",
      "Node attributes\n",
      "\tnode_ohe\t\t<class 'torch.Tensor'> -> torch.Size([6488, 6488])\n",
      "\tnode__pos\t\t<class 'torch.Tensor'> -> torch.Size([6488, 1, 2])\n",
      "\n",
      "Graph attributes\n",
      "\turl\t\t<class 'str'>\n",
      "\tdescription\t\t<class 'str'>\n",
      "\ttags\t\t<class 'list'>\n",
      "\tnode_id\t\t<class 'list'>\n",
      "\tcitation\t\t<class 'list'>\n",
      "\tname\t\t<class 'str'>\n",
      "\n"
     ]
    }
   ],
   "source": [
    "g = read_netzschleuder_network('software_dependencies', 'jdk')\n",
    "g.add_node_ohe('node_ohe')\n",
    "print(g)"
   ]
  },
  {
   "cell_type": "code",
   "execution_count": 16,
   "metadata": {},
   "outputs": [
    {
     "name": "stdout",
     "output_type": "stream",
     "text": [
      "Graph with 34 nodes and 77 edges\n",
      "\n",
      "Node attributes\n",
      "\tnode_ohe\t\t<class 'torch.Tensor'> -> torch.Size([34, 34])\n",
      "\tnode_groups\t\t<class 'torch.Tensor'> -> torch.Size([34, 1])\n",
      "\tnode_name\t\t<class 'torch.Tensor'> -> torch.Size([34, 1])\n",
      "\tnode__pos\t\t<class 'torch.Tensor'> -> torch.Size([34, 1, 2])\n",
      "\n",
      "Graph attributes\n",
      "\turl\t\t<class 'str'>\n",
      "\tdescription\t\t<class 'str'>\n",
      "\ttags\t\t<class 'list'>\n",
      "\tnode_id\t\t<class 'list'>\n",
      "\tcitation\t\t<class 'str'>\n",
      "\tname\t\t<class 'str'>\n",
      "\n"
     ]
    }
   ],
   "source": [
    "g = read_netzschleuder_network('karate', '77')\n",
    "g.add_node_ohe('node_ohe')\n",
    "print(g)"
   ]
  },
  {
   "cell_type": "code",
   "execution_count": 17,
   "metadata": {},
   "outputs": [
    {
     "name": "stdout",
     "output_type": "stream",
     "text": [
      "tensor([[1.],\n",
      "        [1.],\n",
      "        [1.],\n",
      "        [1.],\n",
      "        [1.],\n",
      "        [1.],\n",
      "        [1.],\n",
      "        [1.],\n",
      "        [1.],\n",
      "        [2.],\n",
      "        [1.],\n",
      "        [1.],\n",
      "        [1.],\n",
      "        [1.],\n",
      "        [2.],\n",
      "        [2.],\n",
      "        [1.],\n",
      "        [1.],\n",
      "        [2.],\n",
      "        [1.],\n",
      "        [2.],\n",
      "        [1.],\n",
      "        [2.],\n",
      "        [2.],\n",
      "        [2.],\n",
      "        [2.],\n",
      "        [2.],\n",
      "        [2.],\n",
      "        [2.],\n",
      "        [2.],\n",
      "        [2.],\n",
      "        [2.],\n",
      "        [2.],\n",
      "        [2.]])\n"
     ]
    }
   ],
   "source": [
    "print(g['node_groups'])"
   ]
  },
  {
   "cell_type": "markdown",
   "metadata": {},
   "source": [
    "Let us shift this to values 0 and 1: "
   ]
  },
  {
   "cell_type": "code",
   "execution_count": 18,
   "metadata": {},
   "outputs": [],
   "source": [
    "g['node_groups'] -= 1"
   ]
  },
  {
   "cell_type": "code",
   "execution_count": 19,
   "metadata": {},
   "outputs": [
    {
     "name": "stdout",
     "output_type": "stream",
     "text": [
      "tensor([[0.],\n",
      "        [0.],\n",
      "        [0.],\n",
      "        [0.],\n",
      "        [0.],\n",
      "        [0.],\n",
      "        [0.],\n",
      "        [0.],\n",
      "        [0.],\n",
      "        [1.],\n",
      "        [0.],\n",
      "        [0.],\n",
      "        [0.],\n",
      "        [0.],\n",
      "        [1.],\n",
      "        [1.],\n",
      "        [0.],\n",
      "        [0.],\n",
      "        [1.],\n",
      "        [0.],\n",
      "        [1.],\n",
      "        [0.],\n",
      "        [1.],\n",
      "        [1.],\n",
      "        [1.],\n",
      "        [1.],\n",
      "        [1.],\n",
      "        [1.],\n",
      "        [1.],\n",
      "        [1.],\n",
      "        [1.],\n",
      "        [1.],\n",
      "        [1.],\n",
      "        [1.]])\n"
     ]
    }
   ],
   "source": [
    "print(g['node_groups'])"
   ]
  },
  {
   "cell_type": "code",
   "execution_count": 20,
   "metadata": {},
   "outputs": [
    {
     "name": "stdout",
     "output_type": "stream",
     "text": [
      "Data(edge_index=[2, 77], node_id=[0], node_name=[34, 1], node_groups=[34, 1], node__pos=[34, 1, 2], name='karate (77)', description='Network of friendships among members of a university karate club. Includes metadata for faction membership after a social partition. Note: there are two versions of this network, one with 77 edges and one with 78, due to an ambiguous typo in the original study. (The most commonly used is the one with 78 edges.)[^icon]\n",
      "[^icon]: Description obtained from the [ICON](https://icon.colorado.edu) project.', citation='['W. W. Zachary, \"An information flow model for conflict and fission in small groups.\" Journal of Anthropological Research 33, 452-473 (1977)., https://doi.org/10.1086/jar.33.4.3629752']', url='https://aaronclauset.github.io/datacode.htm', tags=[3], node_ohe=[34, 34])\n"
     ]
    }
   ],
   "source": [
    "print(g.data)"
   ]
  },
  {
   "cell_type": "code",
   "execution_count": 21,
   "metadata": {},
   "outputs": [],
   "source": [
    "data = g.data\n",
    "data['x'] = data['node_ohe']\n",
    "data['y'] = data['node_groups']"
   ]
  },
  {
   "cell_type": "markdown",
   "metadata": {},
   "source": [
    "We can now apply a GCN to the Karate club network:"
   ]
  },
  {
   "cell_type": "code",
   "execution_count": 22,
   "metadata": {},
   "outputs": [
    {
     "name": "stdout",
     "output_type": "stream",
     "text": [
      "[Parameter containing:\n",
      "tensor([0., 0., 0., 0., 0., 0., 0., 0.], requires_grad=True), Parameter containing:\n",
      "tensor([[ 0.3273, -0.0490,  0.3004, -0.0541,  0.2598,  0.3204, -0.2397,  0.2684,\n",
      "          0.0440, -0.1029,  0.3030, -0.1736, -0.3414, -0.0937,  0.1221, -0.0843,\n",
      "         -0.1364, -0.1144, -0.0423,  0.2906,  0.2317,  0.3255,  0.3702,  0.3438,\n",
      "          0.1324, -0.2577,  0.2610,  0.0234,  0.2545, -0.2090,  0.3424,  0.1434,\n",
      "         -0.3038,  0.3600],\n",
      "        [-0.2352,  0.0992,  0.3644,  0.2802, -0.2539, -0.2199,  0.1240, -0.2766,\n",
      "          0.3354, -0.1082, -0.1628, -0.3523,  0.3638,  0.1739, -0.2314,  0.0783,\n",
      "          0.3452, -0.2615,  0.1852,  0.2965, -0.1480,  0.3326, -0.1662, -0.0916,\n",
      "         -0.3168, -0.1165,  0.3529, -0.0857, -0.2021, -0.2466, -0.1716,  0.0915,\n",
      "         -0.0143,  0.3673],\n",
      "        [ 0.3775, -0.0538,  0.2337,  0.0069,  0.0522, -0.0829,  0.3002,  0.1346,\n",
      "          0.2613, -0.1125, -0.1157, -0.0401,  0.2503, -0.3214,  0.3235, -0.0134,\n",
      "         -0.0735, -0.3098, -0.1627, -0.2945, -0.0777, -0.1506, -0.1869, -0.0865,\n",
      "          0.3772,  0.3402,  0.1719, -0.2719, -0.2830, -0.2435,  0.3254,  0.3178,\n",
      "         -0.2222, -0.2989],\n",
      "        [-0.1088,  0.1450, -0.1136, -0.0150,  0.2056, -0.2682,  0.0263, -0.0636,\n",
      "          0.0779, -0.0338,  0.3018,  0.1384,  0.2131, -0.2748,  0.0245, -0.3713,\n",
      "         -0.1297,  0.1831, -0.2808,  0.2873, -0.2499,  0.2875, -0.3676,  0.1220,\n",
      "         -0.1856,  0.0329, -0.0256, -0.2240,  0.3141,  0.2271,  0.3485,  0.2299,\n",
      "         -0.2464, -0.3630],\n",
      "        [-0.1455, -0.2463, -0.2233, -0.3536, -0.2404,  0.1688, -0.0809, -0.2868,\n",
      "         -0.0072,  0.0409, -0.0075,  0.3604, -0.2789,  0.0006,  0.0072, -0.2082,\n",
      "          0.1391, -0.0350, -0.2506,  0.0488,  0.3072,  0.1028,  0.2014, -0.1003,\n",
      "          0.2111,  0.0797, -0.1691, -0.2042,  0.2604,  0.3239,  0.2412,  0.2864,\n",
      "          0.2635,  0.2975],\n",
      "        [-0.1893,  0.0825, -0.2395,  0.0946,  0.1295, -0.2915,  0.1920,  0.2833,\n",
      "         -0.3117, -0.3123, -0.1520,  0.1911,  0.0411,  0.2056, -0.3710,  0.1354,\n",
      "         -0.2899,  0.1834,  0.0908,  0.3750,  0.1713,  0.2582,  0.2087,  0.2036,\n",
      "         -0.2671,  0.2398,  0.0104, -0.1948,  0.1564,  0.2228, -0.2086,  0.1084,\n",
      "         -0.2466, -0.3318],\n",
      "        [ 0.3687,  0.1411,  0.3377,  0.2596, -0.3360, -0.3552,  0.3744, -0.2995,\n",
      "          0.1488,  0.0897,  0.2980,  0.3264,  0.1233,  0.1433, -0.0652,  0.2997,\n",
      "          0.2306, -0.0066, -0.1229,  0.1406, -0.2804, -0.2045,  0.2695,  0.2621,\n",
      "         -0.1867, -0.2524, -0.0976, -0.1595,  0.2877,  0.0695, -0.0991,  0.0145,\n",
      "         -0.0125,  0.0314],\n",
      "        [-0.0349,  0.3540,  0.1368,  0.2490, -0.2063,  0.2570,  0.0500,  0.0284,\n",
      "         -0.3076, -0.1157, -0.0798, -0.3130, -0.3709, -0.1485,  0.0497,  0.1328,\n",
      "         -0.3749, -0.0340, -0.2511,  0.3293,  0.1873,  0.2120, -0.1335, -0.0347,\n",
      "         -0.1627,  0.2274,  0.3200,  0.2120,  0.1380,  0.3420, -0.1560, -0.2840,\n",
      "          0.2916,  0.2353]], requires_grad=True), Parameter containing:\n",
      "tensor([0.], requires_grad=True), Parameter containing:\n",
      "tensor([[-0.6266, -0.7538, -0.1855, -0.7489,  0.3967, -0.1240, -0.5850,  0.0773]],\n",
      "       requires_grad=True)]\n"
     ]
    }
   ],
   "source": [
    "model = Sequential('node_ohe, edge_index', [\n",
    "    (GCNConv(in_channels=data.num_node_features, out_channels=8), 'node_ohe, edge_index -> node_ohe'),\n",
    "    ReLU(inplace=True),\n",
    "    (GCNConv(in_channels=8, out_channels=1), 'node_ohe, edge_index -> node_ohe'),\n",
    "    Sigmoid(),\n",
    "])\n",
    "print([p for p in model.parameters()])"
   ]
  },
  {
   "cell_type": "code",
   "execution_count": 23,
   "metadata": {},
   "outputs": [
    {
     "data": {
      "text/plain": [
       "Data(edge_index=[2, 77], node_id=[0], node_name=[34, 1], node_groups=[34, 1], node__pos=[34, 1, 2], name='karate (77)', description='Network of friendships among members of a university karate club. Includes metadata for faction membership after a social partition. Note: there are two versions of this network, one with 77 edges and one with 78, due to an ambiguous typo in the original study. (The most commonly used is the one with 78 edges.)[^icon]\n",
       "[^icon]: Description obtained from the [ICON](https://icon.colorado.edu) project.', citation='['W. W. Zachary, \"An information flow model for conflict and fission in small groups.\" Journal of Anthropological Research 33, 452-473 (1977)., https://doi.org/10.1086/jar.33.4.3629752']', url='https://aaronclauset.github.io/datacode.htm', tags=[3], node_ohe=[34, 34], x=[34, 34], y=[34, 1], train_mask=[34], val_mask=[34], test_mask=[34])"
      ]
     },
     "execution_count": 23,
     "metadata": {},
     "output_type": "execute_result"
    }
   ],
   "source": [
    "transform = torch_geometric.transforms.RandomNodeSplit(split='train_rest', num_val=0.5, num_test=0)\n",
    "transform(data)"
   ]
  },
  {
   "cell_type": "code",
   "execution_count": 24,
   "metadata": {},
   "outputs": [],
   "source": [
    "epochs = 200\n",
    "\n",
    "optimizer = torch.optim.Adam(model.parameters(), lr=0.01, weight_decay=5e-4)\n",
    "    \n",
    "losses = []\n",
    "\n",
    "model.train()\n",
    "for epoch in range(epochs):\n",
    "    optimizer.zero_grad()\n",
    "    out = model(data.x, data.edge_index)\n",
    "    loss = torch.nn.functional.binary_cross_entropy(out[data.train_mask], data.y[data.train_mask])\n",
    "    loss.backward()\n",
    "    optimizer.step()\n",
    "\n",
    "    losses.append(loss.detach().numpy())"
   ]
  },
  {
   "cell_type": "code",
   "execution_count": 25,
   "metadata": {},
   "outputs": [
    {
     "data": {
      "image/png": "[encoded data removed]",
      "text/plain": [
       "<Figure size 640x480 with 1 Axes>"
      ]
     },
     "metadata": {},
     "output_type": "display_data"
    }
   ],
   "source": [
    "plt.plot(range(epochs), losses)\n",
    "plt.grid()"
   ]
  },
  {
   "cell_type": "markdown",
   "metadata": {},
   "source": [
    "We evaluate the model in the test set"
   ]
  },
  {
   "cell_type": "code",
   "execution_count": 26,
   "metadata": {},
   "outputs": [
    {
     "data": {
      "text/plain": [
       "1.0"
      ]
     },
     "execution_count": 26,
     "metadata": {},
     "output_type": "execute_result"
    }
   ],
   "source": [
    "model.eval()\n",
    "predicted_groups = model(data.x, data.edge_index).round().long()\n",
    "metrics.adjusted_mutual_info_score(data.y[data.test_mask].squeeze().numpy(), predicted_groups[data.test_mask].squeeze().numpy())"
   ]
  },
  {
   "cell_type": "markdown",
   "metadata": {},
   "source": [
    "We visualize node representations learned by the model."
   ]
  },
  {
   "cell_type": "code",
   "execution_count": 27,
   "metadata": {},
   "outputs": [
    {
     "data": {
      "image/png": "[encoded data removed]",
      "text/plain": [
       "<Figure size 640x480 with 1 Axes>"
      ]
     },
     "metadata": {},
     "output_type": "display_data"
    }
   ],
   "source": [
    "# get activations in first-layer\n",
    "embedding = model[0].forward(data.x, data.edge_index)\n",
    "\n",
    "# dimensionality reduction\n",
    "svd = TruncatedSVD()\n",
    "low_dim = svd.fit_transform(embedding.detach().numpy())\n",
    "\n",
    "# plot with colors corresponding to groups in validation set\n",
    "colors = {}\n",
    "for v in range(g.N):\n",
    "    if data.val_mask[v]:\n",
    "        colors[v] = 'grey'\n",
    "    else:\n",
    "        if data.y[v].item() == 0.0:\n",
    "            colors[v] = 'blue'\n",
    "        else:\n",
    "            colors[v] = 'orange'\n",
    "\n",
    "plt.scatter(low_dim[:,0], low_dim[:,1], c=colors.values());"
   ]
  },
  {
   "cell_type": "code",
   "execution_count": 28,
   "metadata": {},
   "outputs": [],
   "source": [
    "from torch_geometric.utils import degree, to_undirected"
   ]
  },
  {
   "cell_type": "code",
   "execution_count": 29,
   "metadata": {},
   "outputs": [
    {
     "name": "stdout",
     "output_type": "stream",
     "text": [
      "tensor([0., 1., 2., 3., 1., 1., 3., 4., 2., 1., 3., 1., 2., 4., 2., 2., 2., 2.,\n",
      "        2., 2., 2., 2., 1., 3., 3., 2., 2., 1., 2., 3., 2., 1., 4., 9.])\n"
     ]
    }
   ],
   "source": [
    "g.data['node_degree'] = degree(g.data.edge_index[1])\n",
    "print(g.data['node_degree'])"
   ]
  },
  {
   "cell_type": "code",
   "execution_count": 30,
   "metadata": {},
   "outputs": [
    {
     "name": "stdout",
     "output_type": "stream",
     "text": [
      "tensor([[1.],\n",
      "        [1.],\n",
      "        [1.],\n",
      "        [1.],\n",
      "        [1.],\n",
      "        [1.],\n",
      "        [1.],\n",
      "        [1.],\n",
      "        [1.],\n",
      "        [1.],\n",
      "        [1.],\n",
      "        [1.],\n",
      "        [1.],\n",
      "        [1.],\n",
      "        [1.],\n",
      "        [1.],\n",
      "        [1.],\n",
      "        [1.],\n",
      "        [1.],\n",
      "        [1.],\n",
      "        [1.],\n",
      "        [1.],\n",
      "        [1.],\n",
      "        [1.],\n",
      "        [1.],\n",
      "        [1.],\n",
      "        [1.],\n",
      "        [1.],\n",
      "        [1.],\n",
      "        [1.],\n",
      "        [1.],\n",
      "        [1.],\n",
      "        [1.],\n",
      "        [1.]])\n"
     ]
    }
   ],
   "source": [
    "data = g.data\n",
    "data['edge_index'] = to_undirected(data.edge_index)\n",
    "data['x'] = torch.tensor([1.0]*34).reshape(34,1)\n",
    "data['y'] = degree(data.edge_index[1]).reshape(34,1)\n",
    "print(data['x'])"
   ]
  },
  {
   "cell_type": "code",
   "execution_count": 31,
   "metadata": {},
   "outputs": [],
   "source": [
    "class AggConv(MessagePassing):\n",
    "    def __init__(self, in_channels, out_channels):\n",
    "        super().__init__(aggr='add')  # \"Add\" aggregation (Step 5).\n",
    "        self.lin = Linear(in_channels, out_channels, bias=True)\n",
    "        #self.bias = Parameter(torch.empty(out_channels))\n",
    "\n",
    "        self.reset_parameters()\n",
    "\n",
    "    def reset_parameters(self):\n",
    "        self.lin.reset_parameters()\n",
    "        #self.bias.data.zero_()\n",
    "\n",
    "    def forward(self, x, edge_index):\n",
    "        # x has shape [N, in_channels]\n",
    "        # edge_index has shape [2, E]\n",
    "\n",
    "        # Step 1: Linearly transform node feature matrix.\n",
    "        x = self.lin(x)\n",
    "\n",
    "        # Step 2: Start propagating messages.\n",
    "        out = self.propagate(edge_index, x=x)\n",
    "\n",
    "        # Step 6: Apply a final bias vector.\n",
    "       # out += self.bias\n",
    "\n",
    "        return out\n",
    "\n",
    "    def message(self, x_j):\n",
    "        return x_j"
   ]
  },
  {
   "cell_type": "code",
   "execution_count": 32,
   "metadata": {},
   "outputs": [
    {
     "name": "stdout",
     "output_type": "stream",
     "text": [
      "[Parameter containing:\n",
      "tensor([[-0.6053]], requires_grad=True), Parameter containing:\n",
      "tensor([0.5440], requires_grad=True)]\n"
     ]
    }
   ],
   "source": [
    "model = Sequential('node_degree, edge_index', [\n",
    "    (AggConv(in_channels=data.num_node_features, out_channels=1), 'node_degree, edge_index -> node_degree')\n",
    "])\n",
    "print([p for p in model.parameters()])"
   ]
  },
  {
   "cell_type": "code",
   "execution_count": 33,
   "metadata": {},
   "outputs": [
    {
     "data": {
      "text/plain": [
       "Data(edge_index=[2, 154], node_id=[0], node_name=[34, 1], node_groups=[34, 1], node__pos=[34, 1, 2], name='karate (77)', description='Network of friendships among members of a university karate club. Includes metadata for faction membership after a social partition. Note: there are two versions of this network, one with 77 edges and one with 78, due to an ambiguous typo in the original study. (The most commonly used is the one with 78 edges.)[^icon]\n",
       "[^icon]: Description obtained from the [ICON](https://icon.colorado.edu) project.', citation='['W. W. Zachary, \"An information flow model for conflict and fission in small groups.\" Journal of Anthropological Research 33, 452-473 (1977)., https://doi.org/10.1086/jar.33.4.3629752']', url='https://aaronclauset.github.io/datacode.htm', tags=[3], node_ohe=[34, 34], x=[34, 1], y=[34, 1], train_mask=[34], val_mask=[34], test_mask=[34], node_degree=[34])"
      ]
     },
     "execution_count": 33,
     "metadata": {},
     "output_type": "execute_result"
    }
   ],
   "source": [
    "transform = torch_geometric.transforms.RandomNodeSplit(split='train_rest', num_val=0.5, num_test=0)\n",
    "transform(data)"
   ]
  },
  {
   "cell_type": "code",
   "execution_count": 34,
   "metadata": {},
   "outputs": [
    {
     "name": "stdout",
     "output_type": "stream",
     "text": [
      "[Parameter containing:\n",
      "tensor([[-0.0713]], requires_grad=True), Parameter containing:\n",
      "tensor([1.0751], requires_grad=True)]\n"
     ]
    }
   ],
   "source": [
    "epochs = 2500\n",
    "\n",
    "optimizer = torch.optim.Adam(model.parameters(), lr=0.01, weight_decay=5e-4)\n",
    "losses = []\n",
    "\n",
    "model.train()\n",
    "for epoch in range(epochs):\n",
    "    optimizer.zero_grad()\n",
    "    out = model(data.x, data.edge_index)\n",
    "    loss = torch.nn.functional.l1_loss(out[data.train_mask], data.y[data.train_mask])\n",
    "    loss.backward()\n",
    "    optimizer.step()\n",
    "\n",
    "    losses.append(loss.detach().numpy())\n",
    "\n",
    "print([p for p in model.parameters()])"
   ]
  },
  {
   "cell_type": "code",
   "execution_count": 35,
   "metadata": {},
   "outputs": [
    {
     "data": {
      "image/png": "[encoded data removed]",
      "text/plain": [
       "<Figure size 640x480 with 1 Axes>"
      ]
     },
     "metadata": {},
     "output_type": "display_data"
    }
   ],
   "source": [
    "plt.plot(range(epochs), losses)\n",
    "plt.grid()"
   ]
  },
  {
   "cell_type": "code",
   "execution_count": 36,
   "metadata": {},
   "outputs": [
    {
     "data": {
      "text/plain": [
       "0.015629733"
      ]
     },
     "execution_count": 36,
     "metadata": {},
     "output_type": "execute_result"
    }
   ],
   "source": [
    "model.eval()\n",
    "predicted_degrees = model(data.x, data.edge_index).detach()\n",
    "metrics.mean_absolute_error(data.y[data.val_mask].squeeze().numpy(), predicted_degrees[data.val_mask].squeeze().numpy())"
   ]
  },
  {
   "cell_type": "code",
   "execution_count": 37,
   "metadata": {},
   "outputs": [
    {
     "data": {
      "text/plain": [
       "tensor([[16.0599],\n",
       "        [ 9.0337],\n",
       "        [10.0374],\n",
       "        [ 6.0225],\n",
       "        [ 3.0112],\n",
       "        [ 4.0150],\n",
       "        [ 4.0150],\n",
       "        [ 4.0150],\n",
       "        [ 5.0187],\n",
       "        [ 2.0075],\n",
       "        [ 3.0112],\n",
       "        [ 1.0037],\n",
       "        [ 2.0075],\n",
       "        [ 5.0187],\n",
       "        [ 2.0075],\n",
       "        [ 2.0075],\n",
       "        [ 2.0075],\n",
       "        [ 2.0075],\n",
       "        [ 2.0075],\n",
       "        [ 3.0112],\n",
       "        [ 2.0075],\n",
       "        [ 2.0075],\n",
       "        [ 1.0037],\n",
       "        [ 5.0187],\n",
       "        [ 3.0112],\n",
       "        [ 3.0112],\n",
       "        [ 2.0075],\n",
       "        [ 4.0150],\n",
       "        [ 3.0112],\n",
       "        [ 4.0150],\n",
       "        [ 4.0150],\n",
       "        [ 6.0225],\n",
       "        [12.0449],\n",
       "        [16.0599]], grad_fn=<ScatterAddBackward0>)"
      ]
     },
     "execution_count": 37,
     "metadata": {},
     "output_type": "execute_result"
    }
   ],
   "source": [
    "model(data.x, data.edge_index)"
   ]
  },
  {
   "cell_type": "code",
   "execution_count": 38,
   "metadata": {},
   "outputs": [
    {
     "data": {
      "text/plain": [
       "tensor([[16.],\n",
       "        [ 9.],\n",
       "        [10.],\n",
       "        [ 6.],\n",
       "        [ 3.],\n",
       "        [ 4.],\n",
       "        [ 4.],\n",
       "        [ 4.],\n",
       "        [ 5.],\n",
       "        [ 2.],\n",
       "        [ 3.],\n",
       "        [ 1.],\n",
       "        [ 2.],\n",
       "        [ 5.],\n",
       "        [ 2.],\n",
       "        [ 2.],\n",
       "        [ 2.],\n",
       "        [ 2.],\n",
       "        [ 2.],\n",
       "        [ 3.],\n",
       "        [ 2.],\n",
       "        [ 2.],\n",
       "        [ 1.],\n",
       "        [ 5.],\n",
       "        [ 3.],\n",
       "        [ 3.],\n",
       "        [ 2.],\n",
       "        [ 4.],\n",
       "        [ 3.],\n",
       "        [ 4.],\n",
       "        [ 4.],\n",
       "        [ 6.],\n",
       "        [12.],\n",
       "        [16.]])"
      ]
     },
     "execution_count": 38,
     "metadata": {},
     "output_type": "execute_result"
    }
   ],
   "source": [
    "data.y"
   ]
  }
 ],
 "metadata": {
  "kernelspec": {
   "display_name": "base",
   "language": "python",
   "name": "python3"
  },
  "language_info": {
   "codemirror_mode": {
    "name": "ipython",
    "version": 3
   },
   "file_extension": ".py",
   "mimetype": "text/x-python",
   "name": "python",
   "nbconvert_exporter": "python",
   "pygments_lexer": "ipython3",
   "version": "3.10.11"
  },
  "orig_nbformat": 4
 },
 "nbformat": 4,
 "nbformat_minor": 2
}
