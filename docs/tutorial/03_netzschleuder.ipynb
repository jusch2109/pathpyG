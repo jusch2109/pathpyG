{
 "cells": [
  {
   "cell_type": "code",
   "execution_count": 1,
   "metadata": {},
   "outputs": [],
   "source": [
    "import numpy as np\n",
    "from matplotlib import pyplot as plt\n",
    "\n",
    "from sklearn import metrics\n",
    "from sklearn.decomposition import TruncatedSVD\n",
    "\n",
    "import torch\n",
    "from torch.nn import Linear, ReLU, Sigmoid, Parameter\n",
    "\n",
    "import torch_geometric\n",
    "from torch_geometric.nn import Sequential, GCNConv, SimpleConv, MessagePassing\n",
    "\n",
    "from pathpyG.core.Graph import Graph\n",
    "from pathpyG.io.netzschleuder import read_netzschleuder_network"
   ]
  },
  {
   "cell_type": "markdown",
   "metadata": {},
   "source": [
    "We can read networks from the netzschleuder database:"
   ]
  },
  {
   "cell_type": "code",
   "execution_count": 2,
   "metadata": {},
   "outputs": [
    {
     "name": "stdout",
     "output_type": "stream",
     "text": [
      "Graph with 6488 nodes and 150985 edges\n",
      "\n",
      "Node attributes\n",
      "\tnode__pos\t\t<class 'torch.Tensor'> -> torch.Size([6488, 1, 2])\n",
      "\tnode_ohe\t\t<class 'torch.Tensor'> -> torch.Size([6488, 6488])\n",
      "\n",
      "Graph attributes\n",
      "\tdescription\t\t<class 'str'>\n",
      "\tname\t\t<class 'str'>\n",
      "\tnode_id\t\t<class 'list'>\n",
      "\turl\t\t<class 'str'>\n",
      "\ttags\t\t<class 'list'>\n",
      "\tcitation\t\t<class 'list'>\n",
      "\n"
     ]
    },
    {
     "name": "stderr",
     "output_type": "stream",
     "text": [
      "c:\\Users\\Ingo Scholtes\\Documents\\repos\\pathpyNG\\pathpyG\\io\\netzschleuder.py:297: UserWarning: Creating a tensor from a list of numpy.ndarrays is extremely slow. Please consider converting the list to a single numpy.ndarray with numpy.array() before converting to a tensor. (Triggered internally at C:\\actions-runner\\_work\\pytorch\\pytorch\\builder\\windows\\pytorch\\torch\\csrc\\utils\\tensor_new.cpp:248.)\n",
      "  g.data['node_{0}'.format(a)] = torch.tensor(node_attr[a], dtype=torch.float)\n"
     ]
    }
   ],
   "source": [
    "g = read_netzschleuder_network('software_dependencies', 'jdk')\n",
    "g.add_node_ohe('node_ohe')\n",
    "print(g)"
   ]
  },
  {
   "cell_type": "code",
   "execution_count": 3,
   "metadata": {},
   "outputs": [
    {
     "name": "stdout",
     "output_type": "stream",
     "text": [
      "Graph with 34 nodes and 77 edges\n",
      "\n",
      "Node attributes\n",
      "\tnode_groups\t\t<class 'torch.Tensor'> -> torch.Size([34, 1])\n",
      "\tnode__pos\t\t<class 'torch.Tensor'> -> torch.Size([34, 1, 2])\n",
      "\tnode_name\t\t<class 'torch.Tensor'> -> torch.Size([34, 1])\n",
      "\tnode_ohe\t\t<class 'torch.Tensor'> -> torch.Size([34, 34])\n",
      "\n",
      "Graph attributes\n",
      "\tdescription\t\t<class 'str'>\n",
      "\tname\t\t<class 'str'>\n",
      "\tnode_id\t\t<class 'list'>\n",
      "\turl\t\t<class 'str'>\n",
      "\ttags\t\t<class 'list'>\n",
      "\tcitation\t\t<class 'str'>\n",
      "\n"
     ]
    }
   ],
   "source": [
    "g = read_netzschleuder_network('karate', '77')\n",
    "g.add_node_ohe('node_ohe')\n",
    "print(g)"
   ]
  },
  {
   "cell_type": "code",
   "execution_count": 4,
   "metadata": {},
   "outputs": [
    {
     "name": "stdout",
     "output_type": "stream",
     "text": [
      "tensor([[1.],\n",
      "        [1.],\n",
      "        [1.],\n",
      "        [1.],\n",
      "        [1.],\n",
      "        [1.],\n",
      "        [1.],\n",
      "        [1.],\n",
      "        [1.],\n",
      "        [2.],\n",
      "        [1.],\n",
      "        [1.],\n",
      "        [1.],\n",
      "        [1.],\n",
      "        [2.],\n",
      "        [2.],\n",
      "        [1.],\n",
      "        [1.],\n",
      "        [2.],\n",
      "        [1.],\n",
      "        [2.],\n",
      "        [1.],\n",
      "        [2.],\n",
      "        [2.],\n",
      "        [2.],\n",
      "        [2.],\n",
      "        [2.],\n",
      "        [2.],\n",
      "        [2.],\n",
      "        [2.],\n",
      "        [2.],\n",
      "        [2.],\n",
      "        [2.],\n",
      "        [2.]])\n"
     ]
    }
   ],
   "source": [
    "print(g['node_groups'])"
   ]
  },
  {
   "cell_type": "markdown",
   "metadata": {},
   "source": [
    "Let us shift this to values 0 and 1: "
   ]
  },
  {
   "cell_type": "code",
   "execution_count": 5,
   "metadata": {},
   "outputs": [],
   "source": [
    "g['node_groups'] -= 1"
   ]
  },
  {
   "cell_type": "code",
   "execution_count": 6,
   "metadata": {},
   "outputs": [
    {
     "name": "stdout",
     "output_type": "stream",
     "text": [
      "tensor([[0.],\n",
      "        [0.],\n",
      "        [0.],\n",
      "        [0.],\n",
      "        [0.],\n",
      "        [0.],\n",
      "        [0.],\n",
      "        [0.],\n",
      "        [0.],\n",
      "        [1.],\n",
      "        [0.],\n",
      "        [0.],\n",
      "        [0.],\n",
      "        [0.],\n",
      "        [1.],\n",
      "        [1.],\n",
      "        [0.],\n",
      "        [0.],\n",
      "        [1.],\n",
      "        [0.],\n",
      "        [1.],\n",
      "        [0.],\n",
      "        [1.],\n",
      "        [1.],\n",
      "        [1.],\n",
      "        [1.],\n",
      "        [1.],\n",
      "        [1.],\n",
      "        [1.],\n",
      "        [1.],\n",
      "        [1.],\n",
      "        [1.],\n",
      "        [1.],\n",
      "        [1.]])\n"
     ]
    }
   ],
   "source": [
    "print(g['node_groups'])"
   ]
  },
  {
   "cell_type": "code",
   "execution_count": 7,
   "metadata": {},
   "outputs": [
    {
     "name": "stdout",
     "output_type": "stream",
     "text": [
      "Data(edge_index=[2, 77], node_id=[0], node_name=[34, 1], node_groups=[34, 1], node__pos=[34, 1, 2], name='karate (77)', description='Network of friendships among members of a university karate club. Includes metadata for faction membership after a social partition. Note: there are two versions of this network, one with 77 edges and one with 78, due to an ambiguous typo in the original study. (The most commonly used is the one with 78 edges.)[^icon]\n",
      "[^icon]: Description obtained from the [ICON](https://icon.colorado.edu) project.', citation='['W. W. Zachary, \"An information flow model for conflict and fission in small groups.\" Journal of Anthropological Research 33, 452-473 (1977)., https://doi.org/10.1086/jar.33.4.3629752']', url='https://aaronclauset.github.io/datacode.htm', tags=[3], node_ohe=[34, 34])\n"
     ]
    }
   ],
   "source": [
    "print(g.data)"
   ]
  },
  {
   "cell_type": "code",
   "execution_count": 8,
   "metadata": {},
   "outputs": [],
   "source": [
    "data = g.data\n",
    "data['x'] = data['node_ohe']\n",
    "data['y'] = data['node_groups']"
   ]
  },
  {
   "cell_type": "markdown",
   "metadata": {},
   "source": [
    "We can now apply a GCN to the Karate club network:"
   ]
  },
  {
   "cell_type": "code",
   "execution_count": 9,
   "metadata": {},
   "outputs": [
    {
     "name": "stdout",
     "output_type": "stream",
     "text": [
      "[Parameter containing:\n",
      "tensor([0., 0., 0., 0., 0., 0., 0., 0.], requires_grad=True), Parameter containing:\n",
      "tensor([[-1.4953e-01, -1.9538e-01, -1.4405e-02, -2.2094e-01,  3.1998e-01,\n",
      "         -3.2377e-01, -1.3245e-01, -2.1982e-01,  2.1005e-01, -1.7053e-01,\n",
      "         -2.5171e-02,  2.3923e-01,  6.0778e-02,  7.4697e-02,  1.5988e-01,\n",
      "         -9.3242e-02,  2.0909e-01,  3.4580e-01,  2.7030e-01, -3.3579e-01,\n",
      "          2.9126e-01,  2.7869e-01, -3.1540e-01,  2.5103e-02,  3.4120e-01,\n",
      "         -3.7126e-01,  1.7414e-01, -1.1898e-01,  2.0420e-01, -2.1922e-01,\n",
      "          3.5889e-01, -2.4899e-01, -2.3409e-01, -8.4862e-02],\n",
      "        [ 2.5669e-01, -3.4922e-01,  2.9398e-01, -1.9694e-01, -1.9047e-01,\n",
      "          1.9192e-01,  8.3498e-02,  1.1418e-01,  3.4961e-01,  3.1728e-01,\n",
      "          2.3541e-02, -2.0665e-01, -2.1431e-01,  3.6105e-01,  9.5354e-03,\n",
      "          8.1303e-02,  2.5295e-01,  1.3512e-01,  1.1161e-01,  2.4419e-01,\n",
      "          3.1029e-01,  1.6195e-01, -2.9475e-01, -7.1086e-02,  1.6644e-01,\n",
      "         -5.7623e-02,  2.6853e-01, -3.3955e-01,  3.4396e-01,  2.1217e-01,\n",
      "          2.8294e-01, -5.4139e-02, -3.5664e-01,  1.5965e-01],\n",
      "        [-1.7212e-01,  3.5451e-01, -7.7806e-02,  1.3463e-01, -6.9216e-02,\n",
      "         -6.4619e-02,  1.5753e-01,  3.3981e-01, -6.7385e-02,  3.0104e-01,\n",
      "         -6.7307e-02, -3.5978e-01, -1.9659e-01,  1.5921e-01,  4.0330e-03,\n",
      "          2.7519e-01,  1.5611e-01,  3.3356e-01,  2.1666e-01, -2.9421e-01,\n",
      "         -3.4607e-01, -5.4668e-02,  2.9202e-01, -2.1015e-01,  1.7867e-01,\n",
      "          2.9825e-01,  3.6337e-01,  7.4590e-02,  3.1763e-02, -3.4480e-01,\n",
      "          2.6632e-01,  1.7782e-01,  2.7295e-01, -9.2451e-02],\n",
      "        [ 1.8841e-01, -1.6022e-01, -3.1859e-01, -1.7851e-02, -2.4838e-01,\n",
      "          6.8260e-02, -1.1986e-01,  3.7034e-01, -1.3172e-01, -3.2739e-01,\n",
      "          3.1031e-01,  5.5903e-02, -1.4830e-01, -1.0846e-01, -2.0135e-01,\n",
      "          8.8394e-02,  1.0723e-01, -6.6965e-02,  2.8309e-01,  6.5816e-02,\n",
      "          1.5282e-01,  1.1354e-01, -3.6920e-01,  3.7512e-01,  9.1765e-02,\n",
      "          3.3222e-01,  2.2091e-01, -2.8247e-01, -5.0546e-02,  1.2124e-01,\n",
      "         -3.1147e-01,  5.9260e-02,  2.7058e-01, -1.5245e-01],\n",
      "        [ 2.1149e-01, -2.3773e-01,  2.8284e-01,  1.9992e-02, -2.2011e-01,\n",
      "          2.3360e-01,  1.8494e-01, -2.4469e-01, -3.2132e-01,  2.3629e-02,\n",
      "          3.0468e-01,  9.1132e-02, -1.0138e-01,  3.0174e-01,  3.4306e-01,\n",
      "         -2.6604e-01, -1.3172e-01, -1.0436e-01,  3.6665e-01,  3.5834e-01,\n",
      "          2.9671e-01, -7.3793e-02,  2.7431e-01,  4.7615e-02, -2.6720e-02,\n",
      "          2.2758e-01,  9.5293e-02, -3.6325e-01,  2.5099e-02,  1.4693e-01,\n",
      "          2.7296e-01,  2.5179e-01, -2.8587e-01,  2.3812e-01],\n",
      "        [-3.0528e-01, -1.4759e-01, -3.4598e-01,  1.1222e-01,  2.6652e-01,\n",
      "          2.2801e-02, -1.9283e-01,  1.6760e-01, -3.4634e-01,  5.7191e-02,\n",
      "         -1.8183e-01, -4.0936e-03,  3.3979e-01, -3.4486e-01, -1.4111e-01,\n",
      "          4.3200e-02, -2.2948e-01, -3.5180e-01, -3.6902e-01, -2.1445e-02,\n",
      "         -2.5511e-04, -2.6010e-01,  2.4378e-01,  2.1891e-01,  2.2280e-01,\n",
      "          8.6811e-03,  2.1798e-01,  2.6686e-01,  1.0674e-01, -3.1637e-01,\n",
      "         -1.5028e-01,  3.3095e-02,  2.6047e-01, -2.3198e-01],\n",
      "        [-2.6852e-01, -2.9225e-01, -2.0693e-01,  1.9746e-01, -2.8467e-01,\n",
      "          1.2081e-01,  3.4131e-01, -2.2308e-01,  3.3962e-01,  6.2003e-02,\n",
      "          1.3780e-01, -3.7262e-01,  1.3798e-01,  4.4408e-02, -5.7115e-02,\n",
      "         -1.4349e-01,  1.7531e-01,  2.5234e-01,  2.6356e-01,  2.6421e-01,\n",
      "         -1.6585e-02, -6.8850e-02, -2.6982e-01,  3.0236e-02,  4.1192e-03,\n",
      "         -6.3730e-02,  1.3309e-01,  2.8621e-01, -7.8351e-03,  2.1066e-01,\n",
      "          6.2627e-02,  3.6221e-01, -1.2257e-01, -9.4235e-02],\n",
      "        [-3.2784e-01,  5.6884e-02, -2.3237e-02, -3.5917e-01, -9.0506e-03,\n",
      "         -1.3346e-01,  5.8701e-02, -8.2212e-02, -2.8601e-01,  3.3177e-01,\n",
      "         -3.3891e-01,  5.0497e-02, -1.3323e-01, -1.7362e-01,  3.3457e-01,\n",
      "          2.2932e-01, -2.9245e-01, -3.3999e-01,  3.6454e-02, -3.6262e-01,\n",
      "         -3.0002e-01, -3.2151e-01,  2.1190e-01, -3.3175e-01, -8.4203e-03,\n",
      "         -2.6543e-01,  2.1658e-01, -3.9458e-02,  2.2289e-01,  1.3692e-02,\n",
      "         -1.8754e-01, -1.7642e-01,  3.4430e-01, -2.3802e-01]],\n",
      "       requires_grad=True), Parameter containing:\n",
      "tensor([0.], requires_grad=True), Parameter containing:\n",
      "tensor([[ 0.5624,  0.1454, -0.6936,  0.2456, -0.3919,  0.6519,  0.1988, -0.1111]],\n",
      "       requires_grad=True)]\n"
     ]
    }
   ],
   "source": [
    "model = Sequential('node_ohe, edge_index', [\n",
    "    (GCNConv(in_channels=data.num_node_features, out_channels=8), 'node_ohe, edge_index -> node_ohe'),\n",
    "    ReLU(inplace=True),\n",
    "    (GCNConv(in_channels=8, out_channels=1), 'node_ohe, edge_index -> node_ohe'),\n",
    "    Sigmoid(),\n",
    "])\n",
    "print([p for p in model.parameters()])"
   ]
  },
  {
   "cell_type": "code",
   "execution_count": 10,
   "metadata": {},
   "outputs": [
    {
     "data": {
      "text/plain": [
       "Data(edge_index=[2, 77], node_id=[0], node_name=[34, 1], node_groups=[34, 1], node__pos=[34, 1, 2], name='karate (77)', description='Network of friendships among members of a university karate club. Includes metadata for faction membership after a social partition. Note: there are two versions of this network, one with 77 edges and one with 78, due to an ambiguous typo in the original study. (The most commonly used is the one with 78 edges.)[^icon]\n",
       "[^icon]: Description obtained from the [ICON](https://icon.colorado.edu) project.', citation='['W. W. Zachary, \"An information flow model for conflict and fission in small groups.\" Journal of Anthropological Research 33, 452-473 (1977)., https://doi.org/10.1086/jar.33.4.3629752']', url='https://aaronclauset.github.io/datacode.htm', tags=[3], node_ohe=[34, 34], x=[34, 34], y=[34, 1], train_mask=[34], val_mask=[34], test_mask=[34])"
      ]
     },
     "execution_count": 10,
     "metadata": {},
     "output_type": "execute_result"
    }
   ],
   "source": [
    "transform = torch_geometric.transforms.RandomNodeSplit(split='train_rest', num_val=0.5, num_test=0)\n",
    "transform(data)"
   ]
  },
  {
   "cell_type": "code",
   "execution_count": 11,
   "metadata": {},
   "outputs": [],
   "source": [
    "epochs = 200\n",
    "\n",
    "optimizer = torch.optim.Adam(model.parameters(), lr=0.01, weight_decay=5e-4)\n",
    "    \n",
    "losses = []\n",
    "\n",
    "model.train()\n",
    "for epoch in range(epochs):\n",
    "    optimizer.zero_grad()\n",
    "    out = model(data.x, data.edge_index)\n",
    "    loss = torch.nn.functional.binary_cross_entropy(out[data.train_mask], data.y[data.train_mask])\n",
    "    loss.backward()\n",
    "    optimizer.step()\n",
    "\n",
    "    losses.append(loss.detach().numpy())"
   ]
  },
  {
   "cell_type": "code",
   "execution_count": 12,
   "metadata": {},
   "outputs": [
    {
     "data": {
      "image/png": "[encoded data removed]",
      "text/plain": [
       "<Figure size 640x480 with 1 Axes>"
      ]
     },
     "metadata": {},
     "output_type": "display_data"
    }
   ],
   "source": [
    "plt.plot(range(epochs), losses)\n",
    "plt.grid()"
   ]
  },
  {
   "cell_type": "markdown",
   "metadata": {},
   "source": [
    "We evaluate the model in the test set"
   ]
  },
  {
   "cell_type": "code",
   "execution_count": 13,
   "metadata": {},
   "outputs": [
    {
     "data": {
      "text/plain": [
       "1.0"
      ]
     },
     "execution_count": 13,
     "metadata": {},
     "output_type": "execute_result"
    }
   ],
   "source": [
    "model.eval()\n",
    "predicted_groups = model(data.x, data.edge_index).round().long()\n",
    "metrics.adjusted_mutual_info_score(data.y[data.test_mask].squeeze().numpy(), predicted_groups[data.test_mask].squeeze().numpy())"
   ]
  },
  {
   "cell_type": "markdown",
   "metadata": {},
   "source": [
    "We visualize node representations learned by the model."
   ]
  },
  {
   "cell_type": "code",
   "execution_count": 14,
   "metadata": {},
   "outputs": [
    {
     "data": {
      "image/png": "[encoded data removed]",
      "text/plain": [
       "<Figure size 640x480 with 1 Axes>"
      ]
     },
     "metadata": {},
     "output_type": "display_data"
    }
   ],
   "source": [
    "# get activations in first-layer\n",
    "embedding = model[0].forward(data.x, data.edge_index)\n",
    "\n",
    "# dimensionality reduction\n",
    "svd = TruncatedSVD()\n",
    "low_dim = svd.fit_transform(embedding.detach().numpy())\n",
    "\n",
    "# plot with colors corresponding to groups in validation set\n",
    "colors = {}\n",
    "for v in range(g.N):\n",
    "    if data.val_mask[v]:\n",
    "        colors[v] = 'grey'\n",
    "    else:\n",
    "        if data.y[v].item() == 0.0:\n",
    "            colors[v] = 'blue'\n",
    "        else:\n",
    "            colors[v] = 'orange'\n",
    "\n",
    "plt.scatter(low_dim[:,0], low_dim[:,1], c=colors.values());"
   ]
  },
  {
   "cell_type": "code",
   "execution_count": 107,
   "metadata": {},
   "outputs": [],
   "source": [
    "from torch_geometric.utils import degree, to_undirected"
   ]
  },
  {
   "cell_type": "code",
   "execution_count": 99,
   "metadata": {},
   "outputs": [
    {
     "name": "stdout",
     "output_type": "stream",
     "text": [
      "tensor([0., 1., 2., 3., 1., 1., 3., 4., 2., 1., 3., 1., 2., 4., 2., 2., 2., 2.,\n",
      "        2., 2., 2., 2., 1., 3., 3., 2., 2., 1., 2., 3., 2., 1., 4., 9.])\n"
     ]
    }
   ],
   "source": [
    "g.data['node_degree'] = degree(g.data.edge_index[1])\n",
    "print(g.data['node_degree'])"
   ]
  },
  {
   "cell_type": "code",
   "execution_count": 110,
   "metadata": {},
   "outputs": [
    {
     "name": "stdout",
     "output_type": "stream",
     "text": [
      "tensor([[1.],\n",
      "        [1.],\n",
      "        [1.],\n",
      "        [1.],\n",
      "        [1.],\n",
      "        [1.],\n",
      "        [1.],\n",
      "        [1.],\n",
      "        [1.],\n",
      "        [1.],\n",
      "        [1.],\n",
      "        [1.],\n",
      "        [1.],\n",
      "        [1.],\n",
      "        [1.],\n",
      "        [1.],\n",
      "        [1.],\n",
      "        [1.],\n",
      "        [1.],\n",
      "        [1.],\n",
      "        [1.],\n",
      "        [1.],\n",
      "        [1.],\n",
      "        [1.],\n",
      "        [1.],\n",
      "        [1.],\n",
      "        [1.],\n",
      "        [1.],\n",
      "        [1.],\n",
      "        [1.],\n",
      "        [1.],\n",
      "        [1.],\n",
      "        [1.],\n",
      "        [1.]])\n"
     ]
    }
   ],
   "source": [
    "data = g.data\n",
    "data['edge_index'] = to_undirected(data.edge_index)\n",
    "data['x'] = torch.tensor([1.0]*34).reshape(34,1)\n",
    "data['y'] = degree(data.edge_index[1]).reshape(34,1)\n",
    "print(data['x'])"
   ]
  },
  {
   "cell_type": "code",
   "execution_count": 111,
   "metadata": {},
   "outputs": [],
   "source": [
    "class AggConv(MessagePassing):\n",
    "    def __init__(self, in_channels, out_channels):\n",
    "        super().__init__(aggr='add')  # \"Add\" aggregation (Step 5).\n",
    "        self.lin = Linear(in_channels, out_channels, bias=True)\n",
    "        #self.bias = Parameter(torch.empty(out_channels))\n",
    "\n",
    "        self.reset_parameters()\n",
    "\n",
    "    def reset_parameters(self):\n",
    "        self.lin.reset_parameters()\n",
    "        #self.bias.data.zero_()\n",
    "\n",
    "    def forward(self, x, edge_index):\n",
    "        # x has shape [N, in_channels]\n",
    "        # edge_index has shape [2, E]\n",
    "\n",
    "        # Step 1: Linearly transform node feature matrix.\n",
    "        x = self.lin(x)\n",
    "\n",
    "        # Step 2: Start propagating messages.\n",
    "        out = self.propagate(edge_index, x=x)\n",
    "\n",
    "        # Step 6: Apply a final bias vector.\n",
    "       # out += self.bias\n",
    "\n",
    "        return out\n",
    "\n",
    "    def message(self, x_j):\n",
    "        return x_j"
   ]
  },
  {
   "cell_type": "code",
   "execution_count": 112,
   "metadata": {},
   "outputs": [
    {
     "name": "stdout",
     "output_type": "stream",
     "text": [
      "[Parameter containing:\n",
      "tensor([[-0.8718]], requires_grad=True), Parameter containing:\n",
      "tensor([-0.6876], requires_grad=True)]\n"
     ]
    }
   ],
   "source": [
    "model = Sequential('node_degree, edge_index', [\n",
    "    (AggConv(in_channels=data.num_node_features, out_channels=1), 'node_degree, edge_index -> node_degree')\n",
    "])\n",
    "print([p for p in model.parameters()])"
   ]
  },
  {
   "cell_type": "code",
   "execution_count": 113,
   "metadata": {},
   "outputs": [
    {
     "data": {
      "text/plain": [
       "Data(edge_index=[2, 154], node_id=[0], node_name=[34, 1], node_groups=[34, 1], node__pos=[34, 1, 2], name='karate (77)', description='Network of friendships among members of a university karate club. Includes metadata for faction membership after a social partition. Note: there are two versions of this network, one with 77 edges and one with 78, due to an ambiguous typo in the original study. (The most commonly used is the one with 78 edges.)[^icon]\n",
       "[^icon]: Description obtained from the [ICON](https://icon.colorado.edu) project.', citation='['W. W. Zachary, \"An information flow model for conflict and fission in small groups.\" Journal of Anthropological Research 33, 452-473 (1977)., https://doi.org/10.1086/jar.33.4.3629752']', url='https://aaronclauset.github.io/datacode.htm', tags=[3], node_ohe=[34, 34], x=[34, 1], y=[34, 1], train_mask=[34], val_mask=[34], test_mask=[34], node_degree=[34])"
      ]
     },
     "execution_count": 113,
     "metadata": {},
     "output_type": "execute_result"
    }
   ],
   "source": [
    "transform = torch_geometric.transforms.RandomNodeSplit(split='train_rest', num_val=0.5, num_test=0)\n",
    "transform(data)"
   ]
  },
  {
   "cell_type": "code",
   "execution_count": 115,
   "metadata": {},
   "outputs": [
    {
     "name": "stdout",
     "output_type": "stream",
     "text": [
      "[Parameter containing:\n",
      "tensor([[0.4086]], requires_grad=True), Parameter containing:\n",
      "tensor([0.5924], requires_grad=True)]\n"
     ]
    }
   ],
   "source": [
    "epochs = 2500\n",
    "\n",
    "optimizer = torch.optim.Adam(model.parameters(), lr=0.01, weight_decay=5e-4)\n",
    "losses = []\n",
    "\n",
    "model.train()\n",
    "for epoch in range(epochs):\n",
    "    optimizer.zero_grad()\n",
    "    out = model(data.x, data.edge_index)\n",
    "    loss = torch.nn.functional.l1_loss(out[data.train_mask], data.y[data.train_mask])\n",
    "    loss.backward()\n",
    "    optimizer.step()\n",
    "\n",
    "    losses.append(loss.detach().numpy())\n",
    "\n",
    "print([p for p in model.parameters()])"
   ]
  },
  {
   "cell_type": "code",
   "execution_count": 116,
   "metadata": {},
   "outputs": [
    {
     "data": {
      "image/png": "[encoded data removed]",
      "text/plain": [
       "<Figure size 640x480 with 1 Axes>"
      ]
     },
     "metadata": {},
     "output_type": "display_data"
    }
   ],
   "source": [
    "plt.plot(range(epochs), losses)\n",
    "plt.grid()"
   ]
  },
  {
   "cell_type": "code",
   "execution_count": 117,
   "metadata": {},
   "outputs": [
    {
     "data": {
      "text/plain": [
       "0.0033248172"
      ]
     },
     "execution_count": 117,
     "metadata": {},
     "output_type": "execute_result"
    }
   ],
   "source": [
    "model.eval()\n",
    "predicted_degrees = model(data.x, data.edge_index).detach()\n",
    "metrics.mean_absolute_error(data.y[data.val_mask].squeeze().numpy(), predicted_degrees[data.val_mask].squeeze().numpy())"
   ]
  },
  {
   "cell_type": "code",
   "execution_count": 118,
   "metadata": {},
   "outputs": [
    {
     "data": {
      "text/plain": [
       "tensor([[16.0151],\n",
       "        [ 9.0085],\n",
       "        [10.0094],\n",
       "        [ 6.0057],\n",
       "        [ 3.0028],\n",
       "        [ 4.0038],\n",
       "        [ 4.0038],\n",
       "        [ 4.0038],\n",
       "        [ 5.0047],\n",
       "        [ 2.0019],\n",
       "        [ 3.0028],\n",
       "        [ 1.0009],\n",
       "        [ 2.0019],\n",
       "        [ 5.0047],\n",
       "        [ 2.0019],\n",
       "        [ 2.0019],\n",
       "        [ 2.0019],\n",
       "        [ 2.0019],\n",
       "        [ 2.0019],\n",
       "        [ 3.0028],\n",
       "        [ 2.0019],\n",
       "        [ 2.0019],\n",
       "        [ 1.0009],\n",
       "        [ 5.0047],\n",
       "        [ 3.0028],\n",
       "        [ 3.0028],\n",
       "        [ 2.0019],\n",
       "        [ 4.0038],\n",
       "        [ 3.0028],\n",
       "        [ 4.0038],\n",
       "        [ 4.0038],\n",
       "        [ 6.0057],\n",
       "        [12.0113],\n",
       "        [16.0151]], grad_fn=<ScatterAddBackward0>)"
      ]
     },
     "execution_count": 118,
     "metadata": {},
     "output_type": "execute_result"
    }
   ],
   "source": [
    "model(data.x, data.edge_index)"
   ]
  },
  {
   "cell_type": "code",
   "execution_count": 119,
   "metadata": {},
   "outputs": [
    {
     "data": {
      "text/plain": [
       "tensor([[16.],\n",
       "        [ 9.],\n",
       "        [10.],\n",
       "        [ 6.],\n",
       "        [ 3.],\n",
       "        [ 4.],\n",
       "        [ 4.],\n",
       "        [ 4.],\n",
       "        [ 5.],\n",
       "        [ 2.],\n",
       "        [ 3.],\n",
       "        [ 1.],\n",
       "        [ 2.],\n",
       "        [ 5.],\n",
       "        [ 2.],\n",
       "        [ 2.],\n",
       "        [ 2.],\n",
       "        [ 2.],\n",
       "        [ 2.],\n",
       "        [ 3.],\n",
       "        [ 2.],\n",
       "        [ 2.],\n",
       "        [ 1.],\n",
       "        [ 5.],\n",
       "        [ 3.],\n",
       "        [ 3.],\n",
       "        [ 2.],\n",
       "        [ 4.],\n",
       "        [ 3.],\n",
       "        [ 4.],\n",
       "        [ 4.],\n",
       "        [ 6.],\n",
       "        [12.],\n",
       "        [16.]])"
      ]
     },
     "execution_count": 119,
     "metadata": {},
     "output_type": "execute_result"
    }
   ],
   "source": [
    "data.y"
   ]
  },
  {
   "cell_type": "code",
   "execution_count": null,
   "metadata": {},
   "outputs": [],
   "source": []
  }
 ],
 "metadata": {
  "kernelspec": {
   "display_name": "base",
   "language": "python",
   "name": "python3"
  },
  "language_info": {
   "codemirror_mode": {
    "name": "ipython",
    "version": 3
   },
   "file_extension": ".py",
   "mimetype": "text/x-python",
   "name": "python",
   "nbconvert_exporter": "python",
   "pygments_lexer": "ipython3",
   "version": "3.9.13"
  },
  "orig_nbformat": 4
 },
 "nbformat": 4,
 "nbformat_minor": 2
}
